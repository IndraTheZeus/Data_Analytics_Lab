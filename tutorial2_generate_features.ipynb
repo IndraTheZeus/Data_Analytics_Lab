{
  "cells": [
    {
      "cell_type": "markdown",
      "metadata": {
        "id": "-Rt_z5vzlCuO"
      },
      "source": [
        "# Tutorial: Generate features\n",
        "This tutorial demonstrates how to generate features to represent game states to value on-the-ball actions of football players with the open-source [VAEP framework](https://github.com/ML-KULeuven/socceraction) using the publicly available [Wyscout match event dataset](https://figshare.com/collections/Soccer_match_event_dataset/4415000). The Wyscout dataset includes data for the 2017/2018 English Premier League, the 2017/2018 Spanish Primera División, the 2017/2018 German 1. Bundesliga, the 2017/2018 Italian Serie A, the 2017/2018 French Ligue 1, the 2018 FIFA World Cup, and the UEFA Euro 2016. Covering 1,941 matches, 3,251,294 events and 4,299 players, the dataset is large enough to train machine-learning models and obtain robust ratings for the players.\n",
        "\n",
        "This tutorial demonstrates the following three steps:\n",
        "   1. Investigate the data in SPADL representation.\n",
        "   2. Construct features to represent actions.\n",
        "   3. Construct features to represent game states.\n",
        "\n",
        "This notebook is compatible with `socceraction` version `0.2.0`.\n",
        "\n",
        "**Conventions:**\n",
        "   * Variables that refer a `DataFrame` object are prefixed with `df_`.\n",
        "   * Variables that refer a collection of `DataFrame` objects (e.g., a list, a set or a dict) are prefixed with `dfs_`.\n",
        "   \n",
        "**References:**\n",
        "   * Tom Decroos, Lotte Bransen, Jan Van Haaren, and Jesse Davis. \\\"[Actions Speak Louder than Goals: Valuing Player Actions in Soccer.](https://arxiv.org/abs/1802.07127)\\\" In *Proceedings of the 25th ACM SIGKDD International Conference on Knowledge Discovery & Data Mining*, pp. 1851-1861. 2019.\n",
        "   * Luca Pappalardo, Paolo Cintia, Alessio Rossi, Emanuele Massucco, Paolo Ferragina, Dino Pedreschi, and Fosca Giannotti. \\\"[A Public Data Set of Spatio-Temporal Match Events in Soccer Competitions.](https://www.nature.com/articles/s41597-019-0247-7)\\\" *Scientific Data 6*, no. 1 (2019): 1-15.\""
      ]
    },
    {
      "cell_type": "markdown",
      "metadata": {
        "id": "7mQAlf-ylCuT"
      },
      "source": [
        "**Optional:** If you run this notebook on Google Colab, then uncomment the code in the following cell and execute the cell."
      ]
    },
    {
      "cell_type": "code",
      "execution_count": null,
      "metadata": {
        "colab": {
          "base_uri": "https://localhost:8080/"
        },
        "id": "WeQE4FAQlCuU",
        "outputId": "52a32b6b-9080-41ed-9dac-e7aa0cc14503"
      },
      "outputs": [],
      "source": [
        "!pip install tables==3.6.1\n",
        "!pip install matplotsoccer"
      ]
    },
    {
      "cell_type": "markdown",
      "metadata": {
        "id": "1YCumpMflCuX"
      },
      "source": [
        "**Optional:** If you run this notebook on Google Colab and wish to store all data in a Google Drive folder, then uncomment the code in the following cell and execute the cell."
      ]
    },
    {
      "cell_type": "code",
      "execution_count": null,
      "metadata": {
        "colab": {
          "base_uri": "https://localhost:8080/",
          "height": 339
        },
        "id": "2czGp2L0lCuX",
        "outputId": "8d704d80-899b-406d-f833-53957ad06277"
      },
      "outputs": [],
      "source": [
        "# from google.colab import drive\n",
        "# drive.mount('/content/gdrive')\n",
        "# %mkdir -p '/content/gdrive/My Drive/Friends of Tracking/'\n",
        "# %cd '/content/gdrive/My Drive/Friends of Tracking/'"
      ]
    },
    {
      "cell_type": "code",
      "execution_count": null,
      "metadata": {
        "id": "uqEpJaV0lCuY"
      },
      "outputs": [],
      "source": [
        "import warnings\n",
        "\n",
        "import matplotsoccer\n",
        "import numpy as np\n",
        "import pandas as pd\n",
        "from ipywidgets import fixed, interact_manual, widgets\n",
        "from tqdm.notebook import tqdm"
      ]
    },
    {
      "cell_type": "code",
      "execution_count": null,
      "metadata": {
        "id": "6Zvs_D66lCuY"
      },
      "outputs": [],
      "source": [
        "warnings.filterwarnings('ignore', category=pd.io.pytables.PerformanceWarning)"
      ]
    },
    {
      "cell_type": "markdown",
      "metadata": {
        "id": "zUAtW73clCuZ"
      },
      "source": [
        "# Load dataset"
      ]
    },
    {
      "cell_type": "markdown",
      "metadata": {
        "id": "nraeAQZNlCua"
      },
      "source": [
        "First we load the SPADL dataset that was created in the tutorial1-run-pipeline.ipynb notebook. We first load the teams, players and games dataframes."
      ]
    },
    {
      "cell_type": "code",
      "execution_count": null,
      "metadata": {
        "colab": {
          "base_uri": "https://localhost:8080/"
        },
        "id": "bsubRgkzuZZ_",
        "outputId": "c3cc13a6-0857-4351-ab7d-e3f84eb5f456"
      },
      "outputs": [],
      "source": [
        "from google.colab import drive\n",
        "drive.mount('/content/drive')"
      ]
    },
    {
      "cell_type": "code",
      "execution_count": null,
      "metadata": {
        "id": "B6IY4ok4lCua"
      },
      "outputs": [],
      "source": [
        "df_teams = pd.read_hdf('/content/drive/MyDrive/spadl.h5', key='teams')\n",
        "df_players = pd.read_hdf('/content/drive/MyDrive/spadl.h5', key='players')\n",
        "df_games = pd.read_hdf('/content/drive/MyDrive/spadl.h5', key='games')"
      ]
    },
    {
      "cell_type": "markdown",
      "metadata": {
        "id": "BHlhF96-lCub"
      },
      "source": [
        "We add the team names to the df_games dataframe such that we know which two teams played in which match."
      ]
    },
    {
      "cell_type": "code",
      "execution_count": null,
      "metadata": {
        "id": "DAoAjB8elCub"
      },
      "outputs": [],
      "source": [
        "team_name_mapping = df_teams.set_index('team_id')['team_name'].to_dict()\n",
        "df_games['home_team_name'] = df_games['home_team_id'].map(team_name_mapping)\n",
        "df_games['away_team_name'] = df_games['away_team_id'].map(team_name_mapping)"
      ]
    },
    {
      "cell_type": "markdown",
      "metadata": {
        "id": "Y62IOzh4lCuc"
      },
      "source": [
        "# Explore SPADL actions"
      ]
    },
    {
      "cell_type": "markdown",
      "metadata": {
        "id": "frSvluwllCuc"
      },
      "source": [
        "In this secion we will explore the SPADL actions for a selected match. In this notebook we chose the World Cup 2018 match between Belgium and Japan. The notebook can also be run for a match of your choice."
      ]
    },
    {
      "cell_type": "code",
      "execution_count": null,
      "metadata": {
        "colab": {
          "base_uri": "https://localhost:8080/",
          "height": 790
        },
        "id": "g9LveN1clCuc",
        "outputId": "87a9143a-d617-424f-89b6-62f752ea4eaa"
      },
      "outputs": [],
      "source": [
        "df_games"
      ]
    },
    {
      "cell_type": "code",
      "execution_count": null,
      "metadata": {
        "colab": {
          "base_uri": "https://localhost:8080/",
          "height": 135
        },
        "id": "y7oh8ORklCud",
        "outputId": "5fbd3999-f5ad-4c1b-90c7-a93d93e5ba65"
      },
      "outputs": [],
      "source": [
        "df_games[(df_games['home_team_name'] == 'Belgium') &\n",
        "         (df_games['away_team_name'] == 'Japan')]"
      ]
    },
    {
      "cell_type": "markdown",
      "metadata": {
        "id": "7540gxlGlCud"
      },
      "source": [
        "**Note:** This notebook expects the data for the World Cup 2018 to be in the SPADL dataset. Make sure that the `game_id` selected in the cell below belongs to a game in your dataset."
      ]
    },
    {
      "cell_type": "code",
      "execution_count": null,
      "metadata": {
        "id": "voxg1--rlCue"
      },
      "outputs": [],
      "source": [
        "# Select a game of choice\n",
        "game_id = 2058007"
      ]
    },
    {
      "cell_type": "markdown",
      "metadata": {
        "id": "3u6CrbxflCue"
      },
      "source": [
        "## Load SPADL actions for selected game"
      ]
    },
    {
      "cell_type": "markdown",
      "metadata": {
        "id": "qv9CgX9olCuf"
      },
      "source": [
        "For each action, the dataset contains the following information for the action:\n",
        "\n",
        "* game_id: a unique identifier of the game;\n",
        "* team_id: a unique identifier of the team who performed the action;\n",
        "* player_id: a unique identifier of the player who performed the action;\n",
        "* period: 1 for the first half and 2 for the second half;\n",
        "* seconds: the time elapsed in seconds since the start of the half;\n",
        "* type_id: the identifier for the type of action;\n",
        "* type_name: the name for the type of action;\n",
        "* body_part_id: 0 for foot, 1 for head, 2 for other body part;\n",
        "* result: the result of the action: 0 for failure, 1 for success;\n",
        "* start_x: the x coordinate for the location where the action started, ranges from 0 to 105;\n",
        "* start_y: the y coordinate for the location where the action started, ranges from 0 to 68;\n",
        "* end_x: the x coordinate for the location where the action ended, ranges from 0 to 105;\n",
        "* end_y: the y coordinate for the location where the action ended, ranges from 0 to 68.\n",
        "\n",
        "The action types are:\n",
        "\n",
        "    0: pass\n",
        "    1: cross\n",
        "    2: throw in\n",
        "    3: freekick crossed\n",
        "    4: freekick short\n",
        "    5: corner crossed\n",
        "    6: corner short\n",
        "    7: take on\n",
        "    8: foul\n",
        "    9: tackle\n",
        "    10: interception\n",
        "    11: shot\n",
        "    12: shot penalty\n",
        "    13: shot freekick\n",
        "    14: keeper save\n",
        "    18: clearance\n",
        "    21: dribble\n",
        "    22: goalkick"
      ]
    },
    {
      "cell_type": "markdown",
      "metadata": {
        "id": "4JFkxJu3lCug"
      },
      "source": [
        "We first load the actions for the selected game_id."
      ]
    },
    {
      "cell_type": "code",
      "execution_count": null,
      "metadata": {
        "id": "S-o8SZZ4lCug"
      },
      "outputs": [],
      "source": [
        "with pd.HDFStore('/content/drive/MyDrive/spadl.h5') as spadlstore:\n",
        "    df_actions = spadlstore[f'actions/game_{game_id}']\n",
        "    df_actions = (\n",
        "        df_actions.merge(spadlstore['actiontypes'], how='left')\n",
        "        .merge(spadlstore['results'], how='left')\n",
        "        .merge(spadlstore['bodyparts'], how='left')\n",
        "        .merge(spadlstore['players'], how=\"left\")\n",
        "        .merge(spadlstore['teams'], how='left')\n",
        "        .reset_index()\n",
        "        .rename(columns={'index': 'action_id'})\n",
        "    )"
      ]
    },
    {
      "cell_type": "code",
      "execution_count": null,
      "metadata": {
        "colab": {
          "base_uri": "https://localhost:8080/",
          "height": 307
        },
        "id": "75e0vzZQlCuh",
        "outputId": "78c5400b-fa73-4309-f11a-5ae7556bb959"
      },
      "outputs": [],
      "source": [
        "# Look at first 5 actions of the match\n",
        "df_actions[:5]"
      ]
    },
    {
      "cell_type": "markdown",
      "metadata": {
        "id": "RbrWbXUYlCuh"
      },
      "source": [
        "The following cells define some functions to make it more convenient to explore the actions."
      ]
    },
    {
      "cell_type": "code",
      "execution_count": null,
      "metadata": {
        "id": "ZYj9cxcylCui"
      },
      "outputs": [],
      "source": [
        "def nice_time(row):\n",
        "    minute = int((row['period_id']>=2) * 45 + (row['period_id']>=3) * 15 +\n",
        "                 (row['period_id']==4) * 15 + row['time_seconds'] // 60)\n",
        "    second = int(row['time_seconds'] % 60)\n",
        "    return f'{minute}m{second}s'\n",
        "\n",
        "df_actions['nice_time'] = df_actions.apply(nice_time,axis=1)"
      ]
    },
    {
      "cell_type": "code",
      "execution_count": null,
      "metadata": {
        "id": "4YMLtM3hlCui"
      },
      "outputs": [],
      "source": [
        "def action_name(row):\n",
        "    return f\"{row['action_id']}: {row['nice_time']} - {row['short_name']} {row['type_name']}\"\n",
        "\n",
        "df_actions['action_name'] = df_actions.apply(action_name, axis=1)"
      ]
    },
    {
      "cell_type": "code",
      "execution_count": null,
      "metadata": {
        "id": "Ji3y50vElCuj"
      },
      "outputs": [],
      "source": [
        "def plot_actions(df_actions_to_plot):\n",
        "    matplotsoccer.actions(\n",
        "        location=df_actions_to_plot[['start_x', 'start_y', 'end_x', 'end_y']],\n",
        "        action_type=df_actions_to_plot['type_name'],\n",
        "        team=df_actions_to_plot['team_name'],\n",
        "        result=df_actions_to_plot['result_name'] == 'success',\n",
        "        label=df_actions_to_plot[['nice_time', 'type_name', 'short_name', 'short_team_name']],\n",
        "        labeltitle=['time', 'actiontype', 'player', 'team'],\n",
        "        zoom=False,\n",
        "        figsize=8)"
      ]
    },
    {
      "cell_type": "code",
      "execution_count": null,
      "metadata": {
        "id": "PXkUo3kVlCuk"
      },
      "outputs": [],
      "source": [
        "def plot_actions_from_action_name(df_actions, action_name):\n",
        "    action_id = int(action_name.split(':')[0])\n",
        "    df_actions_to_plot = df_actions[action_id-3: action_id+3]\n",
        "    plot_actions(df_actions_to_plot)"
      ]
    },
    {
      "cell_type": "markdown",
      "metadata": {
        "id": "4RAkviD7lCuk"
      },
      "source": [
        "The following cell shows a widget which we can use to easily explore the actions in our dataset."
      ]
    },
    {
      "cell_type": "code",
      "execution_count": null,
      "metadata": {
        "colab": {
          "base_uri": "https://localhost:8080/",
          "height": 228,
          "referenced_widgets": [
            "99f05d24600b4525bfa2bef08f3799e8",
            "aff930e9a7b647c6b62774f8d557ab7e",
            "0bf00cd0e7c94bfb90b1ce2d8f431246",
            "360e906807814f388b5cf7069ecf0e7b",
            "4a21d32d5b57459baf3c67b9158a8118",
            "80c5a720e1ed42419b06d27e0744da30",
            "faac1726f57e4cd3a6cbf9a6c2d355b1",
            "924bcf2d4f3c4763ac0c723416502f47",
            "305b2bb733b345149175b39ce485eb74",
            "f910750f240349b9afe1b9c100b69d7e"
          ]
        },
        "id": "4TcnwU26lCuk",
        "outputId": "8357ac21-8cc8-4b7c-e728-c8999c4df41d"
      },
      "outputs": [],
      "source": [
        "interact_manual(plot_actions_from_action_name,\n",
        "                df_actions = fixed(df_actions),\n",
        "                action_name=widgets.Select(\n",
        "                    options = df_actions['action_name'][3:],\n",
        "                    disabled=False)\n",
        "               )\n"
      ]
    },
    {
      "cell_type": "markdown",
      "metadata": {
        "id": "MDeHORM-lCul"
      },
      "source": [
        "# Representing actions"
      ]
    },
    {
      "cell_type": "markdown",
      "metadata": {
        "id": "rgYJLxYolCul"
      },
      "source": [
        "In this section we will create features that describe the action. We will take one action as an example. Every action has several characteristics, these include:\n",
        "* start location\n",
        "* end location\n",
        "* action type\n",
        "* bodypart used\n",
        "* result (successful or not)\n",
        "* time in the match"
      ]
    },
    {
      "cell_type": "code",
      "execution_count": null,
      "metadata": {
        "colab": {
          "base_uri": "https://localhost:8080/",
          "height": 393
        },
        "id": "YL376njtlCul",
        "outputId": "23215b2a-1902-4935-a676-57d9f4a89aad"
      },
      "outputs": [],
      "source": [
        "action_id = 145\n",
        "plot_actions(df_actions[action_id:action_id+1])"
      ]
    },
    {
      "cell_type": "code",
      "execution_count": null,
      "metadata": {
        "colab": {
          "base_uri": "https://localhost:8080/",
          "height": 802
        },
        "id": "eyXXlVeSlCum",
        "outputId": "cb59a33a-733c-44ea-b89e-80f96608cfa0"
      },
      "outputs": [],
      "source": [
        "df_actions[action_id:action_id+1].T"
      ]
    },
    {
      "cell_type": "markdown",
      "metadata": {
        "id": "Hcm3UlNrlCum"
      },
      "source": [
        "## Representing locations"
      ]
    },
    {
      "cell_type": "markdown",
      "metadata": {
        "id": "KmRXqPvblCun"
      },
      "source": [
        "We will first take a look at how we can represent locations. We first define the pitch sizes as used in the SPADL representation. A very interesting blog post by the KU Leuven on the interplay between features and models in football can be found here: https://dtai.cs.kuleuven.be/sports/blog/illustrating-the-interplay-between-features-and-models-in-xg."
      ]
    },
    {
      "cell_type": "code",
      "execution_count": null,
      "metadata": {
        "id": "SS_GNR0UlCun"
      },
      "outputs": [],
      "source": [
        "PITCH_LENGTH = 105\n",
        "PITCH_WIDTH = 68"
      ]
    },
    {
      "cell_type": "code",
      "execution_count": null,
      "metadata": {
        "colab": {
          "base_uri": "https://localhost:8080/",
          "height": 80
        },
        "id": "Ybq2QQ5KlCun",
        "outputId": "c8670c30-ee0a-4f25-992f-f2bba2a17621"
      },
      "outputs": [],
      "source": [
        "df_actions[action_id:action_id+1][['start_x', 'start_y', 'end_x', 'end_y']]"
      ]
    },
    {
      "cell_type": "markdown",
      "metadata": {
        "id": "BSUmOpVtlCuo"
      },
      "source": [
        "The following cell adds columns to the actions dataframe with the normalized start and end coordinates of the actions."
      ]
    },
    {
      "cell_type": "code",
      "execution_count": null,
      "metadata": {
        "id": "II3NqZ2ClCu8"
      },
      "outputs": [],
      "source": [
        "for side in ['start', 'end']:\n",
        "    # Normalize the X location\n",
        "    key_x = f'{side}_x'\n",
        "    df_actions[f'{key_x}_norm'] = df_actions[key_x] / PITCH_LENGTH\n",
        "\n",
        "    # Normalize the Y location\n",
        "    key_y = f'{side}_y'\n",
        "    df_actions[f'{key_y}_norm'] = df_actions[key_y] / PITCH_WIDTH"
      ]
    },
    {
      "cell_type": "code",
      "execution_count": null,
      "metadata": {
        "colab": {
          "base_uri": "https://localhost:8080/",
          "height": 80
        },
        "id": "8ktNSkMolCu9",
        "outputId": "9c7ea66a-87c0-4e37-bf26-fcd7d76fbecb"
      },
      "outputs": [],
      "source": [
        "df_actions[action_id:action_id+1][['start_x_norm', 'start_y_norm', 'end_x_norm', 'end_y_norm']]"
      ]
    },
    {
      "cell_type": "markdown",
      "metadata": {
        "id": "rnJIWaxYlCu9"
      },
      "source": [
        "The following cells compute the polar coordinates of the start and end location of the actions."
      ]
    },
    {
      "cell_type": "code",
      "execution_count": null,
      "metadata": {
        "id": "0S_lBfbulCu9"
      },
      "outputs": [],
      "source": [
        "GOAL_X = PITCH_LENGTH\n",
        "GOAL_Y = PITCH_WIDTH / 2"
      ]
    },
    {
      "cell_type": "code",
      "execution_count": null,
      "metadata": {
        "id": "uboOmfD4lCu9"
      },
      "outputs": [],
      "source": [
        "for side in ['start', 'end']:\n",
        "    diff_x = GOAL_X - df_actions[f'{side}_x']\n",
        "    diff_y = abs(GOAL_Y - df_actions[f'{side}_y'])\n",
        "    df_actions[f'{side}_distance_to_goal'] = np.sqrt(diff_x ** 2 + diff_y ** 2)\n",
        "    df_actions[f'{side}_angle_to_goal'] = np.divide(diff_x, diff_y,\n",
        "                                                    out=np.zeros_like(diff_x),\n",
        "                                                    where=(diff_y != 0))"
      ]
    },
    {
      "cell_type": "code",
      "execution_count": null,
      "metadata": {
        "colab": {
          "base_uri": "https://localhost:8080/",
          "height": 80
        },
        "id": "6VfRG0OVlCu-",
        "outputId": "83c57cb1-2a65-448c-a4f4-9b415f546201"
      },
      "outputs": [],
      "source": [
        "df_actions[action_id:action_id+1][['start_distance_to_goal', 'start_angle_to_goal', 'end_distance_to_goal', 'end_angle_to_goal']]"
      ]
    },
    {
      "cell_type": "markdown",
      "metadata": {
        "id": "2v16xjcxlCu-"
      },
      "source": [
        "The following cell adds a column indicating whether the action starts and/or ends in the opponent penalty box.\n",
        "\n",
        "*Exercise*: think of more features describing the start and end location of the action."
      ]
    },
    {
      "cell_type": "code",
      "execution_count": null,
      "metadata": {
        "id": "Nqomi7nGlCu_"
      },
      "outputs": [],
      "source": [
        "for side in ['start', 'end']:\n",
        "    df_actions[f'{side}_is_penalty_box'] = ((df_actions[f'{side}_x'] > (PITCH_LENGTH-16.5)) &\n",
        "                                            (df_actions[f'{side}_y'] > (13.85)) &\n",
        "                                            (df_actions[f'{side}_y'] > (PITCH_WIDTH-13.85)))"
      ]
    },
    {
      "cell_type": "code",
      "execution_count": null,
      "metadata": {
        "colab": {
          "base_uri": "https://localhost:8080/",
          "height": 80
        },
        "id": "AFAJ7zLvlCu_",
        "outputId": "e95e1231-5477-4d28-c94b-f73a1f6e8826"
      },
      "outputs": [],
      "source": [
        "df_actions[action_id:action_id+1][['start_is_penalty_box', 'end_is_penalty_box']]"
      ]
    },
    {
      "cell_type": "markdown",
      "metadata": {
        "id": "vtO8IAVjlCu_"
      },
      "source": [
        "## Representing body part, action type and result"
      ]
    },
    {
      "cell_type": "markdown",
      "metadata": {
        "id": "6p-fhmO4lCvA"
      },
      "source": [
        "The following cells inspect the type_name, bodypart_name and result_name columns."
      ]
    },
    {
      "cell_type": "code",
      "execution_count": null,
      "metadata": {
        "colab": {
          "base_uri": "https://localhost:8080/",
          "height": 443
        },
        "id": "JsWa86i0lCvA",
        "outputId": "1811244c-54ae-4780-e2c4-bed46dcf72b2"
      },
      "outputs": [],
      "source": [
        "pd.get_dummies(df_actions['type_name'])"
      ]
    },
    {
      "cell_type": "code",
      "execution_count": null,
      "metadata": {
        "id": "3hyRWP16lCvA"
      },
      "outputs": [],
      "source": [
        "def add_action_type_dummies(df_actions):\n",
        "    return df_actions.merge(pd.get_dummies(df_actions['type_name']), how='left',\n",
        "                             left_index=True, right_index=True)"
      ]
    },
    {
      "cell_type": "code",
      "execution_count": null,
      "metadata": {
        "id": "OAnyBOKslCvB"
      },
      "outputs": [],
      "source": [
        "df_actions = add_action_type_dummies(df_actions)"
      ]
    },
    {
      "cell_type": "code",
      "execution_count": null,
      "metadata": {
        "colab": {
          "base_uri": "https://localhost:8080/",
          "height": 130
        },
        "id": "CkcjUTyglCvB",
        "outputId": "40516521-3cb8-45f2-b330-a00f718d55e7"
      },
      "outputs": [],
      "source": [
        "df_actions[action_id:action_id+1]"
      ]
    },
    {
      "cell_type": "code",
      "execution_count": null,
      "metadata": {
        "colab": {
          "base_uri": "https://localhost:8080/"
        },
        "id": "eUjUxJSplCvB",
        "outputId": "5d83d5ef-0fa9-49b2-8e20-9341faf8a025"
      },
      "outputs": [],
      "source": [
        "df_actions['bodypart_name'].unique()"
      ]
    },
    {
      "cell_type": "code",
      "execution_count": null,
      "metadata": {
        "colab": {
          "base_uri": "https://localhost:8080/"
        },
        "id": "cIZLfkWklCvC",
        "outputId": "c1868572-608e-403e-e21c-b405885bffac"
      },
      "outputs": [],
      "source": [
        "df_actions['result_name'].unique()"
      ]
    },
    {
      "cell_type": "code",
      "execution_count": null,
      "metadata": {
        "colab": {
          "base_uri": "https://localhost:8080/",
          "height": 80
        },
        "id": "R3NyIMRplCvC",
        "outputId": "492f5999-b86f-45f8-f969-90434f2dfc03"
      },
      "outputs": [],
      "source": [
        "df_actions[action_id:action_id+1][['bodypart_name', 'result_name']]"
      ]
    },
    {
      "cell_type": "markdown",
      "metadata": {
        "id": "SvOEYLuGlCvC"
      },
      "source": [
        "## Determine distance covered in x, y and total time played"
      ]
    },
    {
      "cell_type": "markdown",
      "metadata": {
        "id": "GmEhTHLrlCvD"
      },
      "source": [
        "The following cells define functions that add distance features and the actual time played in the match at the moment of the action."
      ]
    },
    {
      "cell_type": "code",
      "execution_count": null,
      "metadata": {
        "id": "Qzg1HhrKlCvD"
      },
      "outputs": [],
      "source": [
        "def add_distance_features(df_actions):\n",
        "    df_actions['diff_x'] = df_actions['end_x'] - df_actions['start_x']\n",
        "    df_actions['diff_y'] = df_actions['end_y'] - df_actions['start_y']\n",
        "    df_actions['distance_covered'] = np.sqrt((df_actions['end_x'] - df_actions['start_x']) ** 2 +\n",
        "                                             (df_actions['end_y'] - df_actions['start_y']) ** 2)"
      ]
    },
    {
      "cell_type": "code",
      "execution_count": null,
      "metadata": {
        "id": "_YwrbBZ1lCvD"
      },
      "outputs": [],
      "source": [
        "def add_time_played(df_actions):\n",
        "    df_actions['time_played'] = (df_actions['time_seconds'] +\n",
        "                             (df_actions['period_id'] >= 2) * (45 * 60) +\n",
        "                             (df_actions['period_id'] >= 3) * (15 * 60) +\n",
        "                             (df_actions['period_id'] == 4) * (15 * 60)\n",
        "                             )"
      ]
    },
    {
      "cell_type": "code",
      "execution_count": null,
      "metadata": {
        "id": "YOpo0LQ3lCvE"
      },
      "outputs": [],
      "source": [
        "add_distance_features(df_actions)\n",
        "add_time_played(df_actions)"
      ]
    },
    {
      "cell_type": "code",
      "execution_count": null,
      "metadata": {
        "colab": {
          "base_uri": "https://localhost:8080/",
          "height": 80
        },
        "id": "IelwE02JlCvE",
        "outputId": "69be9093-1dff-4b60-c83f-eda35f3c57e1"
      },
      "outputs": [],
      "source": [
        "df_actions[action_id:action_id+1][['diff_x', 'diff_y', 'distance_covered', 'time_played']]"
      ]
    },
    {
      "cell_type": "markdown",
      "metadata": {
        "id": "OwVg-2aelCvE"
      },
      "source": [
        "# Representing game states"
      ]
    },
    {
      "cell_type": "markdown",
      "metadata": {
        "id": "fGUygWE7lCvF"
      },
      "source": [
        "As a game state is more than just the previous action, we want to add more information on the sequence leading up to the action. This includes information on the previous actions, but also more contextual features like the score and time in the match."
      ]
    },
    {
      "cell_type": "markdown",
      "metadata": {
        "id": "7CiYbsxXlCvF"
      },
      "source": [
        "## Representing actions leading to game state"
      ]
    },
    {
      "cell_type": "markdown",
      "metadata": {
        "id": "ntXhKQIflCvF"
      },
      "source": [
        "In the \\\"[Actions Speak Louder than Goals: Valuing Player Actions in Soccer.](https://arxiv.org/abs/1802.07127)\\\" paper we take the three actions leading to the game state into account. We investigated how many actions we should include and got the best results for three actions back.\n",
        "\n",
        "*Exercise:* you could try out different numbers of actions to include in the game state and analyze the results."
      ]
    },
    {
      "cell_type": "markdown",
      "metadata": {
        "id": "CZrgulStlCvF"
      },
      "source": [
        "Let's first take a look at the action again and what happened before the action was executed."
      ]
    },
    {
      "cell_type": "code",
      "execution_count": null,
      "metadata": {
        "colab": {
          "base_uri": "https://localhost:8080/",
          "height": 1000
        },
        "id": "YT2NN3qnlCvG",
        "outputId": "d7f7c65f-0852-48d8-e930-b987e8130d63"
      },
      "outputs": [],
      "source": [
        "for i in range(3):\n",
        "    df_actions_to_plot = df_actions[145-i:146]\n",
        "    plot_actions(df_actions_to_plot)"
      ]
    },
    {
      "cell_type": "markdown",
      "metadata": {
        "id": "iiYf5iaklCvG"
      },
      "source": [
        "The following cells add extra columns for each action on the x actions before the action itself. You can define how far back you want to go and what features to take into account for all actions."
      ]
    },
    {
      "cell_type": "code",
      "execution_count": null,
      "metadata": {
        "id": "-DQ4hM6zlCvG"
      },
      "outputs": [],
      "source": [
        "delays = 3  # you can play around with this number\n",
        "features_to_delay = ['game_id', 'period_id', 'time_seconds', 'team_id',\n",
        "                     'player_id', 'start_x', 'start_y', 'end_x', 'end_y', 'bodypart_id',\n",
        "                     'type_id', 'result_id', 'type_name', 'result_name', 'bodypart_name',\n",
        "                     'time_played']"
      ]
    },
    {
      "cell_type": "code",
      "execution_count": null,
      "metadata": {
        "id": "0w000j3klCvH"
      },
      "outputs": [],
      "source": [
        "def create_delayed_features(df_actions, features_to_delay, delays):\n",
        "    df_delays = [df_actions[features_to_delay].shift(step).add_suffix(f'-{step}') for step in range(0, delays)]\n",
        "    return pd.concat(df_delays, axis=1)"
      ]
    },
    {
      "cell_type": "code",
      "execution_count": null,
      "metadata": {
        "id": "7LBpcSyylCvH"
      },
      "outputs": [],
      "source": [
        "df_features = create_delayed_features(df_actions, features_to_delay, delays)"
      ]
    },
    {
      "cell_type": "code",
      "execution_count": null,
      "metadata": {
        "colab": {
          "base_uri": "https://localhost:8080/",
          "height": 118
        },
        "id": "o3uyEqD6lCvH",
        "outputId": "6bbd191a-28c9-4835-9926-a6f905d60a61"
      },
      "outputs": [],
      "source": [
        "location_cols = [f'{side}_{xy}-{delay}' for delay in reversed(range(0, delays))\n",
        "                 for xy in ['x', 'y'] for side in ['start', 'end']]\n",
        "df_features[action_id:action_id+1][location_cols]"
      ]
    },
    {
      "cell_type": "code",
      "execution_count": null,
      "metadata": {
        "colab": {
          "base_uri": "https://localhost:8080/",
          "height": 118
        },
        "id": "T_imzWuClCvI",
        "outputId": "4b43c21d-d840-4eea-9341-4d3fef7179f7"
      },
      "outputs": [],
      "source": [
        "cols = [f'{col}-{delay}' for delay in reversed(range(0, delays))\n",
        "        for col in ['period_id', 'time_seconds', 'type_name', 'bodypart_name', 'result_name']]\n",
        "df_features[action_id:action_id+1][cols]"
      ]
    },
    {
      "cell_type": "markdown",
      "metadata": {
        "id": "r8NF-a3slCvI"
      },
      "source": [
        "We need to invert the coordinates for the actions made by the other team to make sure all features represent the same thing. Therefore we add an indicator for the delayed actions to indicate whether the action was executed by the same team or not. If not then we need to invert the coordinates as the coordinates normally always go from left to right for the team in possession."
      ]
    },
    {
      "cell_type": "code",
      "execution_count": null,
      "metadata": {
        "id": "hnyDga3olCvJ"
      },
      "outputs": [],
      "source": [
        "def add_same_team(df_features, delays):\n",
        "    for step in range(1, delays):\n",
        "        df_features[f'team-{step}'] = df_features['team_id-0'] == df_features[f'team_id-{step}']"
      ]
    },
    {
      "cell_type": "code",
      "execution_count": null,
      "metadata": {
        "id": "EYFIpTU9lCvJ"
      },
      "outputs": [],
      "source": [
        "add_same_team(df_features, delays)"
      ]
    },
    {
      "cell_type": "code",
      "execution_count": null,
      "metadata": {
        "id": "sGbVbxCklCvJ"
      },
      "outputs": [],
      "source": [
        "def invert_coordinates(df_features, delays):\n",
        "    for step in range(1, delays):\n",
        "        for side in ['start', 'end']:\n",
        "            df_features.loc[~(df_features[f'team-{step}']), f'{side}_x-{step}'] = PITCH_LENGTH - df_features[f'{side}_x-{step}']\n",
        "            df_features.loc[~(df_features[f'team-{step}']), f'{side}_y-{step}'] = PITCH_WIDTH - df_features[f'{side}_y-{step}']"
      ]
    },
    {
      "cell_type": "code",
      "execution_count": null,
      "metadata": {
        "colab": {
          "base_uri": "https://localhost:8080/",
          "height": 400
        },
        "id": "1FL-fhKzlCvK",
        "outputId": "2bc296d0-bb2a-4742-8d19-56c5b65ccad2"
      },
      "outputs": [],
      "source": [
        "df_features[location_cols+['team-1', 'team-2']].tail(10)"
      ]
    },
    {
      "cell_type": "code",
      "execution_count": null,
      "metadata": {
        "id": "aX6aAJl1lCvL"
      },
      "outputs": [],
      "source": [
        "invert_coordinates(df_features, delays)"
      ]
    },
    {
      "cell_type": "code",
      "execution_count": null,
      "metadata": {
        "colab": {
          "base_uri": "https://localhost:8080/",
          "height": 400
        },
        "id": "iyh0Pr1elCvL",
        "outputId": "7cfb4546-43e0-4ace-dd54-7474f71f8c1c"
      },
      "outputs": [],
      "source": [
        "df_features[location_cols+['team-1', 'team-2']].tail(10)"
      ]
    },
    {
      "cell_type": "markdown",
      "metadata": {
        "id": "Uvxl9YnglCvL"
      },
      "source": [
        "The following cells add the location featues for all actions and their delayed actions using the right coordinates."
      ]
    },
    {
      "cell_type": "code",
      "execution_count": null,
      "metadata": {
        "id": "EvEBwdexlCvL"
      },
      "outputs": [],
      "source": [
        "def add_location_features(df_features, delays):\n",
        "    for step in range(0, delays):\n",
        "        for side in ['start', 'end']:\n",
        "            # Normalize the X location\n",
        "            key_x = f'{side}_x'\n",
        "            df_features[f'{key_x}_norm-{step}'] = df_features[f'{key_x}-{step}'] / PITCH_LENGTH\n",
        "\n",
        "            # Normalize the Y location\n",
        "            key_y = f'{side}_y'\n",
        "            df_features[f'{key_y}_norm-{step}'] = df_features[f'{key_y}-{step}'] / PITCH_WIDTH\n",
        "\n",
        "            diff_x = GOAL_X - df_features[f'{side}_x-{step}']\n",
        "            diff_y = abs(GOAL_Y - df_features[f'{side}_y-{step}'])\n",
        "            df_features[f'{side}_distance_to_goal-{step}'] = np.sqrt(diff_x ** 2 + diff_y ** 2)\n",
        "            df_features[f'{side}_angle_to_goal-{step}'] = np.divide(diff_x, diff_y, out=np.zeros_like(diff_x), where=(diff_y != 0))\n",
        "\n",
        "            df_features[f'diff_x-{step}'] = df_features[f'end_x-{step}'] - df_features[f'start_x-{step}']\n",
        "            df_features[f'diff_y-{step}'] = df_features[f'end_y-{step}'] - df_features[f'start_y-{step}']\n",
        "            df_features[f'distance_covered-{step}'] = np.sqrt((df_features[f'end_x-{step}'] - df_features[f'start_x-{step}']) ** 2 +\n",
        "                                             (df_features[f'end_y-{step}'] - df_features[f'start_y-{step}']) ** 2)"
      ]
    },
    {
      "cell_type": "code",
      "execution_count": null,
      "metadata": {
        "id": "am1ZhpvMlCvM"
      },
      "outputs": [],
      "source": [
        "add_location_features(df_features, delays)"
      ]
    },
    {
      "cell_type": "code",
      "execution_count": null,
      "metadata": {
        "colab": {
          "base_uri": "https://localhost:8080/",
          "height": 273
        },
        "id": "j7dIv2kUlCvM",
        "outputId": "7d6a501a-5a46-446c-fc4c-9767d267af47"
      },
      "outputs": [],
      "source": [
        "df_features.head()"
      ]
    },
    {
      "cell_type": "markdown",
      "metadata": {
        "id": "zOpJeg0WlCvN"
      },
      "source": [
        "## Adding contextual features"
      ]
    },
    {
      "cell_type": "markdown",
      "metadata": {
        "id": "8T_dG-KXlCvN"
      },
      "source": [
        "We also want to add some additional context to the game state. For example the speed of play, the time in the match and the current score in the match might influence the value of the game state.\n",
        "\n",
        "*Exercise:* think of extra features that might influence the value of a game state."
      ]
    },
    {
      "cell_type": "markdown",
      "metadata": {
        "id": "JzWp3xlIlCvN"
      },
      "source": [
        "## Sequence features"
      ]
    },
    {
      "cell_type": "markdown",
      "metadata": {
        "id": "L1Dnw2LplCvN"
      },
      "source": [
        "The following cells add extra context on the sequence. The distance covered in x and y direction as well as the time passed in the sequence are added to the dataframe. These features might tell the model something about the speed of play, whether the game quickly progressed from one side to another (probably indicating a counter attack) or whether it is a slow build up play."
      ]
    },
    {
      "cell_type": "code",
      "execution_count": null,
      "metadata": {
        "id": "_Z-TDqs6lCvO"
      },
      "outputs": [],
      "source": [
        "def add_sequence_pre_features(df_features, delays):\n",
        "    delay = delays - 1\n",
        "    df_features['xdiff_sequence_pre'] = df_features['start_x-0'] - df_features[f'start_x-{delay}']\n",
        "    df_features['ydiff_sequence_pre'] = df_features['start_y-0'] - df_features[f'start_y-{delay}']\n",
        "    df_features['time_sequence_pre'] = df_features['time_played-0'] - df_features[f'time_played-{delay}']"
      ]
    },
    {
      "cell_type": "code",
      "execution_count": null,
      "metadata": {
        "id": "MfVroFoelCvO"
      },
      "outputs": [],
      "source": [
        "add_sequence_pre_features(df_features, delays)"
      ]
    },
    {
      "cell_type": "code",
      "execution_count": null,
      "metadata": {
        "id": "PzSz5ybSlCvP"
      },
      "outputs": [],
      "source": [
        "def add_sequence_post_features(df_features, delays):\n",
        "    delay = delays - 1\n",
        "    df_features['xdiff_sequence_post'] = df_features['end_x-0'] - df_features[f'start_x-{delay}']\n",
        "    df_features['ydiff_sequence_post'] = df_features['end_y-0'] - df_features[f'start_y-{delay}']"
      ]
    },
    {
      "cell_type": "code",
      "execution_count": null,
      "metadata": {
        "id": "11q8F2RolCvP"
      },
      "outputs": [],
      "source": [
        "add_sequence_post_features(df_features, delays)"
      ]
    },
    {
      "cell_type": "code",
      "execution_count": null,
      "metadata": {
        "colab": {
          "base_uri": "https://localhost:8080/",
          "height": 147
        },
        "id": "8aGCCp1MlCvP",
        "outputId": "207669fb-2cb7-4f77-8a69-1a43c58cfc09"
      },
      "outputs": [],
      "source": [
        "df_features[action_id:action_id+1]"
      ]
    },
    {
      "cell_type": "markdown",
      "metadata": {
        "id": "7SZgX8_AlCvQ"
      },
      "source": [
        "# Generate features for a match"
      ]
    },
    {
      "cell_type": "markdown",
      "metadata": {
        "id": "HUvpNS5DlCvQ"
      },
      "source": [
        "The following cell defines a function that creates all features described above for a dataframe of actions for a given match."
      ]
    },
    {
      "cell_type": "code",
      "execution_count": null,
      "metadata": {
        "id": "tRmWF_-4lCvQ"
      },
      "outputs": [],
      "source": [
        "def create_features_match(df_actions, features_to_delay, delays):\n",
        "    df_action_features = add_action_type_dummies(df_actions)\n",
        "    add_time_played(df_action_features)\n",
        "    df_gamestate_features = create_delayed_features(df_action_features, features_to_delay, delays)\n",
        "    add_same_team(df_gamestate_features, delays)\n",
        "    invert_coordinates(df_gamestate_features, delays)\n",
        "    add_location_features(df_gamestate_features, delays)\n",
        "    add_sequence_pre_features(df_gamestate_features, delays)\n",
        "    add_sequence_post_features(df_gamestate_features, delays)\n",
        "    return df_gamestate_features"
      ]
    },
    {
      "cell_type": "markdown",
      "metadata": {
        "id": "xgVPz4VglCvR"
      },
      "source": [
        "# Generate labels for a match"
      ]
    },
    {
      "cell_type": "markdown",
      "metadata": {
        "id": "V0aLtjmklCvR"
      },
      "source": [
        "The following cells define two functions that compute the labels of our two machine learning tasks. The first one tells us whether a goal was scored within x actions, whereas the second function tells us whether a goal was conceded within the next x actions.\n",
        "\n",
        "*Exercise*: play around with the number of actions to look ahead. In our paper we look 10 actions ahead."
      ]
    },
    {
      "cell_type": "code",
      "execution_count": null,
      "metadata": {
        "id": "ELNfH62plCvS"
      },
      "outputs": [],
      "source": [
        "def label_scores(df_actions, nr_actions):\n",
        "    \"\"\"\n",
        "    This functiondf_actions determines whether a goal was scored by the team possessing\n",
        "    the ball within the next x actions\n",
        "    \"\"\"\n",
        "    # merging goals, owngoals and team_ids\n",
        "\n",
        "    goals = df_actions['type_name'].str.contains('shot') & (\n",
        "        df_actions['result_id'] == 1\n",
        "    )\n",
        "    owngoals = df_actions['type_name'].str.contains('shot') & (\n",
        "        df_actions['result_id'] == 2\n",
        "    )\n",
        "    y = pd.concat([goals, owngoals, df_actions['team_id']], axis=1)\n",
        "    y.columns = ['goal', 'owngoal', 'team_id']\n",
        "\n",
        "    # adding future results\n",
        "    for i in range(1, nr_actions):\n",
        "        for col in ['team_id', 'goal', 'owngoal']:\n",
        "            shifted = y[col].shift(-i)\n",
        "            shifted[-i:] = y[col][len(y) - 1]\n",
        "            y[f'{col}+{i}'] = shifted\n",
        "\n",
        "    scores = y['goal']\n",
        "    for i in range(1, nr_actions):\n",
        "        goal_scored = y[f'goal+{i}'] & (y[f'team_id+{i}'] == y['team_id'])\n",
        "        own_goal_opponent = y[f'owngoal+{i}'] & (y[f'team_id+{i}'] != y['team_id'])\n",
        "        scores = scores | goal_scored | own_goal_opponent\n",
        "\n",
        "    return pd.DataFrame(scores, columns=['scores'])"
      ]
    },
    {
      "cell_type": "code",
      "execution_count": null,
      "metadata": {
        "id": "PjeWUt8DlCvS"
      },
      "outputs": [],
      "source": [
        "def label_concedes(df_actions, nr_actions):\n",
        "    \"\"\"\n",
        "    This function determines whether a goal was scored by the team not\n",
        "    possessing the ball within the next x actions\n",
        "    \"\"\"\n",
        "    # merging goals,owngoals and team_ids\n",
        "    goals = df_actions['type_name'].str.contains('shot') & (\n",
        "        df_actions['result_id'] == 1\n",
        "    )\n",
        "    owngoals = df_actions['type_name'].str.contains('shot') & (\n",
        "        df_actions['result_id'] == 2\n",
        "    )\n",
        "    y = pd.concat([goals, owngoals, df_actions['team_id']], axis=1)\n",
        "    y.columns = ['goal', 'owngoal', 'team_id']\n",
        "\n",
        "    # adding future results\n",
        "    for i in range(1, nr_actions):\n",
        "        for col in ['team_id', 'goal', 'owngoal']:\n",
        "            shifted = y[col].shift(-i)\n",
        "            shifted[-i:] = y[col][len(y) - 1]\n",
        "            y[f'{col}+{i}'] = shifted\n",
        "\n",
        "    concedes = y['owngoal']\n",
        "    for i in range(1, nr_actions):\n",
        "        goal_opponent = y[f'goal+{i}'] & (y[f'team_id+{i}'] != y['team_id'])\n",
        "        own_goal_team = y[f'owngoal+{i}'] & (y[f'team_id+{i}'] == y['team_id'])\n",
        "        concedes = concedes | goal_opponent | own_goal_team\n",
        "\n",
        "    return pd.DataFrame(concedes, columns=['concedes'])"
      ]
    },
    {
      "cell_type": "markdown",
      "metadata": {
        "id": "XK1Ug0gLlCvT"
      },
      "source": [
        "We compute the labels for the match and investigate the labels for the last ten actions in the match."
      ]
    },
    {
      "cell_type": "code",
      "execution_count": null,
      "metadata": {
        "id": "IFp68XGPlCvT"
      },
      "outputs": [],
      "source": [
        "df_labels = pd.concat([label_scores(df_actions, nr_actions=10),\n",
        "                           label_concedes(df_actions, nr_actions=10)],\n",
        "                          axis=1)"
      ]
    },
    {
      "cell_type": "code",
      "execution_count": null,
      "metadata": {
        "colab": {
          "base_uri": "https://localhost:8080/",
          "height": 363
        },
        "id": "zpHuYTiAlCvT",
        "outputId": "94ed0f01-fd9e-4900-8b87-86b8b5d7f565"
      },
      "outputs": [],
      "source": [
        "df_labels.tail(10)"
      ]
    },
    {
      "cell_type": "code",
      "execution_count": null,
      "metadata": {
        "colab": {
          "base_uri": "https://localhost:8080/",
          "height": 363
        },
        "id": "OTIP1ajhlCvU",
        "outputId": "4b5e94b5-9a2e-4e56-f770-69c5fae1f3f6"
      },
      "outputs": [],
      "source": [
        "pd.merge(df_actions[['team_name', 'short_name', 'type_name']],\n",
        "         df_labels,\n",
        "         left_index=True,\n",
        "         right_index=True).tail(10)"
      ]
    },
    {
      "cell_type": "markdown",
      "metadata": {
        "id": "rmSaGIi1lCvU"
      },
      "source": [
        "# Generate features and labels for all matches"
      ]
    },
    {
      "cell_type": "markdown",
      "metadata": {
        "id": "Olho2td1lCvU"
      },
      "source": [
        "The following cells generate and store the features and labels for all matches in your spadl.h5 file. This might take some minutes."
      ]
    },
    {
      "cell_type": "code",
      "execution_count": null,
      "metadata": {
        "id": "l73AXoezlCvV"
      },
      "outputs": [],
      "source": [
        "df_games = pd.read_hdf('/content/drive/MyDrive/spadl.h5', key='games')"
      ]
    },
    {
      "cell_type": "code",
      "execution_count": null,
      "metadata": {
        "colab": {
          "base_uri": "https://localhost:8080/",
          "height": 206
        },
        "id": "WgjUcVJ2lCvV",
        "outputId": "b273674b-2620-4b21-982f-9312c07e3ceb"
      },
      "outputs": [],
      "source": [
        "df_games.head()"
      ]
    },
    {
      "cell_type": "code",
      "execution_count": null,
      "metadata": {
        "colab": {
          "base_uri": "https://localhost:8080/",
          "height": 49,
          "referenced_widgets": [
            "e6031ef858d448d99cf2f132c9e3a600",
            "58716929828844c0be9fd3a2a487e6ba",
            "f8f88253966a4daeb5b861b5c8dc6d60",
            "947ceedc0aec49939341965ce764a130",
            "5e524dd520f64dea833da669f3173b62",
            "1bd4ef729d3c4fa2a4d35aba4ab08d77",
            "d1f2a24adce94a60907d756f14379af1",
            "241fccbbe5fd44b8be77aed9991f0874",
            "36d5e297fe9d4901a2af450821dc1e48",
            "89fb52ff71e6468b911cc1f54b932287",
            "a5b5fada6584412a91de7f371ced9463"
          ]
        },
        "id": "Vda7-SwqlCvV",
        "outputId": "f150a2e0-e769-473d-a2c6-7656a058d389"
      },
      "outputs": [],
      "source": [
        "for _, game in tqdm(df_games.iterrows(), total=len(df_games)):\n",
        "    game_id = game['game_id']\n",
        "    with pd.HDFStore('/content/drive/MyDrive/spadl.h5') as spadlstore:\n",
        "        df_actions = spadlstore[f'actions/game_{game_id}']\n",
        "        df_actions = (\n",
        "            df_actions.merge(spadlstore['actiontypes'], how='left')\n",
        "            .merge(spadlstore['results'], how='left')\n",
        "            .merge(spadlstore['bodyparts'], how='left')\n",
        "            .reset_index(drop=True)\n",
        "        )\n",
        "\n",
        "    df_features = create_features_match(df_actions, features_to_delay, delays)\n",
        "    df_features.to_hdf('features.h5', f'game_{game_id}')\n",
        "\n",
        "    df_labels = pd.concat([label_scores(df_actions, nr_actions=10),\n",
        "                           label_concedes(df_actions, nr_actions=10)],\n",
        "                          axis=1)\n",
        "    df_labels.to_hdf('labels.h5', f'game_{game_id}')"
      ]
    },
    {
      "cell_type": "code",
      "execution_count": null,
      "metadata": {
        "colab": {
          "base_uri": "https://localhost:8080/",
          "height": 443
        },
        "id": "qZdNpjpL3zmn",
        "outputId": "35ae553f-9171-496b-fe9a-93d4f716afed"
      },
      "outputs": [],
      "source": [
        "df_actions"
      ]
    },
    {
      "cell_type": "markdown",
      "metadata": {
        "id": "jVYSBClU5VCk"
      },
      "source": [
        "For each action, the dataset contains the following information for the action:\n",
        "\n",
        "* game_id: a unique identifier of the game;\n",
        "* team_id: a unique identifier of the team who performed the action;\n",
        "* player_id: a unique identifier of the player who performed the action;\n",
        "* period: 1 for the first half and 2 for the second half;\n",
        "* seconds: the time elapsed in seconds since the start of the half;\n",
        "* type_id: the identifier for the type of action;\n",
        "* type_name: the name for the type of action;\n",
        "* body_part_id: 0 for foot, 1 for head, 2 for other body part;\n",
        "* result: the result of the action: 0 for failure, 1 for success;\n",
        "* start_x: the x coordinate for the location where the action started, ranges from 0 to 105;\n",
        "* start_y: the y coordinate for the location where the action started, ranges from 0 to 68;\n",
        "* end_x: the x coordinate for the location where the action ended, ranges from 0 to 105;\n",
        "* end_y: the y coordinate for the location where the action ended, ranges from 0 to 68.\n",
        "\n",
        "The action types are:\n",
        "\n",
        "    0: pass\n",
        "    1: cross\n",
        "    2: throw in\n",
        "    3: freekick crossed\n",
        "    4: freekick short\n",
        "    5: corner crossed\n",
        "    6: corner short\n",
        "    7: take on\n",
        "    8: foul\n",
        "    9: tackle\n",
        "    10: interception\n",
        "    11: shot\n",
        "    12: shot penalty\n",
        "    13: shot freekick\n",
        "    14: keeper save\n",
        "    18: clearance\n",
        "    21: dribble\n",
        "    22: goalkick"
      ]
    },
    {
      "cell_type": "code",
      "execution_count": null,
      "metadata": {
        "id": "VcWUUDSk5Xgq"
      },
      "outputs": [],
      "source": [
        "shot_in_next_10_seconds = []\n",
        "# Iterate through each row in the DataFrame\n",
        "for index, row in df_actions.iterrows():\n",
        "    # Get the current time_seconds\n",
        "    current_time = row['time_seconds']\n",
        "\n",
        "    # Check if there is a shot in the next 10 seconds\n",
        "    shot_next_10_sec = any((df_actions['time_seconds'] > current_time) & (df_actions['time_seconds'] <= current_time + 10) & (df_actions['type_name'] == 'shot'))\n",
        "\n",
        "    # Append the result to the list\n",
        "    shot_in_next_10_seconds.append(shot_next_10_sec)\n",
        "\n",
        "# Add the boolean column to the DataFrame\n",
        "df_actions['shot_in_next_10_seconds'] = shot_in_next_10_seconds"
      ]
    },
    {
      "cell_type": "code",
      "execution_count": null,
      "metadata": {
        "colab": {
          "base_uri": "https://localhost:8080/",
          "height": 443
        },
        "id": "OtfwdTwO-iDP",
        "outputId": "17ac32ad-b83c-4991-8db5-e533f3afb463"
      },
      "outputs": [],
      "source": [
        "df_actions"
      ]
    },
    {
      "cell_type": "code",
      "execution_count": null,
      "metadata": {
        "colab": {
          "base_uri": "https://localhost:8080/",
          "height": 443
        },
        "id": "5UJWtirG-qvN",
        "outputId": "a9384aaa-b509-4146-a290-5ced82a67c30"
      },
      "outputs": [],
      "source": [
        "rows_with_shot_in_next_10_seconds = df_actions[df_actions['shot_in_next_10_seconds'] == True]\n",
        "\n",
        "# Print the filtered DataFrame\n",
        "rows_with_shot_in_next_10_seconds"
      ]
    },
    {
      "cell_type": "code",
      "execution_count": null,
      "metadata": {
        "id": "2_CxsV5G-5iS"
      },
      "outputs": [],
      "source": []
    }
  ],
  "metadata": {
    "colab": {
      "provenance": []
    },
    "kernelspec": {
      "display_name": "Python 3",
      "language": "python",
      "name": "python3"
    },
    "language_info": {
      "codemirror_mode": {
        "name": "ipython",
        "version": 3
      },
      "file_extension": ".py",
      "mimetype": "text/x-python",
      "name": "python",
      "nbconvert_exporter": "python",
      "pygments_lexer": "ipython3",
      "version": "3.8.3"
    },
    "toc": {
      "base_numbering": 1,
      "nav_menu": {},
      "number_sections": true,
      "sideBar": true,
      "skip_h1_title": false,
      "title_cell": "Table of Contents",
      "title_sidebar": "Contents",
      "toc_cell": false,
      "toc_position": {},
      "toc_section_display": true,
      "toc_window_display": true
    },
    "widgets": {
      "application/vnd.jupyter.widget-state+json": {
        "0bf00cd0e7c94bfb90b1ce2d8f431246": {
          "model_module": "@jupyter-widgets/controls",
          "model_module_version": "1.5.0",
          "model_name": "ButtonModel",
          "state": {
            "_dom_classes": [],
            "_model_module": "@jupyter-widgets/controls",
            "_model_module_version": "1.5.0",
            "_model_name": "ButtonModel",
            "_view_count": null,
            "_view_module": "@jupyter-widgets/controls",
            "_view_module_version": "1.5.0",
            "_view_name": "ButtonView",
            "button_style": "",
            "description": "Run Interact",
            "disabled": false,
            "icon": "",
            "layout": "IPY_MODEL_924bcf2d4f3c4763ac0c723416502f47",
            "style": "IPY_MODEL_305b2bb733b345149175b39ce485eb74",
            "tooltip": ""
          }
        },
        "1bd4ef729d3c4fa2a4d35aba4ab08d77": {
          "model_module": "@jupyter-widgets/base",
          "model_module_version": "1.2.0",
          "model_name": "LayoutModel",
          "state": {
            "_model_module": "@jupyter-widgets/base",
            "_model_module_version": "1.2.0",
            "_model_name": "LayoutModel",
            "_view_count": null,
            "_view_module": "@jupyter-widgets/base",
            "_view_module_version": "1.2.0",
            "_view_name": "LayoutView",
            "align_content": null,
            "align_items": null,
            "align_self": null,
            "border": null,
            "bottom": null,
            "display": null,
            "flex": null,
            "flex_flow": null,
            "grid_area": null,
            "grid_auto_columns": null,
            "grid_auto_flow": null,
            "grid_auto_rows": null,
            "grid_column": null,
            "grid_gap": null,
            "grid_row": null,
            "grid_template_areas": null,
            "grid_template_columns": null,
            "grid_template_rows": null,
            "height": null,
            "justify_content": null,
            "justify_items": null,
            "left": null,
            "margin": null,
            "max_height": null,
            "max_width": null,
            "min_height": null,
            "min_width": null,
            "object_fit": null,
            "object_position": null,
            "order": null,
            "overflow": null,
            "overflow_x": null,
            "overflow_y": null,
            "padding": null,
            "right": null,
            "top": null,
            "visibility": null,
            "width": null
          }
        },
        "241fccbbe5fd44b8be77aed9991f0874": {
          "model_module": "@jupyter-widgets/base",
          "model_module_version": "1.2.0",
          "model_name": "LayoutModel",
          "state": {
            "_model_module": "@jupyter-widgets/base",
            "_model_module_version": "1.2.0",
            "_model_name": "LayoutModel",
            "_view_count": null,
            "_view_module": "@jupyter-widgets/base",
            "_view_module_version": "1.2.0",
            "_view_name": "LayoutView",
            "align_content": null,
            "align_items": null,
            "align_self": null,
            "border": null,
            "bottom": null,
            "display": null,
            "flex": null,
            "flex_flow": null,
            "grid_area": null,
            "grid_auto_columns": null,
            "grid_auto_flow": null,
            "grid_auto_rows": null,
            "grid_column": null,
            "grid_gap": null,
            "grid_row": null,
            "grid_template_areas": null,
            "grid_template_columns": null,
            "grid_template_rows": null,
            "height": null,
            "justify_content": null,
            "justify_items": null,
            "left": null,
            "margin": null,
            "max_height": null,
            "max_width": null,
            "min_height": null,
            "min_width": null,
            "object_fit": null,
            "object_position": null,
            "order": null,
            "overflow": null,
            "overflow_x": null,
            "overflow_y": null,
            "padding": null,
            "right": null,
            "top": null,
            "visibility": null,
            "width": null
          }
        },
        "305b2bb733b345149175b39ce485eb74": {
          "model_module": "@jupyter-widgets/controls",
          "model_module_version": "1.5.0",
          "model_name": "ButtonStyleModel",
          "state": {
            "_model_module": "@jupyter-widgets/controls",
            "_model_module_version": "1.5.0",
            "_model_name": "ButtonStyleModel",
            "_view_count": null,
            "_view_module": "@jupyter-widgets/base",
            "_view_module_version": "1.2.0",
            "_view_name": "StyleView",
            "button_color": null,
            "font_weight": ""
          }
        },
        "360e906807814f388b5cf7069ecf0e7b": {
          "model_module": "@jupyter-widgets/output",
          "model_module_version": "1.0.0",
          "model_name": "OutputModel",
          "state": {
            "_dom_classes": [],
            "_model_module": "@jupyter-widgets/output",
            "_model_module_version": "1.0.0",
            "_model_name": "OutputModel",
            "_view_count": null,
            "_view_module": "@jupyter-widgets/output",
            "_view_module_version": "1.0.0",
            "_view_name": "OutputView",
            "layout": "IPY_MODEL_f910750f240349b9afe1b9c100b69d7e",
            "msg_id": "",
            "outputs": []
          }
        },
        "36d5e297fe9d4901a2af450821dc1e48": {
          "model_module": "@jupyter-widgets/controls",
          "model_module_version": "1.5.0",
          "model_name": "ProgressStyleModel",
          "state": {
            "_model_module": "@jupyter-widgets/controls",
            "_model_module_version": "1.5.0",
            "_model_name": "ProgressStyleModel",
            "_view_count": null,
            "_view_module": "@jupyter-widgets/base",
            "_view_module_version": "1.2.0",
            "_view_name": "StyleView",
            "bar_color": null,
            "description_width": ""
          }
        },
        "4a21d32d5b57459baf3c67b9158a8118": {
          "model_module": "@jupyter-widgets/base",
          "model_module_version": "1.2.0",
          "model_name": "LayoutModel",
          "state": {
            "_model_module": "@jupyter-widgets/base",
            "_model_module_version": "1.2.0",
            "_model_name": "LayoutModel",
            "_view_count": null,
            "_view_module": "@jupyter-widgets/base",
            "_view_module_version": "1.2.0",
            "_view_name": "LayoutView",
            "align_content": null,
            "align_items": null,
            "align_self": null,
            "border": null,
            "bottom": null,
            "display": null,
            "flex": null,
            "flex_flow": null,
            "grid_area": null,
            "grid_auto_columns": null,
            "grid_auto_flow": null,
            "grid_auto_rows": null,
            "grid_column": null,
            "grid_gap": null,
            "grid_row": null,
            "grid_template_areas": null,
            "grid_template_columns": null,
            "grid_template_rows": null,
            "height": null,
            "justify_content": null,
            "justify_items": null,
            "left": null,
            "margin": null,
            "max_height": null,
            "max_width": null,
            "min_height": null,
            "min_width": null,
            "object_fit": null,
            "object_position": null,
            "order": null,
            "overflow": null,
            "overflow_x": null,
            "overflow_y": null,
            "padding": null,
            "right": null,
            "top": null,
            "visibility": null,
            "width": null
          }
        },
        "58716929828844c0be9fd3a2a487e6ba": {
          "model_module": "@jupyter-widgets/controls",
          "model_module_version": "1.5.0",
          "model_name": "HTMLModel",
          "state": {
            "_dom_classes": [],
            "_model_module": "@jupyter-widgets/controls",
            "_model_module_version": "1.5.0",
            "_model_name": "HTMLModel",
            "_view_count": null,
            "_view_module": "@jupyter-widgets/controls",
            "_view_module_version": "1.5.0",
            "_view_name": "HTMLView",
            "description": "",
            "description_tooltip": null,
            "layout": "IPY_MODEL_1bd4ef729d3c4fa2a4d35aba4ab08d77",
            "placeholder": "​",
            "style": "IPY_MODEL_d1f2a24adce94a60907d756f14379af1",
            "value": "100%"
          }
        },
        "5e524dd520f64dea833da669f3173b62": {
          "model_module": "@jupyter-widgets/base",
          "model_module_version": "1.2.0",
          "model_name": "LayoutModel",
          "state": {
            "_model_module": "@jupyter-widgets/base",
            "_model_module_version": "1.2.0",
            "_model_name": "LayoutModel",
            "_view_count": null,
            "_view_module": "@jupyter-widgets/base",
            "_view_module_version": "1.2.0",
            "_view_name": "LayoutView",
            "align_content": null,
            "align_items": null,
            "align_self": null,
            "border": null,
            "bottom": null,
            "display": null,
            "flex": null,
            "flex_flow": null,
            "grid_area": null,
            "grid_auto_columns": null,
            "grid_auto_flow": null,
            "grid_auto_rows": null,
            "grid_column": null,
            "grid_gap": null,
            "grid_row": null,
            "grid_template_areas": null,
            "grid_template_columns": null,
            "grid_template_rows": null,
            "height": null,
            "justify_content": null,
            "justify_items": null,
            "left": null,
            "margin": null,
            "max_height": null,
            "max_width": null,
            "min_height": null,
            "min_width": null,
            "object_fit": null,
            "object_position": null,
            "order": null,
            "overflow": null,
            "overflow_x": null,
            "overflow_y": null,
            "padding": null,
            "right": null,
            "top": null,
            "visibility": null,
            "width": null
          }
        },
        "80c5a720e1ed42419b06d27e0744da30": {
          "model_module": "@jupyter-widgets/base",
          "model_module_version": "1.2.0",
          "model_name": "LayoutModel",
          "state": {
            "_model_module": "@jupyter-widgets/base",
            "_model_module_version": "1.2.0",
            "_model_name": "LayoutModel",
            "_view_count": null,
            "_view_module": "@jupyter-widgets/base",
            "_view_module_version": "1.2.0",
            "_view_name": "LayoutView",
            "align_content": null,
            "align_items": null,
            "align_self": null,
            "border": null,
            "bottom": null,
            "display": null,
            "flex": null,
            "flex_flow": null,
            "grid_area": null,
            "grid_auto_columns": null,
            "grid_auto_flow": null,
            "grid_auto_rows": null,
            "grid_column": null,
            "grid_gap": null,
            "grid_row": null,
            "grid_template_areas": null,
            "grid_template_columns": null,
            "grid_template_rows": null,
            "height": null,
            "justify_content": null,
            "justify_items": null,
            "left": null,
            "margin": null,
            "max_height": null,
            "max_width": null,
            "min_height": null,
            "min_width": null,
            "object_fit": null,
            "object_position": null,
            "order": null,
            "overflow": null,
            "overflow_x": null,
            "overflow_y": null,
            "padding": null,
            "right": null,
            "top": null,
            "visibility": null,
            "width": null
          }
        },
        "89fb52ff71e6468b911cc1f54b932287": {
          "model_module": "@jupyter-widgets/base",
          "model_module_version": "1.2.0",
          "model_name": "LayoutModel",
          "state": {
            "_model_module": "@jupyter-widgets/base",
            "_model_module_version": "1.2.0",
            "_model_name": "LayoutModel",
            "_view_count": null,
            "_view_module": "@jupyter-widgets/base",
            "_view_module_version": "1.2.0",
            "_view_name": "LayoutView",
            "align_content": null,
            "align_items": null,
            "align_self": null,
            "border": null,
            "bottom": null,
            "display": null,
            "flex": null,
            "flex_flow": null,
            "grid_area": null,
            "grid_auto_columns": null,
            "grid_auto_flow": null,
            "grid_auto_rows": null,
            "grid_column": null,
            "grid_gap": null,
            "grid_row": null,
            "grid_template_areas": null,
            "grid_template_columns": null,
            "grid_template_rows": null,
            "height": null,
            "justify_content": null,
            "justify_items": null,
            "left": null,
            "margin": null,
            "max_height": null,
            "max_width": null,
            "min_height": null,
            "min_width": null,
            "object_fit": null,
            "object_position": null,
            "order": null,
            "overflow": null,
            "overflow_x": null,
            "overflow_y": null,
            "padding": null,
            "right": null,
            "top": null,
            "visibility": null,
            "width": null
          }
        },
        "924bcf2d4f3c4763ac0c723416502f47": {
          "model_module": "@jupyter-widgets/base",
          "model_module_version": "1.2.0",
          "model_name": "LayoutModel",
          "state": {
            "_model_module": "@jupyter-widgets/base",
            "_model_module_version": "1.2.0",
            "_model_name": "LayoutModel",
            "_view_count": null,
            "_view_module": "@jupyter-widgets/base",
            "_view_module_version": "1.2.0",
            "_view_name": "LayoutView",
            "align_content": null,
            "align_items": null,
            "align_self": null,
            "border": null,
            "bottom": null,
            "display": null,
            "flex": null,
            "flex_flow": null,
            "grid_area": null,
            "grid_auto_columns": null,
            "grid_auto_flow": null,
            "grid_auto_rows": null,
            "grid_column": null,
            "grid_gap": null,
            "grid_row": null,
            "grid_template_areas": null,
            "grid_template_columns": null,
            "grid_template_rows": null,
            "height": null,
            "justify_content": null,
            "justify_items": null,
            "left": null,
            "margin": null,
            "max_height": null,
            "max_width": null,
            "min_height": null,
            "min_width": null,
            "object_fit": null,
            "object_position": null,
            "order": null,
            "overflow": null,
            "overflow_x": null,
            "overflow_y": null,
            "padding": null,
            "right": null,
            "top": null,
            "visibility": null,
            "width": null
          }
        },
        "947ceedc0aec49939341965ce764a130": {
          "model_module": "@jupyter-widgets/controls",
          "model_module_version": "1.5.0",
          "model_name": "HTMLModel",
          "state": {
            "_dom_classes": [],
            "_model_module": "@jupyter-widgets/controls",
            "_model_module_version": "1.5.0",
            "_model_name": "HTMLModel",
            "_view_count": null,
            "_view_module": "@jupyter-widgets/controls",
            "_view_module_version": "1.5.0",
            "_view_name": "HTMLView",
            "description": "",
            "description_tooltip": null,
            "layout": "IPY_MODEL_89fb52ff71e6468b911cc1f54b932287",
            "placeholder": "​",
            "style": "IPY_MODEL_a5b5fada6584412a91de7f371ced9463",
            "value": " 495/495 [02:09&lt;00:00,  3.68it/s]"
          }
        },
        "99f05d24600b4525bfa2bef08f3799e8": {
          "model_module": "@jupyter-widgets/controls",
          "model_module_version": "1.5.0",
          "model_name": "VBoxModel",
          "state": {
            "_dom_classes": [
              "widget-interact"
            ],
            "_model_module": "@jupyter-widgets/controls",
            "_model_module_version": "1.5.0",
            "_model_name": "VBoxModel",
            "_view_count": null,
            "_view_module": "@jupyter-widgets/controls",
            "_view_module_version": "1.5.0",
            "_view_name": "VBoxView",
            "box_style": "",
            "children": [
              "IPY_MODEL_aff930e9a7b647c6b62774f8d557ab7e",
              "IPY_MODEL_0bf00cd0e7c94bfb90b1ce2d8f431246",
              "IPY_MODEL_360e906807814f388b5cf7069ecf0e7b"
            ],
            "layout": "IPY_MODEL_4a21d32d5b57459baf3c67b9158a8118"
          }
        },
        "a5b5fada6584412a91de7f371ced9463": {
          "model_module": "@jupyter-widgets/controls",
          "model_module_version": "1.5.0",
          "model_name": "DescriptionStyleModel",
          "state": {
            "_model_module": "@jupyter-widgets/controls",
            "_model_module_version": "1.5.0",
            "_model_name": "DescriptionStyleModel",
            "_view_count": null,
            "_view_module": "@jupyter-widgets/base",
            "_view_module_version": "1.2.0",
            "_view_name": "StyleView",
            "description_width": ""
          }
        },
        "aff930e9a7b647c6b62774f8d557ab7e": {
          "model_module": "@jupyter-widgets/controls",
          "model_module_version": "1.5.0",
          "model_name": "SelectModel",
          "state": {
            "_dom_classes": [],
            "_model_module": "@jupyter-widgets/controls",
            "_model_module_version": "1.5.0",
            "_model_name": "SelectModel",
            "_options_labels": [
              "3: 0m9s - V. Kompany pass",
              "4: 0m12s - T. Alderweireld pass",
              "5: 0m15s - V. Kompany pass",
              "6: 0m17s - J. Vertonghen pass",
              "7: 0m35s - H. Sakai throw_in",
              "8: 0m37s - G. Shibasaki pass",
              "9: 0m39s - K. De Bruyne interception",
              "10: 0m40s - Y. Ōsako pass",
              "11: 0m41s - M. Hasebe pass",
              "12: 0m46s - Y. Nagatomo pass",
              "13: 0m49s - G. Shōji pass",
              "14: 0m52s - Y. Carrasco pass",
              "15: 0m56s - S. Kagawa shot",
              "16: 1m12s - T. Courtois goalkick",
              "17: 1m14s - T. Courtois pass",
              "18: 1m18s - J. Vertonghen pass",
              "19: 1m21s - M. Yoshida pass",
              "20: 1m23s - G. Shibasaki dribble",
              "21: 1m24s - G. Shibasaki pass",
              "22: 1m36s - V. Kompany freekick_short",
              "23: 1m38s - J. Vertonghen pass",
              "24: 1m39s - V. Kompany pass",
              "25: 1m44s - T. Alderweireld pass",
              "26: 1m46s - A. Witsel pass",
              "27: 1m50s - T. Alderweireld pass",
              "28: 1m55s - M. Hasebe pass",
              "29: 1m57s - Y. Nagatomo pass",
              "30: 1m59s - G. Shibasaki dribble",
              "31: 2m0s - G. Shibasaki pass",
              "32: 2m1s - S. Kagawa pass",
              "33: 2m2s - G. Shibasaki pass",
              "34: 2m4s - S. Kagawa foul",
              "35: 2m21s - T. Alderweireld freekick_short",
              "36: 2m23s - T. Alderweireld pass",
              "37: 2m26s - K. De Bruyne pass",
              "38: 2m29s - T. Alderweireld pass",
              "39: 2m31s - V. Kompany dribble",
              "40: 2m34s - V. Kompany pass",
              "41: 2m34s - J. Vertonghen pass",
              "42: 2m39s - T. Courtois pass",
              "43: 2m41s - T. Alderweireld pass",
              "44: 2m44s - V. Kompany pass",
              "45: 2m47s - T. Alderweireld pass",
              "46: 2m51s - A. Witsel pass",
              "47: 2m53s - J. Vertonghen pass",
              "48: 2m55s - Y. Carrasco pass",
              "49: 2m59s - J. Vertonghen dribble",
              "50: 3m3s - J. Vertonghen throw_in",
              "51: 3m6s - K. De Bruyne pass",
              "52: 3m11s - T. Meunier pass",
              "53: 3m13s - M. Yoshida clearance",
              "54: 3m28s - T. Meunier throw_in",
              "55: 3m31s - A. Witsel dribble",
              "56: 3m35s - A. Witsel pass",
              "57: 3m37s - J. Vertonghen pass",
              "58: 3m39s - H. Sakai dribble",
              "59: 3m42s - J. Vertonghen take_on",
              "60: 3m44s - J. Vertonghen pass",
              "61: 3m45s - E. Hazard take_on",
              "62: 3m47s - M. Hasebe foul",
              "63: 4m7s - K. De Bruyne freekick_short",
              "64: 4m10s - E. Hazard pass",
              "65: 4m13s - K. De Bruyne pass",
              "66: 4m15s - Y. Carrasco pass",
              "67: 4m19s - E. Hazard pass",
              "68: 4m21s - T. Alderweireld dribble",
              "69: 4m24s - T. Alderweireld pass",
              "70: 4m26s - T. Meunier pass",
              "71: 4m26s - A. Witsel pass",
              "72: 4m28s - T. Meunier pass",
              "73: 4m32s - V. Kompany pass",
              "74: 4m34s - J. Vertonghen pass",
              "75: 4m36s - Y. Carrasco take_on",
              "76: 4m36s - H. Sakai take_on",
              "77: 4m42s - K. De Bruyne foul",
              "78: 5m2s - H. Sakai freekick_short",
              "79: 5m7s - M. Yoshida pass",
              "80: 5m9s - H. Sakai pass",
              "81: 5m10s - Y. Ōsako pass",
              "82: 5m13s - S. Kagawa pass",
              "83: 5m17s - G. Haraguchi pass",
              "84: 5m20s - H. Sakai pass",
              "85: 5m24s - M. Hasebe pass",
              "86: 5m25s - M. Yoshida pass",
              "87: 5m29s - H. Sakai pass",
              "88: 5m30s - Y. Carrasco interception",
              "89: 5m30s - Y. Carrasco pass",
              "90: 5m34s - E. Hazard dribble",
              "91: 5m37s - E. Hazard take_on",
              "92: 5m38s - E. Hazard pass",
              "93: 5m39s - D. Mertens pass",
              "94: 5m41s - E. Hazard pass",
              "95: 5m41s - M. Yoshida interception",
              "96: 5m44s - G. Haraguchi dribble",
              "97: 5m46s - G. Haraguchi pass",
              "98: 5m47s - H. Sakai pass",
              "99: 5m50s - M. Yoshida pass",
              "100: 5m51s - G. Shibasaki pass",
              "101: 5m54s - H. Sakai pass",
              "102: 5m58s - M. Yoshida pass",
              "103: 6m0s - H. Sakai pass",
              "104: 6m2s - Y. Ōsako pass",
              "105: 6m5s - S. Kagawa pass",
              "106: 6m8s - G. Shibasaki pass",
              "107: 6m14s - Y. Nagatomo pass",
              "108: 6m15s - M. Hasebe pass",
              "109: 6m17s - G. Shibasaki pass",
              "110: 6m21s - T. Inui cross",
              "111: 6m23s - T. Alderweireld clearance",
              "112: 6m31s - Y. Nagatomo throw_in",
              "113: 6m34s - M. Hasebe pass",
              "114: 6m36s - Y. Nagatomo pass",
              "115: 6m39s - T. Inui pass",
              "116: 6m40s - M. Hasebe pass",
              "117: 6m42s - G. Shibasaki pass",
              "118: 6m44s - G. Shōji dribble",
              "119: 6m46s - G. Shōji pass",
              "120: 6m52s - M. Yoshida pass",
              "121: 6m53s - M. Hasebe pass",
              "122: 6m54s - M. Yoshida pass",
              "123: 6m57s - G. Shōji pass",
              "124: 6m59s - M. Yoshida pass",
              "125: 7m1s - Y. Ōsako pass",
              "126: 7m2s - S. Kagawa dribble",
              "127: 7m5s - S. Kagawa pass",
              "128: 7m7s - T. Inui dribble",
              "129: 7m9s - T. Inui pass",
              "130: 7m12s - G. Shibasaki pass",
              "131: 7m15s - M. Hasebe pass",
              "132: 7m20s - G. Shōji pass",
              "133: 7m24s - E. Kawashima pass",
              "134: 7m27s - G. Shōji pass",
              "135: 7m28s - M. Hasebe pass",
              "136: 7m32s - E. Kawashima pass",
              "137: 7m35s - J. Vertonghen pass",
              "138: 7m38s - M. Hasebe clearance",
              "139: 7m45s - Y. Carrasco pass",
              "140: 7m47s - A. Witsel pass",
              "141: 7m50s - T. Alderweireld pass",
              "142: 7m53s - V. Kompany pass",
              "143: 7m56s - T. Alderweireld pass",
              "144: 7m59s - T. Meunier pass",
              "145: 8m1s - D. Mertens pass",
              "146: 8m2s - R. Lukaku pass",
              "147: 8m4s - M. Hasebe tackle",
              "148: 8m7s - Y. Carrasco pass",
              "149: 8m7s - D. Mertens pass",
              "150: 8m9s - Y. Carrasco dribble",
              "151: 8m11s - Y. Carrasco foul",
              "152: 8m51s - E. Kawashima freekick_short",
              "153: 8m53s - Y. Ōsako dribble",
              "154: 8m55s - Y. Ōsako pass",
              "155: 8m57s - S. Kagawa pass",
              "156: 8m59s - G. Haraguchi pass",
              "157: 9m0s - G. Shibasaki pass",
              "158: 9m2s - M. Hasebe pass",
              "159: 9m4s - S. Kagawa pass",
              "160: 9m6s - T. Inui cross",
              "161: 9m8s - V. Kompany clearance",
              "162: 9m11s - D. Mertens pass",
              "163: 9m12s - R. Lukaku pass",
              "164: 9m15s - G. Shōji shot",
              "165: 9m31s - T. Courtois goalkick",
              "166: 9m32s - J. Vertonghen pass",
              "167: 9m35s - T. Courtois pass",
              "168: 9m38s - T. Alderweireld pass",
              "169: 9m45s - R. Lukaku take_on",
              "170: 9m48s - R. Lukaku pass",
              "171: 9m51s - D. Mertens pass",
              "172: 9m54s - J. Vertonghen pass",
              "173: 9m57s - K. De Bruyne pass",
              "174: 10m29s - E. Kawashima goalkick",
              "175: 10m35s - V. Kompany pass",
              "176: 10m37s - M. Hasebe pass",
              "177: 10m39s - G. Haraguchi dribble",
              "178: 10m41s - G. Haraguchi foul",
              "179: 10m52s - V. Kompany freekick_short",
              "180: 10m54s - T. Alderweireld pass",
              "181: 10m56s - K. De Bruyne pass",
              "182: 11m0s - T. Alderweireld pass",
              "183: 11m2s - A. Witsel pass",
              "184: 11m4s - T. Alderweireld pass",
              "185: 11m8s - T. Courtois pass",
              "186: 11m29s - Y. Nagatomo throw_in",
              "187: 11m31s - Y. Ōsako pass",
              "188: 11m32s - M. Hasebe pass",
              "189: 11m35s - H. Sakai dribble",
              "190: 11m38s - H. Sakai pass",
              "191: 11m40s - G. Haraguchi pass",
              "192: 11m43s - M. Yoshida pass",
              "193: 11m46s - G. Shibasaki pass",
              "194: 11m49s - M. Yoshida pass",
              "195: 12m3s - T. Meunier throw_in",
              "196: 12m5s - A. Witsel pass",
              "197: 12m6s - T. Meunier pass",
              "198: 12m9s - T. Alderweireld pass",
              "199: 12m15s - M. Hasebe pass",
              "200: 12m18s - E. Kawashima pass",
              "201: 12m21s - M. Yoshida dribble",
              "202: 12m23s - M. Yoshida pass",
              "203: 12m29s - M. Hasebe pass",
              "204: 12m32s - E. Kawashima pass",
              "205: 12m34s - Y. Ōsako dribble",
              "206: 12m36s - Y. Ōsako pass",
              "207: 12m37s - T. Inui pass",
              "208: 12m39s - G. Shibasaki pass",
              "209: 12m43s - Y. Nagatomo pass",
              "210: 12m46s - G. Shibasaki pass",
              "211: 12m48s - M. Hasebe pass",
              "212: 13m2s - T. Courtois goalkick",
              "213: 13m5s - J. Vertonghen pass",
              "214: 13m16s - V. Kompany pass",
              "215: 13m17s - K. De Bruyne pass",
              "216: 13m20s - T. Alderweireld pass",
              "217: 13m23s - K. De Bruyne take_on",
              "218: 13m25s - G. Shibasaki pass",
              "219: 13m29s - G. Haraguchi pass",
              "220: 13m31s - M. Hasebe pass",
              "221: 13m36s - Y. Nagatomo pass",
              "222: 13m37s - S. Kagawa pass",
              "223: 13m39s - T. Inui pass",
              "224: 13m41s - M. Hasebe pass",
              "225: 13m42s - T. Inui pass",
              "226: 13m45s - K. De Bruyne pass",
              "227: 13m47s - E. Hazard dribble",
              "228: 13m51s - E. Hazard pass",
              "229: 13m52s - D. Mertens pass",
              "230: 13m58s - G. Haraguchi tackle",
              "231: 14m3s - Y. Carrasco cross",
              "232: 14m4s - G. Haraguchi interception",
              "233: 14m5s - M. Hasebe pass",
              "234: 14m7s - Y. Ōsako dribble",
              "235: 14m8s - Y. Ōsako pass",
              "236: 14m10s - M. Hasebe pass",
              "237: 14m11s - G. Shibasaki pass",
              "238: 14m14s - G. Haraguchi pass",
              "239: 14m17s - V. Kompany foul",
              "240: 14m35s - H. Sakai freekick_short",
              "241: 14m39s - M. Yoshida pass",
              "242: 14m42s - H. Sakai pass",
              "243: 14m47s - T. Courtois interception",
              "244: 14m47s - T. Courtois pass",
              "245: 14m49s - T. Meunier dribble",
              "246: 14m54s - T. Meunier pass",
              "247: 14m59s - K. De Bruyne pass",
              "248: 15m2s - R. Lukaku pass",
              "249: 15m4s - T. Meunier pass",
              "250: 15m8s - E. Hazard dribble",
              "251: 15m12s - E. Hazard pass",
              "252: 15m14s - A. Witsel shot",
              "253: 15m15s - G. Shibasaki interception",
              "254: 15m55s - K. De Bruyne corner_short",
              "255: 15m56s - E. Hazard pass",
              "256: 15m57s - K. De Bruyne cross",
              "257: 16m1s - G. Shōji clearance",
              "258: 16m7s - T. Meunier pass",
              "259: 16m11s - T. Courtois pass",
              "260: 16m18s - K. De Bruyne pass",
              "261: 16m29s - Y. Carrasco pass",
              "262: 16m32s - R. Lukaku dribble",
              "263: 16m35s - R. Lukaku shot",
              "264: 16m36s - M. Hasebe interception",
              "265: 17m15s - K. De Bruyne corner_crossed",
              "266: 17m18s - V. Kompany shot",
              "267: 17m51s - E. Kawashima goalkick",
              "268: 17m58s - J. Vertonghen pass",
              "269: 17m59s - Y. Carrasco pass",
              "270: 18m0s - G. Haraguchi interception",
              "271: 18m0s - G. Haraguchi pass",
              "272: 18m1s - H. Sakai pass",
              "273: 18m2s - A. Witsel interception",
              "274: 18m2s - A. Witsel pass",
              "275: 18m3s - K. De Bruyne pass",
              "276: 18m5s - M. Yoshida pass",
              "277: 18m6s - M. Yoshida dribble",
              "278: 18m7s - M. Yoshida pass",
              "279: 18m17s - Y. Nagatomo pass",
              "280: 18m21s - T. Meunier foul",
              "281: 18m25s - T. Inui freekick_short",
              "282: 18m26s - M. Hasebe pass",
              "283: 18m28s - G. Shōji pass",
              "284: 18m31s - M. Yoshida pass",
              "285: 18m34s - H. Sakai pass",
              "286: 18m36s - G. Shibasaki pass",
              "287: 18m37s - S. Kagawa pass",
              "288: 18m40s - G. Shibasaki pass",
              "289: 18m42s - G. Shōji pass",
              "290: 18m46s - Y. Nagatomo pass",
              "291: 18m47s - T. Inui pass",
              "292: 18m50s - Y. Nagatomo pass",
              "293: 19m4s - T. Courtois goalkick",
              "294: 19m7s - J. Vertonghen dribble",
              "295: 19m11s - J. Vertonghen pass",
              "296: 19m13s - M. Yoshida interception",
              "297: 19m13s - M. Yoshida pass",
              "298: 19m15s - D. Mertens pass",
              "299: 19m18s - A. Witsel pass",
              "300: 19m21s - T. Meunier pass",
              "301: 19m23s - A. Witsel pass",
              "302: 19m23s - K. De Bruyne pass",
              "303: 19m26s - T. Alderweireld pass",
              "304: 19m29s - H. Sakai interception",
              "305: 19m29s - H. Sakai pass",
              "306: 19m33s - M. Yoshida dribble",
              "307: 19m37s - M. Yoshida pass",
              "308: 19m40s - V. Kompany interception",
              "309: 19m40s - V. Kompany pass",
              "310: 19m44s - M. Yoshida clearance",
              "311: 19m59s - Y. Carrasco throw_in",
              "312: 20m0s - E. Hazard pass",
              "313: 20m1s - R. Lukaku pass",
              "314: 20m2s - D. Mertens pass",
              "315: 20m5s - A. Witsel pass",
              "316: 20m6s - D. Mertens pass",
              "317: 20m8s - K. De Bruyne pass",
              "318: 20m10s - D. Mertens pass",
              "319: 20m12s - R. Lukaku shot",
              "320: 20m13s - Y. Nagatomo interception",
              "321: 20m56s - K. De Bruyne corner_short",
              "322: 20m59s - D. Mertens pass",
              "323: 21m1s - V. Kompany pass",
              "324: 21m3s - J. Vertonghen dribble",
              "325: 21m5s - J. Vertonghen cross",
              "326: 21m9s - T. Inui interception",
              "327: 21m9s - T. Inui pass",
              "328: 21m17s - K. De Bruyne throw_in",
              "329: 21m20s - T. Meunier pass",
              "330: 21m23s - K. De Bruyne pass",
              "331: 21m27s - V. Kompany pass",
              "332: 21m31s - T. Alderweireld pass",
              "333: 21m34s - V. Kompany pass",
              "334: 21m36s - A. Witsel pass",
              "335: 21m39s - V. Kompany pass",
              "336: 21m41s - T. Alderweireld pass",
              "337: 21m44s - V. Kompany pass",
              "338: 21m48s - T. Alderweireld pass",
              "339: 21m50s - G. Shōji clearance",
              "340: 22m4s - T. Meunier throw_in",
              "341: 22m6s - R. Lukaku dribble",
              "342: 22m8s - R. Lukaku pass",
              "343: 22m13s - E. Hazard pass",
              "344: 22m17s - Y. Carrasco pass",
              "345: 22m20s - E. Hazard pass",
              "346: 22m24s - A. Witsel pass",
              "347: 22m28s - T. Alderweireld pass",
              "348: 22m32s - V. Kompany pass",
              "349: 22m33s - J. Vertonghen pass",
              "350: 22m36s - V. Kompany pass",
              "351: 22m39s - J. Vertonghen pass",
              "352: 22m41s - Y. Carrasco pass",
              "353: 22m45s - E. Hazard pass",
              "354: 22m47s - A. Witsel pass",
              "355: 22m49s - T. Meunier pass",
              "356: 22m49s - M. Yoshida clearance",
              "357: 22m58s - A. Witsel throw_in",
              "358: 23m0s - T. Alderweireld pass",
              "359: 23m2s - A. Witsel pass",
              "360: 23m5s - V. Kompany pass",
              "361: 23m7s - K. De Bruyne pass",
              "362: 23m9s - V. Kompany pass",
              "363: 23m12s - T. Alderweireld pass",
              "364: 23m15s - V. Kompany pass",
              "365: 23m18s - J. Vertonghen pass",
              "366: 23m22s - V. Kompany pass",
              "367: 23m27s - Y. Ōsako pass",
              "368: 23m28s - G. Haraguchi pass",
              "369: 23m30s - G. Haraguchi dribble",
              "370: 23m31s - G. Haraguchi pass",
              "371: 23m34s - J. Vertonghen interception",
              "372: 23m35s - J. Vertonghen pass",
              "373: 23m36s - D. Mertens pass",
              "374: 23m38s - T. Inui tackle",
              "375: 23m39s - T. Meunier pass",
              "376: 23m45s - R. Lukaku pass",
              "377: 23m48s - Y. Carrasco cross",
              "378: 23m49s - G. Shibasaki pass",
              "379: 23m53s - T. Alderweireld pass",
              "380: 23m55s - K. De Bruyne pass",
              "381: 23m57s - Y. Carrasco pass",
              "382: 24m30s - E. Kawashima goalkick",
              "383: 24m33s - G. Haraguchi dribble",
              "384: 24m36s - G. Haraguchi pass",
              "385: 24m37s - A. Witsel pass",
              "386: 24m38s - K. De Bruyne pass",
              "387: 24m41s - T. Alderweireld dribble",
              "388: 24m44s - T. Alderweireld pass",
              "389: 24m49s - T. Meunier pass",
              "390: 24m51s - A. Witsel pass",
              "391: 24m52s - D. Mertens cross",
              "392: 24m56s - M. Yoshida pass",
              "393: 25m18s - A. Witsel pass",
              "394: 25m20s - V. Kompany pass",
              "395: 25m22s - J. Vertonghen dribble",
              "396: 25m25s - J. Vertonghen pass",
              "397: 25m27s - Y. Carrasco pass",
              "398: 25m32s - E. Hazard pass",
              "399: 25m33s - Y. Carrasco pass",
              "400: 25m36s - J. Vertonghen pass",
              "401: 25m38s - V. Kompany pass",
              "402: 25m42s - T. Alderweireld pass",
              "403: 25m45s - V. Kompany pass",
              "404: 25m46s - A. Witsel pass",
              "405: 25m47s - M. Yoshida interception",
              "406: 25m47s - M. Yoshida pass",
              "407: 25m50s - G. Haraguchi dribble",
              "408: 25m52s - G. Haraguchi pass",
              "409: 25m54s - G. Shibasaki pass",
              "410: 25m56s - V. Kompany pass",
              "411: 26m0s - E. Hazard dribble",
              "412: 26m5s - E. Hazard pass",
              "413: 26m5s - D. Mertens pass",
              "414: 26m7s - K. De Bruyne shot",
              "415: 26m8s - M. Yoshida clearance",
              "416: 26m11s - G. Shōji clearance",
              "417: 26m12s - S. Kagawa pass",
              "418: 26m15s - T. Inui pass",
              "419: 26m18s - Y. Nagatomo pass",
              "420: 26m20s - T. Alderweireld interception",
              "421: 26m20s - T. Alderweireld pass",
              "422: 26m23s - Y. Carrasco pass",
              "423: 26m27s - E. Hazard pass",
              "424: 26m27s - R. Lukaku dribble",
              "425: 26m28s - R. Lukaku pass",
              "426: 26m29s - G. Haraguchi interception",
              "427: 26m29s - G. Haraguchi pass",
              "428: 26m29s - Y. Carrasco pass",
              "429: 26m33s - E. Hazard shot",
              "430: 26m34s - E. Kawashima keeper_save",
              "431: 26m42s - E. Hazard throw_in",
              "432: 26m44s - K. De Bruyne pass",
              "433: 26m47s - E. Hazard pass",
              "434: 26m49s - Y. Carrasco dribble",
              "435: 26m51s - Y. Carrasco pass",
              "436: 26m55s - E. Hazard pass",
              "437: 26m58s - A. Witsel pass",
              "438: 27m0s - D. Mertens dribble",
              "439: 27m2s - D. Mertens pass",
              "440: 27m3s - M. Yoshida clearance",
              "441: 27m26s - K. De Bruyne cross",
              "442: 27m27s - V. Kompany shot",
              "443: 27m31s - E. Hazard dribble",
              "444: 27m34s - E. Hazard cross",
              "445: 27m35s - M. Hasebe clearance",
              "446: 27m40s - T. Meunier pass",
              "447: 27m41s - K. De Bruyne pass",
              "448: 27m44s - T. Meunier pass",
              "449: 27m49s - D. Mertens cross",
              "450: 27m55s - T. Meunier foul",
              "451: 28m29s - E. Kawashima freekick_short",
              "452: 28m34s - M. Yoshida pass",
              "453: 28m38s - V. Kompany foul",
              "454: 28m44s - S. Kagawa freekick_short",
              "455: 28m46s - M. Hasebe pass",
              "456: 28m47s - G. Shōji pass",
              "457: 28m54s - T. Meunier pass",
              "458: 28m59s - T. Alderweireld pass",
              "459: 29m2s - V. Kompany pass",
              "460: 29m6s - J. Vertonghen pass",
              "461: 29m9s - Y. Carrasco pass",
              "462: 29m12s - J. Vertonghen pass",
              "463: 29m17s - T. Alderweireld dribble",
              "464: 29m22s - T. Alderweireld pass",
              "465: 29m25s - Y. Nagatomo interception",
              "466: 29m25s - Y. Nagatomo pass",
              "467: 29m30s - Y. Nagatomo dribble",
              "468: 29m35s - Y. Nagatomo throw_in",
              "469: 29m39s - M. Hasebe pass",
              "470: 29m42s - H. Sakai dribble",
              "471: 29m45s - H. Sakai pass",
              "472: 29m46s - G. Haraguchi pass",
              "473: 29m48s - H. Sakai pass",
              "474: 29m51s - M. Yoshida pass",
              "475: 29m53s - G. Shōji pass",
              "476: 29m57s - Y. Nagatomo pass",
              "477: 30m0s - S. Kagawa dribble",
              "478: 30m2s - S. Kagawa pass",
              "479: 30m3s - T. Inui pass",
              "480: 30m5s - K. De Bruyne interception",
              "481: 30m5s - K. De Bruyne pass",
              "482: 30m6s - Y. Ōsako interception",
              "483: 30m6s - Y. Ōsako pass",
              "484: 30m8s - E. Hazard interception",
              "485: 30m9s - M. Hasebe pass",
              "486: 30m12s - H. Sakai pass",
              "487: 30m13s - V. Kompany interception",
              "488: 30m13s - V. Kompany pass",
              "489: 30m16s - H. Sakai pass",
              "490: 30m17s - G. Haraguchi pass",
              "491: 30m18s - G. Shibasaki pass",
              "492: 30m18s - G. Haraguchi dribble",
              "493: 30m19s - G. Haraguchi pass",
              "494: 30m21s - M. Yoshida pass",
              "495: 30m24s - S. Kagawa take_on",
              "496: 30m26s - S. Kagawa dribble",
              "497: 30m29s - S. Kagawa pass",
              "498: 30m31s - Y. Nagatomo cross",
              "499: 30m32s - T. Inui shot",
              "500: 30m34s - T. Courtois keeper_save",
              "501: 30m35s - T. Courtois dribble",
              "502: 30m35s - T. Courtois pass",
              "503: 30m37s - K. De Bruyne pass",
              "504: 30m39s - M. Yoshida pass",
              "505: 30m43s - G. Shibasaki pass",
              "506: 30m44s - M. Yoshida pass",
              "507: 30m50s - G. Shōji pass",
              "508: 30m53s - S. Kagawa pass",
              "509: 30m56s - T. Inui pass",
              "510: 30m59s - Y. Nagatomo pass",
              "511: 31m3s - S. Kagawa pass",
              "512: 31m5s - Y. Nagatomo pass",
              "513: 31m8s - G. Shōji pass",
              "514: 31m11s - M. Yoshida pass",
              "515: 31m13s - H. Sakai pass",
              "516: 31m14s - G. Haraguchi pass",
              "517: 31m14s - H. Sakai pass",
              "518: 31m17s - A. Witsel pass",
              "519: 31m19s - J. Vertonghen pass",
              "520: 31m23s - T. Alderweireld pass",
              "521: 31m23s - V. Kompany pass",
              "522: 31m26s - T. Alderweireld pass",
              "523: 31m32s - J. Vertonghen pass",
              "524: 31m36s - T. Alderweireld pass",
              "525: 31m40s - V. Kompany pass",
              "526: 31m43s - Y. Carrasco pass",
              "527: 31m44s - R. Lukaku pass",
              "528: 31m45s - M. Hasebe pass",
              "529: 31m47s - K. De Bruyne interception",
              "530: 31m47s - G. Shōji pass",
              "531: 31m51s - M. Hasebe pass",
              "532: 31m55s - G. Shibasaki pass",
              "533: 31m55s - G. Haraguchi pass",
              "534: 31m58s - H. Sakai pass",
              "535: 32m3s - S. Kagawa pass",
              "536: 32m4s - G. Shibasaki pass",
              "537: 32m8s - S. Kagawa pass",
              "538: 32m12s - Y. Nagatomo dribble",
              "539: 32m16s - Y. Nagatomo pass",
              "540: 32m18s - T. Inui pass",
              "541: 32m21s - M. Hasebe pass",
              "542: 32m24s - G. Shibasaki cross",
              "543: 32m44s - T. Courtois goalkick",
              "544: 32m45s - T. Alderweireld pass",
              "545: 32m47s - T. Courtois pass",
              "546: 32m51s - J. Vertonghen pass",
              "547: 32m52s - T. Courtois pass",
              "548: 32m55s - R. Lukaku dribble",
              "549: 32m58s - R. Lukaku pass",
              "550: 32m59s - M. Yoshida pass",
              "551: 33m0s - G. Shōji pass",
              "552: 33m2s - G. Shibasaki pass",
              "553: 33m4s - M. Yoshida pass",
              "554: 33m7s - H. Sakai pass",
              "555: 33m9s - S. Kagawa pass",
              "556: 33m12s - Y. Ōsako pass",
              "557: 33m15s - H. Sakai pass",
              "558: 33m18s - M. Yoshida pass",
              "559: 33m22s - G. Shōji dribble",
              "560: 33m26s - G. Shōji pass",
              "561: 33m30s - T. Inui pass",
              "562: 33m32s - S. Kagawa pass",
              "563: 33m33s - G. Shōji pass",
              "564: 33m36s - S. Kagawa pass",
              "565: 33m41s - T. Courtois interception",
              "566: 33m46s - T. Courtois pass",
              "567: 33m47s - V. Kompany pass",
              "568: 33m53s - A. Witsel pass",
              "569: 33m56s - J. Vertonghen pass",
              "570: 33m58s - Y. Carrasco pass",
              "571: 34m5s - E. Hazard pass",
              "572: 34m6s - K. De Bruyne pass",
              "573: 34m10s - Y. Carrasco pass",
              "574: 34m13s - K. De Bruyne pass",
              "575: 34m15s - E. Hazard pass",
              "576: 34m17s - Y. Carrasco pass",
              "577: 34m19s - G. Shōji clearance",
              "578: 34m22s - G. Shibasaki pass",
              "579: 34m24s - Y. Ōsako pass",
              "580: 34m27s - S. Kagawa pass",
              "581: 34m29s - G. Shibasaki pass",
              "582: 34m37s - T. Inui pass",
              "583: 34m40s - T. Meunier clearance",
              "584: 34m44s - M. Yoshida pass",
              "585: 34m49s - E. Kawashima pass",
              "586: 34m54s - M. Yoshida pass",
              "587: 34m56s - M. Hasebe pass",
              "588: 34m59s - M. Yoshida pass",
              "589: 35m5s - G. Shibasaki pass",
              "590: 35m7s - G. Shōji pass",
              "591: 35m9s - T. Inui pass",
              "592: 35m11s - Y. Nagatomo pass",
              "593: 35m12s - T. Inui pass",
              "594: 35m15s - G. Shōji pass",
              "595: 35m18s - G. Shibasaki pass",
              "596: 35m23s - H. Sakai pass",
              "597: 35m28s - M. Yoshida pass",
              "598: 35m30s - G. Shōji pass",
              "599: 35m32s - A. Witsel pass",
              "600: 35m33s - D. Mertens pass",
              "601: 35m37s - E. Hazard shot",
              "602: 35m38s - M. Yoshida interception",
              "603: 35m42s - K. De Bruyne pass",
              "604: 35m44s - A. Witsel shot",
              "605: 36m14s - E. Kawashima goalkick",
              "606: 36m20s - T. Alderweireld pass",
              "607: 36m22s - T. Meunier pass",
              "608: 36m24s - A. Witsel pass",
              "609: 36m26s - T. Meunier pass",
              "610: 36m27s - D. Mertens pass",
              "611: 36m28s - A. Witsel pass",
              "612: 36m34s - E. Kawashima pass",
              "613: 36m38s - G. Shōji pass",
              "614: 36m41s - Y. Nagatomo pass",
              "615: 36m43s - G. Shōji pass",
              "616: 36m45s - G. Shibasaki pass",
              "617: 36m49s - M. Yoshida pass",
              "618: 36m51s - E. Kawashima pass",
              "619: 36m57s - J. Vertonghen pass",
              "620: 37m1s - E. Hazard pass",
              "621: 37m3s - G. Shōji clearance",
              "622: 37m32s - K. De Bruyne corner_crossed",
              "623: 37m35s - M. Yoshida clearance",
              "624: 37m43s - A. Witsel throw_in",
              "625: 37m46s - T. Meunier dribble",
              "626: 37m49s - T. Meunier pass",
              "627: 37m53s - A. Witsel pass",
              "628: 37m55s - T. Alderweireld pass",
              "629: 37m57s - V. Kompany pass",
              "630: 38m1s - K. De Bruyne pass",
              "631: 38m5s - E. Hazard pass",
              "632: 38m7s - Y. Carrasco dribble",
              "633: 38m9s - Y. Carrasco cross",
              "634: 38m33s - Y. Nagatomo throw_in",
              "635: 38m34s - M. Hasebe pass",
              "636: 38m37s - Y. Nagatomo pass",
              "637: 38m38s - G. Shōji pass",
              "638: 38m45s - V. Kompany pass",
              "639: 38m50s - J. Vertonghen pass",
              "640: 38m51s - V. Kompany pass",
              "641: 38m52s - K. De Bruyne pass",
              "642: 38m54s - V. Kompany pass",
              "643: 38m56s - J. Vertonghen pass",
              "644: 38m58s - V. Kompany pass",
              "645: 38m59s - G. Shibasaki dribble",
              "646: 39m5s - E. Hazard take_on",
              "647: 39m6s - G. Shibasaki tackle",
              "648: 39m8s - G. Shibasaki foul",
              "649: 40m35s - K. De Bruyne freekick_crossed",
              "650: 40m37s - M. Yoshida clearance",
              "651: 40m39s - Y. Carrasco pass",
              "652: 40m44s - E. Hazard pass",
              "653: 40m47s - G. Haraguchi take_on",
              "654: 40m51s - Y. Carrasco pass",
              "655: 40m59s - E. Hazard cross",
              "656: 41m0s - G. Shibasaki clearance",
              "657: 41m5s - K. De Bruyne throw_in",
              "658: 41m7s - J. Vertonghen pass",
              "659: 41m8s - K. De Bruyne pass",
              "660: 41m12s - V. Kompany pass",
              "661: 41m15s - T. Alderweireld pass",
              "662: 41m18s - A. Witsel pass",
              "663: 41m20s - R. Lukaku pass",
              "664: 41m21s - M. Yoshida pass",
              "665: 41m26s - K. De Bruyne pass",
              "666: 41m28s - Y. Carrasco cross",
              "667: 41m30s - Y. Nagatomo interception",
              "668: 41m30s - Y. Nagatomo pass",
              "669: 41m35s - T. Inui pass",
              "670: 41m37s - A. Witsel interception",
              "671: 41m37s - A. Witsel pass",
              "672: 41m58s - Y. Nagatomo throw_in",
              "673: 42m1s - Y. Ōsako pass",
              "674: 42m4s - M. Hasebe pass",
              "675: 42m6s - Y. Nagatomo pass",
              "676: 42m8s - G. Shōji pass",
              "677: 42m17s - Y. Carrasco throw_in",
              "678: 42m18s - J. Vertonghen pass",
              "679: 42m20s - V. Kompany pass",
              "680: 42m22s - J. Vertonghen pass",
              "681: 42m25s - V. Kompany pass",
              "682: 42m29s - J. Vertonghen pass",
              "683: 42m31s - K. De Bruyne dribble",
              "684: 42m34s - K. De Bruyne tackle",
              "685: 42m36s - T. Alderweireld pass",
              "686: 42m41s - T. Meunier pass",
              "687: 42m42s - D. Mertens pass",
              "688: 42m43s - E. Hazard pass",
              "689: 42m43s - H. Sakai interception",
              "690: 42m43s - H. Sakai pass",
              "691: 42m46s - G. Shōji dribble",
              "692: 42m49s - G. Shōji pass",
              "693: 42m53s - J. Vertonghen pass",
              "694: 42m57s - E. Hazard pass",
              "695: 43m3s - K. De Bruyne pass",
              "696: 43m3s - T. Inui interception",
              "697: 43m5s - Y. Nagatomo clearance",
              "698: 43m19s - T. Meunier throw_in",
              "699: 43m23s - M. Hasebe pass",
              "700: 43m25s - Y. Ōsako dribble",
              "701: 43m26s - Y. Ōsako pass",
              "702: 43m28s - G. Shibasaki pass",
              "703: 43m32s - G. Haraguchi pass",
              "704: 43m34s - H. Sakai pass",
              "705: 43m34s - G. Haraguchi dribble",
              "706: 43m37s - G. Haraguchi pass",
              "707: 43m39s - S. Kagawa pass",
              "708: 43m44s - T. Inui pass",
              "709: 43m47s - Y. Nagatomo dribble",
              "710: 43m50s - Y. Nagatomo cross",
              "711: 43m53s - T. Courtois keeper_save",
              "712: 43m54s - T. Courtois pass",
              "713: 44m9s - T. Alderweireld pass",
              "714: 44m12s - T. Meunier pass",
              "715: 44m14s - R. Lukaku dribble",
              "716: 44m16s - R. Lukaku foul",
              "717: 44m25s - G. Shōji freekick_short",
              "718: 44m29s - M. Yoshida pass",
              "719: 44m37s - T. Inui take_on",
              "720: 44m59s - T. Courtois goalkick",
              "721: 45m1s - V. Kompany pass",
              "722: 45m3s - D. Mertens pass",
              "723: 45m4s - V. Kompany pass",
              "724: 45m10s - E. Hazard pass",
              "725: 45m12s - D. Mertens dribble",
              "726: 45m14s - D. Mertens pass",
              "727: 45m14s - M. Yoshida pass",
              "728: 45m20s - A. Witsel pass",
              "729: 45m22s - T. Alderweireld pass",
              "730: 45m24s - V. Kompany pass",
              "731: 45m27s - J. Vertonghen pass",
              "732: 45m29s - T. Alderweireld pass",
              "733: 45m32s - A. Witsel pass",
              "734: 45m34s - T. Alderweireld pass",
              "735: 45m36s - V. Kompany pass",
              "736: 45m39s - J. Vertonghen pass",
              "737: 45m41s - Y. Carrasco pass",
              "738: 45m44s - E. Hazard pass",
              "739: 45m45s - D. Mertens pass",
              "740: 46m3s - G. Shibasaki pass",
              "741: 46m7s - G. Shōji pass",
              "742: 46m10s - M. Hasebe pass",
              "743: 45m1s - S. Kagawa pass",
              "744: 45m4s - M. Hasebe pass",
              "745: 45m7s - H. Sakai pass",
              "746: 45m9s - G. Haraguchi take_on",
              "747: 45m11s - Y. Carrasco foul",
              "748: 45m22s - H. Sakai freekick_short",
              "749: 45m26s - G. Shōji pass",
              "750: 45m28s - T. Inui dribble",
              "751: 45m31s - T. Inui pass",
              "752: 45m42s - T. Courtois goalkick",
              "753: 45m45s - J. Vertonghen dribble",
              "754: 45m48s - J. Vertonghen pass",
              "755: 45m52s - Y. Nagatomo foul",
              "756: 46m10s - K. De Bruyne freekick_short",
              "757: 46m11s - T. Alderweireld pass",
              "758: 46m13s - V. Kompany pass",
              "759: 46m15s - J. Vertonghen pass",
              "760: 46m19s - K. De Bruyne pass",
              "761: 46m22s - H. Sakai pass",
              "762: 46m27s - E. Kawashima pass",
              "763: 46m33s - Y. Carrasco pass",
              "764: 46m35s - M. Yoshida interception",
              "765: 46m35s - M. Yoshida pass",
              "766: 46m40s - E. Kawashima pass",
              "767: 46m44s - J. Vertonghen pass",
              "768: 46m45s - Y. Carrasco pass",
              "769: 46m49s - E. Hazard dribble",
              "770: 46m52s - E. Hazard pass",
              "771: 46m53s - R. Lukaku pass",
              "772: 46m56s - E. Hazard dribble",
              "773: 46m59s - E. Hazard pass",
              "774: 47m2s - A. Witsel pass",
              "775: 47m6s - T. Meunier pass",
              "776: 47m8s - D. Mertens pass",
              "777: 47m11s - T. Inui interception",
              "778: 47m11s - T. Inui pass",
              "779: 47m14s - G. Shibasaki pass",
              "780: 47m17s - J. Vertonghen interception",
              "781: 47m19s - G. Haraguchi shot",
              "782: 48m23s - Y. Carrasco pass",
              "783: 48m24s - K. De Bruyne pass",
              "784: 48m28s - V. Kompany pass",
              "785: 48m31s - T. Meunier pass",
              "786: 48m34s - A. Witsel pass",
              "787: 48m36s - T. Alderweireld pass",
              "788: 48m38s - V. Kompany pass",
              "789: 48m40s - T. Alderweireld pass",
              "790: 48m43s - A. Witsel pass",
              "791: 48m45s - T. Meunier pass",
              "792: 48m47s - D. Mertens pass",
              "793: 48m49s - E. Hazard shot",
              "794: 48m52s - G. Haraguchi clearance",
              "795: 48m59s - Y. Carrasco throw_in",
              "796: 49m1s - K. De Bruyne pass",
              "797: 49m4s - E. Hazard pass",
              "798: 49m6s - K. De Bruyne pass",
              "799: 49m9s - A. Witsel pass",
              "800: 49m12s - T. Alderweireld pass",
              "801: 49m16s - M. Hasebe tackle",
              "802: 49m16s - T. Meunier pass",
              "803: 49m19s - T. Alderweireld pass",
              "804: 49m21s - T. Meunier pass",
              "805: 49m23s - T. Alderweireld pass",
              "806: 49m24s - Y. Nagatomo interception",
              "807: 49m24s - Y. Nagatomo pass",
              "808: 49m25s - T. Inui pass",
              "809: 49m27s - G. Shōji pass",
              "810: 49m30s - M. Hasebe pass",
              "811: 49m32s - S. Kagawa pass",
              "812: 49m36s - Y. Ōsako take_on",
              "813: 49m42s - Y. Ōsako pass",
              "814: 49m45s - T. Inui pass",
              "815: 49m49s - M. Hasebe pass",
              "816: 49m52s - H. Sakai pass",
              "817: 50m10s - T. Courtois goalkick",
              "818: 50m12s - V. Kompany dribble",
              "819: 50m14s - V. Kompany pass",
              "820: 50m18s - T. Alderweireld pass",
              "821: 50m21s - V. Kompany pass",
              "822: 50m24s - J. Vertonghen pass",
              "823: 50m26s - V. Kompany pass",
              "824: 50m29s - A. Witsel pass",
              "825: 50m32s - T. Meunier dribble",
              "826: 50m34s - T. Meunier cross",
              "827: 50m39s - E. Kawashima pass",
              "828: 50m40s - M. Hasebe pass",
              "829: 50m41s - G. Haraguchi pass",
              "830: 50m44s - Y. Nagatomo pass",
              "831: 50m49s - T. Inui pass",
              "832: 50m50s - G. Shibasaki pass",
              "833: 50m56s - Y. Nagatomo pass",
              "834: 50m59s - G. Shibasaki pass",
              "835: 51m2s - H. Sakai pass",
              "836: 51m4s - M. Hasebe pass",
              "837: 51m6s - M. Yoshida pass",
              "838: 51m7s - S. Kagawa pass",
              "839: 51m8s - G. Shibasaki pass",
              "840: 51m10s - S. Kagawa pass",
              "841: 51m14s - T. Meunier pass",
              "842: 51m17s - D. Mertens pass",
              "843: 51m21s - M. Yoshida pass",
              "844: 51m24s - T. Inui dribble",
              "845: 51m27s - T. Inui pass",
              "846: 51m29s - V. Kompany clearance",
              "847: 51m32s - S. Kagawa pass",
              "848: 51m35s - T. Inui shot",
              "849: 52m43s - T. Alderweireld pass",
              "850: 52m43s - V. Kompany pass",
              "851: 52m47s - T. Alderweireld pass",
              "852: 52m49s - T. Meunier pass",
              "853: 52m52s - T. Alderweireld pass",
              "854: 52m57s - V. Kompany pass",
              "855: 53m2s - T. Alderweireld pass",
              "856: 53m5s - V. Kompany pass",
              "857: 53m9s - T. Alderweireld pass",
              "858: 53m12s - J. Vertonghen pass",
              "859: 53m17s - Y. Carrasco pass",
              "860: 53m18s - E. Hazard pass",
              "861: 53m20s - D. Mertens pass",
              "862: 53m22s - A. Witsel pass",
              "863: 53m27s - T. Meunier pass",
              "864: 53m45s - E. Kawashima pass",
              "865: 53m47s - A. Witsel interception",
              "866: 53m47s - A. Witsel pass",
              "867: 53m47s - K. De Bruyne pass",
              "868: 53m48s - A. Witsel pass",
              "869: 53m50s - J. Vertonghen pass",
              "870: 54m11s - E. Kawashima pass",
              "871: 54m15s - J. Vertonghen pass",
              "872: 54m16s - G. Shibasaki pass",
              "873: 54m17s - Y. Ōsako pass",
              "874: 54m19s - A. Witsel interception",
              "875: 54m19s - A. Witsel pass",
              "876: 54m20s - Y. Carrasco pass",
              "877: 54m22s - A. Witsel dribble",
              "878: 54m23s - A. Witsel pass",
              "879: 54m28s - T. Courtois pass",
              "880: 54m30s - G. Shōji pass",
              "881: 54m31s - M. Hasebe pass",
              "882: 54m33s - G. Shibasaki pass",
              "883: 54m35s - T. Inui pass",
              "884: 54m38s - S. Kagawa take_on",
              "885: 54m39s - S. Kagawa pass",
              "886: 54m44s - A. Witsel pass",
              "887: 54m46s - K. De Bruyne dribble",
              "888: 54m47s - K. De Bruyne pass",
              "889: 54m48s - M. Hasebe interception",
              "890: 54m49s - M. Yoshida pass",
              "891: 55m2s - T. Meunier throw_in",
              "892: 55m4s - T. Alderweireld pass",
              "893: 55m8s - T. Meunier pass",
              "894: 55m12s - T. Courtois pass",
              "895: 55m13s - V. Kompany dribble",
              "896: 55m14s - V. Kompany pass",
              "897: 55m28s - H. Sakai throw_in",
              "898: 55m31s - V. Kompany pass",
              "899: 55m34s - M. Yoshida pass",
              "900: 55m38s - E. Kawashima pass",
              "901: 55m43s - Y. Nagatomo pass",
              "902: 55m46s - G. Shōji pass",
              "903: 55m48s - V. Kompany pass",
              "904: 55m50s - A. Witsel dribble",
              "905: 55m52s - A. Witsel pass",
              "906: 55m53s - R. Lukaku dribble",
              "907: 55m54s - R. Lukaku pass",
              "908: 55m55s - A. Witsel pass",
              "909: 55m56s - K. De Bruyne pass",
              "910: 56m4s - E. Hazard pass",
              "911: 56m6s - Y. Carrasco shot",
              "912: 56m55s - E. Kawashima goalkick",
              "913: 57m0s - G. Haraguchi dribble",
              "914: 57m4s - G. Haraguchi pass",
              "915: 57m6s - S. Kagawa pass",
              "916: 57m8s - J. Vertonghen interception",
              "917: 57m33s - H. Sakai throw_in",
              "918: 57m34s - G. Shibasaki pass",
              "919: 57m36s - H. Sakai take_on",
              "920: 57m38s - H. Sakai take_on",
              "921: 57m39s - Y. Carrasco pass",
              "922: 57m43s - G. Shibasaki foul",
              "923: 57m54s - J. Vertonghen freekick_short",
              "924: 57m57s - T. Courtois pass",
              "925: 58m1s - T. Alderweireld dribble",
              "926: 58m5s - T. Alderweireld pass",
              "927: 58m6s - V. Kompany pass",
              "928: 58m9s - J. Vertonghen pass",
              "929: 58m12s - V. Kompany pass",
              "930: 58m13s - H. Sakai interception",
              "931: 58m13s - H. Sakai pass",
              "932: 58m15s - G. Haraguchi pass",
              "933: 58m15s - G. Shibasaki pass",
              "934: 58m17s - G. Haraguchi pass",
              "935: 58m19s - S. Kagawa dribble",
              "936: 58m22s - S. Kagawa pass",
              "937: 58m26s - Y. Nagatomo pass",
              "938: 58m28s - T. Inui pass",
              "939: 58m32s - G. Shōji pass",
              "940: 58m34s - G. Shibasaki pass",
              "941: 58m35s - Y. Ōsako pass",
              "942: 58m40s - G. Haraguchi cross",
              "943: 58m42s - A. Witsel clearance",
              "944: 59m31s - G. Shibasaki corner_crossed",
              "945: 59m34s - R. Lukaku clearance",
              "946: 59m37s - R. Lukaku pass",
              "947: 59m38s - T. Meunier pass",
              "948: 60m14s - E. Kawashima goalkick",
              "949: 60m24s - J. Vertonghen pass",
              "950: 60m28s - M. Yoshida clearance",
              "951: 60m36s - T. Courtois pass",
              "952: 60m38s - V. Kompany pass",
              "953: 60m42s - T. Alderweireld pass",
              "954: 60m44s - V. Kompany pass",
              "955: 60m46s - T. Alderweireld pass",
              "956: 60m48s - V. Kompany pass",
              "957: 60m49s - A. Witsel pass",
              "958: 60m51s - V. Kompany pass",
              "959: 60m55s - J. Vertonghen pass",
              "960: 60m59s - V. Kompany pass",
              "961: 61m1s - J. Vertonghen pass",
              "962: 61m5s - V. Kompany pass",
              "963: 61m7s - T. Alderweireld pass",
              "964: 61m10s - E. Hazard pass",
              "965: 61m12s - K. De Bruyne pass",
              "966: 61m13s - M. Hasebe pass",
              "967: 61m14s - H. Sakai pass",
              "968: 61m21s - T. Meunier throw_in",
              "969: 61m23s - E. Hazard pass",
              "970: 61m24s - Y. Nagatomo interception",
              "971: 61m24s - Y. Nagatomo pass",
              "972: 61m31s - A. Witsel throw_in",
              "973: 61m32s - T. Meunier pass",
              "974: 61m34s - A. Witsel pass",
              "975: 61m37s - E. Hazard pass",
              "976: 61m38s - R. Lukaku pass",
              "977: 61m41s - D. Mertens pass",
              "978: 61m43s - T. Meunier cross",
              "979: 61m44s - R. Lukaku shot",
              "980: 62m19s - E. Kawashima goalkick",
              "981: 62m25s - Y. Carrasco throw_in",
              "982: 62m29s - J. Vertonghen dribble",
              "983: 62m33s - J. Vertonghen throw_in",
              "984: 62m37s - V. Kompany pass",
              "985: 62m40s - T. Courtois pass",
              "986: 62m42s - T. Alderweireld pass",
              "987: 62m44s - V. Kompany pass",
              "988: 62m47s - K. De Bruyne pass",
              "989: 62m51s - V. Kompany pass",
              "990: 62m57s - T. Alderweireld pass",
              "991: 62m58s - A. Witsel pass",
              "992: 63m1s - T. Meunier pass",
              "993: 63m6s - T. Alderweireld pass",
              "994: 63m11s - T. Meunier pass",
              "995: 63m11s - G. Shibasaki interception",
              "996: 63m11s - G. Shibasaki pass",
              "997: 63m14s - T. Meunier pass",
              "998: 63m15s - D. Mertens pass",
              "999: 63m20s - E. Hazard pass",
              "1000: 63m22s - M. Hasebe interception",
              "1001: 63m22s - M. Hasebe pass",
              "1002: 63m26s - T. Inui pass",
              "1003: 63m29s - J. Vertonghen pass",
              "1004: 63m33s - S. Kagawa pass",
              "1005: 63m39s - Y. Ōsako cross",
              "1006: 63m40s - V. Kompany clearance",
              "1007: 63m44s - Y. Ōsako pass",
              "1008: 63m45s - M. Hasebe pass",
              "1009: 63m49s - G. Shōji pass",
              "1010: 63m53s - H. Sakai pass",
              "1011: 63m54s - S. Kagawa pass",
              "1012: 63m58s - H. Sakai cross",
              "1013: 63m59s - G. Haraguchi shot",
              "1014: 63m59s - T. Courtois clearance",
              "1015: 64m39s - T. Courtois goalkick",
              "1016: 64m41s - J. Vertonghen pass",
              "1017: 64m42s - N. Chadli pass",
              "1018: 64m44s - J. Vertonghen pass",
              "1019: 64m46s - A. Witsel dribble",
              "1020: 64m49s - A. Witsel pass",
              "1021: 64m52s - T. Meunier pass",
              "1022: 64m55s - M. Fellaini pass",
              "1023: 64m57s - T. Meunier pass",
              "1024: 64m59s - M. Fellaini dribble",
              "1025: 65m0s - M. Fellaini pass",
              "1026: 65m2s - E. Hazard pass",
              "1027: 65m4s - T. Meunier pass",
              "1028: 65m5s - E. Hazard pass",
              "1029: 65m7s - T. Meunier shot",
              "1030: 65m36s - E. Kawashima goalkick",
              "1031: 65m40s - N. Chadli foul",
              "1032: 66m6s - M. Yoshida freekick_short",
              "1033: 66m10s - T. Meunier interception",
              "1034: 66m33s - T. Inui corner_short",
              "1035: 66m35s - S. Kagawa pass",
              "1036: 66m37s - T. Inui cross",
              "1037: 66m52s - T. Courtois goalkick",
              "1038: 66m55s - V. Kompany pass",
              "1039: 66m58s - J. Vertonghen pass",
              "1040: 67m1s - V. Kompany pass",
              "1041: 67m4s - T. Alderweireld pass",
              "1042: 67m6s - V. Kompany pass",
              "1043: 67m22s - J. Vertonghen throw_in",
              "1044: 67m23s - E. Hazard dribble",
              "1045: 67m25s - E. Hazard pass",
              "1046: 67m26s - H. Sakai pass",
              "1047: 67m28s - M. Hasebe pass",
              "1048: 67m29s - M. Yoshida pass",
              "1049: 67m32s - G. Shōji pass",
              "1050: 67m36s - Y. Nagatomo pass",
              "1051: 67m38s - S. Kagawa pass",
              "1052: 67m40s - M. Hasebe pass",
              "1053: 67m43s - E. Hazard pass",
              "1054: 67m44s - S. Kagawa clearance",
              "1055: 67m51s - N. Chadli throw_in",
              "1056: 67m52s - E. Hazard pass",
              "1057: 67m54s - A. Witsel pass",
              "1058: 67m56s - T. Alderweireld pass",
              "1059: 67m58s - M. Fellaini pass",
              "1060: 67m59s - T. Meunier cross",
              "1061: 68m0s - R. Lukaku shot",
              "1062: 68m1s - M. Yoshida interception",
              "1063: 68m22s - T. Meunier throw_in",
              "1064: 68m24s - E. Hazard pass",
              "1065: 68m25s - T. Meunier pass",
              "1066: 68m28s - M. Hasebe clearance",
              "1067: 68m44s - K. De Bruyne corner_crossed",
              "1068: 68m50s - T. Inui clearance",
              "1069: 68m54s - J. Vertonghen shot",
              "1070: 69m43s - S. Kagawa pass",
              "1071: 69m45s - M. Hasebe pass",
              "1072: 69m48s - Y. Nagatomo pass",
              "1073: 69m49s - T. Inui pass",
              "1074: 69m49s - G. Shibasaki pass",
              "1075: 69m52s - T. Inui pass",
              "1076: 69m56s - M. Yoshida pass",
              "1077: 70m4s - Y. Ōsako foul",
              "1078: 70m15s - J. Vertonghen freekick_short",
              "1079: 70m29s - K. De Bruyne pass",
              "1080: 70m31s - J. Vertonghen pass",
              "1081: 70m33s - E. Hazard pass",
              "1082: 70m36s - J. Vertonghen pass",
              "1083: 70m38s - V. Kompany pass",
              "1084: 70m43s - T. Alderweireld pass",
              "1085: 70m47s - E. Hazard pass",
              "1086: 70m48s - T. Inui interception",
              "1087: 70m48s - T. Inui pass",
              "1088: 70m50s - G. Shōji pass",
              "1089: 70m54s - S. Kagawa pass",
              "1090: 70m54s - T. Inui pass",
              "1091: 70m57s - M. Yoshida pass",
              "1092: 70m59s - Y. Nagatomo pass",
              "1093: 71m1s - G. Shibasaki pass",
              "1094: 71m4s - Y. Nagatomo pass",
              "1095: 71m6s - G. Shibasaki pass",
              "1096: 71m10s - M. Yoshida pass",
              "1097: 71m15s - E. Kawashima pass",
              "1098: 71m18s - G. Shibasaki dribble",
              "1099: 71m21s - G. Shibasaki pass",
              "1100: 71m27s - T. Inui pass",
              "1101: 71m29s - Y. Nagatomo cross",
              "1102: 71m31s - T. Alderweireld clearance",
              "1103: 71m54s - G. Shibasaki corner_short",
              "1104: 71m57s - S. Kagawa pass",
              "1105: 71m59s - N. Chadli take_on",
              "1106: 72m1s - N. Chadli dribble",
              "1107: 72m2s - N. Chadli dribble",
              "1108: 72m4s - N. Chadli take_on",
              "1109: 72m7s - N. Chadli pass",
              "1110: 72m10s - K. De Bruyne pass",
              "1111: 72m16s - E. Hazard pass",
              "1112: 72m17s - K. De Bruyne dribble",
              "1113: 72m18s - K. De Bruyne shot",
              "1114: 72m19s - G. Shōji interception",
              "1115: 73m11s - E. Hazard corner_crossed",
              "1116: 73m13s - A. Witsel dribble",
              "1117: 73m15s - A. Witsel pass",
              "1118: 73m17s - K. De Bruyne pass",
              "1119: 73m19s - E. Hazard dribble",
              "1120: 73m22s - E. Hazard cross",
              "1121: 73m25s - M. Fellaini shot",
              "1122: 74m17s - M. Yoshida pass",
              "1123: 74m20s - Y. Nagatomo pass",
              "1124: 74m21s - G. Shibasaki pass",
              "1125: 74m22s - Y. Nagatomo pass",
              "1126: 74m23s - S. Kagawa pass",
              "1127: 74m27s - Y. Nagatomo pass",
              "1128: 74m28s - M. Fellaini interception",
              "1129: 74m29s - Y. Nagatomo pass",
              "1130: 74m31s - G. Shōji pass",
              "1131: 74m39s - N. Chadli throw_in",
              "1132: 74m40s - K. De Bruyne pass",
              "1133: 74m42s - J. Vertonghen pass",
              "1134: 74m44s - V. Kompany pass",
              "1135: 74m47s - T. Alderweireld pass",
              "1136: 74m50s - S. Kagawa pass",
              "1137: 74m53s - T. Meunier tackle",
              "1138: 74m53s - T. Inui shot",
              "1139: 74m55s - T. Alderweireld interception",
              "1140: 74m55s - Y. Nagatomo cross",
              "1141: 75m16s - J. Vertonghen throw_in",
              "1142: 75m21s - M. Yoshida pass",
              "1143: 75m24s - E. Kawashima pass",
              "1144: 75m27s - G. Shōji pass",
              "1145: 75m30s - G. Shibasaki pass",
              "1146: 75m45s - T. Courtois goalkick",
              "1147: 75m48s - T. Alderweireld pass",
              "1148: 75m52s - A. Witsel pass",
              "1149: 75m54s - V. Kompany pass",
              "1150: 75m57s - J. Vertonghen pass",
              "1151: 76m0s - V. Kompany pass",
              "1152: 76m3s - J. Vertonghen pass",
              "1153: 76m4s - V. Kompany pass",
              "1154: 76m7s - M. Hasebe foul",
              "1155: 76m9s - E. Hazard freekick_short",
              "1156: 76m11s - M. Fellaini pass",
              "1157: 76m14s - T. Meunier pass",
              "1158: 76m18s - T. Alderweireld pass",
              "1159: 76m24s - G. Shibasaki interception",
              "1160: 76m24s - G. Shibasaki pass",
              "1161: 76m26s - Y. Nagatomo pass",
              "1162: 76m27s - G. Shibasaki pass",
              "1163: 76m30s - T. Meunier take_on",
              "1164: 76m32s - M. Hasebe pass",
              "1165: 76m37s - T. Inui pass",
              "1166: 76m39s - H. Sakai dribble",
              "1167: 76m44s - H. Sakai take_on",
              "1168: 76m47s - H. Sakai cross",
              "1169: 76m48s - V. Kompany clearance",
              "1170: 76m50s - S. Kagawa pass",
              "1171: 77m2s - T. Courtois pass",
              "1172: 77m3s - T. Alderweireld pass",
              "1173: 77m5s - A. Witsel pass",
              "1174: 77m7s - M. Fellaini pass",
              "1175: 77m11s - A. Witsel pass",
              "1176: 77m14s - T. Meunier pass",
              "1177: 77m15s - M. Fellaini pass",
              "1178: 77m17s - A. Witsel pass",
              "1179: 77m19s - K. De Bruyne pass",
              "1180: 77m21s - E. Hazard pass",
              "1181: 77m23s - M. Fellaini pass",
              "1182: 77m24s - K. De Bruyne pass",
              "1183: 77m27s - T. Meunier pass",
              "1184: 77m30s - E. Hazard take_on",
              "1185: 77m31s - T. Meunier dribble",
              "1186: 77m33s - T. Meunier pass",
              "1187: 77m35s - T. Alderweireld pass",
              "1188: 77m37s - A. Witsel pass",
              "1189: 77m37s - K. De Bruyne pass",
              "1190: 77m42s - T. Alderweireld pass",
              "1191: 77m46s - N. Chadli dribble",
              "1192: 77m50s - N. Chadli cross",
              "1193: 77m53s - R. Lukaku shot",
              "1194: 78m23s - E. Kawashima goalkick",
              "1195: 78m28s - E. Hazard pass",
              "1196: 78m31s - N. Chadli pass",
              "1197: 78m32s - A. Witsel pass",
              "1198: 78m36s - J. Vertonghen pass",
              "1199: 78m37s - E. Hazard dribble",
              "1200: 78m39s - E. Hazard pass",
              "1201: 78m42s - K. De Bruyne dribble",
              "1202: 78m46s - K. De Bruyne pass",
              "1203: 78m49s - T. Alderweireld dribble",
              "1204: 78m52s - T. Alderweireld pass",
              "1205: 78m56s - T. Meunier pass",
              "1206: 78m57s - T. Alderweireld pass",
              "1207: 78m59s - T. Meunier pass",
              "1208: 79m2s - V. Kompany pass",
              "1209: 79m6s - T. Alderweireld pass",
              "1210: 79m12s - E. Hazard pass",
              "1211: 79m13s - K. De Bruyne pass",
              "1212: 79m15s - M. Yoshida interception",
              "1213: 79m39s - K. De Bruyne corner_crossed",
              "1214: 79m41s - V. Kompany shot",
              "1215: 79m43s - G. Shibasaki clearance",
              "1216: 79m57s - K. De Bruyne corner_short",
              "1217: 79m59s - E. Hazard pass",
              "1218: 80m55s - E. Kawashima goalkick",
              "1219: 80m59s - Y. Ōsako dribble",
              "1220: 81m2s - Y. Ōsako pass",
              "1221: 81m5s - N. Chadli pass",
              "1222: 81m6s - E. Hazard dribble",
              "1223: 81m8s - E. Hazard pass",
              "1224: 81m11s - N. Chadli pass",
              "1225: 81m14s - E. Hazard pass",
              "1226: 81m16s - J. Vertonghen pass",
              "1227: 81m19s - A. Witsel pass",
              "1228: 81m24s - T. Meunier pass",
              "1229: 81m26s - M. Fellaini pass",
              "1230: 81m28s - T. Meunier pass",
              "1231: 81m31s - M. Fellaini pass",
              "1232: 81m32s - T. Inui interception",
              "1233: 81m32s - S. Kagawa pass",
              "1234: 81m34s - Y. Ōsako pass",
              "1235: 81m37s - S. Kagawa dribble",
              "1236: 81m39s - S. Kagawa pass",
              "1237: 81m41s - H. Yamaguchi pass",
              "1238: 81m42s - M. Yoshida pass",
              "1239: 81m45s - S. Kagawa pass",
              "1240: 81m53s - K. Honda pass",
              "1241: 81m54s - H. Sakai pass",
              "1242: 81m54s - S. Kagawa pass",
              "1243: 82m0s - K. Honda pass",
              "1244: 82m2s - S. Kagawa pass",
              "1245: 82m22s - J. Vertonghen throw_in",
              "1246: 82m23s - E. Hazard pass",
              "1247: 82m24s - N. Chadli pass",
              "1248: 82m27s - G. Shōji pass",
              "1249: 82m30s - H. Sakai pass",
              "1250: 82m32s - M. Yoshida pass",
              "1251: 82m37s - K. Honda pass",
              "1252: 82m39s - M. Hasebe pass",
              "1253: 82m39s - S. Kagawa pass",
              "1254: 82m42s - G. Shōji pass",
              "1255: 82m48s - Y. Nagatomo pass",
              "1256: 82m49s - S. Kagawa pass",
              "1257: 82m51s - M. Hasebe pass",
              "1258: 82m55s - S. Kagawa pass",
              "1259: 82m56s - M. Hasebe pass",
              "1260: 82m57s - H. Yamaguchi pass",
              "1261: 82m58s - Y. Nagatomo pass",
              "1262: 83m3s - T. Inui pass",
              "1263: 83m4s - Y. Nagatomo pass",
              "1264: 83m7s - S. Kagawa pass",
              "1265: 83m9s - K. Honda shot",
              "1266: 83m11s - V. Kompany interception",
              "1267: 83m21s - T. Inui corner_short",
              "1268: 83m26s - S. Kagawa cross",
              "1269: 83m32s - T. Courtois pass",
              "1270: 83m36s - T. Meunier dribble",
              "1271: 83m39s - T. Meunier pass",
              "1272: 83m43s - T. Alderweireld pass",
              "1273: 83m46s - V. Kompany pass",
              "1274: 83m50s - T. Alderweireld pass",
              "1275: 83m52s - V. Kompany pass",
              "1276: 83m55s - J. Vertonghen pass",
              "1277: 83m56s - N. Chadli pass",
              "1278: 83m56s - H. Sakai interception",
              "1279: 84m3s - N. Chadli throw_in",
              "1280: 84m4s - J. Vertonghen pass",
              "1281: 84m7s - V. Kompany pass",
              "1282: 84m9s - J. Vertonghen pass",
              "1283: 84m11s - E. Hazard pass",
              "1284: 84m14s - J. Vertonghen pass",
              "1285: 84m15s - V. Kompany pass",
              "1286: 84m19s - T. Courtois pass",
              "1287: 84m23s - T. Alderweireld dribble",
              "1288: 84m28s - T. Alderweireld pass",
              "1289: 84m30s - A. Witsel pass",
              "1290: 84m33s - T. Meunier dribble",
              "1291: 84m36s - T. Meunier pass",
              "1292: 84m37s - M. Fellaini cross",
              "1293: 84m38s - M. Yoshida interception",
              "1294: 84m38s - M. Yoshida pass",
              "1295: 84m42s - M. Fellaini pass",
              "1296: 84m44s - A. Witsel pass",
              "1297: 84m47s - T. Alderweireld dribble",
              "1298: 84m50s - T. Alderweireld pass",
              "1299: 84m50s - M. Yoshida clearance",
              "1300: 84m59s - M. Fellaini throw_in",
              "1301: 85m1s - T. Meunier cross",
              "1302: 85m3s - N. Chadli shot",
              "1303: 85m4s - E. Kawashima keeper_save",
              "1304: 85m6s - N. Chadli cross",
              "1305: 85m7s - R. Lukaku shot",
              "1306: 85m8s - E. Kawashima keeper_save",
              "1307: 85m30s - K. De Bruyne corner_crossed",
              "1308: 85m32s - M. Yoshida clearance",
              "1309: 85m35s - T. Meunier shot",
              "1310: 86m1s - E. Kawashima goalkick",
              "1311: 86m8s - V. Kompany pass",
              "1312: 86m9s - J. Vertonghen pass",
              "1313: 86m11s - K. De Bruyne pass",
              "1314: 86m13s - A. Witsel pass",
              "1315: 86m16s - T. Meunier pass",
              "1316: 86m20s - R. Lukaku dribble",
              "1317: 86m23s - R. Lukaku pass",
              "1318: 86m28s - E. Hazard pass",
              "1319: 86m29s - T. Meunier dribble",
              "1320: 86m31s - T. Meunier pass",
              "1321: 86m33s - A. Witsel pass",
              "1322: 86m35s - K. De Bruyne pass",
              "1323: 86m36s - J. Vertonghen shot",
              "1324: 86m37s - E. Kawashima keeper_save",
              "1325: 87m12s - E. Kawashima freekick_short",
              "1326: 87m19s - V. Kompany pass",
              "1327: 87m21s - T. Courtois pass",
              "1328: 87m24s - V. Kompany pass",
              "1329: 87m26s - N. Chadli pass",
              "1330: 87m30s - M. Yoshida foul",
              "1331: 87m44s - J. Vertonghen freekick_short",
              "1332: 87m47s - V. Kompany pass",
              "1333: 87m49s - J. Vertonghen pass",
              "1334: 87m50s - N. Chadli pass",
              "1335: 87m52s - K. De Bruyne dribble",
              "1336: 87m54s - K. De Bruyne pass",
              "1337: 87m56s - T. Meunier cross",
              "1338: 87m59s - R. Lukaku foul",
              "1339: 88m32s - E. Kawashima freekick_short",
              "1340: 88m40s - M. Fellaini pass",
              "1341: 88m43s - J. Vertonghen pass",
              "1342: 88m46s - N. Chadli dribble",
              "1343: 88m49s - N. Chadli take_on",
              "1344: 88m52s - H. Sakai clearance",
              "1345: 89m12s - J. Vertonghen throw_in",
              "1346: 89m14s - H. Yamaguchi interception",
              "1347: 89m14s - H. Yamaguchi pass",
              "1348: 89m20s - V. Kompany foul",
              "1349: 89m36s - M. Yoshida pass",
              "1350: 89m41s - Y. Nagatomo pass",
              "1351: 89m44s - T. Inui pass",
              "1352: 89m45s - H. Yamaguchi pass",
              "1353: 89m48s - S. Kagawa pass",
              "1354: 89m51s - Y. Nagatomo pass",
              "1355: 89m52s - S. Kagawa pass",
              "1356: 89m54s - T. Inui pass",
              "1357: 89m58s - S. Kagawa pass",
              "1358: 89m59s - Y. Nagatomo cross",
              "1359: 90m1s - A. Witsel interception",
              "1360: 90m3s - T. Courtois keeper_save",
              "1361: 90m38s - K. Honda corner_crossed",
              "1362: 90m40s - K. De Bruyne clearance",
              "1363: 90m47s - Y. Nagatomo throw_in",
              "1364: 90m50s - M. Hasebe pass",
              "1365: 90m54s - Y. Nagatomo pass",
              "1366: 90m58s - K. De Bruyne pass",
              "1367: 91m1s - G. Shōji pass",
              "1368: 91m7s - E. Kawashima pass",
              "1369: 91m10s - T. Meunier pass",
              "1370: 91m13s - K. De Bruyne foul",
              "1371: 91m25s - S. Kagawa freekick_short",
              "1372: 91m28s - M. Hasebe pass",
              "1373: 91m29s - H. Yamaguchi pass",
              "1374: 91m32s - S. Kagawa pass",
              "1375: 91m35s - Y. Nagatomo pass",
              "1376: 91m37s - S. Kagawa pass",
              "1377: 91m37s - H. Yamaguchi pass",
              "1378: 91m41s - M. Hasebe pass",
              "1379: 91m43s - G. Shōji dribble",
              "1380: 91m46s - G. Shōji pass",
              "1381: 91m49s - V. Kompany foul",
              "1382: 92m59s - K. Honda shot_freekick",
              "1383: 93m2s - T. Courtois keeper_save",
              "1384: 93m31s - K. Honda corner_crossed",
              "1385: 93m36s - T. Courtois pass",
              "1386: 93m37s - K. De Bruyne dribble",
              "1387: 93m41s - K. De Bruyne pass",
              "1388: 93m43s - T. Meunier pass",
              "1389: 93m44s - R. Lukaku pass",
              "1390: 93m45s - N. Chadli shot",
              "1391: 95m4s - Y. Ōsako pass"
            ],
            "_view_count": null,
            "_view_module": "@jupyter-widgets/controls",
            "_view_module_version": "1.5.0",
            "_view_name": "SelectView",
            "description": "action_name",
            "description_tooltip": null,
            "disabled": false,
            "index": 444,
            "layout": "IPY_MODEL_80c5a720e1ed42419b06d27e0744da30",
            "rows": 5,
            "style": "IPY_MODEL_faac1726f57e4cd3a6cbf9a6c2d355b1"
          }
        },
        "d1f2a24adce94a60907d756f14379af1": {
          "model_module": "@jupyter-widgets/controls",
          "model_module_version": "1.5.0",
          "model_name": "DescriptionStyleModel",
          "state": {
            "_model_module": "@jupyter-widgets/controls",
            "_model_module_version": "1.5.0",
            "_model_name": "DescriptionStyleModel",
            "_view_count": null,
            "_view_module": "@jupyter-widgets/base",
            "_view_module_version": "1.2.0",
            "_view_name": "StyleView",
            "description_width": ""
          }
        },
        "e6031ef858d448d99cf2f132c9e3a600": {
          "model_module": "@jupyter-widgets/controls",
          "model_module_version": "1.5.0",
          "model_name": "HBoxModel",
          "state": {
            "_dom_classes": [],
            "_model_module": "@jupyter-widgets/controls",
            "_model_module_version": "1.5.0",
            "_model_name": "HBoxModel",
            "_view_count": null,
            "_view_module": "@jupyter-widgets/controls",
            "_view_module_version": "1.5.0",
            "_view_name": "HBoxView",
            "box_style": "",
            "children": [
              "IPY_MODEL_58716929828844c0be9fd3a2a487e6ba",
              "IPY_MODEL_f8f88253966a4daeb5b861b5c8dc6d60",
              "IPY_MODEL_947ceedc0aec49939341965ce764a130"
            ],
            "layout": "IPY_MODEL_5e524dd520f64dea833da669f3173b62"
          }
        },
        "f8f88253966a4daeb5b861b5c8dc6d60": {
          "model_module": "@jupyter-widgets/controls",
          "model_module_version": "1.5.0",
          "model_name": "FloatProgressModel",
          "state": {
            "_dom_classes": [],
            "_model_module": "@jupyter-widgets/controls",
            "_model_module_version": "1.5.0",
            "_model_name": "FloatProgressModel",
            "_view_count": null,
            "_view_module": "@jupyter-widgets/controls",
            "_view_module_version": "1.5.0",
            "_view_name": "ProgressView",
            "bar_style": "success",
            "description": "",
            "description_tooltip": null,
            "layout": "IPY_MODEL_241fccbbe5fd44b8be77aed9991f0874",
            "max": 495,
            "min": 0,
            "orientation": "horizontal",
            "style": "IPY_MODEL_36d5e297fe9d4901a2af450821dc1e48",
            "value": 495
          }
        },
        "f910750f240349b9afe1b9c100b69d7e": {
          "model_module": "@jupyter-widgets/base",
          "model_module_version": "1.2.0",
          "model_name": "LayoutModel",
          "state": {
            "_model_module": "@jupyter-widgets/base",
            "_model_module_version": "1.2.0",
            "_model_name": "LayoutModel",
            "_view_count": null,
            "_view_module": "@jupyter-widgets/base",
            "_view_module_version": "1.2.0",
            "_view_name": "LayoutView",
            "align_content": null,
            "align_items": null,
            "align_self": null,
            "border": null,
            "bottom": null,
            "display": null,
            "flex": null,
            "flex_flow": null,
            "grid_area": null,
            "grid_auto_columns": null,
            "grid_auto_flow": null,
            "grid_auto_rows": null,
            "grid_column": null,
            "grid_gap": null,
            "grid_row": null,
            "grid_template_areas": null,
            "grid_template_columns": null,
            "grid_template_rows": null,
            "height": null,
            "justify_content": null,
            "justify_items": null,
            "left": null,
            "margin": null,
            "max_height": null,
            "max_width": null,
            "min_height": null,
            "min_width": null,
            "object_fit": null,
            "object_position": null,
            "order": null,
            "overflow": null,
            "overflow_x": null,
            "overflow_y": null,
            "padding": null,
            "right": null,
            "top": null,
            "visibility": null,
            "width": null
          }
        },
        "faac1726f57e4cd3a6cbf9a6c2d355b1": {
          "model_module": "@jupyter-widgets/controls",
          "model_module_version": "1.5.0",
          "model_name": "DescriptionStyleModel",
          "state": {
            "_model_module": "@jupyter-widgets/controls",
            "_model_module_version": "1.5.0",
            "_model_name": "DescriptionStyleModel",
            "_view_count": null,
            "_view_module": "@jupyter-widgets/base",
            "_view_module_version": "1.2.0",
            "_view_name": "StyleView",
            "description_width": ""
          }
        }
      }
    }
  },
  "nbformat": 4,
  "nbformat_minor": 0
}
