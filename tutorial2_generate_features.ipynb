{
  "cells": [
    {
      "cell_type": "markdown",
      "metadata": {
        "id": "a7E-8aMsk6lf"
      },
      "source": [
        "# Tutorial: Generate features\n",
        "This tutorial demonstrates how to generate features to represent game states to value on-the-ball actions of football players with the open-source [VAEP framework](https://github.com/ML-KULeuven/socceraction) using the publicly available [Wyscout match event dataset](https://figshare.com/collections/Soccer_match_event_dataset/4415000). The Wyscout dataset includes data for the 2017/2018 English Premier League, the 2017/2018 Spanish Primera División, the 2017/2018 German 1. Bundesliga, the 2017/2018 Italian Serie A, the 2017/2018 French Ligue 1, the 2018 FIFA World Cup, and the UEFA Euro 2016. Covering 1,941 matches, 3,251,294 events and 4,299 players, the dataset is large enough to train machine-learning models and obtain robust ratings for the players.\n",
        "\n",
        "This tutorial demonstrates the following three steps:\n",
        "   1. Investigate the data in SPADL representation.\n",
        "   2. Construct features to represent actions.\n",
        "   3. Construct features to represent game states.\n",
        "\n",
        "This notebook is compatible with `socceraction` version `0.2.0`.\n",
        "\n",
        "**Conventions:**\n",
        "   * Variables that refer a `DataFrame` object are prefixed with `df_`.\n",
        "   * Variables that refer a collection of `DataFrame` objects (e.g., a list, a set or a dict) are prefixed with `dfs_`.\n",
        "   \n",
        "**References:**\n",
        "   * Tom Decroos, Lotte Bransen, Jan Van Haaren, and Jesse Davis. \\\"[Actions Speak Louder than Goals: Valuing Player Actions in Soccer.](https://arxiv.org/abs/1802.07127)\\\" In *Proceedings of the 25th ACM SIGKDD International Conference on Knowledge Discovery & Data Mining*, pp. 1851-1861. 2019.\n",
        "   * Luca Pappalardo, Paolo Cintia, Alessio Rossi, Emanuele Massucco, Paolo Ferragina, Dino Pedreschi, and Fosca Giannotti. \\\"[A Public Data Set of Spatio-Temporal Match Events in Soccer Competitions.](https://www.nature.com/articles/s41597-019-0247-7)\\\" *Scientific Data 6*, no. 1 (2019): 1-15.\""
      ]
    },
    {
      "cell_type": "markdown",
      "metadata": {
        "id": "Jbc32fC0k6lg"
      },
      "source": [
        "**Optional:** If you run this notebook on Google Colab, then uncomment the code in the following cell and execute the cell."
      ]
    },
    {
      "cell_type": "code",
      "execution_count": 1,
      "metadata": {
        "colab": {
          "base_uri": "https://localhost:8080/"
        },
        "id": "mzJmHu3Vk6lg",
        "outputId": "d2978f55-45d2-44a7-8137-b6bde21fbbff"
      },
      "outputs": [
        {
          "output_type": "stream",
          "name": "stdout",
          "text": [
            "Collecting matplotsoccer\n",
            "  Downloading matplotsoccer-0.0.8.tar.gz (5.6 kB)\n",
            "  Preparing metadata (setup.py) ... \u001b[?25l\u001b[?25hdone\n",
            "Building wheels for collected packages: matplotsoccer\n",
            "  Building wheel for matplotsoccer (setup.py) ... \u001b[?25l\u001b[?25hdone\n",
            "  Created wheel for matplotsoccer: filename=matplotsoccer-0.0.8-py3-none-any.whl size=5966 sha256=ec8a224fbb713b214b0c349ebbde85578f75ebfbef35826ee19077c04021ad63\n",
            "  Stored in directory: /root/.cache/pip/wheels/ef/a9/d2/796b0ad28ffe440216ddaf7c9aa570dbdbfd67c3b208fd07ca\n",
            "Successfully built matplotsoccer\n",
            "Installing collected packages: matplotsoccer\n",
            "Successfully installed matplotsoccer-0.0.8\n"
          ]
        }
      ],
      "source": [
        "\n",
        "!pip install matplotsoccer"
      ]
    },
    {
      "cell_type": "code",
      "source": [
        "!pip install tables"
      ],
      "metadata": {
        "colab": {
          "base_uri": "https://localhost:8080/"
        },
        "id": "hM2jPk-klVWa",
        "outputId": "693d17b6-23a7-403f-df54-43f284fef302"
      },
      "execution_count": 2,
      "outputs": [
        {
          "output_type": "stream",
          "name": "stdout",
          "text": [
            "Requirement already satisfied: tables in /usr/local/lib/python3.10/dist-packages (3.8.0)\n",
            "Requirement already satisfied: cython>=0.29.21 in /usr/local/lib/python3.10/dist-packages (from tables) (3.0.9)\n",
            "Requirement already satisfied: numpy>=1.19.0 in /usr/local/lib/python3.10/dist-packages (from tables) (1.25.2)\n",
            "Requirement already satisfied: numexpr>=2.6.2 in /usr/local/lib/python3.10/dist-packages (from tables) (2.9.0)\n",
            "Requirement already satisfied: blosc2~=2.0.0 in /usr/local/lib/python3.10/dist-packages (from tables) (2.0.0)\n",
            "Requirement already satisfied: packaging in /usr/local/lib/python3.10/dist-packages (from tables) (24.0)\n",
            "Requirement already satisfied: py-cpuinfo in /usr/local/lib/python3.10/dist-packages (from tables) (9.0.0)\n",
            "Requirement already satisfied: msgpack in /usr/local/lib/python3.10/dist-packages (from blosc2~=2.0.0->tables) (1.0.8)\n"
          ]
        }
      ]
    },
    {
      "cell_type": "markdown",
      "metadata": {
        "id": "tBpeVky3k6lh"
      },
      "source": [
        "**Optional:** If you run this notebook on Google Colab and wish to store all data in a Google Drive folder, then uncomment the code in the following cell and execute the cell."
      ]
    },
    {
      "cell_type": "code",
      "execution_count": 3,
      "metadata": {
        "colab": {
          "base_uri": "https://localhost:8080/"
        },
        "id": "w-yaIahHk6lh",
        "outputId": "64793e74-ae5e-4a30-aea4-52299232665c"
      },
      "outputs": [
        {
          "output_type": "stream",
          "name": "stdout",
          "text": [
            "Mounted at /content/gdrive\n",
            "/content/gdrive/My Drive/Friends of Tracking\n"
          ]
        }
      ],
      "source": [
        "from google.colab import drive\n",
        "drive.mount('/content/gdrive')\n",
        "%mkdir -p '/content/gdrive/My Drive/Friends of Tracking/'\n",
        "%cd '/content/gdrive/My Drive/Friends of Tracking/'"
      ]
    },
    {
      "cell_type": "code",
      "execution_count": 4,
      "metadata": {
        "id": "DtlyqwUEk6lh"
      },
      "outputs": [],
      "source": [
        "import warnings\n",
        "\n",
        "import matplotsoccer\n",
        "import numpy as np\n",
        "import pandas as pd\n",
        "from ipywidgets import fixed, interact_manual, widgets\n",
        "from tqdm.notebook import tqdm"
      ]
    },
    {
      "cell_type": "code",
      "execution_count": 5,
      "metadata": {
        "id": "CJxX3Tn-k6lh"
      },
      "outputs": [],
      "source": [
        "warnings.filterwarnings('ignore', category=pd.io.pytables.PerformanceWarning)"
      ]
    },
    {
      "cell_type": "markdown",
      "metadata": {
        "id": "XHt9apTnk6li"
      },
      "source": [
        "# Load dataset"
      ]
    },
    {
      "cell_type": "markdown",
      "metadata": {
        "id": "l30f36rEk6li"
      },
      "source": [
        "First we load the SPADL dataset that was created in the tutorial1-run-pipeline.ipynb notebook. We first load the teams, players and games dataframes."
      ]
    },
    {
      "cell_type": "code",
      "source": [
        "data_files = {\n",
        "    'events': 'https://ndownloader.figshare.com/files/14464685',  # ZIP file containing one JSON file for each competition\n",
        "    'matches': 'https://ndownloader.figshare.com/files/14464622',  # ZIP file containing one JSON file for each competition\n",
        "    'players': 'https://ndownloader.figshare.com/files/15073721',  # JSON file\n",
        "    'teams': 'https://ndownloader.figshare.com/files/15073697'  # JSON file\n",
        "}"
      ],
      "metadata": {
        "id": "hcDR47P5mEGg"
      },
      "execution_count": 6,
      "outputs": []
    },
    {
      "cell_type": "code",
      "source": [
        "from urllib.request import urlopen, urlretrieve\n",
        "from pathlib import Path\n",
        "from urllib.parse import urlparse\n",
        "from zipfile import ZipFile, is_zipfile\n",
        "for url in tqdm(data_files.values()):\n",
        "    url_s3 = urlopen(url).geturl()\n",
        "    path = Path(urlparse(url_s3).path)\n",
        "    file_name = path.name\n",
        "    file_local, _ = urlretrieve(url_s3, file_name)\n",
        "    if is_zipfile(file_local):\n",
        "        with ZipFile(file_local) as zip_file:\n",
        "            zip_file.extractall()"
      ],
      "metadata": {
        "colab": {
          "base_uri": "https://localhost:8080/",
          "height": 49,
          "referenced_widgets": [
            "202bac69d9f447fcacfd0cee2a40adaa",
            "c4eadd0171ee402b857d01e06d7668c0",
            "a3803f7202fe4d0db4c50420215d5368",
            "9d3dd60d755a465da5d5c80b02c9a123",
            "4d80294ff33d43559ef2262e27fb7297",
            "cf97d03c5b7a4ee2941d91c681f740b6",
            "72b234a906f7492eaf8d428f782ca3cc",
            "b7a78e9dcb6c42b9a17e58fbc33ba39b",
            "35a1121970f34fe18c0c50dc7be3b8d6",
            "c70e645c79af448280304db7be9efbea",
            "0e3406b87c454bc78c1c32bc10e1274a"
          ]
        },
        "id": "9MG-HLYRmNXm",
        "outputId": "d13fd51e-ad64-4742-8a77-f2e7421aa056"
      },
      "execution_count": 7,
      "outputs": [
        {
          "output_type": "display_data",
          "data": {
            "text/plain": [
              "  0%|          | 0/4 [00:00<?, ?it/s]"
            ],
            "application/vnd.jupyter.widget-view+json": {
              "version_major": 2,
              "version_minor": 0,
              "model_id": "202bac69d9f447fcacfd0cee2a40adaa"
            }
          },
          "metadata": {}
        }
      ]
    },
    {
      "cell_type": "code",
      "source": [
        "from io import BytesIO\n",
        "def read_json_file(filename):\n",
        "    with open(filename, 'rb') as json_file:\n",
        "        return BytesIO(json_file.read()).getvalue().decode('unicode_escape')"
      ],
      "metadata": {
        "id": "CuIWo_CHm_7S"
      },
      "execution_count": 8,
      "outputs": []
    },
    {
      "cell_type": "code",
      "source": [
        "json_teams = read_json_file('teams.json')\n",
        "df_teams = pd.read_json(json_teams)\n",
        "json_players = read_json_file('players.json')\n",
        "df_players = pd.read_json(json_players)\n"
      ],
      "metadata": {
        "id": "KS06E1ZcnH03"
      },
      "execution_count": 9,
      "outputs": []
    },
    {
      "cell_type": "code",
      "source": [
        "df_teams.head(10)\n",
        "df_players.head(10)"
      ],
      "metadata": {
        "colab": {
          "base_uri": "https://localhost:8080/",
          "height": 1000
        },
        "id": "yf5Qx04LnWGQ",
        "outputId": "046c2349-5596-4770-dd06-af280a3bb964"
      },
      "execution_count": 10,
      "outputs": [
        {
          "output_type": "execute_result",
          "data": {
            "text/plain": [
              "                                        passportArea  weight  \\\n",
              "0  {'name': 'Turkey', 'id': '792', 'alpha3code': ...      78   \n",
              "1  {'name': 'Senegal', 'id': '686', 'alpha3code':...      73   \n",
              "2  {'name': 'France', 'id': '250', 'alpha3code': ...      72   \n",
              "3  {'name': 'Senegal', 'id': '686', 'alpha3code':...      82   \n",
              "4  {'name': 'France', 'id': '250', 'alpha3code': ...      84   \n",
              "5  {'name': 'Netherlands', 'id': '528', 'alpha3co...      83   \n",
              "6  {'name': 'Belgium', 'id': '56', 'alpha3code': ...      91   \n",
              "7  {'name': 'Belgium', 'id': '56', 'alpha3code': ...      88   \n",
              "8  {'name': 'France', 'id': '250', 'alpha3code': ...      74   \n",
              "9  {'name': 'Denmark', 'id': '208', 'alpha3code':...      76   \n",
              "\n",
              "           firstName middleName           lastName currentTeamId   birthDate  \\\n",
              "0              Harun                         Tekin          4502  1989-06-17   \n",
              "1             Malang                          Sarr          3775  1999-01-23   \n",
              "2               Over                      Mandanda          3772  1998-10-26   \n",
              "3  Alfred John Momar                       N'Diaye           683  1990-03-06   \n",
              "4           Ibrahima                        Konaté          2975  1999-05-25   \n",
              "5             Jasper                     Cillessen           676  1989-04-22   \n",
              "6               Toby                  Alderweireld          1624  1989-03-02   \n",
              "7                Jan                    Vertonghen          1624  1987-04-24   \n",
              "8          Alexander                         Djiku          3783  1994-08-09   \n",
              "9         Christian              Dannemann Eriksen          1624  1992-02-14   \n",
              "\n",
              "   height                                               role  \\\n",
              "0     187  {'code2': 'GK', 'code3': 'GKP', 'name': 'Goalk...   \n",
              "1     182  {'code2': 'DF', 'code3': 'DEF', 'name': 'Defen...   \n",
              "2     176  {'code2': 'GK', 'code3': 'GKP', 'name': 'Goalk...   \n",
              "3     187  {'code2': 'MD', 'code3': 'MID', 'name': 'Midfi...   \n",
              "4     192  {'code2': 'DF', 'code3': 'DEF', 'name': 'Defen...   \n",
              "5     185  {'code2': 'GK', 'code3': 'GKP', 'name': 'Goalk...   \n",
              "6     187  {'code2': 'DF', 'code3': 'DEF', 'name': 'Defen...   \n",
              "7     189  {'code2': 'DF', 'code3': 'DEF', 'name': 'Defen...   \n",
              "8     182  {'code2': 'DF', 'code3': 'DEF', 'name': 'Defen...   \n",
              "9     180  {'code2': 'MD', 'code3': 'MID', 'name': 'Midfi...   \n",
              "\n",
              "                                           birthArea    wyId   foot  \\\n",
              "0  {'name': 'Turkey', 'id': '792', 'alpha3code': ...   32777  right   \n",
              "1  {'name': 'France', 'id': '250', 'alpha3code': ...  393228   left   \n",
              "2  {'name': 'France', 'id': '250', 'alpha3code': ...  393230          \n",
              "3  {'name': 'France', 'id': '250', 'alpha3code': ...   32793  right   \n",
              "4  {'name': 'France', 'id': '250', 'alpha3code': ...  393247  right   \n",
              "5  {'name': 'Netherlands', 'id': '528', 'alpha3co...      33  right   \n",
              "6  {'name': 'Belgium', 'id': '56', 'alpha3code': ...      36  right   \n",
              "7  {'name': 'Belgium', 'id': '56', 'alpha3code': ...      48   left   \n",
              "8  {'name': 'France', 'id': '250', 'alpha3code': ...  229427  right   \n",
              "9  {'name': 'Denmark', 'id': '208', 'alpha3code':...      54  right   \n",
              "\n",
              "         shortName currentNationalTeamId  \n",
              "0         H. Tekin                  4687  \n",
              "1          M. Sarr                  4423  \n",
              "2      O. Mandanda                  null  \n",
              "3       A. N'Diaye                 19314  \n",
              "4        I. Konaté                  null  \n",
              "5     J. Cillessen                   664  \n",
              "6  T. Alderweireld                  5629  \n",
              "7    J. Vertonghen                  5629  \n",
              "8         A. Djiku                  null  \n",
              "9       C. Eriksen                  7712  "
            ],
            "text/html": [
              "\n",
              "  <div id=\"df-5cf1410b-59ca-4788-8970-d3cd8fc640b4\" class=\"colab-df-container\">\n",
              "    <div>\n",
              "<style scoped>\n",
              "    .dataframe tbody tr th:only-of-type {\n",
              "        vertical-align: middle;\n",
              "    }\n",
              "\n",
              "    .dataframe tbody tr th {\n",
              "        vertical-align: top;\n",
              "    }\n",
              "\n",
              "    .dataframe thead th {\n",
              "        text-align: right;\n",
              "    }\n",
              "</style>\n",
              "<table border=\"1\" class=\"dataframe\">\n",
              "  <thead>\n",
              "    <tr style=\"text-align: right;\">\n",
              "      <th></th>\n",
              "      <th>passportArea</th>\n",
              "      <th>weight</th>\n",
              "      <th>firstName</th>\n",
              "      <th>middleName</th>\n",
              "      <th>lastName</th>\n",
              "      <th>currentTeamId</th>\n",
              "      <th>birthDate</th>\n",
              "      <th>height</th>\n",
              "      <th>role</th>\n",
              "      <th>birthArea</th>\n",
              "      <th>wyId</th>\n",
              "      <th>foot</th>\n",
              "      <th>shortName</th>\n",
              "      <th>currentNationalTeamId</th>\n",
              "    </tr>\n",
              "  </thead>\n",
              "  <tbody>\n",
              "    <tr>\n",
              "      <th>0</th>\n",
              "      <td>{'name': 'Turkey', 'id': '792', 'alpha3code': ...</td>\n",
              "      <td>78</td>\n",
              "      <td>Harun</td>\n",
              "      <td></td>\n",
              "      <td>Tekin</td>\n",
              "      <td>4502</td>\n",
              "      <td>1989-06-17</td>\n",
              "      <td>187</td>\n",
              "      <td>{'code2': 'GK', 'code3': 'GKP', 'name': 'Goalk...</td>\n",
              "      <td>{'name': 'Turkey', 'id': '792', 'alpha3code': ...</td>\n",
              "      <td>32777</td>\n",
              "      <td>right</td>\n",
              "      <td>H. Tekin</td>\n",
              "      <td>4687</td>\n",
              "    </tr>\n",
              "    <tr>\n",
              "      <th>1</th>\n",
              "      <td>{'name': 'Senegal', 'id': '686', 'alpha3code':...</td>\n",
              "      <td>73</td>\n",
              "      <td>Malang</td>\n",
              "      <td></td>\n",
              "      <td>Sarr</td>\n",
              "      <td>3775</td>\n",
              "      <td>1999-01-23</td>\n",
              "      <td>182</td>\n",
              "      <td>{'code2': 'DF', 'code3': 'DEF', 'name': 'Defen...</td>\n",
              "      <td>{'name': 'France', 'id': '250', 'alpha3code': ...</td>\n",
              "      <td>393228</td>\n",
              "      <td>left</td>\n",
              "      <td>M. Sarr</td>\n",
              "      <td>4423</td>\n",
              "    </tr>\n",
              "    <tr>\n",
              "      <th>2</th>\n",
              "      <td>{'name': 'France', 'id': '250', 'alpha3code': ...</td>\n",
              "      <td>72</td>\n",
              "      <td>Over</td>\n",
              "      <td></td>\n",
              "      <td>Mandanda</td>\n",
              "      <td>3772</td>\n",
              "      <td>1998-10-26</td>\n",
              "      <td>176</td>\n",
              "      <td>{'code2': 'GK', 'code3': 'GKP', 'name': 'Goalk...</td>\n",
              "      <td>{'name': 'France', 'id': '250', 'alpha3code': ...</td>\n",
              "      <td>393230</td>\n",
              "      <td></td>\n",
              "      <td>O. Mandanda</td>\n",
              "      <td>null</td>\n",
              "    </tr>\n",
              "    <tr>\n",
              "      <th>3</th>\n",
              "      <td>{'name': 'Senegal', 'id': '686', 'alpha3code':...</td>\n",
              "      <td>82</td>\n",
              "      <td>Alfred John Momar</td>\n",
              "      <td></td>\n",
              "      <td>N'Diaye</td>\n",
              "      <td>683</td>\n",
              "      <td>1990-03-06</td>\n",
              "      <td>187</td>\n",
              "      <td>{'code2': 'MD', 'code3': 'MID', 'name': 'Midfi...</td>\n",
              "      <td>{'name': 'France', 'id': '250', 'alpha3code': ...</td>\n",
              "      <td>32793</td>\n",
              "      <td>right</td>\n",
              "      <td>A. N'Diaye</td>\n",
              "      <td>19314</td>\n",
              "    </tr>\n",
              "    <tr>\n",
              "      <th>4</th>\n",
              "      <td>{'name': 'France', 'id': '250', 'alpha3code': ...</td>\n",
              "      <td>84</td>\n",
              "      <td>Ibrahima</td>\n",
              "      <td></td>\n",
              "      <td>Konaté</td>\n",
              "      <td>2975</td>\n",
              "      <td>1999-05-25</td>\n",
              "      <td>192</td>\n",
              "      <td>{'code2': 'DF', 'code3': 'DEF', 'name': 'Defen...</td>\n",
              "      <td>{'name': 'France', 'id': '250', 'alpha3code': ...</td>\n",
              "      <td>393247</td>\n",
              "      <td>right</td>\n",
              "      <td>I. Konaté</td>\n",
              "      <td>null</td>\n",
              "    </tr>\n",
              "    <tr>\n",
              "      <th>5</th>\n",
              "      <td>{'name': 'Netherlands', 'id': '528', 'alpha3co...</td>\n",
              "      <td>83</td>\n",
              "      <td>Jasper</td>\n",
              "      <td></td>\n",
              "      <td>Cillessen</td>\n",
              "      <td>676</td>\n",
              "      <td>1989-04-22</td>\n",
              "      <td>185</td>\n",
              "      <td>{'code2': 'GK', 'code3': 'GKP', 'name': 'Goalk...</td>\n",
              "      <td>{'name': 'Netherlands', 'id': '528', 'alpha3co...</td>\n",
              "      <td>33</td>\n",
              "      <td>right</td>\n",
              "      <td>J. Cillessen</td>\n",
              "      <td>664</td>\n",
              "    </tr>\n",
              "    <tr>\n",
              "      <th>6</th>\n",
              "      <td>{'name': 'Belgium', 'id': '56', 'alpha3code': ...</td>\n",
              "      <td>91</td>\n",
              "      <td>Toby</td>\n",
              "      <td></td>\n",
              "      <td>Alderweireld</td>\n",
              "      <td>1624</td>\n",
              "      <td>1989-03-02</td>\n",
              "      <td>187</td>\n",
              "      <td>{'code2': 'DF', 'code3': 'DEF', 'name': 'Defen...</td>\n",
              "      <td>{'name': 'Belgium', 'id': '56', 'alpha3code': ...</td>\n",
              "      <td>36</td>\n",
              "      <td>right</td>\n",
              "      <td>T. Alderweireld</td>\n",
              "      <td>5629</td>\n",
              "    </tr>\n",
              "    <tr>\n",
              "      <th>7</th>\n",
              "      <td>{'name': 'Belgium', 'id': '56', 'alpha3code': ...</td>\n",
              "      <td>88</td>\n",
              "      <td>Jan</td>\n",
              "      <td></td>\n",
              "      <td>Vertonghen</td>\n",
              "      <td>1624</td>\n",
              "      <td>1987-04-24</td>\n",
              "      <td>189</td>\n",
              "      <td>{'code2': 'DF', 'code3': 'DEF', 'name': 'Defen...</td>\n",
              "      <td>{'name': 'Belgium', 'id': '56', 'alpha3code': ...</td>\n",
              "      <td>48</td>\n",
              "      <td>left</td>\n",
              "      <td>J. Vertonghen</td>\n",
              "      <td>5629</td>\n",
              "    </tr>\n",
              "    <tr>\n",
              "      <th>8</th>\n",
              "      <td>{'name': 'France', 'id': '250', 'alpha3code': ...</td>\n",
              "      <td>74</td>\n",
              "      <td>Alexander</td>\n",
              "      <td></td>\n",
              "      <td>Djiku</td>\n",
              "      <td>3783</td>\n",
              "      <td>1994-08-09</td>\n",
              "      <td>182</td>\n",
              "      <td>{'code2': 'DF', 'code3': 'DEF', 'name': 'Defen...</td>\n",
              "      <td>{'name': 'France', 'id': '250', 'alpha3code': ...</td>\n",
              "      <td>229427</td>\n",
              "      <td>right</td>\n",
              "      <td>A. Djiku</td>\n",
              "      <td>null</td>\n",
              "    </tr>\n",
              "    <tr>\n",
              "      <th>9</th>\n",
              "      <td>{'name': 'Denmark', 'id': '208', 'alpha3code':...</td>\n",
              "      <td>76</td>\n",
              "      <td>Christian</td>\n",
              "      <td></td>\n",
              "      <td>Dannemann Eriksen</td>\n",
              "      <td>1624</td>\n",
              "      <td>1992-02-14</td>\n",
              "      <td>180</td>\n",
              "      <td>{'code2': 'MD', 'code3': 'MID', 'name': 'Midfi...</td>\n",
              "      <td>{'name': 'Denmark', 'id': '208', 'alpha3code':...</td>\n",
              "      <td>54</td>\n",
              "      <td>right</td>\n",
              "      <td>C. Eriksen</td>\n",
              "      <td>7712</td>\n",
              "    </tr>\n",
              "  </tbody>\n",
              "</table>\n",
              "</div>\n",
              "    <div class=\"colab-df-buttons\">\n",
              "\n",
              "  <div class=\"colab-df-container\">\n",
              "    <button class=\"colab-df-convert\" onclick=\"convertToInteractive('df-5cf1410b-59ca-4788-8970-d3cd8fc640b4')\"\n",
              "            title=\"Convert this dataframe to an interactive table.\"\n",
              "            style=\"display:none;\">\n",
              "\n",
              "  <svg xmlns=\"http://www.w3.org/2000/svg\" height=\"24px\" viewBox=\"0 -960 960 960\">\n",
              "    <path d=\"M120-120v-720h720v720H120Zm60-500h600v-160H180v160Zm220 220h160v-160H400v160Zm0 220h160v-160H400v160ZM180-400h160v-160H180v160Zm440 0h160v-160H620v160ZM180-180h160v-160H180v160Zm440 0h160v-160H620v160Z\"/>\n",
              "  </svg>\n",
              "    </button>\n",
              "\n",
              "  <style>\n",
              "    .colab-df-container {\n",
              "      display:flex;\n",
              "      gap: 12px;\n",
              "    }\n",
              "\n",
              "    .colab-df-convert {\n",
              "      background-color: #E8F0FE;\n",
              "      border: none;\n",
              "      border-radius: 50%;\n",
              "      cursor: pointer;\n",
              "      display: none;\n",
              "      fill: #1967D2;\n",
              "      height: 32px;\n",
              "      padding: 0 0 0 0;\n",
              "      width: 32px;\n",
              "    }\n",
              "\n",
              "    .colab-df-convert:hover {\n",
              "      background-color: #E2EBFA;\n",
              "      box-shadow: 0px 1px 2px rgba(60, 64, 67, 0.3), 0px 1px 3px 1px rgba(60, 64, 67, 0.15);\n",
              "      fill: #174EA6;\n",
              "    }\n",
              "\n",
              "    .colab-df-buttons div {\n",
              "      margin-bottom: 4px;\n",
              "    }\n",
              "\n",
              "    [theme=dark] .colab-df-convert {\n",
              "      background-color: #3B4455;\n",
              "      fill: #D2E3FC;\n",
              "    }\n",
              "\n",
              "    [theme=dark] .colab-df-convert:hover {\n",
              "      background-color: #434B5C;\n",
              "      box-shadow: 0px 1px 3px 1px rgba(0, 0, 0, 0.15);\n",
              "      filter: drop-shadow(0px 1px 2px rgba(0, 0, 0, 0.3));\n",
              "      fill: #FFFFFF;\n",
              "    }\n",
              "  </style>\n",
              "\n",
              "    <script>\n",
              "      const buttonEl =\n",
              "        document.querySelector('#df-5cf1410b-59ca-4788-8970-d3cd8fc640b4 button.colab-df-convert');\n",
              "      buttonEl.style.display =\n",
              "        google.colab.kernel.accessAllowed ? 'block' : 'none';\n",
              "\n",
              "      async function convertToInteractive(key) {\n",
              "        const element = document.querySelector('#df-5cf1410b-59ca-4788-8970-d3cd8fc640b4');\n",
              "        const dataTable =\n",
              "          await google.colab.kernel.invokeFunction('convertToInteractive',\n",
              "                                                    [key], {});\n",
              "        if (!dataTable) return;\n",
              "\n",
              "        const docLinkHtml = 'Like what you see? Visit the ' +\n",
              "          '<a target=\"_blank\" href=https://colab.research.google.com/notebooks/data_table.ipynb>data table notebook</a>'\n",
              "          + ' to learn more about interactive tables.';\n",
              "        element.innerHTML = '';\n",
              "        dataTable['output_type'] = 'display_data';\n",
              "        await google.colab.output.renderOutput(dataTable, element);\n",
              "        const docLink = document.createElement('div');\n",
              "        docLink.innerHTML = docLinkHtml;\n",
              "        element.appendChild(docLink);\n",
              "      }\n",
              "    </script>\n",
              "  </div>\n",
              "\n",
              "\n",
              "<div id=\"df-3369d74e-c1bc-45a1-acb2-73105496652a\">\n",
              "  <button class=\"colab-df-quickchart\" onclick=\"quickchart('df-3369d74e-c1bc-45a1-acb2-73105496652a')\"\n",
              "            title=\"Suggest charts\"\n",
              "            style=\"display:none;\">\n",
              "\n",
              "<svg xmlns=\"http://www.w3.org/2000/svg\" height=\"24px\"viewBox=\"0 0 24 24\"\n",
              "     width=\"24px\">\n",
              "    <g>\n",
              "        <path d=\"M19 3H5c-1.1 0-2 .9-2 2v14c0 1.1.9 2 2 2h14c1.1 0 2-.9 2-2V5c0-1.1-.9-2-2-2zM9 17H7v-7h2v7zm4 0h-2V7h2v10zm4 0h-2v-4h2v4z\"/>\n",
              "    </g>\n",
              "</svg>\n",
              "  </button>\n",
              "\n",
              "<style>\n",
              "  .colab-df-quickchart {\n",
              "      --bg-color: #E8F0FE;\n",
              "      --fill-color: #1967D2;\n",
              "      --hover-bg-color: #E2EBFA;\n",
              "      --hover-fill-color: #174EA6;\n",
              "      --disabled-fill-color: #AAA;\n",
              "      --disabled-bg-color: #DDD;\n",
              "  }\n",
              "\n",
              "  [theme=dark] .colab-df-quickchart {\n",
              "      --bg-color: #3B4455;\n",
              "      --fill-color: #D2E3FC;\n",
              "      --hover-bg-color: #434B5C;\n",
              "      --hover-fill-color: #FFFFFF;\n",
              "      --disabled-bg-color: #3B4455;\n",
              "      --disabled-fill-color: #666;\n",
              "  }\n",
              "\n",
              "  .colab-df-quickchart {\n",
              "    background-color: var(--bg-color);\n",
              "    border: none;\n",
              "    border-radius: 50%;\n",
              "    cursor: pointer;\n",
              "    display: none;\n",
              "    fill: var(--fill-color);\n",
              "    height: 32px;\n",
              "    padding: 0;\n",
              "    width: 32px;\n",
              "  }\n",
              "\n",
              "  .colab-df-quickchart:hover {\n",
              "    background-color: var(--hover-bg-color);\n",
              "    box-shadow: 0 1px 2px rgba(60, 64, 67, 0.3), 0 1px 3px 1px rgba(60, 64, 67, 0.15);\n",
              "    fill: var(--button-hover-fill-color);\n",
              "  }\n",
              "\n",
              "  .colab-df-quickchart-complete:disabled,\n",
              "  .colab-df-quickchart-complete:disabled:hover {\n",
              "    background-color: var(--disabled-bg-color);\n",
              "    fill: var(--disabled-fill-color);\n",
              "    box-shadow: none;\n",
              "  }\n",
              "\n",
              "  .colab-df-spinner {\n",
              "    border: 2px solid var(--fill-color);\n",
              "    border-color: transparent;\n",
              "    border-bottom-color: var(--fill-color);\n",
              "    animation:\n",
              "      spin 1s steps(1) infinite;\n",
              "  }\n",
              "\n",
              "  @keyframes spin {\n",
              "    0% {\n",
              "      border-color: transparent;\n",
              "      border-bottom-color: var(--fill-color);\n",
              "      border-left-color: var(--fill-color);\n",
              "    }\n",
              "    20% {\n",
              "      border-color: transparent;\n",
              "      border-left-color: var(--fill-color);\n",
              "      border-top-color: var(--fill-color);\n",
              "    }\n",
              "    30% {\n",
              "      border-color: transparent;\n",
              "      border-left-color: var(--fill-color);\n",
              "      border-top-color: var(--fill-color);\n",
              "      border-right-color: var(--fill-color);\n",
              "    }\n",
              "    40% {\n",
              "      border-color: transparent;\n",
              "      border-right-color: var(--fill-color);\n",
              "      border-top-color: var(--fill-color);\n",
              "    }\n",
              "    60% {\n",
              "      border-color: transparent;\n",
              "      border-right-color: var(--fill-color);\n",
              "    }\n",
              "    80% {\n",
              "      border-color: transparent;\n",
              "      border-right-color: var(--fill-color);\n",
              "      border-bottom-color: var(--fill-color);\n",
              "    }\n",
              "    90% {\n",
              "      border-color: transparent;\n",
              "      border-bottom-color: var(--fill-color);\n",
              "    }\n",
              "  }\n",
              "</style>\n",
              "\n",
              "  <script>\n",
              "    async function quickchart(key) {\n",
              "      const quickchartButtonEl =\n",
              "        document.querySelector('#' + key + ' button');\n",
              "      quickchartButtonEl.disabled = true;  // To prevent multiple clicks.\n",
              "      quickchartButtonEl.classList.add('colab-df-spinner');\n",
              "      try {\n",
              "        const charts = await google.colab.kernel.invokeFunction(\n",
              "            'suggestCharts', [key], {});\n",
              "      } catch (error) {\n",
              "        console.error('Error during call to suggestCharts:', error);\n",
              "      }\n",
              "      quickchartButtonEl.classList.remove('colab-df-spinner');\n",
              "      quickchartButtonEl.classList.add('colab-df-quickchart-complete');\n",
              "    }\n",
              "    (() => {\n",
              "      let quickchartButtonEl =\n",
              "        document.querySelector('#df-3369d74e-c1bc-45a1-acb2-73105496652a button');\n",
              "      quickchartButtonEl.style.display =\n",
              "        google.colab.kernel.accessAllowed ? 'block' : 'none';\n",
              "    })();\n",
              "  </script>\n",
              "</div>\n",
              "    </div>\n",
              "  </div>\n"
            ],
            "application/vnd.google.colaboratory.intrinsic+json": {
              "type": "dataframe",
              "variable_name": "df_players",
              "summary": "{\n  \"name\": \"df_players\",\n  \"rows\": 3603,\n  \"fields\": [\n    {\n      \"column\": \"passportArea\",\n      \"properties\": {\n        \"dtype\": \"object\",\n        \"semantic_type\": \"\",\n        \"description\": \"\"\n      }\n    },\n    {\n      \"column\": \"weight\",\n      \"properties\": {\n        \"dtype\": \"number\",\n        \"std\": 13,\n        \"min\": 0,\n        \"max\": 101,\n        \"num_unique_values\": 47,\n        \"samples\": [\n          68,\n          59,\n          0\n        ],\n        \"semantic_type\": \"\",\n        \"description\": \"\"\n      }\n    },\n    {\n      \"column\": \"firstName\",\n      \"properties\": {\n        \"dtype\": \"string\",\n        \"num_unique_values\": 2118,\n        \"samples\": [\n          \"Ashley Darel Jazz\",\n          \"Norberto\",\n          \"Olivier\"\n        ],\n        \"semantic_type\": \"\",\n        \"description\": \"\"\n      }\n    },\n    {\n      \"column\": \"middleName\",\n      \"properties\": {\n        \"dtype\": \"object\",\n        \"num_unique_values\": 1,\n        \"samples\": [\n          \"\"\n        ],\n        \"semantic_type\": \"\",\n        \"description\": \"\"\n      }\n    },\n    {\n      \"column\": \"lastName\",\n      \"properties\": {\n        \"dtype\": \"string\",\n        \"num_unique_values\": 3414,\n        \"samples\": [\n          \"Lecomte\"\n        ],\n        \"semantic_type\": \"\",\n        \"description\": \"\"\n      }\n    },\n    {\n      \"column\": \"currentTeamId\",\n      \"properties\": {\n        \"dtype\": \"category\",\n        \"num_unique_values\": 615,\n        \"samples\": [\n          15411\n        ],\n        \"semantic_type\": \"\",\n        \"description\": \"\"\n      }\n    },\n    {\n      \"column\": \"birthDate\",\n      \"properties\": {\n        \"dtype\": \"object\",\n        \"num_unique_values\": 2728,\n        \"samples\": [\n          \"1988-08-26\"\n        ],\n        \"semantic_type\": \"\",\n        \"description\": \"\"\n      }\n    },\n    {\n      \"column\": \"height\",\n      \"properties\": {\n        \"dtype\": \"number\",\n        \"std\": 27,\n        \"min\": 0,\n        \"max\": 203,\n        \"num_unique_values\": 42,\n        \"samples\": [\n          0\n        ],\n        \"semantic_type\": \"\",\n        \"description\": \"\"\n      }\n    },\n    {\n      \"column\": \"role\",\n      \"properties\": {\n        \"dtype\": \"object\",\n        \"semantic_type\": \"\",\n        \"description\": \"\"\n      }\n    },\n    {\n      \"column\": \"birthArea\",\n      \"properties\": {\n        \"dtype\": \"object\",\n        \"semantic_type\": \"\",\n        \"description\": \"\"\n      }\n    },\n    {\n      \"column\": \"wyId\",\n      \"properties\": {\n        \"dtype\": \"number\",\n        \"std\": 153687,\n        \"min\": 12,\n        \"max\": 568583,\n        \"num_unique_values\": 3603,\n        \"samples\": [\n          8955\n        ],\n        \"semantic_type\": \"\",\n        \"description\": \"\"\n      }\n    },\n    {\n      \"column\": \"foot\",\n      \"properties\": {\n        \"dtype\": \"category\",\n        \"num_unique_values\": 5,\n        \"samples\": [\n          \"left\"\n        ],\n        \"semantic_type\": \"\",\n        \"description\": \"\"\n      }\n    },\n    {\n      \"column\": \"shortName\",\n      \"properties\": {\n        \"dtype\": \"string\",\n        \"num_unique_values\": 3560,\n        \"samples\": [\n          \"H. Ayala\"\n        ],\n        \"semantic_type\": \"\",\n        \"description\": \"\"\n      }\n    },\n    {\n      \"column\": \"currentNationalTeamId\",\n      \"properties\": {\n        \"dtype\": \"category\",\n        \"num_unique_values\": 157,\n        \"samples\": [\n          27928\n        ],\n        \"semantic_type\": \"\",\n        \"description\": \"\"\n      }\n    }\n  ]\n}"
            }
          },
          "metadata": {},
          "execution_count": 10
        }
      ]
    },
    {
      "cell_type": "code",
      "source": [
        "df_teams.to_hdf('wyscout.h5', key='teams', mode='w')\n",
        "df_players.to_hdf('wyscout.h5', key='players', mode='a')"
      ],
      "metadata": {
        "id": "kJYm8dp7neaG"
      },
      "execution_count": 11,
      "outputs": []
    },
    {
      "cell_type": "code",
      "source": [
        "competitions = [\n",
        "    #'England',\n",
        "    # 'France',\n",
        "    # 'Germany',\n",
        "    # 'Italy',\n",
        "    'Spain',\n",
        "    'European Championship',\n",
        "    'World Cup'\n",
        "]"
      ],
      "metadata": {
        "id": "M47UoMUHoEOH"
      },
      "execution_count": 12,
      "outputs": []
    },
    {
      "cell_type": "code",
      "source": [
        "dfs_matches = []\n",
        "for competition in competitions:\n",
        "    competition_name = competition.replace(' ', '_')\n",
        "    file_matches = f'matches_{competition_name}.json'\n",
        "    json_matches = read_json_file(file_matches)\n",
        "    df_matches = pd.read_json(json_matches)\n",
        "    dfs_matches.append(df_matches)\n",
        "df_matches = pd.concat(dfs_matches)"
      ],
      "metadata": {
        "id": "OjJAecV7oNud"
      },
      "execution_count": 13,
      "outputs": []
    },
    {
      "cell_type": "code",
      "source": [
        "df_matches.head(10)\n",
        "df_matches.to_hdf('wyscout.h5', key='matches', mode='a')"
      ],
      "metadata": {
        "id": "Gd1ezBhKoQns"
      },
      "execution_count": 14,
      "outputs": []
    },
    {
      "cell_type": "code",
      "source": [
        "for competition in competitions:\n",
        "    competition_name = competition.replace(' ', '_')\n",
        "    file_events = f'events_{competition_name}.json'\n",
        "    json_events = read_json_file(file_events)\n",
        "    df_events = pd.read_json(json_events)\n",
        "    df_events_matches = df_events.groupby('matchId', as_index=False)\n",
        "    for match_id, df_events_match in df_events_matches:\n",
        "        df_events_match.to_hdf('wyscout.h5', key=f'events/match_{match_id}', mode='a')"
      ],
      "metadata": {
        "id": "aB6CoCiioeT9",
        "colab": {
          "base_uri": "https://localhost:8080/",
          "height": 321
        },
        "outputId": "2aa09581-7f25-4888-8dbb-991d2d7544a0"
      },
      "execution_count": 15,
      "outputs": [
        {
          "output_type": "error",
          "ename": "KeyboardInterrupt",
          "evalue": "",
          "traceback": [
            "\u001b[0;31m---------------------------------------------------------------------------\u001b[0m",
            "\u001b[0;31mKeyboardInterrupt\u001b[0m                         Traceback (most recent call last)",
            "\u001b[0;32m<ipython-input-15-e18439b456aa>\u001b[0m in \u001b[0;36m<cell line: 1>\u001b[0;34m()\u001b[0m\n\u001b[1;32m      6\u001b[0m     \u001b[0mdf_events_matches\u001b[0m \u001b[0;34m=\u001b[0m \u001b[0mdf_events\u001b[0m\u001b[0;34m.\u001b[0m\u001b[0mgroupby\u001b[0m\u001b[0;34m(\u001b[0m\u001b[0;34m'matchId'\u001b[0m\u001b[0;34m,\u001b[0m \u001b[0mas_index\u001b[0m\u001b[0;34m=\u001b[0m\u001b[0;32mFalse\u001b[0m\u001b[0;34m)\u001b[0m\u001b[0;34m\u001b[0m\u001b[0;34m\u001b[0m\u001b[0m\n\u001b[1;32m      7\u001b[0m     \u001b[0;32mfor\u001b[0m \u001b[0mmatch_id\u001b[0m\u001b[0;34m,\u001b[0m \u001b[0mdf_events_match\u001b[0m \u001b[0;32min\u001b[0m \u001b[0mdf_events_matches\u001b[0m\u001b[0;34m:\u001b[0m\u001b[0;34m\u001b[0m\u001b[0;34m\u001b[0m\u001b[0m\n\u001b[0;32m----> 8\u001b[0;31m         \u001b[0mdf_events_match\u001b[0m\u001b[0;34m.\u001b[0m\u001b[0mto_hdf\u001b[0m\u001b[0;34m(\u001b[0m\u001b[0;34m'wyscout.h5'\u001b[0m\u001b[0;34m,\u001b[0m \u001b[0mkey\u001b[0m\u001b[0;34m=\u001b[0m\u001b[0;34mf'events/match_{match_id}'\u001b[0m\u001b[0;34m,\u001b[0m \u001b[0mmode\u001b[0m\u001b[0;34m=\u001b[0m\u001b[0;34m'a'\u001b[0m\u001b[0;34m)\u001b[0m\u001b[0;34m\u001b[0m\u001b[0;34m\u001b[0m\u001b[0m\n\u001b[0m",
            "\u001b[0;32m/usr/local/lib/python3.10/dist-packages/pandas/core/generic.py\u001b[0m in \u001b[0;36mto_hdf\u001b[0;34m(self, path_or_buf, key, mode, complevel, complib, append, format, index, min_itemsize, nan_rep, dropna, data_columns, errors, encoding)\u001b[0m\n\u001b[1;32m   2797\u001b[0m         \u001b[0;31m# Argument 3 to \"to_hdf\" has incompatible type \"NDFrame\"; expected\u001b[0m\u001b[0;34m\u001b[0m\u001b[0;34m\u001b[0m\u001b[0m\n\u001b[1;32m   2798\u001b[0m         \u001b[0;31m# \"Union[DataFrame, Series]\" [arg-type]\u001b[0m\u001b[0;34m\u001b[0m\u001b[0;34m\u001b[0m\u001b[0m\n\u001b[0;32m-> 2799\u001b[0;31m         pytables.to_hdf(\n\u001b[0m\u001b[1;32m   2800\u001b[0m             \u001b[0mpath_or_buf\u001b[0m\u001b[0;34m,\u001b[0m\u001b[0;34m\u001b[0m\u001b[0;34m\u001b[0m\u001b[0m\n\u001b[1;32m   2801\u001b[0m             \u001b[0mkey\u001b[0m\u001b[0;34m,\u001b[0m\u001b[0;34m\u001b[0m\u001b[0;34m\u001b[0m\u001b[0m\n",
            "\u001b[0;32m/usr/local/lib/python3.10/dist-packages/pandas/io/pytables.py\u001b[0m in \u001b[0;36mto_hdf\u001b[0;34m(path_or_buf, key, value, mode, complevel, complib, append, format, index, min_itemsize, nan_rep, dropna, data_columns, errors, encoding)\u001b[0m\n\u001b[1;32m    299\u001b[0m             \u001b[0mpath_or_buf\u001b[0m\u001b[0;34m,\u001b[0m \u001b[0mmode\u001b[0m\u001b[0;34m=\u001b[0m\u001b[0mmode\u001b[0m\u001b[0;34m,\u001b[0m \u001b[0mcomplevel\u001b[0m\u001b[0;34m=\u001b[0m\u001b[0mcomplevel\u001b[0m\u001b[0;34m,\u001b[0m \u001b[0mcomplib\u001b[0m\u001b[0;34m=\u001b[0m\u001b[0mcomplib\u001b[0m\u001b[0;34m\u001b[0m\u001b[0;34m\u001b[0m\u001b[0m\n\u001b[1;32m    300\u001b[0m         ) as store:\n\u001b[0;32m--> 301\u001b[0;31m             \u001b[0mf\u001b[0m\u001b[0;34m(\u001b[0m\u001b[0mstore\u001b[0m\u001b[0;34m)\u001b[0m\u001b[0;34m\u001b[0m\u001b[0;34m\u001b[0m\u001b[0m\n\u001b[0m\u001b[1;32m    302\u001b[0m     \u001b[0;32melse\u001b[0m\u001b[0;34m:\u001b[0m\u001b[0;34m\u001b[0m\u001b[0;34m\u001b[0m\u001b[0m\n\u001b[1;32m    303\u001b[0m         \u001b[0mf\u001b[0m\u001b[0;34m(\u001b[0m\u001b[0mpath_or_buf\u001b[0m\u001b[0;34m)\u001b[0m\u001b[0;34m\u001b[0m\u001b[0;34m\u001b[0m\u001b[0m\n",
            "\u001b[0;32m/usr/local/lib/python3.10/dist-packages/pandas/io/pytables.py\u001b[0m in \u001b[0;36m<lambda>\u001b[0;34m(store)\u001b[0m\n\u001b[1;32m    281\u001b[0m     \u001b[0;32melse\u001b[0m\u001b[0;34m:\u001b[0m\u001b[0;34m\u001b[0m\u001b[0;34m\u001b[0m\u001b[0m\n\u001b[1;32m    282\u001b[0m         \u001b[0;31m# NB: dropna is not passed to `put`\u001b[0m\u001b[0;34m\u001b[0m\u001b[0;34m\u001b[0m\u001b[0m\n\u001b[0;32m--> 283\u001b[0;31m         f = lambda store: store.put(\n\u001b[0m\u001b[1;32m    284\u001b[0m             \u001b[0mkey\u001b[0m\u001b[0;34m,\u001b[0m\u001b[0;34m\u001b[0m\u001b[0;34m\u001b[0m\u001b[0m\n\u001b[1;32m    285\u001b[0m             \u001b[0mvalue\u001b[0m\u001b[0;34m,\u001b[0m\u001b[0;34m\u001b[0m\u001b[0;34m\u001b[0m\u001b[0m\n",
            "\u001b[0;32m/usr/local/lib/python3.10/dist-packages/pandas/io/pytables.py\u001b[0m in \u001b[0;36mput\u001b[0;34m(self, key, value, format, index, append, complib, complevel, min_itemsize, nan_rep, data_columns, encoding, errors, track_times, dropna)\u001b[0m\n\u001b[1;32m   1121\u001b[0m             \u001b[0mformat\u001b[0m \u001b[0;34m=\u001b[0m \u001b[0mget_option\u001b[0m\u001b[0;34m(\u001b[0m\u001b[0;34m\"io.hdf.default_format\"\u001b[0m\u001b[0;34m)\u001b[0m \u001b[0;32mor\u001b[0m \u001b[0;34m\"fixed\"\u001b[0m\u001b[0;34m\u001b[0m\u001b[0;34m\u001b[0m\u001b[0m\n\u001b[1;32m   1122\u001b[0m         \u001b[0mformat\u001b[0m \u001b[0;34m=\u001b[0m \u001b[0mself\u001b[0m\u001b[0;34m.\u001b[0m\u001b[0m_validate_format\u001b[0m\u001b[0;34m(\u001b[0m\u001b[0mformat\u001b[0m\u001b[0;34m)\u001b[0m\u001b[0;34m\u001b[0m\u001b[0;34m\u001b[0m\u001b[0m\n\u001b[0;32m-> 1123\u001b[0;31m         self._write_to_group(\n\u001b[0m\u001b[1;32m   1124\u001b[0m             \u001b[0mkey\u001b[0m\u001b[0;34m,\u001b[0m\u001b[0;34m\u001b[0m\u001b[0;34m\u001b[0m\u001b[0m\n\u001b[1;32m   1125\u001b[0m             \u001b[0mvalue\u001b[0m\u001b[0;34m,\u001b[0m\u001b[0;34m\u001b[0m\u001b[0;34m\u001b[0m\u001b[0m\n",
            "\u001b[0;32m/usr/local/lib/python3.10/dist-packages/pandas/io/pytables.py\u001b[0m in \u001b[0;36m_write_to_group\u001b[0;34m(self, key, value, format, axes, index, append, complib, complevel, fletcher32, min_itemsize, chunksize, expectedrows, dropna, nan_rep, data_columns, encoding, errors, track_times)\u001b[0m\n\u001b[1;32m   1757\u001b[0m             \u001b[0;32mreturn\u001b[0m\u001b[0;34m\u001b[0m\u001b[0;34m\u001b[0m\u001b[0m\n\u001b[1;32m   1758\u001b[0m \u001b[0;34m\u001b[0m\u001b[0m\n\u001b[0;32m-> 1759\u001b[0;31m         \u001b[0mgroup\u001b[0m \u001b[0;34m=\u001b[0m \u001b[0mself\u001b[0m\u001b[0;34m.\u001b[0m\u001b[0m_identify_group\u001b[0m\u001b[0;34m(\u001b[0m\u001b[0mkey\u001b[0m\u001b[0;34m,\u001b[0m \u001b[0mappend\u001b[0m\u001b[0;34m)\u001b[0m\u001b[0;34m\u001b[0m\u001b[0;34m\u001b[0m\u001b[0m\n\u001b[0m\u001b[1;32m   1760\u001b[0m \u001b[0;34m\u001b[0m\u001b[0m\n\u001b[1;32m   1761\u001b[0m         \u001b[0ms\u001b[0m \u001b[0;34m=\u001b[0m \u001b[0mself\u001b[0m\u001b[0;34m.\u001b[0m\u001b[0m_create_storer\u001b[0m\u001b[0;34m(\u001b[0m\u001b[0mgroup\u001b[0m\u001b[0;34m,\u001b[0m \u001b[0mformat\u001b[0m\u001b[0;34m,\u001b[0m \u001b[0mvalue\u001b[0m\u001b[0;34m,\u001b[0m \u001b[0mencoding\u001b[0m\u001b[0;34m=\u001b[0m\u001b[0mencoding\u001b[0m\u001b[0;34m,\u001b[0m \u001b[0merrors\u001b[0m\u001b[0;34m=\u001b[0m\u001b[0merrors\u001b[0m\u001b[0;34m)\u001b[0m\u001b[0;34m\u001b[0m\u001b[0;34m\u001b[0m\u001b[0m\n",
            "\u001b[0;32m/usr/local/lib/python3.10/dist-packages/pandas/io/pytables.py\u001b[0m in \u001b[0;36m_identify_group\u001b[0;34m(self, key, append)\u001b[0m\n\u001b[1;32m   1812\u001b[0m \u001b[0;34m\u001b[0m\u001b[0m\n\u001b[1;32m   1813\u001b[0m         \u001b[0;32mif\u001b[0m \u001b[0mgroup\u001b[0m \u001b[0;32mis\u001b[0m \u001b[0;32mNone\u001b[0m\u001b[0;34m:\u001b[0m\u001b[0;34m\u001b[0m\u001b[0;34m\u001b[0m\u001b[0m\n\u001b[0;32m-> 1814\u001b[0;31m             \u001b[0mgroup\u001b[0m \u001b[0;34m=\u001b[0m \u001b[0mself\u001b[0m\u001b[0;34m.\u001b[0m\u001b[0m_create_nodes_and_group\u001b[0m\u001b[0;34m(\u001b[0m\u001b[0mkey\u001b[0m\u001b[0;34m)\u001b[0m\u001b[0;34m\u001b[0m\u001b[0;34m\u001b[0m\u001b[0m\n\u001b[0m\u001b[1;32m   1815\u001b[0m \u001b[0;34m\u001b[0m\u001b[0m\n\u001b[1;32m   1816\u001b[0m         \u001b[0;32mreturn\u001b[0m \u001b[0mgroup\u001b[0m\u001b[0;34m\u001b[0m\u001b[0;34m\u001b[0m\u001b[0m\n",
            "\u001b[0;32m/usr/local/lib/python3.10/dist-packages/pandas/io/pytables.py\u001b[0m in \u001b[0;36m_create_nodes_and_group\u001b[0;34m(self, key)\u001b[0m\n\u001b[1;32m   1833\u001b[0m             \u001b[0mgroup\u001b[0m \u001b[0;34m=\u001b[0m \u001b[0mself\u001b[0m\u001b[0;34m.\u001b[0m\u001b[0mget_node\u001b[0m\u001b[0;34m(\u001b[0m\u001b[0mnew_path\u001b[0m\u001b[0;34m)\u001b[0m\u001b[0;34m\u001b[0m\u001b[0;34m\u001b[0m\u001b[0m\n\u001b[1;32m   1834\u001b[0m             \u001b[0;32mif\u001b[0m \u001b[0mgroup\u001b[0m \u001b[0;32mis\u001b[0m \u001b[0;32mNone\u001b[0m\u001b[0;34m:\u001b[0m\u001b[0;34m\u001b[0m\u001b[0;34m\u001b[0m\u001b[0m\n\u001b[0;32m-> 1835\u001b[0;31m                 \u001b[0mgroup\u001b[0m \u001b[0;34m=\u001b[0m \u001b[0mself\u001b[0m\u001b[0;34m.\u001b[0m\u001b[0m_handle\u001b[0m\u001b[0;34m.\u001b[0m\u001b[0mcreate_group\u001b[0m\u001b[0;34m(\u001b[0m\u001b[0mpath\u001b[0m\u001b[0;34m,\u001b[0m \u001b[0mp\u001b[0m\u001b[0;34m)\u001b[0m\u001b[0;34m\u001b[0m\u001b[0;34m\u001b[0m\u001b[0m\n\u001b[0m\u001b[1;32m   1836\u001b[0m             \u001b[0mpath\u001b[0m \u001b[0;34m=\u001b[0m \u001b[0mnew_path\u001b[0m\u001b[0;34m\u001b[0m\u001b[0;34m\u001b[0m\u001b[0m\n\u001b[1;32m   1837\u001b[0m         \u001b[0;32mreturn\u001b[0m \u001b[0mgroup\u001b[0m\u001b[0;34m\u001b[0m\u001b[0;34m\u001b[0m\u001b[0m\n",
            "\u001b[0;32m/usr/local/lib/python3.10/dist-packages/tables/file.py\u001b[0m in \u001b[0;36mcreate_group\u001b[0;34m(self, where, name, title, filters, createparents)\u001b[0m\n\u001b[1;32m    906\u001b[0m         \u001b[0mparentnode\u001b[0m \u001b[0;34m=\u001b[0m \u001b[0mself\u001b[0m\u001b[0;34m.\u001b[0m\u001b[0m_get_or_create_path\u001b[0m\u001b[0;34m(\u001b[0m\u001b[0mwhere\u001b[0m\u001b[0;34m,\u001b[0m \u001b[0mcreateparents\u001b[0m\u001b[0;34m)\u001b[0m\u001b[0;34m\u001b[0m\u001b[0;34m\u001b[0m\u001b[0m\n\u001b[1;32m    907\u001b[0m         \u001b[0m_checkfilters\u001b[0m\u001b[0;34m(\u001b[0m\u001b[0mfilters\u001b[0m\u001b[0;34m)\u001b[0m\u001b[0;34m\u001b[0m\u001b[0;34m\u001b[0m\u001b[0m\n\u001b[0;32m--> 908\u001b[0;31m         return Group(parentnode, name,\n\u001b[0m\u001b[1;32m    909\u001b[0m                      title=title, new=True, filters=filters)\n\u001b[1;32m    910\u001b[0m \u001b[0;34m\u001b[0m\u001b[0m\n",
            "\u001b[0;32m/usr/local/lib/python3.10/dist-packages/tables/group.py\u001b[0m in \u001b[0;36m__init__\u001b[0;34m(self, parentnode, name, title, new, filters, _log)\u001b[0m\n\u001b[1;32m    219\u001b[0m \u001b[0;34m\u001b[0m\u001b[0m\n\u001b[1;32m    220\u001b[0m         \u001b[0;31m# Finally, set up this object as a node.\u001b[0m\u001b[0;34m\u001b[0m\u001b[0;34m\u001b[0m\u001b[0m\n\u001b[0;32m--> 221\u001b[0;31m         \u001b[0msuper\u001b[0m\u001b[0;34m(\u001b[0m\u001b[0;34m)\u001b[0m\u001b[0;34m.\u001b[0m\u001b[0m__init__\u001b[0m\u001b[0;34m(\u001b[0m\u001b[0mparentnode\u001b[0m\u001b[0;34m,\u001b[0m \u001b[0mname\u001b[0m\u001b[0;34m,\u001b[0m \u001b[0m_log\u001b[0m\u001b[0;34m)\u001b[0m\u001b[0;34m\u001b[0m\u001b[0;34m\u001b[0m\u001b[0m\n\u001b[0m\u001b[1;32m    222\u001b[0m \u001b[0;34m\u001b[0m\u001b[0m\n\u001b[1;32m    223\u001b[0m     \u001b[0;32mdef\u001b[0m \u001b[0m_g_post_init_hook\u001b[0m\u001b[0;34m(\u001b[0m\u001b[0mself\u001b[0m\u001b[0;34m)\u001b[0m\u001b[0;34m:\u001b[0m\u001b[0;34m\u001b[0m\u001b[0;34m\u001b[0m\u001b[0m\n",
            "\u001b[0;32m/usr/local/lib/python3.10/dist-packages/tables/node.py\u001b[0m in \u001b[0;36m__init__\u001b[0;34m(self, parentnode, name, _log)\u001b[0m\n\u001b[1;32m    238\u001b[0m             \u001b[0;31m# Only new nodes need to be referenced.\u001b[0m\u001b[0;34m\u001b[0m\u001b[0;34m\u001b[0m\u001b[0m\n\u001b[1;32m    239\u001b[0m             \u001b[0;31m# Opened nodes are already known by their parent group.\u001b[0m\u001b[0;34m\u001b[0m\u001b[0;34m\u001b[0m\u001b[0m\n\u001b[0;32m--> 240\u001b[0;31m             \u001b[0mparentnode\u001b[0m\u001b[0;34m.\u001b[0m\u001b[0m_g_refnode\u001b[0m\u001b[0;34m(\u001b[0m\u001b[0mself\u001b[0m\u001b[0;34m,\u001b[0m \u001b[0mname\u001b[0m\u001b[0;34m,\u001b[0m \u001b[0mvalidate\u001b[0m\u001b[0;34m)\u001b[0m\u001b[0;34m\u001b[0m\u001b[0;34m\u001b[0m\u001b[0m\n\u001b[0m\u001b[1;32m    241\u001b[0m         \u001b[0mself\u001b[0m\u001b[0;34m.\u001b[0m\u001b[0m_g_set_location\u001b[0m\u001b[0;34m(\u001b[0m\u001b[0mparentnode\u001b[0m\u001b[0;34m,\u001b[0m \u001b[0mname\u001b[0m\u001b[0;34m)\u001b[0m\u001b[0;34m\u001b[0m\u001b[0;34m\u001b[0m\u001b[0m\n\u001b[1;32m    242\u001b[0m \u001b[0;34m\u001b[0m\u001b[0m\n",
            "\u001b[0;32m/usr/local/lib/python3.10/dist-packages/tables/group.py\u001b[0m in \u001b[0;36m_g_refnode\u001b[0;34m(self, childnode, childname, validate)\u001b[0m\n\u001b[1;32m    512\u001b[0m \u001b[0;34m\u001b[0m\u001b[0m\n\u001b[1;32m    513\u001b[0m         \u001b[0;31m# Check group width limits.\u001b[0m\u001b[0;34m\u001b[0m\u001b[0;34m\u001b[0m\u001b[0m\n\u001b[0;32m--> 514\u001b[0;31m         if (len(self._v_children) + len(self._v_hidden) >=\n\u001b[0m\u001b[1;32m    515\u001b[0m                 self._v_max_group_width):\n\u001b[1;32m    516\u001b[0m             \u001b[0mself\u001b[0m\u001b[0;34m.\u001b[0m\u001b[0m_g_width_warning\u001b[0m\u001b[0;34m(\u001b[0m\u001b[0;34m)\u001b[0m\u001b[0;34m\u001b[0m\u001b[0;34m\u001b[0m\u001b[0m\n",
            "\u001b[0;32m/usr/local/lib/python3.10/dist-packages/tables/group.py\u001b[0m in \u001b[0;36m__getattr__\u001b[0;34m(self, name)\u001b[0m\n\u001b[1;32m    794\u001b[0m \u001b[0;34m\u001b[0m\u001b[0m\n\u001b[1;32m    795\u001b[0m         \u001b[0;32mif\u001b[0m \u001b[0mname\u001b[0m \u001b[0;32min\u001b[0m \u001b[0mself\u001b[0m\u001b[0;34m.\u001b[0m\u001b[0m_c_lazy_children_attrs\u001b[0m\u001b[0;34m:\u001b[0m\u001b[0;34m\u001b[0m\u001b[0;34m\u001b[0m\u001b[0m\n\u001b[0;32m--> 796\u001b[0;31m             \u001b[0mself\u001b[0m\u001b[0;34m.\u001b[0m\u001b[0m_g_add_children_names\u001b[0m\u001b[0;34m(\u001b[0m\u001b[0;34m)\u001b[0m\u001b[0;34m\u001b[0m\u001b[0;34m\u001b[0m\u001b[0m\n\u001b[0m\u001b[1;32m    797\u001b[0m             \u001b[0;32mreturn\u001b[0m \u001b[0mself\u001b[0m\u001b[0;34m.\u001b[0m\u001b[0m__dict__\u001b[0m\u001b[0;34m[\u001b[0m\u001b[0mname\u001b[0m\u001b[0;34m]\u001b[0m\u001b[0;34m\u001b[0m\u001b[0;34m\u001b[0m\u001b[0m\n\u001b[1;32m    798\u001b[0m         \u001b[0;32mreturn\u001b[0m \u001b[0mself\u001b[0m\u001b[0;34m.\u001b[0m\u001b[0m_f_get_child\u001b[0m\u001b[0;34m(\u001b[0m\u001b[0mname\u001b[0m\u001b[0;34m)\u001b[0m\u001b[0;34m\u001b[0m\u001b[0;34m\u001b[0m\u001b[0m\n",
            "\u001b[0;32m/usr/local/lib/python3.10/dist-packages/tables/group.py\u001b[0m in \u001b[0;36m_g_add_children_names\u001b[0;34m(self)\u001b[0m\n\u001b[1;32m    346\u001b[0m         \u001b[0;31m# Get the names of *all* child groups and leaves.\u001b[0m\u001b[0;34m\u001b[0m\u001b[0;34m\u001b[0m\u001b[0m\n\u001b[1;32m    347\u001b[0m         \u001b[0;34m(\u001b[0m\u001b[0mgroup_names\u001b[0m\u001b[0;34m,\u001b[0m \u001b[0mleaf_names\u001b[0m\u001b[0;34m,\u001b[0m \u001b[0mlink_names\u001b[0m\u001b[0;34m,\u001b[0m \u001b[0munknown_names\u001b[0m\u001b[0;34m)\u001b[0m \u001b[0;34m=\u001b[0m\u001b[0;31m \u001b[0m\u001b[0;31m\\\u001b[0m\u001b[0;34m\u001b[0m\u001b[0;34m\u001b[0m\u001b[0m\n\u001b[0;32m--> 348\u001b[0;31m             \u001b[0mself\u001b[0m\u001b[0;34m.\u001b[0m\u001b[0m_g_list_group\u001b[0m\u001b[0;34m(\u001b[0m\u001b[0mself\u001b[0m\u001b[0;34m.\u001b[0m\u001b[0m_v_parent\u001b[0m\u001b[0;34m)\u001b[0m\u001b[0;34m\u001b[0m\u001b[0;34m\u001b[0m\u001b[0m\n\u001b[0m\u001b[1;32m    349\u001b[0m \u001b[0;34m\u001b[0m\u001b[0m\n\u001b[1;32m    350\u001b[0m         \u001b[0;31m# Separate groups into visible groups and hidden nodes,\u001b[0m\u001b[0;34m\u001b[0m\u001b[0;34m\u001b[0m\u001b[0m\n",
            "\u001b[0;31mKeyboardInterrupt\u001b[0m: "
          ]
        }
      ]
    },
    {
      "cell_type": "code",
      "execution_count": 21,
      "metadata": {
        "id": "x6Fd1dP4k6li"
      },
      "outputs": [],
      "source": [
        "df_teams = pd.read_hdf('/content/spadl.h5', key='teams')\n",
        "df_players = pd.read_hdf('/content/spadl.h5', key='players')\n",
        "df_games = pd.read_hdf('/content/spadl.h5', key='games')"
      ]
    },
    {
      "cell_type": "markdown",
      "metadata": {
        "id": "DRJLDgS2k6li"
      },
      "source": [
        "We add the team names to the df_games dataframe such that we know which two teams played in which match."
      ]
    },
    {
      "cell_type": "code",
      "execution_count": 22,
      "metadata": {
        "id": "ULa0j2wsk6li"
      },
      "outputs": [],
      "source": [
        "team_name_mapping = df_teams.set_index('team_id')['team_name'].to_dict()\n",
        "df_games['home_team_name'] = df_games['home_team_id'].map(team_name_mapping)\n",
        "df_games['away_team_name'] = df_games['away_team_id'].map(team_name_mapping)"
      ]
    },
    {
      "cell_type": "markdown",
      "metadata": {
        "id": "rEQwKEX7k6li"
      },
      "source": [
        "# Explore SPADL actions"
      ]
    },
    {
      "cell_type": "markdown",
      "metadata": {
        "id": "PjUJlPu3k6li"
      },
      "source": [
        "In this secion we will explore the SPADL actions for a selected match. In this notebook we chose the World Cup 2018 match between Belgium and Japan. The notebook can also be run for a match of your choice."
      ]
    },
    {
      "cell_type": "code",
      "execution_count": 23,
      "metadata": {
        "id": "PpmxCc_5k6lj",
        "colab": {
          "base_uri": "https://localhost:8080/",
          "height": 423
        },
        "outputId": "e00f8629-5a37-423a-ce2a-1c1c80fdf810"
      },
      "outputs": [
        {
          "output_type": "execute_result",
          "data": {
            "text/plain": [
              "    game_id  competition_id  season_id            game_date  home_team_id  \\\n",
              "0   2565922             795     181144  2018-05-20 18:45:00           676   \n",
              "1   2565925             795     181144  2018-05-20 16:30:00           679   \n",
              "2   2565919             795     181144  2018-05-20 14:15:00           678   \n",
              "3   2565924             795     181144  2018-05-20 10:00:00           674   \n",
              "4   2565927             795     181144  2018-05-19 18:45:00           682   \n",
              "..      ...             ...        ...                  ...           ...   \n",
              "59  2057966              28      10078  2018-06-16 10:00:00          4418   \n",
              "60  2057960              28      10078  2018-06-15 18:00:00          9905   \n",
              "61  2057961              28      10078  2018-06-15 15:00:00         16216   \n",
              "62  2057955              28      10078  2018-06-15 12:00:00         16129   \n",
              "63  2057954              28      10078  2018-06-14 15:00:00         14358   \n",
              "\n",
              "    away_team_id             home_team_name                    away_team_name  \n",
              "0            687               FC Barcelona           Real Sociedad de Fútbol  \n",
              "1            701    Club Atlético de Madrid                          SD Eibar  \n",
              "2            691       Athletic Club Bilbao      Reial Club Deportiu Espanyol  \n",
              "3            677    Valencia Club de Fútbol  Real Club Deportivo de La Coruña  \n",
              "4            675  Villarreal Club de Fútbol        Real Madrid Club de Fútbol  \n",
              "..           ...                        ...                               ...  \n",
              "59          8493                     France                         Australia  \n",
              "60          1598                   Portugal                             Spain  \n",
              "61         10840                    Morocco                              Iran  \n",
              "62         15670                      Egypt                           Uruguay  \n",
              "63         16521                     Russia                      Saudi Arabia  \n",
              "\n",
              "[495 rows x 8 columns]"
            ],
            "text/html": [
              "\n",
              "  <div id=\"df-c9ecfde7-1a3c-4215-b549-3807d24899ec\" class=\"colab-df-container\">\n",
              "    <div>\n",
              "<style scoped>\n",
              "    .dataframe tbody tr th:only-of-type {\n",
              "        vertical-align: middle;\n",
              "    }\n",
              "\n",
              "    .dataframe tbody tr th {\n",
              "        vertical-align: top;\n",
              "    }\n",
              "\n",
              "    .dataframe thead th {\n",
              "        text-align: right;\n",
              "    }\n",
              "</style>\n",
              "<table border=\"1\" class=\"dataframe\">\n",
              "  <thead>\n",
              "    <tr style=\"text-align: right;\">\n",
              "      <th></th>\n",
              "      <th>game_id</th>\n",
              "      <th>competition_id</th>\n",
              "      <th>season_id</th>\n",
              "      <th>game_date</th>\n",
              "      <th>home_team_id</th>\n",
              "      <th>away_team_id</th>\n",
              "      <th>home_team_name</th>\n",
              "      <th>away_team_name</th>\n",
              "    </tr>\n",
              "  </thead>\n",
              "  <tbody>\n",
              "    <tr>\n",
              "      <th>0</th>\n",
              "      <td>2565922</td>\n",
              "      <td>795</td>\n",
              "      <td>181144</td>\n",
              "      <td>2018-05-20 18:45:00</td>\n",
              "      <td>676</td>\n",
              "      <td>687</td>\n",
              "      <td>FC Barcelona</td>\n",
              "      <td>Real Sociedad de Fútbol</td>\n",
              "    </tr>\n",
              "    <tr>\n",
              "      <th>1</th>\n",
              "      <td>2565925</td>\n",
              "      <td>795</td>\n",
              "      <td>181144</td>\n",
              "      <td>2018-05-20 16:30:00</td>\n",
              "      <td>679</td>\n",
              "      <td>701</td>\n",
              "      <td>Club Atlético de Madrid</td>\n",
              "      <td>SD Eibar</td>\n",
              "    </tr>\n",
              "    <tr>\n",
              "      <th>2</th>\n",
              "      <td>2565919</td>\n",
              "      <td>795</td>\n",
              "      <td>181144</td>\n",
              "      <td>2018-05-20 14:15:00</td>\n",
              "      <td>678</td>\n",
              "      <td>691</td>\n",
              "      <td>Athletic Club Bilbao</td>\n",
              "      <td>Reial Club Deportiu Espanyol</td>\n",
              "    </tr>\n",
              "    <tr>\n",
              "      <th>3</th>\n",
              "      <td>2565924</td>\n",
              "      <td>795</td>\n",
              "      <td>181144</td>\n",
              "      <td>2018-05-20 10:00:00</td>\n",
              "      <td>674</td>\n",
              "      <td>677</td>\n",
              "      <td>Valencia Club de Fútbol</td>\n",
              "      <td>Real Club Deportivo de La Coruña</td>\n",
              "    </tr>\n",
              "    <tr>\n",
              "      <th>4</th>\n",
              "      <td>2565927</td>\n",
              "      <td>795</td>\n",
              "      <td>181144</td>\n",
              "      <td>2018-05-19 18:45:00</td>\n",
              "      <td>682</td>\n",
              "      <td>675</td>\n",
              "      <td>Villarreal Club de Fútbol</td>\n",
              "      <td>Real Madrid Club de Fútbol</td>\n",
              "    </tr>\n",
              "    <tr>\n",
              "      <th>...</th>\n",
              "      <td>...</td>\n",
              "      <td>...</td>\n",
              "      <td>...</td>\n",
              "      <td>...</td>\n",
              "      <td>...</td>\n",
              "      <td>...</td>\n",
              "      <td>...</td>\n",
              "      <td>...</td>\n",
              "    </tr>\n",
              "    <tr>\n",
              "      <th>59</th>\n",
              "      <td>2057966</td>\n",
              "      <td>28</td>\n",
              "      <td>10078</td>\n",
              "      <td>2018-06-16 10:00:00</td>\n",
              "      <td>4418</td>\n",
              "      <td>8493</td>\n",
              "      <td>France</td>\n",
              "      <td>Australia</td>\n",
              "    </tr>\n",
              "    <tr>\n",
              "      <th>60</th>\n",
              "      <td>2057960</td>\n",
              "      <td>28</td>\n",
              "      <td>10078</td>\n",
              "      <td>2018-06-15 18:00:00</td>\n",
              "      <td>9905</td>\n",
              "      <td>1598</td>\n",
              "      <td>Portugal</td>\n",
              "      <td>Spain</td>\n",
              "    </tr>\n",
              "    <tr>\n",
              "      <th>61</th>\n",
              "      <td>2057961</td>\n",
              "      <td>28</td>\n",
              "      <td>10078</td>\n",
              "      <td>2018-06-15 15:00:00</td>\n",
              "      <td>16216</td>\n",
              "      <td>10840</td>\n",
              "      <td>Morocco</td>\n",
              "      <td>Iran</td>\n",
              "    </tr>\n",
              "    <tr>\n",
              "      <th>62</th>\n",
              "      <td>2057955</td>\n",
              "      <td>28</td>\n",
              "      <td>10078</td>\n",
              "      <td>2018-06-15 12:00:00</td>\n",
              "      <td>16129</td>\n",
              "      <td>15670</td>\n",
              "      <td>Egypt</td>\n",
              "      <td>Uruguay</td>\n",
              "    </tr>\n",
              "    <tr>\n",
              "      <th>63</th>\n",
              "      <td>2057954</td>\n",
              "      <td>28</td>\n",
              "      <td>10078</td>\n",
              "      <td>2018-06-14 15:00:00</td>\n",
              "      <td>14358</td>\n",
              "      <td>16521</td>\n",
              "      <td>Russia</td>\n",
              "      <td>Saudi Arabia</td>\n",
              "    </tr>\n",
              "  </tbody>\n",
              "</table>\n",
              "<p>495 rows × 8 columns</p>\n",
              "</div>\n",
              "    <div class=\"colab-df-buttons\">\n",
              "\n",
              "  <div class=\"colab-df-container\">\n",
              "    <button class=\"colab-df-convert\" onclick=\"convertToInteractive('df-c9ecfde7-1a3c-4215-b549-3807d24899ec')\"\n",
              "            title=\"Convert this dataframe to an interactive table.\"\n",
              "            style=\"display:none;\">\n",
              "\n",
              "  <svg xmlns=\"http://www.w3.org/2000/svg\" height=\"24px\" viewBox=\"0 -960 960 960\">\n",
              "    <path d=\"M120-120v-720h720v720H120Zm60-500h600v-160H180v160Zm220 220h160v-160H400v160Zm0 220h160v-160H400v160ZM180-400h160v-160H180v160Zm440 0h160v-160H620v160ZM180-180h160v-160H180v160Zm440 0h160v-160H620v160Z\"/>\n",
              "  </svg>\n",
              "    </button>\n",
              "\n",
              "  <style>\n",
              "    .colab-df-container {\n",
              "      display:flex;\n",
              "      gap: 12px;\n",
              "    }\n",
              "\n",
              "    .colab-df-convert {\n",
              "      background-color: #E8F0FE;\n",
              "      border: none;\n",
              "      border-radius: 50%;\n",
              "      cursor: pointer;\n",
              "      display: none;\n",
              "      fill: #1967D2;\n",
              "      height: 32px;\n",
              "      padding: 0 0 0 0;\n",
              "      width: 32px;\n",
              "    }\n",
              "\n",
              "    .colab-df-convert:hover {\n",
              "      background-color: #E2EBFA;\n",
              "      box-shadow: 0px 1px 2px rgba(60, 64, 67, 0.3), 0px 1px 3px 1px rgba(60, 64, 67, 0.15);\n",
              "      fill: #174EA6;\n",
              "    }\n",
              "\n",
              "    .colab-df-buttons div {\n",
              "      margin-bottom: 4px;\n",
              "    }\n",
              "\n",
              "    [theme=dark] .colab-df-convert {\n",
              "      background-color: #3B4455;\n",
              "      fill: #D2E3FC;\n",
              "    }\n",
              "\n",
              "    [theme=dark] .colab-df-convert:hover {\n",
              "      background-color: #434B5C;\n",
              "      box-shadow: 0px 1px 3px 1px rgba(0, 0, 0, 0.15);\n",
              "      filter: drop-shadow(0px 1px 2px rgba(0, 0, 0, 0.3));\n",
              "      fill: #FFFFFF;\n",
              "    }\n",
              "  </style>\n",
              "\n",
              "    <script>\n",
              "      const buttonEl =\n",
              "        document.querySelector('#df-c9ecfde7-1a3c-4215-b549-3807d24899ec button.colab-df-convert');\n",
              "      buttonEl.style.display =\n",
              "        google.colab.kernel.accessAllowed ? 'block' : 'none';\n",
              "\n",
              "      async function convertToInteractive(key) {\n",
              "        const element = document.querySelector('#df-c9ecfde7-1a3c-4215-b549-3807d24899ec');\n",
              "        const dataTable =\n",
              "          await google.colab.kernel.invokeFunction('convertToInteractive',\n",
              "                                                    [key], {});\n",
              "        if (!dataTable) return;\n",
              "\n",
              "        const docLinkHtml = 'Like what you see? Visit the ' +\n",
              "          '<a target=\"_blank\" href=https://colab.research.google.com/notebooks/data_table.ipynb>data table notebook</a>'\n",
              "          + ' to learn more about interactive tables.';\n",
              "        element.innerHTML = '';\n",
              "        dataTable['output_type'] = 'display_data';\n",
              "        await google.colab.output.renderOutput(dataTable, element);\n",
              "        const docLink = document.createElement('div');\n",
              "        docLink.innerHTML = docLinkHtml;\n",
              "        element.appendChild(docLink);\n",
              "      }\n",
              "    </script>\n",
              "  </div>\n",
              "\n",
              "\n",
              "<div id=\"df-85a819c8-5319-4a24-a59d-fc231f999f6b\">\n",
              "  <button class=\"colab-df-quickchart\" onclick=\"quickchart('df-85a819c8-5319-4a24-a59d-fc231f999f6b')\"\n",
              "            title=\"Suggest charts\"\n",
              "            style=\"display:none;\">\n",
              "\n",
              "<svg xmlns=\"http://www.w3.org/2000/svg\" height=\"24px\"viewBox=\"0 0 24 24\"\n",
              "     width=\"24px\">\n",
              "    <g>\n",
              "        <path d=\"M19 3H5c-1.1 0-2 .9-2 2v14c0 1.1.9 2 2 2h14c1.1 0 2-.9 2-2V5c0-1.1-.9-2-2-2zM9 17H7v-7h2v7zm4 0h-2V7h2v10zm4 0h-2v-4h2v4z\"/>\n",
              "    </g>\n",
              "</svg>\n",
              "  </button>\n",
              "\n",
              "<style>\n",
              "  .colab-df-quickchart {\n",
              "      --bg-color: #E8F0FE;\n",
              "      --fill-color: #1967D2;\n",
              "      --hover-bg-color: #E2EBFA;\n",
              "      --hover-fill-color: #174EA6;\n",
              "      --disabled-fill-color: #AAA;\n",
              "      --disabled-bg-color: #DDD;\n",
              "  }\n",
              "\n",
              "  [theme=dark] .colab-df-quickchart {\n",
              "      --bg-color: #3B4455;\n",
              "      --fill-color: #D2E3FC;\n",
              "      --hover-bg-color: #434B5C;\n",
              "      --hover-fill-color: #FFFFFF;\n",
              "      --disabled-bg-color: #3B4455;\n",
              "      --disabled-fill-color: #666;\n",
              "  }\n",
              "\n",
              "  .colab-df-quickchart {\n",
              "    background-color: var(--bg-color);\n",
              "    border: none;\n",
              "    border-radius: 50%;\n",
              "    cursor: pointer;\n",
              "    display: none;\n",
              "    fill: var(--fill-color);\n",
              "    height: 32px;\n",
              "    padding: 0;\n",
              "    width: 32px;\n",
              "  }\n",
              "\n",
              "  .colab-df-quickchart:hover {\n",
              "    background-color: var(--hover-bg-color);\n",
              "    box-shadow: 0 1px 2px rgba(60, 64, 67, 0.3), 0 1px 3px 1px rgba(60, 64, 67, 0.15);\n",
              "    fill: var(--button-hover-fill-color);\n",
              "  }\n",
              "\n",
              "  .colab-df-quickchart-complete:disabled,\n",
              "  .colab-df-quickchart-complete:disabled:hover {\n",
              "    background-color: var(--disabled-bg-color);\n",
              "    fill: var(--disabled-fill-color);\n",
              "    box-shadow: none;\n",
              "  }\n",
              "\n",
              "  .colab-df-spinner {\n",
              "    border: 2px solid var(--fill-color);\n",
              "    border-color: transparent;\n",
              "    border-bottom-color: var(--fill-color);\n",
              "    animation:\n",
              "      spin 1s steps(1) infinite;\n",
              "  }\n",
              "\n",
              "  @keyframes spin {\n",
              "    0% {\n",
              "      border-color: transparent;\n",
              "      border-bottom-color: var(--fill-color);\n",
              "      border-left-color: var(--fill-color);\n",
              "    }\n",
              "    20% {\n",
              "      border-color: transparent;\n",
              "      border-left-color: var(--fill-color);\n",
              "      border-top-color: var(--fill-color);\n",
              "    }\n",
              "    30% {\n",
              "      border-color: transparent;\n",
              "      border-left-color: var(--fill-color);\n",
              "      border-top-color: var(--fill-color);\n",
              "      border-right-color: var(--fill-color);\n",
              "    }\n",
              "    40% {\n",
              "      border-color: transparent;\n",
              "      border-right-color: var(--fill-color);\n",
              "      border-top-color: var(--fill-color);\n",
              "    }\n",
              "    60% {\n",
              "      border-color: transparent;\n",
              "      border-right-color: var(--fill-color);\n",
              "    }\n",
              "    80% {\n",
              "      border-color: transparent;\n",
              "      border-right-color: var(--fill-color);\n",
              "      border-bottom-color: var(--fill-color);\n",
              "    }\n",
              "    90% {\n",
              "      border-color: transparent;\n",
              "      border-bottom-color: var(--fill-color);\n",
              "    }\n",
              "  }\n",
              "</style>\n",
              "\n",
              "  <script>\n",
              "    async function quickchart(key) {\n",
              "      const quickchartButtonEl =\n",
              "        document.querySelector('#' + key + ' button');\n",
              "      quickchartButtonEl.disabled = true;  // To prevent multiple clicks.\n",
              "      quickchartButtonEl.classList.add('colab-df-spinner');\n",
              "      try {\n",
              "        const charts = await google.colab.kernel.invokeFunction(\n",
              "            'suggestCharts', [key], {});\n",
              "      } catch (error) {\n",
              "        console.error('Error during call to suggestCharts:', error);\n",
              "      }\n",
              "      quickchartButtonEl.classList.remove('colab-df-spinner');\n",
              "      quickchartButtonEl.classList.add('colab-df-quickchart-complete');\n",
              "    }\n",
              "    (() => {\n",
              "      let quickchartButtonEl =\n",
              "        document.querySelector('#df-85a819c8-5319-4a24-a59d-fc231f999f6b button');\n",
              "      quickchartButtonEl.style.display =\n",
              "        google.colab.kernel.accessAllowed ? 'block' : 'none';\n",
              "    })();\n",
              "  </script>\n",
              "</div>\n",
              "    </div>\n",
              "  </div>\n"
            ],
            "application/vnd.google.colaboratory.intrinsic+json": {
              "type": "dataframe",
              "variable_name": "df_games",
              "summary": "{\n  \"name\": \"df_games\",\n  \"rows\": 495,\n  \"fields\": [\n    {\n      \"column\": \"game_id\",\n      \"properties\": {\n        \"dtype\": \"number\",\n        \"std\": 295931,\n        \"min\": 1694390,\n        \"max\": 2565927,\n        \"num_unique_values\": 495,\n        \"samples\": [\n          2057977,\n          2565852,\n          2565609\n        ],\n        \"semantic_type\": \"\",\n        \"description\": \"\"\n      }\n    },\n    {\n      \"column\": \"competition_id\",\n      \"properties\": {\n        \"dtype\": \"number\",\n        \"std\": 310,\n        \"min\": 28,\n        \"max\": 795,\n        \"num_unique_values\": 3,\n        \"samples\": [\n          795,\n          102,\n          28\n        ],\n        \"semantic_type\": \"\",\n        \"description\": \"\"\n      }\n    },\n    {\n      \"column\": \"season_id\",\n      \"properties\": {\n        \"dtype\": \"number\",\n        \"std\": 72464,\n        \"min\": 9291,\n        \"max\": 181144,\n        \"num_unique_values\": 3,\n        \"samples\": [\n          181144,\n          9291,\n          10078\n        ],\n        \"semantic_type\": \"\",\n        \"description\": \"\"\n      }\n    },\n    {\n      \"column\": \"game_date\",\n      \"properties\": {\n        \"dtype\": \"date\",\n        \"min\": \"2016-06-10 19:00:00\",\n        \"max\": \"2018-07-15 15:00:00\",\n        \"num_unique_values\": 456,\n        \"samples\": [\n          \"2016-06-21 16:00:00\",\n          \"2018-04-22 14:15:00\",\n          \"2017-08-26 20:15:00\"\n        ],\n        \"semantic_type\": \"\",\n        \"description\": \"\"\n      }\n    },\n    {\n      \"column\": \"home_team_id\",\n      \"properties\": {\n        \"dtype\": \"number\",\n        \"std\": 4319,\n        \"min\": 674,\n        \"max\": 19314,\n        \"num_unique_values\": 64,\n        \"samples\": [\n          14855,\n          12274,\n          676\n        ],\n        \"semantic_type\": \"\",\n        \"description\": \"\"\n      }\n    },\n    {\n      \"column\": \"away_team_id\",\n      \"properties\": {\n        \"dtype\": \"number\",\n        \"std\": 4512,\n        \"min\": 674,\n        \"max\": 19314,\n        \"num_unique_values\": 64,\n        \"samples\": [\n          15594,\n          16521,\n          687\n        ],\n        \"semantic_type\": \"\",\n        \"description\": \"\"\n      }\n    },\n    {\n      \"column\": \"home_team_name\",\n      \"properties\": {\n        \"dtype\": \"category\",\n        \"num_unique_values\": 64,\n        \"samples\": [\n          \"Korea Republic\",\n          \"Argentina\",\n          \"FC Barcelona\"\n        ],\n        \"semantic_type\": \"\",\n        \"description\": \"\"\n      }\n    },\n    {\n      \"column\": \"away_team_name\",\n      \"properties\": {\n        \"dtype\": \"category\",\n        \"num_unique_values\": 64,\n        \"samples\": [\n          \"Peru\",\n          \"Saudi Arabia\",\n          \"Real Sociedad de F\\u00fatbol\"\n        ],\n        \"semantic_type\": \"\",\n        \"description\": \"\"\n      }\n    }\n  ]\n}"
            }
          },
          "metadata": {},
          "execution_count": 23
        }
      ],
      "source": [
        "df_games"
      ]
    },
    {
      "cell_type": "code",
      "execution_count": 24,
      "metadata": {
        "id": "BV_iBOh_k6lj",
        "colab": {
          "base_uri": "https://localhost:8080/",
          "height": 81
        },
        "outputId": "ccf91a9f-91ce-4600-9a6a-0bc5d63e63bd"
      },
      "outputs": [
        {
          "output_type": "execute_result",
          "data": {
            "text/plain": [
              "    game_id  competition_id  season_id            game_date  home_team_id  \\\n",
              "10  2058007              28      10078  2018-07-02 18:00:00          5629   \n",
              "\n",
              "    away_team_id home_team_name away_team_name  \n",
              "10         12913        Belgium          Japan  "
            ],
            "text/html": [
              "\n",
              "  <div id=\"df-96ff43b9-d8d4-489f-afc8-db5ed369c13b\" class=\"colab-df-container\">\n",
              "    <div>\n",
              "<style scoped>\n",
              "    .dataframe tbody tr th:only-of-type {\n",
              "        vertical-align: middle;\n",
              "    }\n",
              "\n",
              "    .dataframe tbody tr th {\n",
              "        vertical-align: top;\n",
              "    }\n",
              "\n",
              "    .dataframe thead th {\n",
              "        text-align: right;\n",
              "    }\n",
              "</style>\n",
              "<table border=\"1\" class=\"dataframe\">\n",
              "  <thead>\n",
              "    <tr style=\"text-align: right;\">\n",
              "      <th></th>\n",
              "      <th>game_id</th>\n",
              "      <th>competition_id</th>\n",
              "      <th>season_id</th>\n",
              "      <th>game_date</th>\n",
              "      <th>home_team_id</th>\n",
              "      <th>away_team_id</th>\n",
              "      <th>home_team_name</th>\n",
              "      <th>away_team_name</th>\n",
              "    </tr>\n",
              "  </thead>\n",
              "  <tbody>\n",
              "    <tr>\n",
              "      <th>10</th>\n",
              "      <td>2058007</td>\n",
              "      <td>28</td>\n",
              "      <td>10078</td>\n",
              "      <td>2018-07-02 18:00:00</td>\n",
              "      <td>5629</td>\n",
              "      <td>12913</td>\n",
              "      <td>Belgium</td>\n",
              "      <td>Japan</td>\n",
              "    </tr>\n",
              "  </tbody>\n",
              "</table>\n",
              "</div>\n",
              "    <div class=\"colab-df-buttons\">\n",
              "\n",
              "  <div class=\"colab-df-container\">\n",
              "    <button class=\"colab-df-convert\" onclick=\"convertToInteractive('df-96ff43b9-d8d4-489f-afc8-db5ed369c13b')\"\n",
              "            title=\"Convert this dataframe to an interactive table.\"\n",
              "            style=\"display:none;\">\n",
              "\n",
              "  <svg xmlns=\"http://www.w3.org/2000/svg\" height=\"24px\" viewBox=\"0 -960 960 960\">\n",
              "    <path d=\"M120-120v-720h720v720H120Zm60-500h600v-160H180v160Zm220 220h160v-160H400v160Zm0 220h160v-160H400v160ZM180-400h160v-160H180v160Zm440 0h160v-160H620v160ZM180-180h160v-160H180v160Zm440 0h160v-160H620v160Z\"/>\n",
              "  </svg>\n",
              "    </button>\n",
              "\n",
              "  <style>\n",
              "    .colab-df-container {\n",
              "      display:flex;\n",
              "      gap: 12px;\n",
              "    }\n",
              "\n",
              "    .colab-df-convert {\n",
              "      background-color: #E8F0FE;\n",
              "      border: none;\n",
              "      border-radius: 50%;\n",
              "      cursor: pointer;\n",
              "      display: none;\n",
              "      fill: #1967D2;\n",
              "      height: 32px;\n",
              "      padding: 0 0 0 0;\n",
              "      width: 32px;\n",
              "    }\n",
              "\n",
              "    .colab-df-convert:hover {\n",
              "      background-color: #E2EBFA;\n",
              "      box-shadow: 0px 1px 2px rgba(60, 64, 67, 0.3), 0px 1px 3px 1px rgba(60, 64, 67, 0.15);\n",
              "      fill: #174EA6;\n",
              "    }\n",
              "\n",
              "    .colab-df-buttons div {\n",
              "      margin-bottom: 4px;\n",
              "    }\n",
              "\n",
              "    [theme=dark] .colab-df-convert {\n",
              "      background-color: #3B4455;\n",
              "      fill: #D2E3FC;\n",
              "    }\n",
              "\n",
              "    [theme=dark] .colab-df-convert:hover {\n",
              "      background-color: #434B5C;\n",
              "      box-shadow: 0px 1px 3px 1px rgba(0, 0, 0, 0.15);\n",
              "      filter: drop-shadow(0px 1px 2px rgba(0, 0, 0, 0.3));\n",
              "      fill: #FFFFFF;\n",
              "    }\n",
              "  </style>\n",
              "\n",
              "    <script>\n",
              "      const buttonEl =\n",
              "        document.querySelector('#df-96ff43b9-d8d4-489f-afc8-db5ed369c13b button.colab-df-convert');\n",
              "      buttonEl.style.display =\n",
              "        google.colab.kernel.accessAllowed ? 'block' : 'none';\n",
              "\n",
              "      async function convertToInteractive(key) {\n",
              "        const element = document.querySelector('#df-96ff43b9-d8d4-489f-afc8-db5ed369c13b');\n",
              "        const dataTable =\n",
              "          await google.colab.kernel.invokeFunction('convertToInteractive',\n",
              "                                                    [key], {});\n",
              "        if (!dataTable) return;\n",
              "\n",
              "        const docLinkHtml = 'Like what you see? Visit the ' +\n",
              "          '<a target=\"_blank\" href=https://colab.research.google.com/notebooks/data_table.ipynb>data table notebook</a>'\n",
              "          + ' to learn more about interactive tables.';\n",
              "        element.innerHTML = '';\n",
              "        dataTable['output_type'] = 'display_data';\n",
              "        await google.colab.output.renderOutput(dataTable, element);\n",
              "        const docLink = document.createElement('div');\n",
              "        docLink.innerHTML = docLinkHtml;\n",
              "        element.appendChild(docLink);\n",
              "      }\n",
              "    </script>\n",
              "  </div>\n",
              "\n",
              "    </div>\n",
              "  </div>\n"
            ],
            "application/vnd.google.colaboratory.intrinsic+json": {
              "type": "dataframe",
              "repr_error": "0"
            }
          },
          "metadata": {},
          "execution_count": 24
        }
      ],
      "source": [
        "df_games[(df_games['home_team_name'] == 'Belgium') &\n",
        "         (df_games['away_team_name'] == 'Japan')]"
      ]
    },
    {
      "cell_type": "markdown",
      "metadata": {
        "id": "IbalcNwkk6lj"
      },
      "source": [
        "**Note:** This notebook expects the data for the World Cup 2018 to be in the SPADL dataset. Make sure that the `game_id` selected in the cell below belongs to a game in your dataset."
      ]
    },
    {
      "cell_type": "code",
      "execution_count": 25,
      "metadata": {
        "id": "GXl4RZFXk6lj"
      },
      "outputs": [],
      "source": [
        "# Select a game of choice\n",
        "game_id = 2058007"
      ]
    },
    {
      "cell_type": "markdown",
      "metadata": {
        "id": "xbCQKX4Mk6lj"
      },
      "source": [
        "## Load SPADL actions for selected game"
      ]
    },
    {
      "cell_type": "markdown",
      "metadata": {
        "id": "hLexusWTk6lj"
      },
      "source": [
        "For each action, the dataset contains the following information for the action:\n",
        "\n",
        "* game_id: a unique identifier of the game;\n",
        "* team_id: a unique identifier of the team who performed the action;\n",
        "* player_id: a unique identifier of the player who performed the action;\n",
        "* period: 1 for the first half and 2 for the second half;\n",
        "* seconds: the time elapsed in seconds since the start of the half;\n",
        "* type_id: the identifier for the type of action;\n",
        "* type_name: the name for the type of action;\n",
        "* body_part_id: 0 for foot, 1 for head, 2 for other body part;\n",
        "* result: the result of the action: 0 for failure, 1 for success;\n",
        "* start_x: the x coordinate for the location where the action started, ranges from 0 to 105;\n",
        "* start_y: the y coordinate for the location where the action started, ranges from 0 to 68;\n",
        "* end_x: the x coordinate for the location where the action ended, ranges from 0 to 105;\n",
        "* end_y: the y coordinate for the location where the action ended, ranges from 0 to 68.\n",
        "\n",
        "The action types are:\n",
        "\n",
        "    0: pass\n",
        "    1: cross\n",
        "    2: throw in\n",
        "    3: freekick crossed\n",
        "    4: freekick short\n",
        "    5: corner crossed\n",
        "    6: corner short\n",
        "    7: take on\n",
        "    8: foul\n",
        "    9: tackle\n",
        "    10: interception\n",
        "    11: shot\n",
        "    12: shot penalty\n",
        "    13: shot freekick\n",
        "    14: keeper save\n",
        "    18: clearance\n",
        "    21: dribble\n",
        "    22: goalkick"
      ]
    },
    {
      "cell_type": "markdown",
      "metadata": {
        "id": "MgcMbJGHk6lj"
      },
      "source": [
        "We first load the actions for the selected game_id."
      ]
    },
    {
      "cell_type": "code",
      "execution_count": 27,
      "metadata": {
        "id": "cZgYt9ntk6lj"
      },
      "outputs": [],
      "source": [
        "with pd.HDFStore('/content/spadl.h5') as spadlstore:\n",
        "    df_actions = spadlstore[f'actions/game_{game_id}']\n",
        "    df_actions = (\n",
        "        df_actions.merge(spadlstore['actiontypes'], how='left')\n",
        "        .merge(spadlstore['results'], how='left')\n",
        "        .merge(spadlstore['bodyparts'], how='left')\n",
        "        .merge(spadlstore['players'], how=\"left\")\n",
        "        .merge(spadlstore['teams'], how='left')\n",
        "        .reset_index()\n",
        "        .rename(columns={'index': 'action_id'})\n",
        "    )"
      ]
    },
    {
      "cell_type": "code",
      "execution_count": 29,
      "metadata": {
        "id": "-xI-lXyGk6lj",
        "colab": {
          "base_uri": "https://localhost:8080/",
          "height": 530
        },
        "outputId": "ae95c977-f8b2-4b1a-f88d-d1f870acbae3"
      },
      "outputs": [
        {
          "output_type": "execute_result",
          "data": {
            "text/plain": [
              "      action_id    game_id  period_id  time_seconds  team_id  player_id  \\\n",
              "0             0  2058007.0        1.0      2.661076   5629.0     7905.0   \n",
              "1             1  2058007.0        1.0      4.460889   5629.0    70123.0   \n",
              "2             2  2058007.0        1.0      7.611112   5629.0       48.0   \n",
              "3             3  2058007.0        1.0      9.700278   5629.0     8307.0   \n",
              "4             4  2058007.0        1.0     12.723724   5629.0       36.0   \n",
              "...         ...        ...        ...           ...      ...        ...   \n",
              "1387       1387  2058007.0        2.0   2921.636500   5629.0    38021.0   \n",
              "1388       1388  2058007.0        2.0   2923.441269   5629.0    37824.0   \n",
              "1389       1389  2058007.0        2.0   2924.865867   5629.0     7905.0   \n",
              "1390       1390  2058007.0        2.0   2925.095909   5629.0      261.0   \n",
              "1391       1391  2058007.0        2.0   3004.110096  12913.0    94831.0   \n",
              "\n",
              "      start_x  start_y   end_x  end_y  ...  result_id  type_name  result_name  \\\n",
              "0       52.50    34.00   42.00  32.64  ...          1       pass      success   \n",
              "1       42.00    32.64   33.60  57.12  ...          1       pass      success   \n",
              "2       33.60    57.12   23.10  42.16  ...          1       pass      success   \n",
              "3       23.10    42.16   25.20  20.40  ...          1       pass      success   \n",
              "4       25.20    20.40   13.65  40.12  ...          1       pass      success   \n",
              "...       ...      ...     ...    ...  ...        ...        ...          ...   \n",
              "1387    60.90    31.96   86.10  11.56  ...          1       pass      success   \n",
              "1388    86.10    11.56   94.50  31.28  ...          1       pass      success   \n",
              "1389    94.50    31.28   95.55  39.44  ...          1       pass      success   \n",
              "1390    95.55    39.44  105.00  34.00  ...          1       shot      success   \n",
              "1391    51.45    34.00    0.00  68.00  ...          0       pass         fail   \n",
              "\n",
              "     bodypart_name       short_name first_name      last_name  birth_date  \\\n",
              "0             foot        R. Lukaku     Romelu  Lukaku Menama  1993-05-13   \n",
              "1             foot        A. Witsel      Axel          Witsel  1989-01-12   \n",
              "2             foot    J. Vertonghen        Jan     Vertonghen  1987-04-24   \n",
              "3             foot       V. Kompany    Vincent        Kompany  1986-04-10   \n",
              "4             foot  T. Alderweireld       Toby   Alderweireld  1989-03-02   \n",
              "...            ...              ...        ...            ...         ...   \n",
              "1387          foot     K. De Bruyne      Kevin      De Bruyne  1991-06-28   \n",
              "1388          foot       T. Meunier     Thomas        Meunier  1991-09-12   \n",
              "1389          foot        R. Lukaku     Romelu  Lukaku Menama  1993-05-13   \n",
              "1390          foot        N. Chadli      Nacer         Chadli  1989-08-02   \n",
              "1391          foot         Y. Ōsako       Yūya          Ōsako  1990-05-18   \n",
              "\n",
              "     short_team_name team_name  \n",
              "0            Belgium   Belgium  \n",
              "1            Belgium   Belgium  \n",
              "2            Belgium   Belgium  \n",
              "3            Belgium   Belgium  \n",
              "4            Belgium   Belgium  \n",
              "...              ...       ...  \n",
              "1387         Belgium   Belgium  \n",
              "1388         Belgium   Belgium  \n",
              "1389         Belgium   Belgium  \n",
              "1390         Belgium   Belgium  \n",
              "1391           Japan     Japan  \n",
              "\n",
              "[1392 rows x 22 columns]"
            ],
            "text/html": [
              "\n",
              "  <div id=\"df-e8d4f1c1-04d6-4ded-8e4c-5537cefbd29a\" class=\"colab-df-container\">\n",
              "    <div>\n",
              "<style scoped>\n",
              "    .dataframe tbody tr th:only-of-type {\n",
              "        vertical-align: middle;\n",
              "    }\n",
              "\n",
              "    .dataframe tbody tr th {\n",
              "        vertical-align: top;\n",
              "    }\n",
              "\n",
              "    .dataframe thead th {\n",
              "        text-align: right;\n",
              "    }\n",
              "</style>\n",
              "<table border=\"1\" class=\"dataframe\">\n",
              "  <thead>\n",
              "    <tr style=\"text-align: right;\">\n",
              "      <th></th>\n",
              "      <th>action_id</th>\n",
              "      <th>game_id</th>\n",
              "      <th>period_id</th>\n",
              "      <th>time_seconds</th>\n",
              "      <th>team_id</th>\n",
              "      <th>player_id</th>\n",
              "      <th>start_x</th>\n",
              "      <th>start_y</th>\n",
              "      <th>end_x</th>\n",
              "      <th>end_y</th>\n",
              "      <th>...</th>\n",
              "      <th>result_id</th>\n",
              "      <th>type_name</th>\n",
              "      <th>result_name</th>\n",
              "      <th>bodypart_name</th>\n",
              "      <th>short_name</th>\n",
              "      <th>first_name</th>\n",
              "      <th>last_name</th>\n",
              "      <th>birth_date</th>\n",
              "      <th>short_team_name</th>\n",
              "      <th>team_name</th>\n",
              "    </tr>\n",
              "  </thead>\n",
              "  <tbody>\n",
              "    <tr>\n",
              "      <th>0</th>\n",
              "      <td>0</td>\n",
              "      <td>2058007.0</td>\n",
              "      <td>1.0</td>\n",
              "      <td>2.661076</td>\n",
              "      <td>5629.0</td>\n",
              "      <td>7905.0</td>\n",
              "      <td>52.50</td>\n",
              "      <td>34.00</td>\n",
              "      <td>42.00</td>\n",
              "      <td>32.64</td>\n",
              "      <td>...</td>\n",
              "      <td>1</td>\n",
              "      <td>pass</td>\n",
              "      <td>success</td>\n",
              "      <td>foot</td>\n",
              "      <td>R. Lukaku</td>\n",
              "      <td>Romelu</td>\n",
              "      <td>Lukaku Menama</td>\n",
              "      <td>1993-05-13</td>\n",
              "      <td>Belgium</td>\n",
              "      <td>Belgium</td>\n",
              "    </tr>\n",
              "    <tr>\n",
              "      <th>1</th>\n",
              "      <td>1</td>\n",
              "      <td>2058007.0</td>\n",
              "      <td>1.0</td>\n",
              "      <td>4.460889</td>\n",
              "      <td>5629.0</td>\n",
              "      <td>70123.0</td>\n",
              "      <td>42.00</td>\n",
              "      <td>32.64</td>\n",
              "      <td>33.60</td>\n",
              "      <td>57.12</td>\n",
              "      <td>...</td>\n",
              "      <td>1</td>\n",
              "      <td>pass</td>\n",
              "      <td>success</td>\n",
              "      <td>foot</td>\n",
              "      <td>A. Witsel</td>\n",
              "      <td>Axel</td>\n",
              "      <td>Witsel</td>\n",
              "      <td>1989-01-12</td>\n",
              "      <td>Belgium</td>\n",
              "      <td>Belgium</td>\n",
              "    </tr>\n",
              "    <tr>\n",
              "      <th>2</th>\n",
              "      <td>2</td>\n",
              "      <td>2058007.0</td>\n",
              "      <td>1.0</td>\n",
              "      <td>7.611112</td>\n",
              "      <td>5629.0</td>\n",
              "      <td>48.0</td>\n",
              "      <td>33.60</td>\n",
              "      <td>57.12</td>\n",
              "      <td>23.10</td>\n",
              "      <td>42.16</td>\n",
              "      <td>...</td>\n",
              "      <td>1</td>\n",
              "      <td>pass</td>\n",
              "      <td>success</td>\n",
              "      <td>foot</td>\n",
              "      <td>J. Vertonghen</td>\n",
              "      <td>Jan</td>\n",
              "      <td>Vertonghen</td>\n",
              "      <td>1987-04-24</td>\n",
              "      <td>Belgium</td>\n",
              "      <td>Belgium</td>\n",
              "    </tr>\n",
              "    <tr>\n",
              "      <th>3</th>\n",
              "      <td>3</td>\n",
              "      <td>2058007.0</td>\n",
              "      <td>1.0</td>\n",
              "      <td>9.700278</td>\n",
              "      <td>5629.0</td>\n",
              "      <td>8307.0</td>\n",
              "      <td>23.10</td>\n",
              "      <td>42.16</td>\n",
              "      <td>25.20</td>\n",
              "      <td>20.40</td>\n",
              "      <td>...</td>\n",
              "      <td>1</td>\n",
              "      <td>pass</td>\n",
              "      <td>success</td>\n",
              "      <td>foot</td>\n",
              "      <td>V. Kompany</td>\n",
              "      <td>Vincent</td>\n",
              "      <td>Kompany</td>\n",
              "      <td>1986-04-10</td>\n",
              "      <td>Belgium</td>\n",
              "      <td>Belgium</td>\n",
              "    </tr>\n",
              "    <tr>\n",
              "      <th>4</th>\n",
              "      <td>4</td>\n",
              "      <td>2058007.0</td>\n",
              "      <td>1.0</td>\n",
              "      <td>12.723724</td>\n",
              "      <td>5629.0</td>\n",
              "      <td>36.0</td>\n",
              "      <td>25.20</td>\n",
              "      <td>20.40</td>\n",
              "      <td>13.65</td>\n",
              "      <td>40.12</td>\n",
              "      <td>...</td>\n",
              "      <td>1</td>\n",
              "      <td>pass</td>\n",
              "      <td>success</td>\n",
              "      <td>foot</td>\n",
              "      <td>T. Alderweireld</td>\n",
              "      <td>Toby</td>\n",
              "      <td>Alderweireld</td>\n",
              "      <td>1989-03-02</td>\n",
              "      <td>Belgium</td>\n",
              "      <td>Belgium</td>\n",
              "    </tr>\n",
              "    <tr>\n",
              "      <th>...</th>\n",
              "      <td>...</td>\n",
              "      <td>...</td>\n",
              "      <td>...</td>\n",
              "      <td>...</td>\n",
              "      <td>...</td>\n",
              "      <td>...</td>\n",
              "      <td>...</td>\n",
              "      <td>...</td>\n",
              "      <td>...</td>\n",
              "      <td>...</td>\n",
              "      <td>...</td>\n",
              "      <td>...</td>\n",
              "      <td>...</td>\n",
              "      <td>...</td>\n",
              "      <td>...</td>\n",
              "      <td>...</td>\n",
              "      <td>...</td>\n",
              "      <td>...</td>\n",
              "      <td>...</td>\n",
              "      <td>...</td>\n",
              "      <td>...</td>\n",
              "    </tr>\n",
              "    <tr>\n",
              "      <th>1387</th>\n",
              "      <td>1387</td>\n",
              "      <td>2058007.0</td>\n",
              "      <td>2.0</td>\n",
              "      <td>2921.636500</td>\n",
              "      <td>5629.0</td>\n",
              "      <td>38021.0</td>\n",
              "      <td>60.90</td>\n",
              "      <td>31.96</td>\n",
              "      <td>86.10</td>\n",
              "      <td>11.56</td>\n",
              "      <td>...</td>\n",
              "      <td>1</td>\n",
              "      <td>pass</td>\n",
              "      <td>success</td>\n",
              "      <td>foot</td>\n",
              "      <td>K. De Bruyne</td>\n",
              "      <td>Kevin</td>\n",
              "      <td>De Bruyne</td>\n",
              "      <td>1991-06-28</td>\n",
              "      <td>Belgium</td>\n",
              "      <td>Belgium</td>\n",
              "    </tr>\n",
              "    <tr>\n",
              "      <th>1388</th>\n",
              "      <td>1388</td>\n",
              "      <td>2058007.0</td>\n",
              "      <td>2.0</td>\n",
              "      <td>2923.441269</td>\n",
              "      <td>5629.0</td>\n",
              "      <td>37824.0</td>\n",
              "      <td>86.10</td>\n",
              "      <td>11.56</td>\n",
              "      <td>94.50</td>\n",
              "      <td>31.28</td>\n",
              "      <td>...</td>\n",
              "      <td>1</td>\n",
              "      <td>pass</td>\n",
              "      <td>success</td>\n",
              "      <td>foot</td>\n",
              "      <td>T. Meunier</td>\n",
              "      <td>Thomas</td>\n",
              "      <td>Meunier</td>\n",
              "      <td>1991-09-12</td>\n",
              "      <td>Belgium</td>\n",
              "      <td>Belgium</td>\n",
              "    </tr>\n",
              "    <tr>\n",
              "      <th>1389</th>\n",
              "      <td>1389</td>\n",
              "      <td>2058007.0</td>\n",
              "      <td>2.0</td>\n",
              "      <td>2924.865867</td>\n",
              "      <td>5629.0</td>\n",
              "      <td>7905.0</td>\n",
              "      <td>94.50</td>\n",
              "      <td>31.28</td>\n",
              "      <td>95.55</td>\n",
              "      <td>39.44</td>\n",
              "      <td>...</td>\n",
              "      <td>1</td>\n",
              "      <td>pass</td>\n",
              "      <td>success</td>\n",
              "      <td>foot</td>\n",
              "      <td>R. Lukaku</td>\n",
              "      <td>Romelu</td>\n",
              "      <td>Lukaku Menama</td>\n",
              "      <td>1993-05-13</td>\n",
              "      <td>Belgium</td>\n",
              "      <td>Belgium</td>\n",
              "    </tr>\n",
              "    <tr>\n",
              "      <th>1390</th>\n",
              "      <td>1390</td>\n",
              "      <td>2058007.0</td>\n",
              "      <td>2.0</td>\n",
              "      <td>2925.095909</td>\n",
              "      <td>5629.0</td>\n",
              "      <td>261.0</td>\n",
              "      <td>95.55</td>\n",
              "      <td>39.44</td>\n",
              "      <td>105.00</td>\n",
              "      <td>34.00</td>\n",
              "      <td>...</td>\n",
              "      <td>1</td>\n",
              "      <td>shot</td>\n",
              "      <td>success</td>\n",
              "      <td>foot</td>\n",
              "      <td>N. Chadli</td>\n",
              "      <td>Nacer</td>\n",
              "      <td>Chadli</td>\n",
              "      <td>1989-08-02</td>\n",
              "      <td>Belgium</td>\n",
              "      <td>Belgium</td>\n",
              "    </tr>\n",
              "    <tr>\n",
              "      <th>1391</th>\n",
              "      <td>1391</td>\n",
              "      <td>2058007.0</td>\n",
              "      <td>2.0</td>\n",
              "      <td>3004.110096</td>\n",
              "      <td>12913.0</td>\n",
              "      <td>94831.0</td>\n",
              "      <td>51.45</td>\n",
              "      <td>34.00</td>\n",
              "      <td>0.00</td>\n",
              "      <td>68.00</td>\n",
              "      <td>...</td>\n",
              "      <td>0</td>\n",
              "      <td>pass</td>\n",
              "      <td>fail</td>\n",
              "      <td>foot</td>\n",
              "      <td>Y. Ōsako</td>\n",
              "      <td>Yūya</td>\n",
              "      <td>Ōsako</td>\n",
              "      <td>1990-05-18</td>\n",
              "      <td>Japan</td>\n",
              "      <td>Japan</td>\n",
              "    </tr>\n",
              "  </tbody>\n",
              "</table>\n",
              "<p>1392 rows × 22 columns</p>\n",
              "</div>\n",
              "    <div class=\"colab-df-buttons\">\n",
              "\n",
              "  <div class=\"colab-df-container\">\n",
              "    <button class=\"colab-df-convert\" onclick=\"convertToInteractive('df-e8d4f1c1-04d6-4ded-8e4c-5537cefbd29a')\"\n",
              "            title=\"Convert this dataframe to an interactive table.\"\n",
              "            style=\"display:none;\">\n",
              "\n",
              "  <svg xmlns=\"http://www.w3.org/2000/svg\" height=\"24px\" viewBox=\"0 -960 960 960\">\n",
              "    <path d=\"M120-120v-720h720v720H120Zm60-500h600v-160H180v160Zm220 220h160v-160H400v160Zm0 220h160v-160H400v160ZM180-400h160v-160H180v160Zm440 0h160v-160H620v160ZM180-180h160v-160H180v160Zm440 0h160v-160H620v160Z\"/>\n",
              "  </svg>\n",
              "    </button>\n",
              "\n",
              "  <style>\n",
              "    .colab-df-container {\n",
              "      display:flex;\n",
              "      gap: 12px;\n",
              "    }\n",
              "\n",
              "    .colab-df-convert {\n",
              "      background-color: #E8F0FE;\n",
              "      border: none;\n",
              "      border-radius: 50%;\n",
              "      cursor: pointer;\n",
              "      display: none;\n",
              "      fill: #1967D2;\n",
              "      height: 32px;\n",
              "      padding: 0 0 0 0;\n",
              "      width: 32px;\n",
              "    }\n",
              "\n",
              "    .colab-df-convert:hover {\n",
              "      background-color: #E2EBFA;\n",
              "      box-shadow: 0px 1px 2px rgba(60, 64, 67, 0.3), 0px 1px 3px 1px rgba(60, 64, 67, 0.15);\n",
              "      fill: #174EA6;\n",
              "    }\n",
              "\n",
              "    .colab-df-buttons div {\n",
              "      margin-bottom: 4px;\n",
              "    }\n",
              "\n",
              "    [theme=dark] .colab-df-convert {\n",
              "      background-color: #3B4455;\n",
              "      fill: #D2E3FC;\n",
              "    }\n",
              "\n",
              "    [theme=dark] .colab-df-convert:hover {\n",
              "      background-color: #434B5C;\n",
              "      box-shadow: 0px 1px 3px 1px rgba(0, 0, 0, 0.15);\n",
              "      filter: drop-shadow(0px 1px 2px rgba(0, 0, 0, 0.3));\n",
              "      fill: #FFFFFF;\n",
              "    }\n",
              "  </style>\n",
              "\n",
              "    <script>\n",
              "      const buttonEl =\n",
              "        document.querySelector('#df-e8d4f1c1-04d6-4ded-8e4c-5537cefbd29a button.colab-df-convert');\n",
              "      buttonEl.style.display =\n",
              "        google.colab.kernel.accessAllowed ? 'block' : 'none';\n",
              "\n",
              "      async function convertToInteractive(key) {\n",
              "        const element = document.querySelector('#df-e8d4f1c1-04d6-4ded-8e4c-5537cefbd29a');\n",
              "        const dataTable =\n",
              "          await google.colab.kernel.invokeFunction('convertToInteractive',\n",
              "                                                    [key], {});\n",
              "        if (!dataTable) return;\n",
              "\n",
              "        const docLinkHtml = 'Like what you see? Visit the ' +\n",
              "          '<a target=\"_blank\" href=https://colab.research.google.com/notebooks/data_table.ipynb>data table notebook</a>'\n",
              "          + ' to learn more about interactive tables.';\n",
              "        element.innerHTML = '';\n",
              "        dataTable['output_type'] = 'display_data';\n",
              "        await google.colab.output.renderOutput(dataTable, element);\n",
              "        const docLink = document.createElement('div');\n",
              "        docLink.innerHTML = docLinkHtml;\n",
              "        element.appendChild(docLink);\n",
              "      }\n",
              "    </script>\n",
              "  </div>\n",
              "\n",
              "\n",
              "<div id=\"df-a0544664-6126-437e-8e46-98afc209eb39\">\n",
              "  <button class=\"colab-df-quickchart\" onclick=\"quickchart('df-a0544664-6126-437e-8e46-98afc209eb39')\"\n",
              "            title=\"Suggest charts\"\n",
              "            style=\"display:none;\">\n",
              "\n",
              "<svg xmlns=\"http://www.w3.org/2000/svg\" height=\"24px\"viewBox=\"0 0 24 24\"\n",
              "     width=\"24px\">\n",
              "    <g>\n",
              "        <path d=\"M19 3H5c-1.1 0-2 .9-2 2v14c0 1.1.9 2 2 2h14c1.1 0 2-.9 2-2V5c0-1.1-.9-2-2-2zM9 17H7v-7h2v7zm4 0h-2V7h2v10zm4 0h-2v-4h2v4z\"/>\n",
              "    </g>\n",
              "</svg>\n",
              "  </button>\n",
              "\n",
              "<style>\n",
              "  .colab-df-quickchart {\n",
              "      --bg-color: #E8F0FE;\n",
              "      --fill-color: #1967D2;\n",
              "      --hover-bg-color: #E2EBFA;\n",
              "      --hover-fill-color: #174EA6;\n",
              "      --disabled-fill-color: #AAA;\n",
              "      --disabled-bg-color: #DDD;\n",
              "  }\n",
              "\n",
              "  [theme=dark] .colab-df-quickchart {\n",
              "      --bg-color: #3B4455;\n",
              "      --fill-color: #D2E3FC;\n",
              "      --hover-bg-color: #434B5C;\n",
              "      --hover-fill-color: #FFFFFF;\n",
              "      --disabled-bg-color: #3B4455;\n",
              "      --disabled-fill-color: #666;\n",
              "  }\n",
              "\n",
              "  .colab-df-quickchart {\n",
              "    background-color: var(--bg-color);\n",
              "    border: none;\n",
              "    border-radius: 50%;\n",
              "    cursor: pointer;\n",
              "    display: none;\n",
              "    fill: var(--fill-color);\n",
              "    height: 32px;\n",
              "    padding: 0;\n",
              "    width: 32px;\n",
              "  }\n",
              "\n",
              "  .colab-df-quickchart:hover {\n",
              "    background-color: var(--hover-bg-color);\n",
              "    box-shadow: 0 1px 2px rgba(60, 64, 67, 0.3), 0 1px 3px 1px rgba(60, 64, 67, 0.15);\n",
              "    fill: var(--button-hover-fill-color);\n",
              "  }\n",
              "\n",
              "  .colab-df-quickchart-complete:disabled,\n",
              "  .colab-df-quickchart-complete:disabled:hover {\n",
              "    background-color: var(--disabled-bg-color);\n",
              "    fill: var(--disabled-fill-color);\n",
              "    box-shadow: none;\n",
              "  }\n",
              "\n",
              "  .colab-df-spinner {\n",
              "    border: 2px solid var(--fill-color);\n",
              "    border-color: transparent;\n",
              "    border-bottom-color: var(--fill-color);\n",
              "    animation:\n",
              "      spin 1s steps(1) infinite;\n",
              "  }\n",
              "\n",
              "  @keyframes spin {\n",
              "    0% {\n",
              "      border-color: transparent;\n",
              "      border-bottom-color: var(--fill-color);\n",
              "      border-left-color: var(--fill-color);\n",
              "    }\n",
              "    20% {\n",
              "      border-color: transparent;\n",
              "      border-left-color: var(--fill-color);\n",
              "      border-top-color: var(--fill-color);\n",
              "    }\n",
              "    30% {\n",
              "      border-color: transparent;\n",
              "      border-left-color: var(--fill-color);\n",
              "      border-top-color: var(--fill-color);\n",
              "      border-right-color: var(--fill-color);\n",
              "    }\n",
              "    40% {\n",
              "      border-color: transparent;\n",
              "      border-right-color: var(--fill-color);\n",
              "      border-top-color: var(--fill-color);\n",
              "    }\n",
              "    60% {\n",
              "      border-color: transparent;\n",
              "      border-right-color: var(--fill-color);\n",
              "    }\n",
              "    80% {\n",
              "      border-color: transparent;\n",
              "      border-right-color: var(--fill-color);\n",
              "      border-bottom-color: var(--fill-color);\n",
              "    }\n",
              "    90% {\n",
              "      border-color: transparent;\n",
              "      border-bottom-color: var(--fill-color);\n",
              "    }\n",
              "  }\n",
              "</style>\n",
              "\n",
              "  <script>\n",
              "    async function quickchart(key) {\n",
              "      const quickchartButtonEl =\n",
              "        document.querySelector('#' + key + ' button');\n",
              "      quickchartButtonEl.disabled = true;  // To prevent multiple clicks.\n",
              "      quickchartButtonEl.classList.add('colab-df-spinner');\n",
              "      try {\n",
              "        const charts = await google.colab.kernel.invokeFunction(\n",
              "            'suggestCharts', [key], {});\n",
              "      } catch (error) {\n",
              "        console.error('Error during call to suggestCharts:', error);\n",
              "      }\n",
              "      quickchartButtonEl.classList.remove('colab-df-spinner');\n",
              "      quickchartButtonEl.classList.add('colab-df-quickchart-complete');\n",
              "    }\n",
              "    (() => {\n",
              "      let quickchartButtonEl =\n",
              "        document.querySelector('#df-a0544664-6126-437e-8e46-98afc209eb39 button');\n",
              "      quickchartButtonEl.style.display =\n",
              "        google.colab.kernel.accessAllowed ? 'block' : 'none';\n",
              "    })();\n",
              "  </script>\n",
              "</div>\n",
              "    </div>\n",
              "  </div>\n"
            ],
            "application/vnd.google.colaboratory.intrinsic+json": {
              "type": "dataframe",
              "variable_name": "df_actions"
            }
          },
          "metadata": {},
          "execution_count": 29
        }
      ],
      "source": [
        "# Look at first 5 actions of the match\n",
        "df_actions"
      ]
    },
    {
      "cell_type": "markdown",
      "metadata": {
        "id": "jkfHq0xWk6lk"
      },
      "source": [
        "The following cells define some functions to make it more convenient to explore the actions."
      ]
    },
    {
      "cell_type": "code",
      "execution_count": null,
      "metadata": {
        "id": "DysnJ_eVk6lk"
      },
      "outputs": [],
      "source": [
        "def nice_time(row):\n",
        "    minute = int((row['period_id']>=2) * 45 + (row['period_id']>=3) * 15 +\n",
        "                 (row['period_id']==4) * 15 + row['time_seconds'] // 60)\n",
        "    second = int(row['time_seconds'] % 60)\n",
        "    return f'{minute}m{second}s'\n",
        "\n",
        "df_actions['nice_time'] = df_actions.apply(nice_time,axis=1)"
      ]
    },
    {
      "cell_type": "code",
      "execution_count": null,
      "metadata": {
        "id": "OzlJHEzIk6lk"
      },
      "outputs": [],
      "source": [
        "def action_name(row):\n",
        "    return f\"{row['action_id']}: {row['nice_time']} - {row['short_name']} {row['type_name']}\"\n",
        "\n",
        "df_actions['action_name'] = df_actions.apply(action_name, axis=1)"
      ]
    },
    {
      "cell_type": "code",
      "execution_count": null,
      "metadata": {
        "id": "qiBJp49mk6lk"
      },
      "outputs": [],
      "source": [
        "def plot_actions(df_actions_to_plot):\n",
        "    matplotsoccer.actions(\n",
        "        location=df_actions_to_plot[['start_x', 'start_y', 'end_x', 'end_y']],\n",
        "        action_type=df_actions_to_plot['type_name'],\n",
        "        team=df_actions_to_plot['team_name'],\n",
        "        result=df_actions_to_plot['result_name'] == 'success',\n",
        "        label=df_actions_to_plot[['nice_time', 'type_name', 'short_name', 'short_team_name']],\n",
        "        labeltitle=['time', 'actiontype', 'player', 'team'],\n",
        "        zoom=False,\n",
        "        figsize=8)"
      ]
    },
    {
      "cell_type": "code",
      "execution_count": null,
      "metadata": {
        "id": "-D8seGxEk6lk"
      },
      "outputs": [],
      "source": [
        "def plot_actions_from_action_name(df_actions, action_name):\n",
        "    action_id = int(action_name.split(':')[0])\n",
        "    df_actions_to_plot = df_actions[action_id-3: action_id+3]\n",
        "    plot_actions(df_actions_to_plot)"
      ]
    },
    {
      "cell_type": "markdown",
      "metadata": {
        "id": "PB9MgA98k6lk"
      },
      "source": [
        "The following cell shows a widget which we can use to easily explore the actions in our dataset."
      ]
    },
    {
      "cell_type": "code",
      "execution_count": null,
      "metadata": {
        "id": "evs4SSeCk6lk"
      },
      "outputs": [],
      "source": [
        "interact_manual(plot_actions_from_action_name,\n",
        "                df_actions = fixed(df_actions),\n",
        "                action_name=widgets.Select(\n",
        "                    options = df_actions['action_name'][3:],\n",
        "                    disabled=False)\n",
        "               )\n"
      ]
    },
    {
      "cell_type": "markdown",
      "metadata": {
        "id": "YNmLjJEMk6lk"
      },
      "source": [
        "# Representing actions"
      ]
    },
    {
      "cell_type": "markdown",
      "metadata": {
        "id": "ZsboZc6Ek6lk"
      },
      "source": [
        "In this section we will create features that describe the action. We will take one action as an example. Every action has several characteristics, these include:\n",
        "* start location\n",
        "* end location\n",
        "* action type\n",
        "* bodypart used\n",
        "* result (successful or not)\n",
        "* time in the match"
      ]
    },
    {
      "cell_type": "code",
      "execution_count": null,
      "metadata": {
        "id": "BNnYLeZzk6ll"
      },
      "outputs": [],
      "source": [
        "action_id = 145\n",
        "plot_actions(df_actions[action_id:action_id+1])"
      ]
    },
    {
      "cell_type": "code",
      "execution_count": null,
      "metadata": {
        "id": "uItfdPjsk6ll"
      },
      "outputs": [],
      "source": [
        "df_actions[action_id:action_id+1].T"
      ]
    },
    {
      "cell_type": "markdown",
      "metadata": {
        "id": "xaTcpp3ek6ll"
      },
      "source": [
        "## Representing locations"
      ]
    },
    {
      "cell_type": "markdown",
      "metadata": {
        "id": "dpGm3koXk6ll"
      },
      "source": [
        "We will first take a look at how we can represent locations. We first define the pitch sizes as used in the SPADL representation. A very interesting blog post by the KU Leuven on the interplay between features and models in football can be found here: https://dtai.cs.kuleuven.be/sports/blog/illustrating-the-interplay-between-features-and-models-in-xg."
      ]
    },
    {
      "cell_type": "code",
      "execution_count": null,
      "metadata": {
        "id": "DE72m40rk6ll"
      },
      "outputs": [],
      "source": [
        "PITCH_LENGTH = 105\n",
        "PITCH_WIDTH = 68"
      ]
    },
    {
      "cell_type": "code",
      "execution_count": null,
      "metadata": {
        "id": "3kHAKck_k6ll"
      },
      "outputs": [],
      "source": [
        "df_actions[action_id:action_id+1][['start_x', 'start_y', 'end_x', 'end_y']]"
      ]
    },
    {
      "cell_type": "markdown",
      "metadata": {
        "id": "2pocUtmHk6ll"
      },
      "source": [
        "The following cell adds columns to the actions dataframe with the normalized start and end coordinates of the actions."
      ]
    },
    {
      "cell_type": "code",
      "execution_count": null,
      "metadata": {
        "id": "4jUncyFDk6lm"
      },
      "outputs": [],
      "source": [
        "for side in ['start', 'end']:\n",
        "    # Normalize the X location\n",
        "    key_x = f'{side}_x'\n",
        "    df_actions[f'{key_x}_norm'] = df_actions[key_x] / PITCH_LENGTH\n",
        "\n",
        "    # Normalize the Y location\n",
        "    key_y = f'{side}_y'\n",
        "    df_actions[f'{key_y}_norm'] = df_actions[key_y] / PITCH_WIDTH"
      ]
    },
    {
      "cell_type": "code",
      "execution_count": null,
      "metadata": {
        "id": "UR409Boak6lm"
      },
      "outputs": [],
      "source": [
        "df_actions[action_id:action_id+1][['start_x_norm', 'start_y_norm', 'end_x_norm', 'end_y_norm']]"
      ]
    },
    {
      "cell_type": "markdown",
      "metadata": {
        "id": "mbqMqv_Kk6lm"
      },
      "source": [
        "The following cells compute the polar coordinates of the start and end location of the actions."
      ]
    },
    {
      "cell_type": "code",
      "execution_count": null,
      "metadata": {
        "id": "LGTiz7l8k6lm"
      },
      "outputs": [],
      "source": [
        "GOAL_X = PITCH_LENGTH\n",
        "GOAL_Y = PITCH_WIDTH / 2"
      ]
    },
    {
      "cell_type": "code",
      "execution_count": null,
      "metadata": {
        "id": "XhLZdhxBk6lm"
      },
      "outputs": [],
      "source": [
        "for side in ['start', 'end']:\n",
        "    diff_x = GOAL_X - df_actions[f'{side}_x']\n",
        "    diff_y = abs(GOAL_Y - df_actions[f'{side}_y'])\n",
        "    df_actions[f'{side}_distance_to_goal'] = np.sqrt(diff_x ** 2 + diff_y ** 2)\n",
        "    df_actions[f'{side}_angle_to_goal'] = np.divide(diff_x, diff_y,\n",
        "                                                    out=np.zeros_like(diff_x),\n",
        "                                                    where=(diff_y != 0))"
      ]
    },
    {
      "cell_type": "code",
      "execution_count": null,
      "metadata": {
        "id": "U_MzR65xk6lm"
      },
      "outputs": [],
      "source": [
        "df_actions[action_id:action_id+1][['start_distance_to_goal', 'start_angle_to_goal', 'end_distance_to_goal', 'end_angle_to_goal']]"
      ]
    },
    {
      "cell_type": "markdown",
      "metadata": {
        "id": "Vi3xj9PWk6ln"
      },
      "source": [
        "The following cell adds a column indicating whether the action starts and/or ends in the opponent penalty box.\n",
        "\n",
        "*Exercise*: think of more features describing the start and end location of the action."
      ]
    },
    {
      "cell_type": "code",
      "execution_count": null,
      "metadata": {
        "id": "Cxn3MHqYk6ln"
      },
      "outputs": [],
      "source": [
        "for side in ['start', 'end']:\n",
        "    df_actions[f'{side}_is_penalty_box'] = ((df_actions[f'{side}_x'] > (PITCH_LENGTH-16.5)) &\n",
        "                                            (df_actions[f'{side}_y'] > (13.85)) &\n",
        "                                            (df_actions[f'{side}_y'] > (PITCH_WIDTH-13.85)))"
      ]
    },
    {
      "cell_type": "code",
      "execution_count": null,
      "metadata": {
        "id": "dRSX_LHNk6ln"
      },
      "outputs": [],
      "source": [
        "df_actions[action_id:action_id+1][['start_is_penalty_box', 'end_is_penalty_box']]"
      ]
    },
    {
      "cell_type": "markdown",
      "metadata": {
        "id": "8RfOu8aak6ln"
      },
      "source": [
        "## Representing body part, action type and result"
      ]
    },
    {
      "cell_type": "markdown",
      "metadata": {
        "id": "PknpATGXk6ln"
      },
      "source": [
        "The following cells inspect the type_name, bodypart_name and result_name columns."
      ]
    },
    {
      "cell_type": "code",
      "execution_count": null,
      "metadata": {
        "id": "nvc0fAUek6ln"
      },
      "outputs": [],
      "source": [
        "pd.get_dummies(df_actions['type_name'])"
      ]
    },
    {
      "cell_type": "code",
      "execution_count": null,
      "metadata": {
        "id": "MU1fwTPHk6ln"
      },
      "outputs": [],
      "source": [
        "def add_action_type_dummies(df_actions):\n",
        "    return df_actions.merge(pd.get_dummies(df_actions['type_name']), how='left',\n",
        "                             left_index=True, right_index=True)"
      ]
    },
    {
      "cell_type": "code",
      "execution_count": null,
      "metadata": {
        "id": "AKMkK0Gsk6ln"
      },
      "outputs": [],
      "source": [
        "df_actions = add_action_type_dummies(df_actions)"
      ]
    },
    {
      "cell_type": "code",
      "execution_count": null,
      "metadata": {
        "id": "TPzRLTCfk6lo"
      },
      "outputs": [],
      "source": [
        "df_actions[action_id:action_id+1]"
      ]
    },
    {
      "cell_type": "code",
      "execution_count": null,
      "metadata": {
        "id": "Vtr42s58k6lo"
      },
      "outputs": [],
      "source": [
        "df_actions['bodypart_name'].unique()"
      ]
    },
    {
      "cell_type": "code",
      "execution_count": null,
      "metadata": {
        "id": "RcuGX5xUk6lo"
      },
      "outputs": [],
      "source": [
        "df_actions['result_name'].unique()"
      ]
    },
    {
      "cell_type": "code",
      "execution_count": null,
      "metadata": {
        "id": "jd6Rl9Uok6lo"
      },
      "outputs": [],
      "source": [
        "df_actions[action_id:action_id+1][['bodypart_name', 'result_name']]"
      ]
    },
    {
      "cell_type": "markdown",
      "metadata": {
        "id": "hHZtKMIsk6lo"
      },
      "source": [
        "## Determine distance covered in x, y and total time played"
      ]
    },
    {
      "cell_type": "markdown",
      "metadata": {
        "id": "b-dteQZ3k6lo"
      },
      "source": [
        "The following cells define functions that add distance features and the actual time played in the match at the moment of the action."
      ]
    },
    {
      "cell_type": "code",
      "execution_count": null,
      "metadata": {
        "id": "OndwZvELk6lo"
      },
      "outputs": [],
      "source": [
        "def add_distance_features(df_actions):\n",
        "    df_actions['diff_x'] = df_actions['end_x'] - df_actions['start_x']\n",
        "    df_actions['diff_y'] = df_actions['end_y'] - df_actions['start_y']\n",
        "    df_actions['distance_covered'] = np.sqrt((df_actions['end_x'] - df_actions['start_x']) ** 2 +\n",
        "                                             (df_actions['end_y'] - df_actions['start_y']) ** 2)"
      ]
    },
    {
      "cell_type": "code",
      "execution_count": null,
      "metadata": {
        "id": "HQbZwk88k6lo"
      },
      "outputs": [],
      "source": [
        "def add_time_played(df_actions):\n",
        "    df_actions['time_played'] = (df_actions['time_seconds'] +\n",
        "                             (df_actions['period_id'] >= 2) * (45 * 60) +\n",
        "                             (df_actions['period_id'] >= 3) * (15 * 60) +\n",
        "                             (df_actions['period_id'] == 4) * (15 * 60)\n",
        "                             )"
      ]
    },
    {
      "cell_type": "code",
      "execution_count": null,
      "metadata": {
        "id": "2_2dJQmvk6lp"
      },
      "outputs": [],
      "source": [
        "add_distance_features(df_actions)\n",
        "add_time_played(df_actions)"
      ]
    },
    {
      "cell_type": "code",
      "execution_count": null,
      "metadata": {
        "id": "cKOv2nE-k6lp"
      },
      "outputs": [],
      "source": [
        "df_actions[action_id:action_id+1][['diff_x', 'diff_y', 'distance_covered', 'time_played']]"
      ]
    },
    {
      "cell_type": "markdown",
      "metadata": {
        "id": "cNQcNctMk6lp"
      },
      "source": [
        "# Representing game states"
      ]
    },
    {
      "cell_type": "markdown",
      "metadata": {
        "id": "kG79PO2fk6lp"
      },
      "source": [
        "As a game state is more than just the previous action, we want to add more information on the sequence leading up to the action. This includes information on the previous actions, but also more contextual features like the score and time in the match."
      ]
    },
    {
      "cell_type": "markdown",
      "metadata": {
        "id": "gTFIf7pVk6lp"
      },
      "source": [
        "## Representing actions leading to game state"
      ]
    },
    {
      "cell_type": "markdown",
      "metadata": {
        "id": "ku_DTV2Gk6lp"
      },
      "source": [
        "In the \\\"[Actions Speak Louder than Goals: Valuing Player Actions in Soccer.](https://arxiv.org/abs/1802.07127)\\\" paper we take the three actions leading to the game state into account. We investigated how many actions we should include and got the best results for three actions back.\n",
        "\n",
        "*Exercise:* you could try out different numbers of actions to include in the game state and analyze the results."
      ]
    },
    {
      "cell_type": "markdown",
      "metadata": {
        "id": "ostopkOVk6lp"
      },
      "source": [
        "Let's first take a look at the action again and what happened before the action was executed."
      ]
    },
    {
      "cell_type": "code",
      "execution_count": null,
      "metadata": {
        "id": "cn92nGN-k6lp"
      },
      "outputs": [],
      "source": [
        "for i in range(3):\n",
        "    df_actions_to_plot = df_actions[145-i:146]\n",
        "    plot_actions(df_actions_to_plot)"
      ]
    },
    {
      "cell_type": "markdown",
      "metadata": {
        "id": "tTZ2axeek6lp"
      },
      "source": [
        "The following cells add extra columns for each action on the x actions before the action itself. You can define how far back you want to go and what features to take into account for all actions."
      ]
    },
    {
      "cell_type": "code",
      "execution_count": null,
      "metadata": {
        "id": "a6DYyiQpk6lq"
      },
      "outputs": [],
      "source": [
        "delays = 3  # you can play around with this number\n",
        "features_to_delay = ['game_id', 'period_id', 'time_seconds', 'team_id',\n",
        "                     'player_id', 'start_x', 'start_y', 'end_x', 'end_y', 'bodypart_id',\n",
        "                     'type_id', 'result_id', 'type_name', 'result_name', 'bodypart_name',\n",
        "                     'time_played']"
      ]
    },
    {
      "cell_type": "code",
      "execution_count": null,
      "metadata": {
        "id": "-PutmFQGk6lq"
      },
      "outputs": [],
      "source": [
        "def create_delayed_features(df_actions, features_to_delay, delays):\n",
        "    df_delays = [df_actions[features_to_delay].shift(step).add_suffix(f'-{step}') for step in range(0, delays)]\n",
        "    return pd.concat(df_delays, axis=1)"
      ]
    },
    {
      "cell_type": "code",
      "execution_count": null,
      "metadata": {
        "id": "w6X4X5dek6lq"
      },
      "outputs": [],
      "source": [
        "df_features = create_delayed_features(df_actions, features_to_delay, delays)"
      ]
    },
    {
      "cell_type": "code",
      "execution_count": null,
      "metadata": {
        "id": "-D3MU49Jk6lq"
      },
      "outputs": [],
      "source": [
        "location_cols = [f'{side}_{xy}-{delay}' for delay in reversed(range(0, delays))\n",
        "                 for xy in ['x', 'y'] for side in ['start', 'end']]\n",
        "df_features[action_id:action_id+1][location_cols]"
      ]
    },
    {
      "cell_type": "code",
      "execution_count": null,
      "metadata": {
        "id": "bqa_X3S1k6lq"
      },
      "outputs": [],
      "source": [
        "cols = [f'{col}-{delay}' for delay in reversed(range(0, delays))\n",
        "        for col in ['period_id', 'time_seconds', 'type_name', 'bodypart_name', 'result_name']]\n",
        "df_features[action_id:action_id+1][cols]"
      ]
    },
    {
      "cell_type": "markdown",
      "metadata": {
        "id": "3EEhKYGVk6lq"
      },
      "source": [
        "We need to invert the coordinates for the actions made by the other team to make sure all features represent the same thing. Therefore we add an indicator for the delayed actions to indicate whether the action was executed by the same team or not. If not then we need to invert the coordinates as the coordinates normally always go from left to right for the team in possession."
      ]
    },
    {
      "cell_type": "code",
      "execution_count": null,
      "metadata": {
        "id": "7DRFg7aRk6lq"
      },
      "outputs": [],
      "source": [
        "def add_same_team(df_features, delays):\n",
        "    for step in range(1, delays):\n",
        "        df_features[f'team-{step}'] = df_features['team_id-0'] == df_features[f'team_id-{step}']"
      ]
    },
    {
      "cell_type": "code",
      "execution_count": null,
      "metadata": {
        "id": "8320Tju_k6lq"
      },
      "outputs": [],
      "source": [
        "add_same_team(df_features, delays)"
      ]
    },
    {
      "cell_type": "code",
      "execution_count": null,
      "metadata": {
        "id": "s7jvOLFEk6lr"
      },
      "outputs": [],
      "source": [
        "def invert_coordinates(df_features, delays):\n",
        "    for step in range(1, delays):\n",
        "        for side in ['start', 'end']:\n",
        "            df_features.loc[~(df_features[f'team-{step}']), f'{side}_x-{step}'] = PITCH_LENGTH - df_features[f'{side}_x-{step}']\n",
        "            df_features.loc[~(df_features[f'team-{step}']), f'{side}_y-{step}'] = PITCH_WIDTH - df_features[f'{side}_y-{step}']"
      ]
    },
    {
      "cell_type": "code",
      "execution_count": null,
      "metadata": {
        "id": "wOXplwJtk6lr"
      },
      "outputs": [],
      "source": [
        "df_features[location_cols+['team-1', 'team-2']].tail(10)"
      ]
    },
    {
      "cell_type": "code",
      "execution_count": null,
      "metadata": {
        "id": "km35VxH1k6lr"
      },
      "outputs": [],
      "source": [
        "invert_coordinates(df_features, delays)"
      ]
    },
    {
      "cell_type": "code",
      "execution_count": null,
      "metadata": {
        "id": "Myid_seik6lr"
      },
      "outputs": [],
      "source": [
        "df_features[location_cols+['team-1', 'team-2']].tail(10)"
      ]
    },
    {
      "cell_type": "markdown",
      "metadata": {
        "id": "9v0akYG1k6lr"
      },
      "source": [
        "The following cells add the location featues for all actions and their delayed actions using the right coordinates."
      ]
    },
    {
      "cell_type": "code",
      "execution_count": null,
      "metadata": {
        "id": "UA4RJOcQk6lr"
      },
      "outputs": [],
      "source": [
        "def add_location_features(df_features, delays):\n",
        "    for step in range(0, delays):\n",
        "        for side in ['start', 'end']:\n",
        "            # Normalize the X location\n",
        "            key_x = f'{side}_x'\n",
        "            df_features[f'{key_x}_norm-{step}'] = df_features[f'{key_x}-{step}'] / PITCH_LENGTH\n",
        "\n",
        "            # Normalize the Y location\n",
        "            key_y = f'{side}_y'\n",
        "            df_features[f'{key_y}_norm-{step}'] = df_features[f'{key_y}-{step}'] / PITCH_WIDTH\n",
        "\n",
        "            diff_x = GOAL_X - df_features[f'{side}_x-{step}']\n",
        "            diff_y = abs(GOAL_Y - df_features[f'{side}_y-{step}'])\n",
        "            df_features[f'{side}_distance_to_goal-{step}'] = np.sqrt(diff_x ** 2 + diff_y ** 2)\n",
        "            df_features[f'{side}_angle_to_goal-{step}'] = np.divide(diff_x, diff_y, out=np.zeros_like(diff_x), where=(diff_y != 0))\n",
        "\n",
        "            df_features[f'diff_x-{step}'] = df_features[f'end_x-{step}'] - df_features[f'start_x-{step}']\n",
        "            df_features[f'diff_y-{step}'] = df_features[f'end_y-{step}'] - df_features[f'start_y-{step}']\n",
        "            df_features[f'distance_covered-{step}'] = np.sqrt((df_features[f'end_x-{step}'] - df_features[f'start_x-{step}']) ** 2 +\n",
        "                                             (df_features[f'end_y-{step}'] - df_features[f'start_y-{step}']) ** 2)"
      ]
    },
    {
      "cell_type": "code",
      "execution_count": null,
      "metadata": {
        "id": "KBVflw8Xk6lr"
      },
      "outputs": [],
      "source": [
        "add_location_features(df_features, delays)"
      ]
    },
    {
      "cell_type": "code",
      "execution_count": null,
      "metadata": {
        "id": "FPB-re7ik6lr"
      },
      "outputs": [],
      "source": [
        "df_features.head()"
      ]
    },
    {
      "cell_type": "markdown",
      "metadata": {
        "id": "Mn7IsM81k6ls"
      },
      "source": [
        "## Adding contextual features"
      ]
    },
    {
      "cell_type": "markdown",
      "metadata": {
        "id": "BHIty4N8k6ls"
      },
      "source": [
        "We also want to add some additional context to the game state. For example the speed of play, the time in the match and the current score in the match might influence the value of the game state.\n",
        "\n",
        "*Exercise:* think of extra features that might influence the value of a game state."
      ]
    },
    {
      "cell_type": "markdown",
      "metadata": {
        "id": "dNv6x2a9k6ls"
      },
      "source": [
        "## Sequence features"
      ]
    },
    {
      "cell_type": "markdown",
      "metadata": {
        "id": "5t2LjYztk6ls"
      },
      "source": [
        "The following cells add extra context on the sequence. The distance covered in x and y direction as well as the time passed in the sequence are added to the dataframe. These features might tell the model something about the speed of play, whether the game quickly progressed from one side to another (probably indicating a counter attack) or whether it is a slow build up play."
      ]
    },
    {
      "cell_type": "code",
      "execution_count": null,
      "metadata": {
        "id": "grgQxARnk6ls"
      },
      "outputs": [],
      "source": [
        "def add_sequence_pre_features(df_features, delays):\n",
        "    delay = delays - 1\n",
        "    df_features['xdiff_sequence_pre'] = df_features['start_x-0'] - df_features[f'start_x-{delay}']\n",
        "    df_features['ydiff_sequence_pre'] = df_features['start_y-0'] - df_features[f'start_y-{delay}']\n",
        "    df_features['time_sequence_pre'] = df_features['time_played-0'] - df_features[f'time_played-{delay}']"
      ]
    },
    {
      "cell_type": "code",
      "execution_count": null,
      "metadata": {
        "id": "DLHODbrpk6ls"
      },
      "outputs": [],
      "source": [
        "add_sequence_pre_features(df_features, delays)"
      ]
    },
    {
      "cell_type": "code",
      "execution_count": null,
      "metadata": {
        "id": "4QdYL4tAk6ls"
      },
      "outputs": [],
      "source": [
        "def add_sequence_post_features(df_features, delays):\n",
        "    delay = delays - 1\n",
        "    df_features['xdiff_sequence_post'] = df_features['end_x-0'] - df_features[f'start_x-{delay}']\n",
        "    df_features['ydiff_sequence_post'] = df_features['end_y-0'] - df_features[f'start_y-{delay}']"
      ]
    },
    {
      "cell_type": "code",
      "execution_count": null,
      "metadata": {
        "id": "g5o4sUjqk6ls"
      },
      "outputs": [],
      "source": [
        "add_sequence_post_features(df_features, delays)"
      ]
    },
    {
      "cell_type": "code",
      "execution_count": null,
      "metadata": {
        "id": "eJQdYT2jk6ls"
      },
      "outputs": [],
      "source": [
        "df_features[action_id:action_id+1]"
      ]
    },
    {
      "cell_type": "markdown",
      "metadata": {
        "id": "0tfm1AnEk6lt"
      },
      "source": [
        "# Generate features for a match"
      ]
    },
    {
      "cell_type": "markdown",
      "metadata": {
        "id": "0Suo6Ncpk6lt"
      },
      "source": [
        "The following cell defines a function that creates all features described above for a dataframe of actions for a given match."
      ]
    },
    {
      "cell_type": "code",
      "execution_count": null,
      "metadata": {
        "id": "LESUovAHk6lt"
      },
      "outputs": [],
      "source": [
        "def create_features_match(df_actions, features_to_delay, delays):\n",
        "    df_action_features = add_action_type_dummies(df_actions)\n",
        "    add_time_played(df_action_features)\n",
        "    df_gamestate_features = create_delayed_features(df_action_features, features_to_delay, delays)\n",
        "    add_same_team(df_gamestate_features, delays)\n",
        "    invert_coordinates(df_gamestate_features, delays)\n",
        "    add_location_features(df_gamestate_features, delays)\n",
        "    add_sequence_pre_features(df_gamestate_features, delays)\n",
        "    add_sequence_post_features(df_gamestate_features, delays)\n",
        "    return df_gamestate_features"
      ]
    },
    {
      "cell_type": "markdown",
      "metadata": {
        "id": "b_6H01UOk6lt"
      },
      "source": [
        "# Generate labels for a match"
      ]
    },
    {
      "cell_type": "markdown",
      "metadata": {
        "id": "F6HXBGWwk6lt"
      },
      "source": [
        "The following cells define two functions that compute the labels of our two machine learning tasks. The first one tells us whether a goal was scored within x actions, whereas the second function tells us whether a goal was conceded within the next x actions.\n",
        "\n",
        "*Exercise*: play around with the number of actions to look ahead. In our paper we look 10 actions ahead."
      ]
    },
    {
      "cell_type": "code",
      "execution_count": null,
      "metadata": {
        "id": "bXFO0yCEk6lt"
      },
      "outputs": [],
      "source": [
        "def label_scores(df_actions, nr_actions):\n",
        "    \"\"\"\n",
        "    This functiondf_actions determines whether a goal was scored by the team possessing\n",
        "    the ball within the next x actions\n",
        "    \"\"\"\n",
        "    # merging goals, owngoals and team_ids\n",
        "\n",
        "    goals = df_actions['type_name'].str.contains('shot') & (\n",
        "        df_actions['result_id'] == 1\n",
        "    )\n",
        "    owngoals = df_actions['type_name'].str.contains('shot') & (\n",
        "        df_actions['result_id'] == 2\n",
        "    )\n",
        "    y = pd.concat([goals, owngoals, df_actions['team_id']], axis=1)\n",
        "    y.columns = ['goal', 'owngoal', 'team_id']\n",
        "\n",
        "    # adding future results\n",
        "    for i in range(1, nr_actions):\n",
        "        for col in ['team_id', 'goal', 'owngoal']:\n",
        "            shifted = y[col].shift(-i)\n",
        "            shifted[-i:] = y[col][len(y) - 1]\n",
        "            y[f'{col}+{i}'] = shifted\n",
        "\n",
        "    scores = y['goal']\n",
        "    for i in range(1, nr_actions):\n",
        "        goal_scored = y[f'goal+{i}'] & (y[f'team_id+{i}'] == y['team_id'])\n",
        "        own_goal_opponent = y[f'owngoal+{i}'] & (y[f'team_id+{i}'] != y['team_id'])\n",
        "        scores = scores | goal_scored | own_goal_opponent\n",
        "\n",
        "    return pd.DataFrame(scores, columns=['scores'])"
      ]
    },
    {
      "cell_type": "code",
      "execution_count": null,
      "metadata": {
        "id": "ec16hcPEk6lt"
      },
      "outputs": [],
      "source": [
        "def label_concedes(df_actions, nr_actions):\n",
        "    \"\"\"\n",
        "    This function determines whether a goal was scored by the team not\n",
        "    possessing the ball within the next x actions\n",
        "    \"\"\"\n",
        "    # merging goals,owngoals and team_ids\n",
        "    goals = df_actions['type_name'].str.contains('shot') & (\n",
        "        df_actions['result_id'] == 1\n",
        "    )\n",
        "    owngoals = df_actions['type_name'].str.contains('shot') & (\n",
        "        df_actions['result_id'] == 2\n",
        "    )\n",
        "    y = pd.concat([goals, owngoals, df_actions['team_id']], axis=1)\n",
        "    y.columns = ['goal', 'owngoal', 'team_id']\n",
        "\n",
        "    # adding future results\n",
        "    for i in range(1, nr_actions):\n",
        "        for col in ['team_id', 'goal', 'owngoal']:\n",
        "            shifted = y[col].shift(-i)\n",
        "            shifted[-i:] = y[col][len(y) - 1]\n",
        "            y[f'{col}+{i}'] = shifted\n",
        "\n",
        "    concedes = y['owngoal']\n",
        "    for i in range(1, nr_actions):\n",
        "        goal_opponent = y[f'goal+{i}'] & (y[f'team_id+{i}'] != y['team_id'])\n",
        "        own_goal_team = y[f'owngoal+{i}'] & (y[f'team_id+{i}'] == y['team_id'])\n",
        "        concedes = concedes | goal_opponent | own_goal_team\n",
        "\n",
        "    return pd.DataFrame(concedes, columns=['concedes'])"
      ]
    },
    {
      "cell_type": "markdown",
      "metadata": {
        "id": "9q_yhfAwk6lu"
      },
      "source": [
        "We compute the labels for the match and investigate the labels for the last ten actions in the match."
      ]
    },
    {
      "cell_type": "code",
      "execution_count": null,
      "metadata": {
        "id": "EAMxw45Rk6lu"
      },
      "outputs": [],
      "source": [
        "df_labels = pd.concat([label_scores(df_actions, nr_actions=10),\n",
        "                           label_concedes(df_actions, nr_actions=10)],\n",
        "                          axis=1)"
      ]
    },
    {
      "cell_type": "code",
      "execution_count": null,
      "metadata": {
        "id": "tXGSR0pek6lu"
      },
      "outputs": [],
      "source": [
        "df_labels.tail(10)"
      ]
    },
    {
      "cell_type": "code",
      "execution_count": null,
      "metadata": {
        "id": "XuIqSBBMk6lu"
      },
      "outputs": [],
      "source": [
        "pd.merge(df_actions[['team_name', 'short_name', 'type_name']],\n",
        "         df_labels,\n",
        "         left_index=True,\n",
        "         right_index=True).tail(10)"
      ]
    },
    {
      "cell_type": "markdown",
      "metadata": {
        "id": "EyC695xwk6lu"
      },
      "source": [
        "# Generate features and labels for all matches"
      ]
    },
    {
      "cell_type": "markdown",
      "metadata": {
        "id": "rvw9-Xwxk6lu"
      },
      "source": [
        "The following cells generate and store the features and labels for all matches in your spadl.h5 file. This might take some minutes."
      ]
    },
    {
      "cell_type": "code",
      "execution_count": null,
      "metadata": {
        "id": "zy1i0xZOk6lu"
      },
      "outputs": [],
      "source": [
        "df_games = pd.read_hdf('spadl.h5', key='games')"
      ]
    },
    {
      "cell_type": "code",
      "execution_count": null,
      "metadata": {
        "id": "mYtOPNGBk6lu"
      },
      "outputs": [],
      "source": [
        "df_games.head()"
      ]
    },
    {
      "cell_type": "code",
      "execution_count": null,
      "metadata": {
        "id": "crU8lXq-k6lv"
      },
      "outputs": [],
      "source": [
        "for _, game in tqdm(df_games.iterrows(), total=len(df_games)):\n",
        "    game_id = game['game_id']\n",
        "    with pd.HDFStore('spadl.h5') as spadlstore:\n",
        "        df_actions = spadlstore[f'actions/game_{game_id}']\n",
        "        df_actions = (\n",
        "            df_actions.merge(spadlstore['actiontypes'], how='left')\n",
        "            .merge(spadlstore['results'], how='left')\n",
        "            .merge(spadlstore['bodyparts'], how='left')\n",
        "            .reset_index(drop=True)\n",
        "        )\n",
        "\n",
        "    df_features = create_features_match(df_actions, features_to_delay, delays)\n",
        "    df_features.to_hdf('features.h5', f'game_{game_id}')\n",
        "\n",
        "    df_labels = pd.concat([label_scores(df_actions, nr_actions=10),\n",
        "                           label_concedes(df_actions, nr_actions=10)],\n",
        "                          axis=1)\n",
        "    df_labels.to_hdf('labels.h5', f'game_{game_id}')"
      ]
    }
  ],
  "metadata": {
    "kernelspec": {
      "display_name": "Python 3",
      "language": "python",
      "name": "python3"
    },
    "language_info": {
      "codemirror_mode": {
        "name": "ipython",
        "version": 3
      },
      "file_extension": ".py",
      "mimetype": "text/x-python",
      "name": "python",
      "nbconvert_exporter": "python",
      "pygments_lexer": "ipython3",
      "version": "3.8.3"
    },
    "toc": {
      "base_numbering": 1,
      "nav_menu": {},
      "number_sections": true,
      "sideBar": true,
      "skip_h1_title": false,
      "title_cell": "Table of Contents",
      "title_sidebar": "Contents",
      "toc_cell": false,
      "toc_position": {},
      "toc_section_display": true,
      "toc_window_display": true
    },
    "colab": {
      "provenance": []
    },
    "widgets": {
      "application/vnd.jupyter.widget-state+json": {
        "202bac69d9f447fcacfd0cee2a40adaa": {
          "model_module": "@jupyter-widgets/controls",
          "model_name": "HBoxModel",
          "model_module_version": "1.5.0",
          "state": {
            "_dom_classes": [],
            "_model_module": "@jupyter-widgets/controls",
            "_model_module_version": "1.5.0",
            "_model_name": "HBoxModel",
            "_view_count": null,
            "_view_module": "@jupyter-widgets/controls",
            "_view_module_version": "1.5.0",
            "_view_name": "HBoxView",
            "box_style": "",
            "children": [
              "IPY_MODEL_c4eadd0171ee402b857d01e06d7668c0",
              "IPY_MODEL_a3803f7202fe4d0db4c50420215d5368",
              "IPY_MODEL_9d3dd60d755a465da5d5c80b02c9a123"
            ],
            "layout": "IPY_MODEL_4d80294ff33d43559ef2262e27fb7297"
          }
        },
        "c4eadd0171ee402b857d01e06d7668c0": {
          "model_module": "@jupyter-widgets/controls",
          "model_name": "HTMLModel",
          "model_module_version": "1.5.0",
          "state": {
            "_dom_classes": [],
            "_model_module": "@jupyter-widgets/controls",
            "_model_module_version": "1.5.0",
            "_model_name": "HTMLModel",
            "_view_count": null,
            "_view_module": "@jupyter-widgets/controls",
            "_view_module_version": "1.5.0",
            "_view_name": "HTMLView",
            "description": "",
            "description_tooltip": null,
            "layout": "IPY_MODEL_cf97d03c5b7a4ee2941d91c681f740b6",
            "placeholder": "​",
            "style": "IPY_MODEL_72b234a906f7492eaf8d428f782ca3cc",
            "value": "100%"
          }
        },
        "a3803f7202fe4d0db4c50420215d5368": {
          "model_module": "@jupyter-widgets/controls",
          "model_name": "FloatProgressModel",
          "model_module_version": "1.5.0",
          "state": {
            "_dom_classes": [],
            "_model_module": "@jupyter-widgets/controls",
            "_model_module_version": "1.5.0",
            "_model_name": "FloatProgressModel",
            "_view_count": null,
            "_view_module": "@jupyter-widgets/controls",
            "_view_module_version": "1.5.0",
            "_view_name": "ProgressView",
            "bar_style": "success",
            "description": "",
            "description_tooltip": null,
            "layout": "IPY_MODEL_b7a78e9dcb6c42b9a17e58fbc33ba39b",
            "max": 4,
            "min": 0,
            "orientation": "horizontal",
            "style": "IPY_MODEL_35a1121970f34fe18c0c50dc7be3b8d6",
            "value": 4
          }
        },
        "9d3dd60d755a465da5d5c80b02c9a123": {
          "model_module": "@jupyter-widgets/controls",
          "model_name": "HTMLModel",
          "model_module_version": "1.5.0",
          "state": {
            "_dom_classes": [],
            "_model_module": "@jupyter-widgets/controls",
            "_model_module_version": "1.5.0",
            "_model_name": "HTMLModel",
            "_view_count": null,
            "_view_module": "@jupyter-widgets/controls",
            "_view_module_version": "1.5.0",
            "_view_name": "HTMLView",
            "description": "",
            "description_tooltip": null,
            "layout": "IPY_MODEL_c70e645c79af448280304db7be9efbea",
            "placeholder": "​",
            "style": "IPY_MODEL_0e3406b87c454bc78c1c32bc10e1274a",
            "value": " 4/4 [00:46&lt;00:00,  7.30s/it]"
          }
        },
        "4d80294ff33d43559ef2262e27fb7297": {
          "model_module": "@jupyter-widgets/base",
          "model_name": "LayoutModel",
          "model_module_version": "1.2.0",
          "state": {
            "_model_module": "@jupyter-widgets/base",
            "_model_module_version": "1.2.0",
            "_model_name": "LayoutModel",
            "_view_count": null,
            "_view_module": "@jupyter-widgets/base",
            "_view_module_version": "1.2.0",
            "_view_name": "LayoutView",
            "align_content": null,
            "align_items": null,
            "align_self": null,
            "border": null,
            "bottom": null,
            "display": null,
            "flex": null,
            "flex_flow": null,
            "grid_area": null,
            "grid_auto_columns": null,
            "grid_auto_flow": null,
            "grid_auto_rows": null,
            "grid_column": null,
            "grid_gap": null,
            "grid_row": null,
            "grid_template_areas": null,
            "grid_template_columns": null,
            "grid_template_rows": null,
            "height": null,
            "justify_content": null,
            "justify_items": null,
            "left": null,
            "margin": null,
            "max_height": null,
            "max_width": null,
            "min_height": null,
            "min_width": null,
            "object_fit": null,
            "object_position": null,
            "order": null,
            "overflow": null,
            "overflow_x": null,
            "overflow_y": null,
            "padding": null,
            "right": null,
            "top": null,
            "visibility": null,
            "width": null
          }
        },
        "cf97d03c5b7a4ee2941d91c681f740b6": {
          "model_module": "@jupyter-widgets/base",
          "model_name": "LayoutModel",
          "model_module_version": "1.2.0",
          "state": {
            "_model_module": "@jupyter-widgets/base",
            "_model_module_version": "1.2.0",
            "_model_name": "LayoutModel",
            "_view_count": null,
            "_view_module": "@jupyter-widgets/base",
            "_view_module_version": "1.2.0",
            "_view_name": "LayoutView",
            "align_content": null,
            "align_items": null,
            "align_self": null,
            "border": null,
            "bottom": null,
            "display": null,
            "flex": null,
            "flex_flow": null,
            "grid_area": null,
            "grid_auto_columns": null,
            "grid_auto_flow": null,
            "grid_auto_rows": null,
            "grid_column": null,
            "grid_gap": null,
            "grid_row": null,
            "grid_template_areas": null,
            "grid_template_columns": null,
            "grid_template_rows": null,
            "height": null,
            "justify_content": null,
            "justify_items": null,
            "left": null,
            "margin": null,
            "max_height": null,
            "max_width": null,
            "min_height": null,
            "min_width": null,
            "object_fit": null,
            "object_position": null,
            "order": null,
            "overflow": null,
            "overflow_x": null,
            "overflow_y": null,
            "padding": null,
            "right": null,
            "top": null,
            "visibility": null,
            "width": null
          }
        },
        "72b234a906f7492eaf8d428f782ca3cc": {
          "model_module": "@jupyter-widgets/controls",
          "model_name": "DescriptionStyleModel",
          "model_module_version": "1.5.0",
          "state": {
            "_model_module": "@jupyter-widgets/controls",
            "_model_module_version": "1.5.0",
            "_model_name": "DescriptionStyleModel",
            "_view_count": null,
            "_view_module": "@jupyter-widgets/base",
            "_view_module_version": "1.2.0",
            "_view_name": "StyleView",
            "description_width": ""
          }
        },
        "b7a78e9dcb6c42b9a17e58fbc33ba39b": {
          "model_module": "@jupyter-widgets/base",
          "model_name": "LayoutModel",
          "model_module_version": "1.2.0",
          "state": {
            "_model_module": "@jupyter-widgets/base",
            "_model_module_version": "1.2.0",
            "_model_name": "LayoutModel",
            "_view_count": null,
            "_view_module": "@jupyter-widgets/base",
            "_view_module_version": "1.2.0",
            "_view_name": "LayoutView",
            "align_content": null,
            "align_items": null,
            "align_self": null,
            "border": null,
            "bottom": null,
            "display": null,
            "flex": null,
            "flex_flow": null,
            "grid_area": null,
            "grid_auto_columns": null,
            "grid_auto_flow": null,
            "grid_auto_rows": null,
            "grid_column": null,
            "grid_gap": null,
            "grid_row": null,
            "grid_template_areas": null,
            "grid_template_columns": null,
            "grid_template_rows": null,
            "height": null,
            "justify_content": null,
            "justify_items": null,
            "left": null,
            "margin": null,
            "max_height": null,
            "max_width": null,
            "min_height": null,
            "min_width": null,
            "object_fit": null,
            "object_position": null,
            "order": null,
            "overflow": null,
            "overflow_x": null,
            "overflow_y": null,
            "padding": null,
            "right": null,
            "top": null,
            "visibility": null,
            "width": null
          }
        },
        "35a1121970f34fe18c0c50dc7be3b8d6": {
          "model_module": "@jupyter-widgets/controls",
          "model_name": "ProgressStyleModel",
          "model_module_version": "1.5.0",
          "state": {
            "_model_module": "@jupyter-widgets/controls",
            "_model_module_version": "1.5.0",
            "_model_name": "ProgressStyleModel",
            "_view_count": null,
            "_view_module": "@jupyter-widgets/base",
            "_view_module_version": "1.2.0",
            "_view_name": "StyleView",
            "bar_color": null,
            "description_width": ""
          }
        },
        "c70e645c79af448280304db7be9efbea": {
          "model_module": "@jupyter-widgets/base",
          "model_name": "LayoutModel",
          "model_module_version": "1.2.0",
          "state": {
            "_model_module": "@jupyter-widgets/base",
            "_model_module_version": "1.2.0",
            "_model_name": "LayoutModel",
            "_view_count": null,
            "_view_module": "@jupyter-widgets/base",
            "_view_module_version": "1.2.0",
            "_view_name": "LayoutView",
            "align_content": null,
            "align_items": null,
            "align_self": null,
            "border": null,
            "bottom": null,
            "display": null,
            "flex": null,
            "flex_flow": null,
            "grid_area": null,
            "grid_auto_columns": null,
            "grid_auto_flow": null,
            "grid_auto_rows": null,
            "grid_column": null,
            "grid_gap": null,
            "grid_row": null,
            "grid_template_areas": null,
            "grid_template_columns": null,
            "grid_template_rows": null,
            "height": null,
            "justify_content": null,
            "justify_items": null,
            "left": null,
            "margin": null,
            "max_height": null,
            "max_width": null,
            "min_height": null,
            "min_width": null,
            "object_fit": null,
            "object_position": null,
            "order": null,
            "overflow": null,
            "overflow_x": null,
            "overflow_y": null,
            "padding": null,
            "right": null,
            "top": null,
            "visibility": null,
            "width": null
          }
        },
        "0e3406b87c454bc78c1c32bc10e1274a": {
          "model_module": "@jupyter-widgets/controls",
          "model_name": "DescriptionStyleModel",
          "model_module_version": "1.5.0",
          "state": {
            "_model_module": "@jupyter-widgets/controls",
            "_model_module_version": "1.5.0",
            "_model_name": "DescriptionStyleModel",
            "_view_count": null,
            "_view_module": "@jupyter-widgets/base",
            "_view_module_version": "1.2.0",
            "_view_name": "StyleView",
            "description_width": ""
          }
        }
      }
    }
  },
  "nbformat": 4,
  "nbformat_minor": 0
}