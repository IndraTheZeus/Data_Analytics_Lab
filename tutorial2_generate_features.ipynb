{
  "cells": [
    {
      "cell_type": "markdown",
      "metadata": {
        "id": "xG43SVwiTBtQ"
      },
      "source": [
        "# Tutorial: Generate features\n",
        "This tutorial demonstrates how to generate features to represent game states to value on-the-ball actions of football players with the open-source [VAEP framework](https://github.com/ML-KULeuven/socceraction) using the publicly available [Wyscout match event dataset](https://figshare.com/collections/Soccer_match_event_dataset/4415000). The Wyscout dataset includes data for the 2017/2018 English Premier League, the 2017/2018 Spanish Primera División, the 2017/2018 German 1. Bundesliga, the 2017/2018 Italian Serie A, the 2017/2018 French Ligue 1, the 2018 FIFA World Cup, and the UEFA Euro 2016. Covering 1,941 matches, 3,251,294 events and 4,299 players, the dataset is large enough to train machine-learning models and obtain robust ratings for the players.\n",
        "\n",
        "This tutorial demonstrates the following three steps:\n",
        "   1. Investigate the data in SPADL representation.\n",
        "   2. Construct features to represent actions.\n",
        "   3. Construct features to represent game states.\n",
        "\n",
        "This notebook is compatible with `socceraction` version `0.2.0`.\n",
        "\n",
        "**Conventions:**\n",
        "   * Variables that refer a `DataFrame` object are prefixed with `df_`.\n",
        "   * Variables that refer a collection of `DataFrame` objects (e.g., a list, a set or a dict) are prefixed with `dfs_`.\n",
        "   \n",
        "**References:**\n",
        "   * Tom Decroos, Lotte Bransen, Jan Van Haaren, and Jesse Davis. \\\"[Actions Speak Louder than Goals: Valuing Player Actions in Soccer.](https://arxiv.org/abs/1802.07127)\\\" In *Proceedings of the 25th ACM SIGKDD International Conference on Knowledge Discovery & Data Mining*, pp. 1851-1861. 2019.\n",
        "   * Luca Pappalardo, Paolo Cintia, Alessio Rossi, Emanuele Massucco, Paolo Ferragina, Dino Pedreschi, and Fosca Giannotti. \\\"[A Public Data Set of Spatio-Temporal Match Events in Soccer Competitions.](https://www.nature.com/articles/s41597-019-0247-7)\\\" *Scientific Data 6*, no. 1 (2019): 1-15.\""
      ]
    },
    {
      "cell_type": "markdown",
      "metadata": {
        "id": "QNw0uEoBTBtT"
      },
      "source": [
        "**Optional:** If you run this notebook on Google Colab, then uncomment the code in the following cell and execute the cell."
      ]
    },
    {
      "cell_type": "code",
      "execution_count": 5,
      "metadata": {
        "colab": {
          "base_uri": "https://localhost:8080/"
        },
        "id": "_dhBETc9TBtU",
        "outputId": "1f115b4c-b8f9-4dc5-e3ac-634dd340a8ea"
      },
      "outputs": [
        {
          "output_type": "stream",
          "name": "stdout",
          "text": [
            "Collecting tables==3.6.1\n",
            "  Downloading tables-3.6.1.tar.gz (4.6 MB)\n",
            "\u001b[2K     \u001b[90m━━━━━━━━━━━━━━━━━━━━━━━━━━━━━━━━━━━━━━━━\u001b[0m \u001b[32m4.6/4.6 MB\u001b[0m \u001b[31m18.2 MB/s\u001b[0m eta \u001b[36m0:00:00\u001b[0m\n",
            "\u001b[?25h  Preparing metadata (setup.py) ... \u001b[?25l\u001b[?25hdone\n",
            "Requirement already satisfied: numpy>=1.9.3 in /usr/local/lib/python3.10/dist-packages (from tables==3.6.1) (1.25.2)\n",
            "Requirement already satisfied: numexpr>=2.6.2 in /usr/local/lib/python3.10/dist-packages (from tables==3.6.1) (2.9.0)\n",
            "Building wheels for collected packages: tables\n",
            "  \u001b[1;31merror\u001b[0m: \u001b[1msubprocess-exited-with-error\u001b[0m\n",
            "  \n",
            "  \u001b[31m×\u001b[0m \u001b[32mpython setup.py bdist_wheel\u001b[0m did not run successfully.\n",
            "  \u001b[31m│\u001b[0m exit code: \u001b[1;36m1\u001b[0m\n",
            "  \u001b[31m╰─>\u001b[0m See above for output.\n",
            "  \n",
            "  \u001b[1;35mnote\u001b[0m: This error originates from a subprocess, and is likely not a problem with pip.\n",
            "  Building wheel for tables (setup.py) ... \u001b[?25lerror\n",
            "\u001b[31m  ERROR: Failed building wheel for tables\u001b[0m\u001b[31m\n",
            "\u001b[0m\u001b[?25h  Running setup.py clean for tables\n",
            "Failed to build tables\n",
            "\u001b[31mERROR: Could not build wheels for tables, which is required to install pyproject.toml-based projects\u001b[0m\u001b[31m\n",
            "\u001b[0mCollecting matplotsoccer\n",
            "  Downloading matplotsoccer-0.0.8.tar.gz (5.6 kB)\n",
            "  Preparing metadata (setup.py) ... \u001b[?25l\u001b[?25hdone\n",
            "Building wheels for collected packages: matplotsoccer\n",
            "  Building wheel for matplotsoccer (setup.py) ... \u001b[?25l\u001b[?25hdone\n",
            "  Created wheel for matplotsoccer: filename=matplotsoccer-0.0.8-py3-none-any.whl size=5966 sha256=5ccb0e65a29ccb8b43ebcd53c732c1395d6c7d18af7fbf3d13070cee1adae137\n",
            "  Stored in directory: /root/.cache/pip/wheels/ef/a9/d2/796b0ad28ffe440216ddaf7c9aa570dbdbfd67c3b208fd07ca\n",
            "Successfully built matplotsoccer\n",
            "Installing collected packages: matplotsoccer\n",
            "Successfully installed matplotsoccer-0.0.8\n"
          ]
        }
      ],
      "source": [
        "!pip install tables==3.6.1\n",
        "!pip install matplotsoccer"
      ]
    },
    {
      "cell_type": "markdown",
      "metadata": {
        "id": "iPJEsCcGTBtU"
      },
      "source": [
        "**Optional:** If you run this notebook on Google Colab and wish to store all data in a Google Drive folder, then uncomment the code in the following cell and execute the cell."
      ]
    },
    {
      "cell_type": "code",
      "execution_count": 2,
      "metadata": {
        "id": "6GQo207_TBtV"
      },
      "outputs": [],
      "source": [
        "# from google.colab import drive\n",
        "# drive.mount('/content/gdrive')\n",
        "# %mkdir -p '/content/gdrive/My Drive/Friends of Tracking/'\n",
        "# %cd '/content/gdrive/My Drive/Friends of Tracking/'"
      ]
    },
    {
      "cell_type": "code",
      "execution_count": 6,
      "metadata": {
        "id": "5j9HDqbWTBtV"
      },
      "outputs": [],
      "source": [
        "import warnings\n",
        "import matplotsoccer\n",
        "import numpy as np\n",
        "import pandas as pd\n",
        "from ipywidgets import fixed, interact_manual, widgets\n",
        "from tqdm.notebook import tqdm"
      ]
    },
    {
      "cell_type": "code",
      "execution_count": null,
      "metadata": {
        "id": "LNLL7X8rTBtV"
      },
      "outputs": [],
      "source": [
        "warnings.filterwarnings('ignore', category=pd.io.pytables.PerformanceWarning)"
      ]
    },
    {
      "cell_type": "markdown",
      "metadata": {
        "id": "3GHWDDWhTBtV"
      },
      "source": [
        "# Load dataset"
      ]
    },
    {
      "cell_type": "markdown",
      "metadata": {
        "id": "cItU4SbkTBtW"
      },
      "source": [
        "First we load the SPADL dataset that was created in the tutorial1-run-pipeline.ipynb notebook. We first load the teams, players and games dataframes."
      ]
    },
    {
      "cell_type": "code",
      "execution_count": 7,
      "metadata": {
        "id": "atKfQDpOTBtW"
      },
      "outputs": [],
      "source": [
        "df_teams = pd.read_hdf('/spadl.h5', key='teams')\n",
        "df_players = pd.read_hdf('/spadl.h5', key='players')\n",
        "df_games = pd.read_hdf('/spadl.h5', key='games')"
      ]
    },
    {
      "cell_type": "markdown",
      "metadata": {
        "id": "hTZecp3HTBtW"
      },
      "source": [
        "We add the team names to the df_games dataframe such that we know which two teams played in which match."
      ]
    },
    {
      "cell_type": "code",
      "execution_count": 8,
      "metadata": {
        "id": "ib7tQoo4TBtW"
      },
      "outputs": [],
      "source": [
        "team_name_mapping = df_teams.set_index('team_id')['team_name'].to_dict()\n",
        "df_games['home_team_name'] = df_games['home_team_id'].map(team_name_mapping)\n",
        "df_games['away_team_name'] = df_games['away_team_id'].map(team_name_mapping)"
      ]
    },
    {
      "cell_type": "markdown",
      "metadata": {
        "id": "HNZCcD2UTBtX"
      },
      "source": [
        "# Explore SPADL actions"
      ]
    },
    {
      "cell_type": "markdown",
      "metadata": {
        "id": "pnfy-CK0TBtX"
      },
      "source": [
        "In this secion we will explore the SPADL actions for a selected match. In this notebook we chose the World Cup 2018 match between Belgium and Japan. The notebook can also be run for a match of your choice."
      ]
    },
    {
      "cell_type": "code",
      "execution_count": 10,
      "metadata": {
        "colab": {
          "base_uri": "https://localhost:8080/",
          "height": 98
        },
        "id": "ZgG3eexTTBtX",
        "outputId": "b00392a7-9fff-4a93-e8cb-6096e8ac2861"
      },
      "outputs": [
        {
          "output_type": "execute_result",
          "data": {
            "text/plain": [
              "    game_id  competition_id  season_id            game_date  home_team_id  \\\n",
              "10  2058007              28      10078  2018-07-02 18:00:00          5629   \n",
              "\n",
              "    away_team_id home_team_name away_team_name  \n",
              "10         12913        Belgium          Japan  "
            ],
            "text/html": [
              "\n",
              "  <div id=\"df-5f869bd5-c5b6-4453-9fe9-fccb704a911d\" class=\"colab-df-container\">\n",
              "    <div>\n",
              "<style scoped>\n",
              "    .dataframe tbody tr th:only-of-type {\n",
              "        vertical-align: middle;\n",
              "    }\n",
              "\n",
              "    .dataframe tbody tr th {\n",
              "        vertical-align: top;\n",
              "    }\n",
              "\n",
              "    .dataframe thead th {\n",
              "        text-align: right;\n",
              "    }\n",
              "</style>\n",
              "<table border=\"1\" class=\"dataframe\">\n",
              "  <thead>\n",
              "    <tr style=\"text-align: right;\">\n",
              "      <th></th>\n",
              "      <th>game_id</th>\n",
              "      <th>competition_id</th>\n",
              "      <th>season_id</th>\n",
              "      <th>game_date</th>\n",
              "      <th>home_team_id</th>\n",
              "      <th>away_team_id</th>\n",
              "      <th>home_team_name</th>\n",
              "      <th>away_team_name</th>\n",
              "    </tr>\n",
              "  </thead>\n",
              "  <tbody>\n",
              "    <tr>\n",
              "      <th>10</th>\n",
              "      <td>2058007</td>\n",
              "      <td>28</td>\n",
              "      <td>10078</td>\n",
              "      <td>2018-07-02 18:00:00</td>\n",
              "      <td>5629</td>\n",
              "      <td>12913</td>\n",
              "      <td>Belgium</td>\n",
              "      <td>Japan</td>\n",
              "    </tr>\n",
              "  </tbody>\n",
              "</table>\n",
              "</div>\n",
              "    <div class=\"colab-df-buttons\">\n",
              "\n",
              "  <div class=\"colab-df-container\">\n",
              "    <button class=\"colab-df-convert\" onclick=\"convertToInteractive('df-5f869bd5-c5b6-4453-9fe9-fccb704a911d')\"\n",
              "            title=\"Convert this dataframe to an interactive table.\"\n",
              "            style=\"display:none;\">\n",
              "\n",
              "  <svg xmlns=\"http://www.w3.org/2000/svg\" height=\"24px\" viewBox=\"0 -960 960 960\">\n",
              "    <path d=\"M120-120v-720h720v720H120Zm60-500h600v-160H180v160Zm220 220h160v-160H400v160Zm0 220h160v-160H400v160ZM180-400h160v-160H180v160Zm440 0h160v-160H620v160ZM180-180h160v-160H180v160Zm440 0h160v-160H620v160Z\"/>\n",
              "  </svg>\n",
              "    </button>\n",
              "\n",
              "  <style>\n",
              "    .colab-df-container {\n",
              "      display:flex;\n",
              "      gap: 12px;\n",
              "    }\n",
              "\n",
              "    .colab-df-convert {\n",
              "      background-color: #E8F0FE;\n",
              "      border: none;\n",
              "      border-radius: 50%;\n",
              "      cursor: pointer;\n",
              "      display: none;\n",
              "      fill: #1967D2;\n",
              "      height: 32px;\n",
              "      padding: 0 0 0 0;\n",
              "      width: 32px;\n",
              "    }\n",
              "\n",
              "    .colab-df-convert:hover {\n",
              "      background-color: #E2EBFA;\n",
              "      box-shadow: 0px 1px 2px rgba(60, 64, 67, 0.3), 0px 1px 3px 1px rgba(60, 64, 67, 0.15);\n",
              "      fill: #174EA6;\n",
              "    }\n",
              "\n",
              "    .colab-df-buttons div {\n",
              "      margin-bottom: 4px;\n",
              "    }\n",
              "\n",
              "    [theme=dark] .colab-df-convert {\n",
              "      background-color: #3B4455;\n",
              "      fill: #D2E3FC;\n",
              "    }\n",
              "\n",
              "    [theme=dark] .colab-df-convert:hover {\n",
              "      background-color: #434B5C;\n",
              "      box-shadow: 0px 1px 3px 1px rgba(0, 0, 0, 0.15);\n",
              "      filter: drop-shadow(0px 1px 2px rgba(0, 0, 0, 0.3));\n",
              "      fill: #FFFFFF;\n",
              "    }\n",
              "  </style>\n",
              "\n",
              "    <script>\n",
              "      const buttonEl =\n",
              "        document.querySelector('#df-5f869bd5-c5b6-4453-9fe9-fccb704a911d button.colab-df-convert');\n",
              "      buttonEl.style.display =\n",
              "        google.colab.kernel.accessAllowed ? 'block' : 'none';\n",
              "\n",
              "      async function convertToInteractive(key) {\n",
              "        const element = document.querySelector('#df-5f869bd5-c5b6-4453-9fe9-fccb704a911d');\n",
              "        const dataTable =\n",
              "          await google.colab.kernel.invokeFunction('convertToInteractive',\n",
              "                                                    [key], {});\n",
              "        if (!dataTable) return;\n",
              "\n",
              "        const docLinkHtml = 'Like what you see? Visit the ' +\n",
              "          '<a target=\"_blank\" href=https://colab.research.google.com/notebooks/data_table.ipynb>data table notebook</a>'\n",
              "          + ' to learn more about interactive tables.';\n",
              "        element.innerHTML = '';\n",
              "        dataTable['output_type'] = 'display_data';\n",
              "        await google.colab.output.renderOutput(dataTable, element);\n",
              "        const docLink = document.createElement('div');\n",
              "        docLink.innerHTML = docLinkHtml;\n",
              "        element.appendChild(docLink);\n",
              "      }\n",
              "    </script>\n",
              "  </div>\n",
              "\n",
              "    </div>\n",
              "  </div>\n"
            ],
            "application/vnd.google.colaboratory.intrinsic+json": {
              "type": "dataframe",
              "repr_error": "0"
            }
          },
          "metadata": {},
          "execution_count": 10
        }
      ],
      "source": [
        "df_games[(df_games['home_team_name'] == 'Belgium') &\n",
        "         (df_games['away_team_name'] == 'Japan')]"
      ]
    },
    {
      "cell_type": "markdown",
      "metadata": {
        "id": "yMeCrhDETBtX"
      },
      "source": [
        "**Note:** This notebook expects the data for the World Cup 2018 to be in the SPADL dataset. Make sure that the `game_id` selected in the cell below belongs to a game in your dataset."
      ]
    },
    {
      "cell_type": "code",
      "execution_count": 11,
      "metadata": {
        "id": "MGGBedkCTBtY"
      },
      "outputs": [],
      "source": [
        "# Select a game of choice\n",
        "game_id = 2058007"
      ]
    },
    {
      "cell_type": "markdown",
      "metadata": {
        "id": "8Uu0t4NaTBtY"
      },
      "source": [
        "## Load SPADL actions for selected game"
      ]
    },
    {
      "cell_type": "markdown",
      "metadata": {
        "id": "XrgzDM6kTBtY"
      },
      "source": [
        "For each action, the dataset contains the following information for the action:\n",
        "\n",
        "* game_id: a unique identifier of the game;\n",
        "* team_id: a unique identifier of the team who performed the action;\n",
        "* player_id: a unique identifier of the player who performed the action;\n",
        "* period: 1 for the first half and 2 for the second half;\n",
        "* seconds: the time elapsed in seconds since the start of the half;\n",
        "* type_id: the identifier for the type of action;\n",
        "* type_name: the name for the type of action;\n",
        "* body_part_id: 0 for foot, 1 for head, 2 for other body part;\n",
        "* result: the result of the action: 0 for failure, 1 for success;\n",
        "* start_x: the x coordinate for the location where the action started, ranges from 0 to 105;\n",
        "* start_y: the y coordinate for the location where the action started, ranges from 0 to 68;\n",
        "* end_x: the x coordinate for the location where the action ended, ranges from 0 to 105;\n",
        "* end_y: the y coordinate for the location where the action ended, ranges from 0 to 68.\n",
        "\n",
        "The action types are:\n",
        "\n",
        "    0: pass\n",
        "    1: cross\n",
        "    2: throw in\n",
        "    3: freekick crossed\n",
        "    4: freekick short\n",
        "    5: corner crossed\n",
        "    6: corner short\n",
        "    7: take on\n",
        "    8: foul\n",
        "    9: tackle\n",
        "    10: interception\n",
        "    11: shot\n",
        "    12: shot penalty\n",
        "    13: shot freekick\n",
        "    14: keeper save\n",
        "    18: clearance\n",
        "    21: dribble\n",
        "    22: goalkick"
      ]
    },
    {
      "cell_type": "markdown",
      "metadata": {
        "id": "YDbkimn9TBtY"
      },
      "source": [
        "We first load the actions for the selected game_id."
      ]
    },
    {
      "cell_type": "code",
      "execution_count": 93,
      "metadata": {
        "colab": {
          "base_uri": "https://localhost:8080/"
        },
        "id": "eL-nkBiMTBtY",
        "outputId": "07fca279-10b6-4e29-84f7-4414299e144f"
      },
      "outputs": [
        {
          "output_type": "stream",
          "name": "stderr",
          "text": [
            "<ipython-input-93-3d0115b12912>:17: FutureWarning: The frame.append method is deprecated and will be removed from pandas in a future version. Use pandas.concat instead.\n",
            "  global_df_actions = global_df_actions.append(df_actions)\n",
            "<ipython-input-93-3d0115b12912>:17: FutureWarning: The frame.append method is deprecated and will be removed from pandas in a future version. Use pandas.concat instead.\n",
            "  global_df_actions = global_df_actions.append(df_actions)\n",
            "<ipython-input-93-3d0115b12912>:17: FutureWarning: The frame.append method is deprecated and will be removed from pandas in a future version. Use pandas.concat instead.\n",
            "  global_df_actions = global_df_actions.append(df_actions)\n",
            "<ipython-input-93-3d0115b12912>:17: FutureWarning: The frame.append method is deprecated and will be removed from pandas in a future version. Use pandas.concat instead.\n",
            "  global_df_actions = global_df_actions.append(df_actions)\n",
            "<ipython-input-93-3d0115b12912>:17: FutureWarning: The frame.append method is deprecated and will be removed from pandas in a future version. Use pandas.concat instead.\n",
            "  global_df_actions = global_df_actions.append(df_actions)\n",
            "<ipython-input-93-3d0115b12912>:17: FutureWarning: The frame.append method is deprecated and will be removed from pandas in a future version. Use pandas.concat instead.\n",
            "  global_df_actions = global_df_actions.append(df_actions)\n",
            "<ipython-input-93-3d0115b12912>:17: FutureWarning: The frame.append method is deprecated and will be removed from pandas in a future version. Use pandas.concat instead.\n",
            "  global_df_actions = global_df_actions.append(df_actions)\n",
            "<ipython-input-93-3d0115b12912>:17: FutureWarning: The frame.append method is deprecated and will be removed from pandas in a future version. Use pandas.concat instead.\n",
            "  global_df_actions = global_df_actions.append(df_actions)\n",
            "<ipython-input-93-3d0115b12912>:17: FutureWarning: The frame.append method is deprecated and will be removed from pandas in a future version. Use pandas.concat instead.\n",
            "  global_df_actions = global_df_actions.append(df_actions)\n"
          ]
        }
      ],
      "source": [
        "global_df_actions = None\n",
        "for game_id in df_games['game_id'].head(10):\n",
        "  with pd.HDFStore('/spadl.h5') as spadlstore:\n",
        "    df_actions = spadlstore[f'actions/game_{game_id}']\n",
        "    df_actions = (\n",
        "        df_actions.merge(spadlstore['actiontypes'], how='left')\n",
        "        .merge(spadlstore['results'], how='left')\n",
        "        .merge(spadlstore['bodyparts'], how='left')\n",
        "        .merge(spadlstore['players'], how=\"left\")\n",
        "        .merge(spadlstore['teams'], how='left')\n",
        "        .reset_index()\n",
        "        .rename(columns={'index': 'action_id'})\n",
        "    )\n",
        "    if global_df_actions is None:\n",
        "      global_df_actions = df_actions\n",
        "    else:\n",
        "      global_df_actions = global_df_actions.append(df_actions)"
      ]
    },
    {
      "cell_type": "code",
      "execution_count": 94,
      "metadata": {
        "colab": {
          "base_uri": "https://localhost:8080/",
          "height": 704
        },
        "id": "VFpPIpicTBtZ",
        "outputId": "d1d5da70-574a-46d6-b47c-1c2a971e6b7e"
      },
      "outputs": [
        {
          "output_type": "execute_result",
          "data": {
            "text/plain": [
              "      action_id    game_id  period_id  time_seconds  team_id  player_id  \\\n",
              "0             0  2565922.0        1.0      1.005442    687.0     3576.0   \n",
              "1             1  2565922.0        1.0      4.151517    687.0     3828.0   \n",
              "2             2  2565922.0        1.0      7.390181    687.0   261127.0   \n",
              "3             3  2565922.0        1.0     23.291657    676.0     3269.0   \n",
              "4             4  2565922.0        1.0     24.254552    676.0     7972.0   \n",
              "...         ...        ...        ...           ...      ...        ...   \n",
              "1258       1258  2565918.0        2.0   2655.962868    695.0   237269.0   \n",
              "1259       1259  2565918.0        2.0   2658.838006    695.0   278316.0   \n",
              "1260       1260  2565918.0        2.0   2661.507850    692.0   293856.0   \n",
              "1261       1261  2565918.0        2.0   2669.145892    695.0   278049.0   \n",
              "1262       1262  2565918.0        2.0   2707.514594    692.0        0.0   \n",
              "\n",
              "      start_x  start_y  end_x  end_y  ...  result_id       type_name  \\\n",
              "0       53.55    34.68  66.15  17.68  ...          1            pass   \n",
              "1       66.15    17.68  30.45  62.56  ...          1            pass   \n",
              "2       30.45    62.56  21.00  68.00  ...          1            pass   \n",
              "3       22.05    68.00  31.50  65.96  ...          1        throw_in   \n",
              "4       30.45    66.64  33.60  66.64  ...          0            pass   \n",
              "...       ...      ...    ...    ...  ...        ...             ...   \n",
              "1258    76.65    23.80  99.75  25.16  ...          1            pass   \n",
              "1259    99.75    25.16  67.20  48.28  ...          0            pass   \n",
              "1260    67.20    48.28  87.15  59.16  ...          1            pass   \n",
              "1261    88.20    56.44  88.20  56.44  ...          1            foul   \n",
              "1262    77.70    64.60   0.00  68.00  ...          0  freekick_short   \n",
              "\n",
              "      result_name bodypart_name   short_name      first_name        last_name  \\\n",
              "0         success          foot       Juanmi     Juan Miguel    Jiménez López   \n",
              "1         success          foot   Raúl Navas            Raúl  Rodríguez Navas   \n",
              "2         success          foot   A. Januzaj           Adnan          Januzaj   \n",
              "3         success         other   Jordi Alba           Jordi       Alba Ramos   \n",
              "4            fail          foot    L. Suárez    Luis Alberto      Suárez Díaz   \n",
              "...           ...           ...          ...             ...              ...   \n",
              "1258      success          foot     S. Lukić            Saša            Lukić   \n",
              "1259         fail          foot         Koke           Jorge       Ruiz Ojeda   \n",
              "1260      success          head  Dani Molina          Daniel      Molina Orta   \n",
              "1261      success          foot    E. Cabaco  Erick Cathriel    Cabaco Almada   \n",
              "1262         fail          foot          NaN             NaN              NaN   \n",
              "\n",
              "      birth_date short_team_name                team_name  \n",
              "0     1993-05-20   Real Sociedad  Real Sociedad de Fútbol  \n",
              "1     1988-05-11   Real Sociedad  Real Sociedad de Fútbol  \n",
              "2     1995-02-05   Real Sociedad  Real Sociedad de Fútbol  \n",
              "3     1989-03-21       Barcelona             FC Barcelona  \n",
              "4     1987-01-24       Barcelona             FC Barcelona  \n",
              "...          ...             ...                      ...  \n",
              "1258  1996-08-13         Levante               Levante UD  \n",
              "1259  1995-09-27         Levante               Levante UD  \n",
              "1260  1996-03-14   Celta de Vigo  Real Club Celta de Vigo  \n",
              "1261  1995-04-19         Levante               Levante UD  \n",
              "1262         NaN   Celta de Vigo  Real Club Celta de Vigo  \n",
              "\n",
              "[12820 rows x 22 columns]"
            ],
            "text/html": [
              "\n",
              "  <div id=\"df-1a671177-c656-4eaa-9b9f-9046ef8ab38e\" class=\"colab-df-container\">\n",
              "    <div>\n",
              "<style scoped>\n",
              "    .dataframe tbody tr th:only-of-type {\n",
              "        vertical-align: middle;\n",
              "    }\n",
              "\n",
              "    .dataframe tbody tr th {\n",
              "        vertical-align: top;\n",
              "    }\n",
              "\n",
              "    .dataframe thead th {\n",
              "        text-align: right;\n",
              "    }\n",
              "</style>\n",
              "<table border=\"1\" class=\"dataframe\">\n",
              "  <thead>\n",
              "    <tr style=\"text-align: right;\">\n",
              "      <th></th>\n",
              "      <th>action_id</th>\n",
              "      <th>game_id</th>\n",
              "      <th>period_id</th>\n",
              "      <th>time_seconds</th>\n",
              "      <th>team_id</th>\n",
              "      <th>player_id</th>\n",
              "      <th>start_x</th>\n",
              "      <th>start_y</th>\n",
              "      <th>end_x</th>\n",
              "      <th>end_y</th>\n",
              "      <th>...</th>\n",
              "      <th>result_id</th>\n",
              "      <th>type_name</th>\n",
              "      <th>result_name</th>\n",
              "      <th>bodypart_name</th>\n",
              "      <th>short_name</th>\n",
              "      <th>first_name</th>\n",
              "      <th>last_name</th>\n",
              "      <th>birth_date</th>\n",
              "      <th>short_team_name</th>\n",
              "      <th>team_name</th>\n",
              "    </tr>\n",
              "  </thead>\n",
              "  <tbody>\n",
              "    <tr>\n",
              "      <th>0</th>\n",
              "      <td>0</td>\n",
              "      <td>2565922.0</td>\n",
              "      <td>1.0</td>\n",
              "      <td>1.005442</td>\n",
              "      <td>687.0</td>\n",
              "      <td>3576.0</td>\n",
              "      <td>53.55</td>\n",
              "      <td>34.68</td>\n",
              "      <td>66.15</td>\n",
              "      <td>17.68</td>\n",
              "      <td>...</td>\n",
              "      <td>1</td>\n",
              "      <td>pass</td>\n",
              "      <td>success</td>\n",
              "      <td>foot</td>\n",
              "      <td>Juanmi</td>\n",
              "      <td>Juan Miguel</td>\n",
              "      <td>Jiménez López</td>\n",
              "      <td>1993-05-20</td>\n",
              "      <td>Real Sociedad</td>\n",
              "      <td>Real Sociedad de Fútbol</td>\n",
              "    </tr>\n",
              "    <tr>\n",
              "      <th>1</th>\n",
              "      <td>1</td>\n",
              "      <td>2565922.0</td>\n",
              "      <td>1.0</td>\n",
              "      <td>4.151517</td>\n",
              "      <td>687.0</td>\n",
              "      <td>3828.0</td>\n",
              "      <td>66.15</td>\n",
              "      <td>17.68</td>\n",
              "      <td>30.45</td>\n",
              "      <td>62.56</td>\n",
              "      <td>...</td>\n",
              "      <td>1</td>\n",
              "      <td>pass</td>\n",
              "      <td>success</td>\n",
              "      <td>foot</td>\n",
              "      <td>Raúl Navas</td>\n",
              "      <td>Raúl</td>\n",
              "      <td>Rodríguez Navas</td>\n",
              "      <td>1988-05-11</td>\n",
              "      <td>Real Sociedad</td>\n",
              "      <td>Real Sociedad de Fútbol</td>\n",
              "    </tr>\n",
              "    <tr>\n",
              "      <th>2</th>\n",
              "      <td>2</td>\n",
              "      <td>2565922.0</td>\n",
              "      <td>1.0</td>\n",
              "      <td>7.390181</td>\n",
              "      <td>687.0</td>\n",
              "      <td>261127.0</td>\n",
              "      <td>30.45</td>\n",
              "      <td>62.56</td>\n",
              "      <td>21.00</td>\n",
              "      <td>68.00</td>\n",
              "      <td>...</td>\n",
              "      <td>1</td>\n",
              "      <td>pass</td>\n",
              "      <td>success</td>\n",
              "      <td>foot</td>\n",
              "      <td>A. Januzaj</td>\n",
              "      <td>Adnan</td>\n",
              "      <td>Januzaj</td>\n",
              "      <td>1995-02-05</td>\n",
              "      <td>Real Sociedad</td>\n",
              "      <td>Real Sociedad de Fútbol</td>\n",
              "    </tr>\n",
              "    <tr>\n",
              "      <th>3</th>\n",
              "      <td>3</td>\n",
              "      <td>2565922.0</td>\n",
              "      <td>1.0</td>\n",
              "      <td>23.291657</td>\n",
              "      <td>676.0</td>\n",
              "      <td>3269.0</td>\n",
              "      <td>22.05</td>\n",
              "      <td>68.00</td>\n",
              "      <td>31.50</td>\n",
              "      <td>65.96</td>\n",
              "      <td>...</td>\n",
              "      <td>1</td>\n",
              "      <td>throw_in</td>\n",
              "      <td>success</td>\n",
              "      <td>other</td>\n",
              "      <td>Jordi Alba</td>\n",
              "      <td>Jordi</td>\n",
              "      <td>Alba Ramos</td>\n",
              "      <td>1989-03-21</td>\n",
              "      <td>Barcelona</td>\n",
              "      <td>FC Barcelona</td>\n",
              "    </tr>\n",
              "    <tr>\n",
              "      <th>4</th>\n",
              "      <td>4</td>\n",
              "      <td>2565922.0</td>\n",
              "      <td>1.0</td>\n",
              "      <td>24.254552</td>\n",
              "      <td>676.0</td>\n",
              "      <td>7972.0</td>\n",
              "      <td>30.45</td>\n",
              "      <td>66.64</td>\n",
              "      <td>33.60</td>\n",
              "      <td>66.64</td>\n",
              "      <td>...</td>\n",
              "      <td>0</td>\n",
              "      <td>pass</td>\n",
              "      <td>fail</td>\n",
              "      <td>foot</td>\n",
              "      <td>L. Suárez</td>\n",
              "      <td>Luis Alberto</td>\n",
              "      <td>Suárez Díaz</td>\n",
              "      <td>1987-01-24</td>\n",
              "      <td>Barcelona</td>\n",
              "      <td>FC Barcelona</td>\n",
              "    </tr>\n",
              "    <tr>\n",
              "      <th>...</th>\n",
              "      <td>...</td>\n",
              "      <td>...</td>\n",
              "      <td>...</td>\n",
              "      <td>...</td>\n",
              "      <td>...</td>\n",
              "      <td>...</td>\n",
              "      <td>...</td>\n",
              "      <td>...</td>\n",
              "      <td>...</td>\n",
              "      <td>...</td>\n",
              "      <td>...</td>\n",
              "      <td>...</td>\n",
              "      <td>...</td>\n",
              "      <td>...</td>\n",
              "      <td>...</td>\n",
              "      <td>...</td>\n",
              "      <td>...</td>\n",
              "      <td>...</td>\n",
              "      <td>...</td>\n",
              "      <td>...</td>\n",
              "      <td>...</td>\n",
              "    </tr>\n",
              "    <tr>\n",
              "      <th>1258</th>\n",
              "      <td>1258</td>\n",
              "      <td>2565918.0</td>\n",
              "      <td>2.0</td>\n",
              "      <td>2655.962868</td>\n",
              "      <td>695.0</td>\n",
              "      <td>237269.0</td>\n",
              "      <td>76.65</td>\n",
              "      <td>23.80</td>\n",
              "      <td>99.75</td>\n",
              "      <td>25.16</td>\n",
              "      <td>...</td>\n",
              "      <td>1</td>\n",
              "      <td>pass</td>\n",
              "      <td>success</td>\n",
              "      <td>foot</td>\n",
              "      <td>S. Lukić</td>\n",
              "      <td>Saša</td>\n",
              "      <td>Lukić</td>\n",
              "      <td>1996-08-13</td>\n",
              "      <td>Levante</td>\n",
              "      <td>Levante UD</td>\n",
              "    </tr>\n",
              "    <tr>\n",
              "      <th>1259</th>\n",
              "      <td>1259</td>\n",
              "      <td>2565918.0</td>\n",
              "      <td>2.0</td>\n",
              "      <td>2658.838006</td>\n",
              "      <td>695.0</td>\n",
              "      <td>278316.0</td>\n",
              "      <td>99.75</td>\n",
              "      <td>25.16</td>\n",
              "      <td>67.20</td>\n",
              "      <td>48.28</td>\n",
              "      <td>...</td>\n",
              "      <td>0</td>\n",
              "      <td>pass</td>\n",
              "      <td>fail</td>\n",
              "      <td>foot</td>\n",
              "      <td>Koke</td>\n",
              "      <td>Jorge</td>\n",
              "      <td>Ruiz Ojeda</td>\n",
              "      <td>1995-09-27</td>\n",
              "      <td>Levante</td>\n",
              "      <td>Levante UD</td>\n",
              "    </tr>\n",
              "    <tr>\n",
              "      <th>1260</th>\n",
              "      <td>1260</td>\n",
              "      <td>2565918.0</td>\n",
              "      <td>2.0</td>\n",
              "      <td>2661.507850</td>\n",
              "      <td>692.0</td>\n",
              "      <td>293856.0</td>\n",
              "      <td>67.20</td>\n",
              "      <td>48.28</td>\n",
              "      <td>87.15</td>\n",
              "      <td>59.16</td>\n",
              "      <td>...</td>\n",
              "      <td>1</td>\n",
              "      <td>pass</td>\n",
              "      <td>success</td>\n",
              "      <td>head</td>\n",
              "      <td>Dani Molina</td>\n",
              "      <td>Daniel</td>\n",
              "      <td>Molina Orta</td>\n",
              "      <td>1996-03-14</td>\n",
              "      <td>Celta de Vigo</td>\n",
              "      <td>Real Club Celta de Vigo</td>\n",
              "    </tr>\n",
              "    <tr>\n",
              "      <th>1261</th>\n",
              "      <td>1261</td>\n",
              "      <td>2565918.0</td>\n",
              "      <td>2.0</td>\n",
              "      <td>2669.145892</td>\n",
              "      <td>695.0</td>\n",
              "      <td>278049.0</td>\n",
              "      <td>88.20</td>\n",
              "      <td>56.44</td>\n",
              "      <td>88.20</td>\n",
              "      <td>56.44</td>\n",
              "      <td>...</td>\n",
              "      <td>1</td>\n",
              "      <td>foul</td>\n",
              "      <td>success</td>\n",
              "      <td>foot</td>\n",
              "      <td>E. Cabaco</td>\n",
              "      <td>Erick Cathriel</td>\n",
              "      <td>Cabaco Almada</td>\n",
              "      <td>1995-04-19</td>\n",
              "      <td>Levante</td>\n",
              "      <td>Levante UD</td>\n",
              "    </tr>\n",
              "    <tr>\n",
              "      <th>1262</th>\n",
              "      <td>1262</td>\n",
              "      <td>2565918.0</td>\n",
              "      <td>2.0</td>\n",
              "      <td>2707.514594</td>\n",
              "      <td>692.0</td>\n",
              "      <td>0.0</td>\n",
              "      <td>77.70</td>\n",
              "      <td>64.60</td>\n",
              "      <td>0.00</td>\n",
              "      <td>68.00</td>\n",
              "      <td>...</td>\n",
              "      <td>0</td>\n",
              "      <td>freekick_short</td>\n",
              "      <td>fail</td>\n",
              "      <td>foot</td>\n",
              "      <td>NaN</td>\n",
              "      <td>NaN</td>\n",
              "      <td>NaN</td>\n",
              "      <td>NaN</td>\n",
              "      <td>Celta de Vigo</td>\n",
              "      <td>Real Club Celta de Vigo</td>\n",
              "    </tr>\n",
              "  </tbody>\n",
              "</table>\n",
              "<p>12820 rows × 22 columns</p>\n",
              "</div>\n",
              "    <div class=\"colab-df-buttons\">\n",
              "\n",
              "  <div class=\"colab-df-container\">\n",
              "    <button class=\"colab-df-convert\" onclick=\"convertToInteractive('df-1a671177-c656-4eaa-9b9f-9046ef8ab38e')\"\n",
              "            title=\"Convert this dataframe to an interactive table.\"\n",
              "            style=\"display:none;\">\n",
              "\n",
              "  <svg xmlns=\"http://www.w3.org/2000/svg\" height=\"24px\" viewBox=\"0 -960 960 960\">\n",
              "    <path d=\"M120-120v-720h720v720H120Zm60-500h600v-160H180v160Zm220 220h160v-160H400v160Zm0 220h160v-160H400v160ZM180-400h160v-160H180v160Zm440 0h160v-160H620v160ZM180-180h160v-160H180v160Zm440 0h160v-160H620v160Z\"/>\n",
              "  </svg>\n",
              "    </button>\n",
              "\n",
              "  <style>\n",
              "    .colab-df-container {\n",
              "      display:flex;\n",
              "      gap: 12px;\n",
              "    }\n",
              "\n",
              "    .colab-df-convert {\n",
              "      background-color: #E8F0FE;\n",
              "      border: none;\n",
              "      border-radius: 50%;\n",
              "      cursor: pointer;\n",
              "      display: none;\n",
              "      fill: #1967D2;\n",
              "      height: 32px;\n",
              "      padding: 0 0 0 0;\n",
              "      width: 32px;\n",
              "    }\n",
              "\n",
              "    .colab-df-convert:hover {\n",
              "      background-color: #E2EBFA;\n",
              "      box-shadow: 0px 1px 2px rgba(60, 64, 67, 0.3), 0px 1px 3px 1px rgba(60, 64, 67, 0.15);\n",
              "      fill: #174EA6;\n",
              "    }\n",
              "\n",
              "    .colab-df-buttons div {\n",
              "      margin-bottom: 4px;\n",
              "    }\n",
              "\n",
              "    [theme=dark] .colab-df-convert {\n",
              "      background-color: #3B4455;\n",
              "      fill: #D2E3FC;\n",
              "    }\n",
              "\n",
              "    [theme=dark] .colab-df-convert:hover {\n",
              "      background-color: #434B5C;\n",
              "      box-shadow: 0px 1px 3px 1px rgba(0, 0, 0, 0.15);\n",
              "      filter: drop-shadow(0px 1px 2px rgba(0, 0, 0, 0.3));\n",
              "      fill: #FFFFFF;\n",
              "    }\n",
              "  </style>\n",
              "\n",
              "    <script>\n",
              "      const buttonEl =\n",
              "        document.querySelector('#df-1a671177-c656-4eaa-9b9f-9046ef8ab38e button.colab-df-convert');\n",
              "      buttonEl.style.display =\n",
              "        google.colab.kernel.accessAllowed ? 'block' : 'none';\n",
              "\n",
              "      async function convertToInteractive(key) {\n",
              "        const element = document.querySelector('#df-1a671177-c656-4eaa-9b9f-9046ef8ab38e');\n",
              "        const dataTable =\n",
              "          await google.colab.kernel.invokeFunction('convertToInteractive',\n",
              "                                                    [key], {});\n",
              "        if (!dataTable) return;\n",
              "\n",
              "        const docLinkHtml = 'Like what you see? Visit the ' +\n",
              "          '<a target=\"_blank\" href=https://colab.research.google.com/notebooks/data_table.ipynb>data table notebook</a>'\n",
              "          + ' to learn more about interactive tables.';\n",
              "        element.innerHTML = '';\n",
              "        dataTable['output_type'] = 'display_data';\n",
              "        await google.colab.output.renderOutput(dataTable, element);\n",
              "        const docLink = document.createElement('div');\n",
              "        docLink.innerHTML = docLinkHtml;\n",
              "        element.appendChild(docLink);\n",
              "      }\n",
              "    </script>\n",
              "  </div>\n",
              "\n",
              "\n",
              "<div id=\"df-ad2882e2-1917-4451-a593-d667656ed670\">\n",
              "  <button class=\"colab-df-quickchart\" onclick=\"quickchart('df-ad2882e2-1917-4451-a593-d667656ed670')\"\n",
              "            title=\"Suggest charts\"\n",
              "            style=\"display:none;\">\n",
              "\n",
              "<svg xmlns=\"http://www.w3.org/2000/svg\" height=\"24px\"viewBox=\"0 0 24 24\"\n",
              "     width=\"24px\">\n",
              "    <g>\n",
              "        <path d=\"M19 3H5c-1.1 0-2 .9-2 2v14c0 1.1.9 2 2 2h14c1.1 0 2-.9 2-2V5c0-1.1-.9-2-2-2zM9 17H7v-7h2v7zm4 0h-2V7h2v10zm4 0h-2v-4h2v4z\"/>\n",
              "    </g>\n",
              "</svg>\n",
              "  </button>\n",
              "\n",
              "<style>\n",
              "  .colab-df-quickchart {\n",
              "      --bg-color: #E8F0FE;\n",
              "      --fill-color: #1967D2;\n",
              "      --hover-bg-color: #E2EBFA;\n",
              "      --hover-fill-color: #174EA6;\n",
              "      --disabled-fill-color: #AAA;\n",
              "      --disabled-bg-color: #DDD;\n",
              "  }\n",
              "\n",
              "  [theme=dark] .colab-df-quickchart {\n",
              "      --bg-color: #3B4455;\n",
              "      --fill-color: #D2E3FC;\n",
              "      --hover-bg-color: #434B5C;\n",
              "      --hover-fill-color: #FFFFFF;\n",
              "      --disabled-bg-color: #3B4455;\n",
              "      --disabled-fill-color: #666;\n",
              "  }\n",
              "\n",
              "  .colab-df-quickchart {\n",
              "    background-color: var(--bg-color);\n",
              "    border: none;\n",
              "    border-radius: 50%;\n",
              "    cursor: pointer;\n",
              "    display: none;\n",
              "    fill: var(--fill-color);\n",
              "    height: 32px;\n",
              "    padding: 0;\n",
              "    width: 32px;\n",
              "  }\n",
              "\n",
              "  .colab-df-quickchart:hover {\n",
              "    background-color: var(--hover-bg-color);\n",
              "    box-shadow: 0 1px 2px rgba(60, 64, 67, 0.3), 0 1px 3px 1px rgba(60, 64, 67, 0.15);\n",
              "    fill: var(--button-hover-fill-color);\n",
              "  }\n",
              "\n",
              "  .colab-df-quickchart-complete:disabled,\n",
              "  .colab-df-quickchart-complete:disabled:hover {\n",
              "    background-color: var(--disabled-bg-color);\n",
              "    fill: var(--disabled-fill-color);\n",
              "    box-shadow: none;\n",
              "  }\n",
              "\n",
              "  .colab-df-spinner {\n",
              "    border: 2px solid var(--fill-color);\n",
              "    border-color: transparent;\n",
              "    border-bottom-color: var(--fill-color);\n",
              "    animation:\n",
              "      spin 1s steps(1) infinite;\n",
              "  }\n",
              "\n",
              "  @keyframes spin {\n",
              "    0% {\n",
              "      border-color: transparent;\n",
              "      border-bottom-color: var(--fill-color);\n",
              "      border-left-color: var(--fill-color);\n",
              "    }\n",
              "    20% {\n",
              "      border-color: transparent;\n",
              "      border-left-color: var(--fill-color);\n",
              "      border-top-color: var(--fill-color);\n",
              "    }\n",
              "    30% {\n",
              "      border-color: transparent;\n",
              "      border-left-color: var(--fill-color);\n",
              "      border-top-color: var(--fill-color);\n",
              "      border-right-color: var(--fill-color);\n",
              "    }\n",
              "    40% {\n",
              "      border-color: transparent;\n",
              "      border-right-color: var(--fill-color);\n",
              "      border-top-color: var(--fill-color);\n",
              "    }\n",
              "    60% {\n",
              "      border-color: transparent;\n",
              "      border-right-color: var(--fill-color);\n",
              "    }\n",
              "    80% {\n",
              "      border-color: transparent;\n",
              "      border-right-color: var(--fill-color);\n",
              "      border-bottom-color: var(--fill-color);\n",
              "    }\n",
              "    90% {\n",
              "      border-color: transparent;\n",
              "      border-bottom-color: var(--fill-color);\n",
              "    }\n",
              "  }\n",
              "</style>\n",
              "\n",
              "  <script>\n",
              "    async function quickchart(key) {\n",
              "      const quickchartButtonEl =\n",
              "        document.querySelector('#' + key + ' button');\n",
              "      quickchartButtonEl.disabled = true;  // To prevent multiple clicks.\n",
              "      quickchartButtonEl.classList.add('colab-df-spinner');\n",
              "      try {\n",
              "        const charts = await google.colab.kernel.invokeFunction(\n",
              "            'suggestCharts', [key], {});\n",
              "      } catch (error) {\n",
              "        console.error('Error during call to suggestCharts:', error);\n",
              "      }\n",
              "      quickchartButtonEl.classList.remove('colab-df-spinner');\n",
              "      quickchartButtonEl.classList.add('colab-df-quickchart-complete');\n",
              "    }\n",
              "    (() => {\n",
              "      let quickchartButtonEl =\n",
              "        document.querySelector('#df-ad2882e2-1917-4451-a593-d667656ed670 button');\n",
              "      quickchartButtonEl.style.display =\n",
              "        google.colab.kernel.accessAllowed ? 'block' : 'none';\n",
              "    })();\n",
              "  </script>\n",
              "</div>\n",
              "    </div>\n",
              "  </div>\n"
            ],
            "application/vnd.google.colaboratory.intrinsic+json": {
              "type": "dataframe",
              "variable_name": "global_df_actions"
            }
          },
          "metadata": {},
          "execution_count": 94
        }
      ],
      "source": [
        "# Look at first 5 actions of the match\n",
        "global_df_actions"
      ]
    },
    {
      "cell_type": "markdown",
      "metadata": {
        "id": "Ehn4OwsnTBtZ"
      },
      "source": [
        "The following cells define some functions to make it more convenient to explore the actions."
      ]
    },
    {
      "cell_type": "code",
      "execution_count": 54,
      "metadata": {
        "id": "D0EDgHEVTBtZ"
      },
      "outputs": [],
      "source": [
        "def nice_time(row):\n",
        "    minute = int((row['period_id']>=2) * 45 + (row['period_id']>=3) * 15 +\n",
        "                 (row['period_id']==4) * 15 + row['time_seconds'] // 60)\n",
        "    second = int(row['time_seconds'] % 60)\n",
        "    return f'{minute}m{second}s'\n",
        "\n",
        "df_actions['nice_time'] = df_actions.apply(nice_time,axis=1)"
      ]
    },
    {
      "cell_type": "code",
      "execution_count": 55,
      "metadata": {
        "id": "97J3nTgxTBtZ"
      },
      "outputs": [],
      "source": [
        "def action_name(row):\n",
        "    return f\"{row['action_id']}: {row['nice_time']} - {row['short_name']} {row['type_name']}\"\n",
        "\n",
        "df_actions['action_name'] = df_actions.apply(action_name, axis=1)"
      ]
    },
    {
      "cell_type": "code",
      "execution_count": 48,
      "metadata": {
        "id": "kXk-p_ibTBtZ"
      },
      "outputs": [],
      "source": [
        "def plot_actions(df_actions_to_plot):\n",
        "    matplotsoccer.actions(\n",
        "        location=df_actions_to_plot[['start_x', 'start_y', 'end_x', 'end_y']],\n",
        "        action_type=df_actions_to_plot['type_name'],\n",
        "        team=df_actions_to_plot['team_name'],\n",
        "        result=df_actions_to_plot['result_name'] == 'success',\n",
        "        label=df_actions_to_plot[['nice_time', 'type_name', 'short_name', 'short_team_name']],\n",
        "        labeltitle=['time', 'actiontype', 'player', 'team'],\n",
        "        zoom=False,\n",
        "        figsize=8)"
      ]
    },
    {
      "cell_type": "code",
      "execution_count": 56,
      "metadata": {
        "id": "e6jp-J_lTBta"
      },
      "outputs": [],
      "source": [
        "def plot_actions_from_action_name(df_actions, action_name):\n",
        "    action_id = int(action_name.split(':')[0])\n",
        "    df_actions_to_plot = df_actions[action_id-3: action_id+3]\n",
        "    plot_actions(df_actions_to_plot)"
      ]
    },
    {
      "cell_type": "code",
      "source": [
        "df_actions = global_df_actions\n",
        "shot_in_next_10_actions = []\n",
        "# Iterate through each row in the DataFrame\n",
        "for index, row in df_actions.iterrows():\n",
        "    # Get the current action ID\n",
        "    current_action = row['action_id']\n",
        "    game_id = row['game_id']\n",
        "\n",
        "    # Check if there is a shot in the next 10 actions\n",
        "    shot_next_10_act = any((df_actions['action_id'] > current_action) & (df_actions['action_id'] <= current_action + 10) & (df_actions['type_name'] == 'shot') & (df_actions['game_id'] == game_id))\n",
        "\n",
        "    # Append the result to the list\n",
        "    shot_in_next_10_actions.append(shot_next_10_act)\n",
        "\n",
        "# Add the boolean column to the DataFrame\n",
        "df_actions['shot_in_next_10_actions'] = shot_in_next_10_actions"
      ],
      "metadata": {
        "id": "SJ5GYTg4WXqE"
      },
      "execution_count": 96,
      "outputs": []
    },
    {
      "cell_type": "code",
      "source": [
        "df_actions[df_actions['shot_in_next_10_actions']]"
      ],
      "metadata": {
        "id": "OtjsFhYZpA4I",
        "outputId": "9b3bb95c-c39d-402b-ae2a-6711451faa2a",
        "colab": {
          "base_uri": "https://localhost:8080/",
          "height": 617
        }
      },
      "execution_count": 97,
      "outputs": [
        {
          "output_type": "execute_result",
          "data": {
            "text/plain": [
              "      action_id    game_id  period_id  time_seconds  team_id  player_id  \\\n",
              "28           28  2565922.0        1.0     90.477903    676.0   256634.0   \n",
              "29           29  2565922.0        1.0     91.966849    676.0     3269.0   \n",
              "30           30  2565922.0        1.0     94.667146    676.0     3802.0   \n",
              "31           31  2565922.0        1.0     94.986496    676.0     7972.0   \n",
              "32           32  2565922.0        1.0     95.305845    676.0     7972.0   \n",
              "...         ...        ...        ...           ...      ...        ...   \n",
              "1155       1155  2565918.0        2.0   2219.993591    695.0     3470.0   \n",
              "1156       1156  2565918.0        2.0   2219.993591    695.0     3470.0   \n",
              "1157       1157  2565918.0        2.0   2221.047837    695.0   237269.0   \n",
              "1158       1158  2565918.0        2.0   2222.102082    695.0   237269.0   \n",
              "1159       1159  2565918.0        2.0   2223.376760    695.0     3470.0   \n",
              "\n",
              "      start_x  start_y  end_x  end_y  ...     type_name  result_name  \\\n",
              "28      24.15    50.32  40.95  64.60  ...          pass      success   \n",
              "29      40.95    64.60  51.45  52.36  ...          pass      success   \n",
              "30      51.45    52.36  58.80  50.32  ...          pass      success   \n",
              "31      58.80    50.32  65.10  46.24  ...       dribble      success   \n",
              "32      65.10    46.24  61.95  51.00  ...          pass         fail   \n",
              "...       ...      ...    ...    ...  ...           ...          ...   \n",
              "1155    30.45    30.60  30.45  30.60  ...  interception      success   \n",
              "1156    30.45    30.60  18.90  22.44  ...          pass      success   \n",
              "1157    18.90    22.44  24.15  23.80  ...       dribble      success   \n",
              "1158    24.15    23.80  15.75  31.96  ...          pass      success   \n",
              "1159    15.75    31.96  32.55  27.88  ...       dribble      success   \n",
              "\n",
              "      bodypart_name         short_name      first_name         last_name  \\\n",
              "28             foot            Y. Mina  Yerry Fernando     Mina González   \n",
              "29             foot         Jordi Alba           Jordi        Alba Ramos   \n",
              "30             foot  Philippe Coutinho        Philippe  Coutinho Correia   \n",
              "31             foot          L. Suárez    Luis Alberto       Suárez Díaz   \n",
              "32             foot          L. Suárez    Luis Alberto       Suárez Díaz   \n",
              "...             ...                ...             ...               ...   \n",
              "1155           foot            Campaña      José Ángel     Gómez Campaña   \n",
              "1156           foot            Campaña      José Ángel     Gómez Campaña   \n",
              "1157           foot           S. Lukić            Saša             Lukić   \n",
              "1158           foot           S. Lukić            Saša             Lukić   \n",
              "1159           foot            Campaña      José Ángel     Gómez Campaña   \n",
              "\n",
              "      birth_date short_team_name     team_name shot_in_next_10_actions  \n",
              "28    1994-09-23       Barcelona  FC Barcelona                    True  \n",
              "29    1989-03-21       Barcelona  FC Barcelona                    True  \n",
              "30    1992-06-12       Barcelona  FC Barcelona                    True  \n",
              "31    1987-01-24       Barcelona  FC Barcelona                    True  \n",
              "32    1987-01-24       Barcelona  FC Barcelona                    True  \n",
              "...          ...             ...           ...                     ...  \n",
              "1155  1993-05-31         Levante    Levante UD                    True  \n",
              "1156  1993-05-31         Levante    Levante UD                    True  \n",
              "1157  1996-08-13         Levante    Levante UD                    True  \n",
              "1158  1996-08-13         Levante    Levante UD                    True  \n",
              "1159  1993-05-31         Levante    Levante UD                    True  \n",
              "\n",
              "[2163 rows x 23 columns]"
            ],
            "text/html": [
              "\n",
              "  <div id=\"df-ea0a2dcd-7b94-4607-a6d6-485463551550\" class=\"colab-df-container\">\n",
              "    <div>\n",
              "<style scoped>\n",
              "    .dataframe tbody tr th:only-of-type {\n",
              "        vertical-align: middle;\n",
              "    }\n",
              "\n",
              "    .dataframe tbody tr th {\n",
              "        vertical-align: top;\n",
              "    }\n",
              "\n",
              "    .dataframe thead th {\n",
              "        text-align: right;\n",
              "    }\n",
              "</style>\n",
              "<table border=\"1\" class=\"dataframe\">\n",
              "  <thead>\n",
              "    <tr style=\"text-align: right;\">\n",
              "      <th></th>\n",
              "      <th>action_id</th>\n",
              "      <th>game_id</th>\n",
              "      <th>period_id</th>\n",
              "      <th>time_seconds</th>\n",
              "      <th>team_id</th>\n",
              "      <th>player_id</th>\n",
              "      <th>start_x</th>\n",
              "      <th>start_y</th>\n",
              "      <th>end_x</th>\n",
              "      <th>end_y</th>\n",
              "      <th>...</th>\n",
              "      <th>type_name</th>\n",
              "      <th>result_name</th>\n",
              "      <th>bodypart_name</th>\n",
              "      <th>short_name</th>\n",
              "      <th>first_name</th>\n",
              "      <th>last_name</th>\n",
              "      <th>birth_date</th>\n",
              "      <th>short_team_name</th>\n",
              "      <th>team_name</th>\n",
              "      <th>shot_in_next_10_actions</th>\n",
              "    </tr>\n",
              "  </thead>\n",
              "  <tbody>\n",
              "    <tr>\n",
              "      <th>28</th>\n",
              "      <td>28</td>\n",
              "      <td>2565922.0</td>\n",
              "      <td>1.0</td>\n",
              "      <td>90.477903</td>\n",
              "      <td>676.0</td>\n",
              "      <td>256634.0</td>\n",
              "      <td>24.15</td>\n",
              "      <td>50.32</td>\n",
              "      <td>40.95</td>\n",
              "      <td>64.60</td>\n",
              "      <td>...</td>\n",
              "      <td>pass</td>\n",
              "      <td>success</td>\n",
              "      <td>foot</td>\n",
              "      <td>Y. Mina</td>\n",
              "      <td>Yerry Fernando</td>\n",
              "      <td>Mina González</td>\n",
              "      <td>1994-09-23</td>\n",
              "      <td>Barcelona</td>\n",
              "      <td>FC Barcelona</td>\n",
              "      <td>True</td>\n",
              "    </tr>\n",
              "    <tr>\n",
              "      <th>29</th>\n",
              "      <td>29</td>\n",
              "      <td>2565922.0</td>\n",
              "      <td>1.0</td>\n",
              "      <td>91.966849</td>\n",
              "      <td>676.0</td>\n",
              "      <td>3269.0</td>\n",
              "      <td>40.95</td>\n",
              "      <td>64.60</td>\n",
              "      <td>51.45</td>\n",
              "      <td>52.36</td>\n",
              "      <td>...</td>\n",
              "      <td>pass</td>\n",
              "      <td>success</td>\n",
              "      <td>foot</td>\n",
              "      <td>Jordi Alba</td>\n",
              "      <td>Jordi</td>\n",
              "      <td>Alba Ramos</td>\n",
              "      <td>1989-03-21</td>\n",
              "      <td>Barcelona</td>\n",
              "      <td>FC Barcelona</td>\n",
              "      <td>True</td>\n",
              "    </tr>\n",
              "    <tr>\n",
              "      <th>30</th>\n",
              "      <td>30</td>\n",
              "      <td>2565922.0</td>\n",
              "      <td>1.0</td>\n",
              "      <td>94.667146</td>\n",
              "      <td>676.0</td>\n",
              "      <td>3802.0</td>\n",
              "      <td>51.45</td>\n",
              "      <td>52.36</td>\n",
              "      <td>58.80</td>\n",
              "      <td>50.32</td>\n",
              "      <td>...</td>\n",
              "      <td>pass</td>\n",
              "      <td>success</td>\n",
              "      <td>foot</td>\n",
              "      <td>Philippe Coutinho</td>\n",
              "      <td>Philippe</td>\n",
              "      <td>Coutinho Correia</td>\n",
              "      <td>1992-06-12</td>\n",
              "      <td>Barcelona</td>\n",
              "      <td>FC Barcelona</td>\n",
              "      <td>True</td>\n",
              "    </tr>\n",
              "    <tr>\n",
              "      <th>31</th>\n",
              "      <td>31</td>\n",
              "      <td>2565922.0</td>\n",
              "      <td>1.0</td>\n",
              "      <td>94.986496</td>\n",
              "      <td>676.0</td>\n",
              "      <td>7972.0</td>\n",
              "      <td>58.80</td>\n",
              "      <td>50.32</td>\n",
              "      <td>65.10</td>\n",
              "      <td>46.24</td>\n",
              "      <td>...</td>\n",
              "      <td>dribble</td>\n",
              "      <td>success</td>\n",
              "      <td>foot</td>\n",
              "      <td>L. Suárez</td>\n",
              "      <td>Luis Alberto</td>\n",
              "      <td>Suárez Díaz</td>\n",
              "      <td>1987-01-24</td>\n",
              "      <td>Barcelona</td>\n",
              "      <td>FC Barcelona</td>\n",
              "      <td>True</td>\n",
              "    </tr>\n",
              "    <tr>\n",
              "      <th>32</th>\n",
              "      <td>32</td>\n",
              "      <td>2565922.0</td>\n",
              "      <td>1.0</td>\n",
              "      <td>95.305845</td>\n",
              "      <td>676.0</td>\n",
              "      <td>7972.0</td>\n",
              "      <td>65.10</td>\n",
              "      <td>46.24</td>\n",
              "      <td>61.95</td>\n",
              "      <td>51.00</td>\n",
              "      <td>...</td>\n",
              "      <td>pass</td>\n",
              "      <td>fail</td>\n",
              "      <td>foot</td>\n",
              "      <td>L. Suárez</td>\n",
              "      <td>Luis Alberto</td>\n",
              "      <td>Suárez Díaz</td>\n",
              "      <td>1987-01-24</td>\n",
              "      <td>Barcelona</td>\n",
              "      <td>FC Barcelona</td>\n",
              "      <td>True</td>\n",
              "    </tr>\n",
              "    <tr>\n",
              "      <th>...</th>\n",
              "      <td>...</td>\n",
              "      <td>...</td>\n",
              "      <td>...</td>\n",
              "      <td>...</td>\n",
              "      <td>...</td>\n",
              "      <td>...</td>\n",
              "      <td>...</td>\n",
              "      <td>...</td>\n",
              "      <td>...</td>\n",
              "      <td>...</td>\n",
              "      <td>...</td>\n",
              "      <td>...</td>\n",
              "      <td>...</td>\n",
              "      <td>...</td>\n",
              "      <td>...</td>\n",
              "      <td>...</td>\n",
              "      <td>...</td>\n",
              "      <td>...</td>\n",
              "      <td>...</td>\n",
              "      <td>...</td>\n",
              "      <td>...</td>\n",
              "    </tr>\n",
              "    <tr>\n",
              "      <th>1155</th>\n",
              "      <td>1155</td>\n",
              "      <td>2565918.0</td>\n",
              "      <td>2.0</td>\n",
              "      <td>2219.993591</td>\n",
              "      <td>695.0</td>\n",
              "      <td>3470.0</td>\n",
              "      <td>30.45</td>\n",
              "      <td>30.60</td>\n",
              "      <td>30.45</td>\n",
              "      <td>30.60</td>\n",
              "      <td>...</td>\n",
              "      <td>interception</td>\n",
              "      <td>success</td>\n",
              "      <td>foot</td>\n",
              "      <td>Campaña</td>\n",
              "      <td>José Ángel</td>\n",
              "      <td>Gómez Campaña</td>\n",
              "      <td>1993-05-31</td>\n",
              "      <td>Levante</td>\n",
              "      <td>Levante UD</td>\n",
              "      <td>True</td>\n",
              "    </tr>\n",
              "    <tr>\n",
              "      <th>1156</th>\n",
              "      <td>1156</td>\n",
              "      <td>2565918.0</td>\n",
              "      <td>2.0</td>\n",
              "      <td>2219.993591</td>\n",
              "      <td>695.0</td>\n",
              "      <td>3470.0</td>\n",
              "      <td>30.45</td>\n",
              "      <td>30.60</td>\n",
              "      <td>18.90</td>\n",
              "      <td>22.44</td>\n",
              "      <td>...</td>\n",
              "      <td>pass</td>\n",
              "      <td>success</td>\n",
              "      <td>foot</td>\n",
              "      <td>Campaña</td>\n",
              "      <td>José Ángel</td>\n",
              "      <td>Gómez Campaña</td>\n",
              "      <td>1993-05-31</td>\n",
              "      <td>Levante</td>\n",
              "      <td>Levante UD</td>\n",
              "      <td>True</td>\n",
              "    </tr>\n",
              "    <tr>\n",
              "      <th>1157</th>\n",
              "      <td>1157</td>\n",
              "      <td>2565918.0</td>\n",
              "      <td>2.0</td>\n",
              "      <td>2221.047837</td>\n",
              "      <td>695.0</td>\n",
              "      <td>237269.0</td>\n",
              "      <td>18.90</td>\n",
              "      <td>22.44</td>\n",
              "      <td>24.15</td>\n",
              "      <td>23.80</td>\n",
              "      <td>...</td>\n",
              "      <td>dribble</td>\n",
              "      <td>success</td>\n",
              "      <td>foot</td>\n",
              "      <td>S. Lukić</td>\n",
              "      <td>Saša</td>\n",
              "      <td>Lukić</td>\n",
              "      <td>1996-08-13</td>\n",
              "      <td>Levante</td>\n",
              "      <td>Levante UD</td>\n",
              "      <td>True</td>\n",
              "    </tr>\n",
              "    <tr>\n",
              "      <th>1158</th>\n",
              "      <td>1158</td>\n",
              "      <td>2565918.0</td>\n",
              "      <td>2.0</td>\n",
              "      <td>2222.102082</td>\n",
              "      <td>695.0</td>\n",
              "      <td>237269.0</td>\n",
              "      <td>24.15</td>\n",
              "      <td>23.80</td>\n",
              "      <td>15.75</td>\n",
              "      <td>31.96</td>\n",
              "      <td>...</td>\n",
              "      <td>pass</td>\n",
              "      <td>success</td>\n",
              "      <td>foot</td>\n",
              "      <td>S. Lukić</td>\n",
              "      <td>Saša</td>\n",
              "      <td>Lukić</td>\n",
              "      <td>1996-08-13</td>\n",
              "      <td>Levante</td>\n",
              "      <td>Levante UD</td>\n",
              "      <td>True</td>\n",
              "    </tr>\n",
              "    <tr>\n",
              "      <th>1159</th>\n",
              "      <td>1159</td>\n",
              "      <td>2565918.0</td>\n",
              "      <td>2.0</td>\n",
              "      <td>2223.376760</td>\n",
              "      <td>695.0</td>\n",
              "      <td>3470.0</td>\n",
              "      <td>15.75</td>\n",
              "      <td>31.96</td>\n",
              "      <td>32.55</td>\n",
              "      <td>27.88</td>\n",
              "      <td>...</td>\n",
              "      <td>dribble</td>\n",
              "      <td>success</td>\n",
              "      <td>foot</td>\n",
              "      <td>Campaña</td>\n",
              "      <td>José Ángel</td>\n",
              "      <td>Gómez Campaña</td>\n",
              "      <td>1993-05-31</td>\n",
              "      <td>Levante</td>\n",
              "      <td>Levante UD</td>\n",
              "      <td>True</td>\n",
              "    </tr>\n",
              "  </tbody>\n",
              "</table>\n",
              "<p>2163 rows × 23 columns</p>\n",
              "</div>\n",
              "    <div class=\"colab-df-buttons\">\n",
              "\n",
              "  <div class=\"colab-df-container\">\n",
              "    <button class=\"colab-df-convert\" onclick=\"convertToInteractive('df-ea0a2dcd-7b94-4607-a6d6-485463551550')\"\n",
              "            title=\"Convert this dataframe to an interactive table.\"\n",
              "            style=\"display:none;\">\n",
              "\n",
              "  <svg xmlns=\"http://www.w3.org/2000/svg\" height=\"24px\" viewBox=\"0 -960 960 960\">\n",
              "    <path d=\"M120-120v-720h720v720H120Zm60-500h600v-160H180v160Zm220 220h160v-160H400v160Zm0 220h160v-160H400v160ZM180-400h160v-160H180v160Zm440 0h160v-160H620v160ZM180-180h160v-160H180v160Zm440 0h160v-160H620v160Z\"/>\n",
              "  </svg>\n",
              "    </button>\n",
              "\n",
              "  <style>\n",
              "    .colab-df-container {\n",
              "      display:flex;\n",
              "      gap: 12px;\n",
              "    }\n",
              "\n",
              "    .colab-df-convert {\n",
              "      background-color: #E8F0FE;\n",
              "      border: none;\n",
              "      border-radius: 50%;\n",
              "      cursor: pointer;\n",
              "      display: none;\n",
              "      fill: #1967D2;\n",
              "      height: 32px;\n",
              "      padding: 0 0 0 0;\n",
              "      width: 32px;\n",
              "    }\n",
              "\n",
              "    .colab-df-convert:hover {\n",
              "      background-color: #E2EBFA;\n",
              "      box-shadow: 0px 1px 2px rgba(60, 64, 67, 0.3), 0px 1px 3px 1px rgba(60, 64, 67, 0.15);\n",
              "      fill: #174EA6;\n",
              "    }\n",
              "\n",
              "    .colab-df-buttons div {\n",
              "      margin-bottom: 4px;\n",
              "    }\n",
              "\n",
              "    [theme=dark] .colab-df-convert {\n",
              "      background-color: #3B4455;\n",
              "      fill: #D2E3FC;\n",
              "    }\n",
              "\n",
              "    [theme=dark] .colab-df-convert:hover {\n",
              "      background-color: #434B5C;\n",
              "      box-shadow: 0px 1px 3px 1px rgba(0, 0, 0, 0.15);\n",
              "      filter: drop-shadow(0px 1px 2px rgba(0, 0, 0, 0.3));\n",
              "      fill: #FFFFFF;\n",
              "    }\n",
              "  </style>\n",
              "\n",
              "    <script>\n",
              "      const buttonEl =\n",
              "        document.querySelector('#df-ea0a2dcd-7b94-4607-a6d6-485463551550 button.colab-df-convert');\n",
              "      buttonEl.style.display =\n",
              "        google.colab.kernel.accessAllowed ? 'block' : 'none';\n",
              "\n",
              "      async function convertToInteractive(key) {\n",
              "        const element = document.querySelector('#df-ea0a2dcd-7b94-4607-a6d6-485463551550');\n",
              "        const dataTable =\n",
              "          await google.colab.kernel.invokeFunction('convertToInteractive',\n",
              "                                                    [key], {});\n",
              "        if (!dataTable) return;\n",
              "\n",
              "        const docLinkHtml = 'Like what you see? Visit the ' +\n",
              "          '<a target=\"_blank\" href=https://colab.research.google.com/notebooks/data_table.ipynb>data table notebook</a>'\n",
              "          + ' to learn more about interactive tables.';\n",
              "        element.innerHTML = '';\n",
              "        dataTable['output_type'] = 'display_data';\n",
              "        await google.colab.output.renderOutput(dataTable, element);\n",
              "        const docLink = document.createElement('div');\n",
              "        docLink.innerHTML = docLinkHtml;\n",
              "        element.appendChild(docLink);\n",
              "      }\n",
              "    </script>\n",
              "  </div>\n",
              "\n",
              "\n",
              "<div id=\"df-fb7a662c-9a90-4dcc-b520-ae2b28bbc846\">\n",
              "  <button class=\"colab-df-quickchart\" onclick=\"quickchart('df-fb7a662c-9a90-4dcc-b520-ae2b28bbc846')\"\n",
              "            title=\"Suggest charts\"\n",
              "            style=\"display:none;\">\n",
              "\n",
              "<svg xmlns=\"http://www.w3.org/2000/svg\" height=\"24px\"viewBox=\"0 0 24 24\"\n",
              "     width=\"24px\">\n",
              "    <g>\n",
              "        <path d=\"M19 3H5c-1.1 0-2 .9-2 2v14c0 1.1.9 2 2 2h14c1.1 0 2-.9 2-2V5c0-1.1-.9-2-2-2zM9 17H7v-7h2v7zm4 0h-2V7h2v10zm4 0h-2v-4h2v4z\"/>\n",
              "    </g>\n",
              "</svg>\n",
              "  </button>\n",
              "\n",
              "<style>\n",
              "  .colab-df-quickchart {\n",
              "      --bg-color: #E8F0FE;\n",
              "      --fill-color: #1967D2;\n",
              "      --hover-bg-color: #E2EBFA;\n",
              "      --hover-fill-color: #174EA6;\n",
              "      --disabled-fill-color: #AAA;\n",
              "      --disabled-bg-color: #DDD;\n",
              "  }\n",
              "\n",
              "  [theme=dark] .colab-df-quickchart {\n",
              "      --bg-color: #3B4455;\n",
              "      --fill-color: #D2E3FC;\n",
              "      --hover-bg-color: #434B5C;\n",
              "      --hover-fill-color: #FFFFFF;\n",
              "      --disabled-bg-color: #3B4455;\n",
              "      --disabled-fill-color: #666;\n",
              "  }\n",
              "\n",
              "  .colab-df-quickchart {\n",
              "    background-color: var(--bg-color);\n",
              "    border: none;\n",
              "    border-radius: 50%;\n",
              "    cursor: pointer;\n",
              "    display: none;\n",
              "    fill: var(--fill-color);\n",
              "    height: 32px;\n",
              "    padding: 0;\n",
              "    width: 32px;\n",
              "  }\n",
              "\n",
              "  .colab-df-quickchart:hover {\n",
              "    background-color: var(--hover-bg-color);\n",
              "    box-shadow: 0 1px 2px rgba(60, 64, 67, 0.3), 0 1px 3px 1px rgba(60, 64, 67, 0.15);\n",
              "    fill: var(--button-hover-fill-color);\n",
              "  }\n",
              "\n",
              "  .colab-df-quickchart-complete:disabled,\n",
              "  .colab-df-quickchart-complete:disabled:hover {\n",
              "    background-color: var(--disabled-bg-color);\n",
              "    fill: var(--disabled-fill-color);\n",
              "    box-shadow: none;\n",
              "  }\n",
              "\n",
              "  .colab-df-spinner {\n",
              "    border: 2px solid var(--fill-color);\n",
              "    border-color: transparent;\n",
              "    border-bottom-color: var(--fill-color);\n",
              "    animation:\n",
              "      spin 1s steps(1) infinite;\n",
              "  }\n",
              "\n",
              "  @keyframes spin {\n",
              "    0% {\n",
              "      border-color: transparent;\n",
              "      border-bottom-color: var(--fill-color);\n",
              "      border-left-color: var(--fill-color);\n",
              "    }\n",
              "    20% {\n",
              "      border-color: transparent;\n",
              "      border-left-color: var(--fill-color);\n",
              "      border-top-color: var(--fill-color);\n",
              "    }\n",
              "    30% {\n",
              "      border-color: transparent;\n",
              "      border-left-color: var(--fill-color);\n",
              "      border-top-color: var(--fill-color);\n",
              "      border-right-color: var(--fill-color);\n",
              "    }\n",
              "    40% {\n",
              "      border-color: transparent;\n",
              "      border-right-color: var(--fill-color);\n",
              "      border-top-color: var(--fill-color);\n",
              "    }\n",
              "    60% {\n",
              "      border-color: transparent;\n",
              "      border-right-color: var(--fill-color);\n",
              "    }\n",
              "    80% {\n",
              "      border-color: transparent;\n",
              "      border-right-color: var(--fill-color);\n",
              "      border-bottom-color: var(--fill-color);\n",
              "    }\n",
              "    90% {\n",
              "      border-color: transparent;\n",
              "      border-bottom-color: var(--fill-color);\n",
              "    }\n",
              "  }\n",
              "</style>\n",
              "\n",
              "  <script>\n",
              "    async function quickchart(key) {\n",
              "      const quickchartButtonEl =\n",
              "        document.querySelector('#' + key + ' button');\n",
              "      quickchartButtonEl.disabled = true;  // To prevent multiple clicks.\n",
              "      quickchartButtonEl.classList.add('colab-df-spinner');\n",
              "      try {\n",
              "        const charts = await google.colab.kernel.invokeFunction(\n",
              "            'suggestCharts', [key], {});\n",
              "      } catch (error) {\n",
              "        console.error('Error during call to suggestCharts:', error);\n",
              "      }\n",
              "      quickchartButtonEl.classList.remove('colab-df-spinner');\n",
              "      quickchartButtonEl.classList.add('colab-df-quickchart-complete');\n",
              "    }\n",
              "    (() => {\n",
              "      let quickchartButtonEl =\n",
              "        document.querySelector('#df-fb7a662c-9a90-4dcc-b520-ae2b28bbc846 button');\n",
              "      quickchartButtonEl.style.display =\n",
              "        google.colab.kernel.accessAllowed ? 'block' : 'none';\n",
              "    })();\n",
              "  </script>\n",
              "</div>\n",
              "    </div>\n",
              "  </div>\n"
            ],
            "application/vnd.google.colaboratory.intrinsic+json": {
              "type": "dataframe"
            }
          },
          "metadata": {},
          "execution_count": 97
        }
      ]
    },
    {
      "cell_type": "code",
      "source": [
        "import matplotlib.pyplot as plt\n",
        "import scipy\n",
        "\n",
        "def plot_starting_position_heatmap(df_actions_to_plot):\n",
        "    # Extract the starting positions\n",
        "    start_positions = df_actions_to_plot[['start_x', 'start_y']]\n",
        "    hm = matplotsoccer.count(start_positions['start_x'],start_positions['start_y'],n=25,m=25) # Construct a 25x25 heatmap from x,y-coordinates\n",
        "    hm = scipy.ndimage.gaussian_filter(hm,1) # blur the heatmap\n",
        "    matplotsoccer.heatmap(hm) # plot the heatmap"
      ],
      "metadata": {
        "id": "T-thfzxqd9yL"
      },
      "execution_count": 87,
      "outputs": []
    },
    {
      "cell_type": "code",
      "source": [
        "plot_actions(df_actions[df_actions['shot_in_next_10_actions']])"
      ],
      "metadata": {
        "colab": {
          "base_uri": "https://localhost:8080/",
          "height": 287
        },
        "id": "vMZurLk7fmq-",
        "outputId": "b87fdf22-0199-4887-b658-a7065ab5b6e4"
      },
      "execution_count": 98,
      "outputs": [
        {
          "output_type": "error",
          "ename": "KeyError",
          "evalue": "\"['nice_time'] not in index\"",
          "traceback": [
            "\u001b[0;31m---------------------------------------------------------------------------\u001b[0m",
            "\u001b[0;31mKeyError\u001b[0m                                  Traceback (most recent call last)",
            "\u001b[0;32m<ipython-input-98-0d8261d2ec46>\u001b[0m in \u001b[0;36m<cell line: 1>\u001b[0;34m()\u001b[0m\n\u001b[0;32m----> 1\u001b[0;31m \u001b[0mplot_actions\u001b[0m\u001b[0;34m(\u001b[0m\u001b[0mdf_actions\u001b[0m\u001b[0;34m[\u001b[0m\u001b[0mdf_actions\u001b[0m\u001b[0;34m[\u001b[0m\u001b[0;34m'shot_in_next_10_actions'\u001b[0m\u001b[0;34m]\u001b[0m\u001b[0;34m]\u001b[0m\u001b[0;34m)\u001b[0m\u001b[0;34m\u001b[0m\u001b[0;34m\u001b[0m\u001b[0m\n\u001b[0m",
            "\u001b[0;32m<ipython-input-48-b2ea1182bd11>\u001b[0m in \u001b[0;36mplot_actions\u001b[0;34m(df_actions_to_plot)\u001b[0m\n\u001b[1;32m      5\u001b[0m         \u001b[0mteam\u001b[0m\u001b[0;34m=\u001b[0m\u001b[0mdf_actions_to_plot\u001b[0m\u001b[0;34m[\u001b[0m\u001b[0;34m'team_name'\u001b[0m\u001b[0;34m]\u001b[0m\u001b[0;34m,\u001b[0m\u001b[0;34m\u001b[0m\u001b[0;34m\u001b[0m\u001b[0m\n\u001b[1;32m      6\u001b[0m         \u001b[0mresult\u001b[0m\u001b[0;34m=\u001b[0m\u001b[0mdf_actions_to_plot\u001b[0m\u001b[0;34m[\u001b[0m\u001b[0;34m'result_name'\u001b[0m\u001b[0;34m]\u001b[0m \u001b[0;34m==\u001b[0m \u001b[0;34m'success'\u001b[0m\u001b[0;34m,\u001b[0m\u001b[0;34m\u001b[0m\u001b[0;34m\u001b[0m\u001b[0m\n\u001b[0;32m----> 7\u001b[0;31m         \u001b[0mlabel\u001b[0m\u001b[0;34m=\u001b[0m\u001b[0mdf_actions_to_plot\u001b[0m\u001b[0;34m[\u001b[0m\u001b[0;34m[\u001b[0m\u001b[0;34m'nice_time'\u001b[0m\u001b[0;34m,\u001b[0m \u001b[0;34m'type_name'\u001b[0m\u001b[0;34m,\u001b[0m \u001b[0;34m'short_name'\u001b[0m\u001b[0;34m,\u001b[0m \u001b[0;34m'short_team_name'\u001b[0m\u001b[0;34m]\u001b[0m\u001b[0;34m]\u001b[0m\u001b[0;34m,\u001b[0m\u001b[0;34m\u001b[0m\u001b[0;34m\u001b[0m\u001b[0m\n\u001b[0m\u001b[1;32m      8\u001b[0m         \u001b[0mlabeltitle\u001b[0m\u001b[0;34m=\u001b[0m\u001b[0;34m[\u001b[0m\u001b[0;34m'time'\u001b[0m\u001b[0;34m,\u001b[0m \u001b[0;34m'actiontype'\u001b[0m\u001b[0;34m,\u001b[0m \u001b[0;34m'player'\u001b[0m\u001b[0;34m,\u001b[0m \u001b[0;34m'team'\u001b[0m\u001b[0;34m]\u001b[0m\u001b[0;34m,\u001b[0m\u001b[0;34m\u001b[0m\u001b[0;34m\u001b[0m\u001b[0m\n\u001b[1;32m      9\u001b[0m         \u001b[0mzoom\u001b[0m\u001b[0;34m=\u001b[0m\u001b[0;32mFalse\u001b[0m\u001b[0;34m,\u001b[0m\u001b[0;34m\u001b[0m\u001b[0;34m\u001b[0m\u001b[0m\n",
            "\u001b[0;32m/usr/local/lib/python3.10/dist-packages/pandas/core/frame.py\u001b[0m in \u001b[0;36m__getitem__\u001b[0;34m(self, key)\u001b[0m\n\u001b[1;32m   3811\u001b[0m             \u001b[0;32mif\u001b[0m \u001b[0mis_iterator\u001b[0m\u001b[0;34m(\u001b[0m\u001b[0mkey\u001b[0m\u001b[0;34m)\u001b[0m\u001b[0;34m:\u001b[0m\u001b[0;34m\u001b[0m\u001b[0;34m\u001b[0m\u001b[0m\n\u001b[1;32m   3812\u001b[0m                 \u001b[0mkey\u001b[0m \u001b[0;34m=\u001b[0m \u001b[0mlist\u001b[0m\u001b[0;34m(\u001b[0m\u001b[0mkey\u001b[0m\u001b[0;34m)\u001b[0m\u001b[0;34m\u001b[0m\u001b[0;34m\u001b[0m\u001b[0m\n\u001b[0;32m-> 3813\u001b[0;31m             \u001b[0mindexer\u001b[0m \u001b[0;34m=\u001b[0m \u001b[0mself\u001b[0m\u001b[0;34m.\u001b[0m\u001b[0mcolumns\u001b[0m\u001b[0;34m.\u001b[0m\u001b[0m_get_indexer_strict\u001b[0m\u001b[0;34m(\u001b[0m\u001b[0mkey\u001b[0m\u001b[0;34m,\u001b[0m \u001b[0;34m\"columns\"\u001b[0m\u001b[0;34m)\u001b[0m\u001b[0;34m[\u001b[0m\u001b[0;36m1\u001b[0m\u001b[0;34m]\u001b[0m\u001b[0;34m\u001b[0m\u001b[0;34m\u001b[0m\u001b[0m\n\u001b[0m\u001b[1;32m   3814\u001b[0m \u001b[0;34m\u001b[0m\u001b[0m\n\u001b[1;32m   3815\u001b[0m         \u001b[0;31m# take() does not accept boolean indexers\u001b[0m\u001b[0;34m\u001b[0m\u001b[0;34m\u001b[0m\u001b[0m\n",
            "\u001b[0;32m/usr/local/lib/python3.10/dist-packages/pandas/core/indexes/base.py\u001b[0m in \u001b[0;36m_get_indexer_strict\u001b[0;34m(self, key, axis_name)\u001b[0m\n\u001b[1;32m   6068\u001b[0m             \u001b[0mkeyarr\u001b[0m\u001b[0;34m,\u001b[0m \u001b[0mindexer\u001b[0m\u001b[0;34m,\u001b[0m \u001b[0mnew_indexer\u001b[0m \u001b[0;34m=\u001b[0m \u001b[0mself\u001b[0m\u001b[0;34m.\u001b[0m\u001b[0m_reindex_non_unique\u001b[0m\u001b[0;34m(\u001b[0m\u001b[0mkeyarr\u001b[0m\u001b[0;34m)\u001b[0m\u001b[0;34m\u001b[0m\u001b[0;34m\u001b[0m\u001b[0m\n\u001b[1;32m   6069\u001b[0m \u001b[0;34m\u001b[0m\u001b[0m\n\u001b[0;32m-> 6070\u001b[0;31m         \u001b[0mself\u001b[0m\u001b[0;34m.\u001b[0m\u001b[0m_raise_if_missing\u001b[0m\u001b[0;34m(\u001b[0m\u001b[0mkeyarr\u001b[0m\u001b[0;34m,\u001b[0m \u001b[0mindexer\u001b[0m\u001b[0;34m,\u001b[0m \u001b[0maxis_name\u001b[0m\u001b[0;34m)\u001b[0m\u001b[0;34m\u001b[0m\u001b[0;34m\u001b[0m\u001b[0m\n\u001b[0m\u001b[1;32m   6071\u001b[0m \u001b[0;34m\u001b[0m\u001b[0m\n\u001b[1;32m   6072\u001b[0m         \u001b[0mkeyarr\u001b[0m \u001b[0;34m=\u001b[0m \u001b[0mself\u001b[0m\u001b[0;34m.\u001b[0m\u001b[0mtake\u001b[0m\u001b[0;34m(\u001b[0m\u001b[0mindexer\u001b[0m\u001b[0;34m)\u001b[0m\u001b[0;34m\u001b[0m\u001b[0;34m\u001b[0m\u001b[0m\n",
            "\u001b[0;32m/usr/local/lib/python3.10/dist-packages/pandas/core/indexes/base.py\u001b[0m in \u001b[0;36m_raise_if_missing\u001b[0;34m(self, key, indexer, axis_name)\u001b[0m\n\u001b[1;32m   6131\u001b[0m \u001b[0;34m\u001b[0m\u001b[0m\n\u001b[1;32m   6132\u001b[0m             \u001b[0mnot_found\u001b[0m \u001b[0;34m=\u001b[0m \u001b[0mlist\u001b[0m\u001b[0;34m(\u001b[0m\u001b[0mensure_index\u001b[0m\u001b[0;34m(\u001b[0m\u001b[0mkey\u001b[0m\u001b[0;34m)\u001b[0m\u001b[0;34m[\u001b[0m\u001b[0mmissing_mask\u001b[0m\u001b[0;34m.\u001b[0m\u001b[0mnonzero\u001b[0m\u001b[0;34m(\u001b[0m\u001b[0;34m)\u001b[0m\u001b[0;34m[\u001b[0m\u001b[0;36m0\u001b[0m\u001b[0;34m]\u001b[0m\u001b[0;34m]\u001b[0m\u001b[0;34m.\u001b[0m\u001b[0munique\u001b[0m\u001b[0;34m(\u001b[0m\u001b[0;34m)\u001b[0m\u001b[0;34m)\u001b[0m\u001b[0;34m\u001b[0m\u001b[0;34m\u001b[0m\u001b[0m\n\u001b[0;32m-> 6133\u001b[0;31m             \u001b[0;32mraise\u001b[0m \u001b[0mKeyError\u001b[0m\u001b[0;34m(\u001b[0m\u001b[0;34mf\"{not_found} not in index\"\u001b[0m\u001b[0;34m)\u001b[0m\u001b[0;34m\u001b[0m\u001b[0;34m\u001b[0m\u001b[0m\n\u001b[0m\u001b[1;32m   6134\u001b[0m \u001b[0;34m\u001b[0m\u001b[0m\n\u001b[1;32m   6135\u001b[0m     \u001b[0;34m@\u001b[0m\u001b[0moverload\u001b[0m\u001b[0;34m\u001b[0m\u001b[0;34m\u001b[0m\u001b[0m\n",
            "\u001b[0;31mKeyError\u001b[0m: \"['nice_time'] not in index\""
          ]
        }
      ]
    },
    {
      "cell_type": "code",
      "source": [
        "plot_starting_position_heatmap(df_actions[(df_actions['shot_in_next_10_actions']) & (df_actions['type_name'] == 'pass')])"
      ],
      "metadata": {
        "id": "hzuFuqINpMe-",
        "outputId": "4f82959e-af3c-440e-c861-8440963931e4",
        "colab": {
          "base_uri": "https://localhost:8080/",
          "height": 370
        }
      },
      "execution_count": 99,
      "outputs": [
        {
          "output_type": "display_data",
          "data": {
            "text/plain": [
              "<Figure size 640x480 with 1 Axes>"
            ],
            "image/png": "[encoded data removed]"
          },
          "metadata": {}
        }
      ]
    },
    {
      "cell_type": "code",
      "source": [
        "with pd.HDFStore('/spadl.h5') as spadlstore:\n",
        "    for index, row in df_games():\n",
        "        df_actions = spadlstore[f'actions/game_{game_id}']\n",
        "        df_actions = (\n",
        "            df_actions.merge(spadlstore['actiontypes'], how='left')\n",
        "            .merge(spadlstore['results'], how='left')\n",
        "            .merge(spadlstore['bodyparts'], how='left')\n",
        "            .merge(spadlstore['players'], how=\"left\")\n",
        "            .merge(spadlstore['teams'], how='left')\n",
        "            .reset_index()\n",
        "            .rename(columns={'index': 'action_id'})\n",
        "        )\n"
      ],
      "metadata": {
        "id": "QIxGKFO1sBAS"
      },
      "execution_count": null,
      "outputs": []
    },
    {
      "cell_type": "markdown",
      "metadata": {
        "id": "FoaNqdW0TBta"
      },
      "source": [
        "The following cell shows a widget which we can use to easily explore the actions in our dataset."
      ]
    },
    {
      "cell_type": "code",
      "execution_count": null,
      "metadata": {
        "id": "hbeN_A84TBta"
      },
      "outputs": [],
      "source": [
        "interact_manual(plot_actions_from_action_name,\n",
        "                df_actions = fixed(df_actions),\n",
        "                action_name=widgets.Select(\n",
        "                    options = df_actions['action_name'][3:],\n",
        "                    disabled=False)\n",
        "               )\n"
      ]
    },
    {
      "cell_type": "markdown",
      "metadata": {
        "id": "Ulpg1nqeTBta"
      },
      "source": [
        "# Representing actions"
      ]
    },
    {
      "cell_type": "markdown",
      "metadata": {
        "id": "Qchp6RFnTBta"
      },
      "source": [
        "In this section we will create features that describe the action. We will take one action as an example. Every action has several characteristics, these include:\n",
        "* start location\n",
        "* end location\n",
        "* action type\n",
        "* bodypart used\n",
        "* result (successful or not)\n",
        "* time in the match"
      ]
    },
    {
      "cell_type": "code",
      "execution_count": null,
      "metadata": {
        "id": "K4VqQ6kXTBta"
      },
      "outputs": [],
      "source": [
        "action_id = 145\n",
        "plot_actions(df_actions[action_id:action_id+1])"
      ]
    },
    {
      "cell_type": "code",
      "execution_count": null,
      "metadata": {
        "id": "nqAs9wu7TBtb"
      },
      "outputs": [],
      "source": [
        "df_actions[action_id:action_id+1].T"
      ]
    },
    {
      "cell_type": "markdown",
      "metadata": {
        "id": "tdjjjv9KTBtb"
      },
      "source": [
        "## Representing locations"
      ]
    },
    {
      "cell_type": "markdown",
      "metadata": {
        "id": "Lt4Ii3SyTBtb"
      },
      "source": [
        "We will first take a look at how we can represent locations. We first define the pitch sizes as used in the SPADL representation. A very interesting blog post by the KU Leuven on the interplay between features and models in football can be found here: https://dtai.cs.kuleuven.be/sports/blog/illustrating-the-interplay-between-features-and-models-in-xg."
      ]
    },
    {
      "cell_type": "code",
      "execution_count": null,
      "metadata": {
        "id": "eWrB3LOBTBtb"
      },
      "outputs": [],
      "source": [
        "PITCH_LENGTH = 105\n",
        "PITCH_WIDTH = 68"
      ]
    },
    {
      "cell_type": "code",
      "execution_count": null,
      "metadata": {
        "id": "sEq9dzi0TBtb"
      },
      "outputs": [],
      "source": [
        "df_actions[action_id:action_id+1][['start_x', 'start_y', 'end_x', 'end_y']]"
      ]
    },
    {
      "cell_type": "markdown",
      "metadata": {
        "id": "puyBdeG_TBtc"
      },
      "source": [
        "The following cell adds columns to the actions dataframe with the normalized start and end coordinates of the actions."
      ]
    },
    {
      "cell_type": "code",
      "execution_count": null,
      "metadata": {
        "id": "sf0O5fxHTBtl"
      },
      "outputs": [],
      "source": [
        "for side in ['start', 'end']:\n",
        "    # Normalize the X location\n",
        "    key_x = f'{side}_x'\n",
        "    df_actions[f'{key_x}_norm'] = df_actions[key_x] / PITCH_LENGTH\n",
        "\n",
        "    # Normalize the Y location\n",
        "    key_y = f'{side}_y'\n",
        "    df_actions[f'{key_y}_norm'] = df_actions[key_y] / PITCH_WIDTH"
      ]
    },
    {
      "cell_type": "code",
      "execution_count": null,
      "metadata": {
        "id": "eaw32GD4TBtl"
      },
      "outputs": [],
      "source": [
        "df_actions[action_id:action_id+1][['start_x_norm', 'start_y_norm', 'end_x_norm', 'end_y_norm']]"
      ]
    },
    {
      "cell_type": "markdown",
      "metadata": {
        "id": "ZVhNnYilTBtl"
      },
      "source": [
        "The following cells compute the polar coordinates of the start and end location of the actions."
      ]
    },
    {
      "cell_type": "code",
      "execution_count": null,
      "metadata": {
        "id": "YDcnNsPeTBtl"
      },
      "outputs": [],
      "source": [
        "GOAL_X = PITCH_LENGTH\n",
        "GOAL_Y = PITCH_WIDTH / 2"
      ]
    },
    {
      "cell_type": "code",
      "execution_count": null,
      "metadata": {
        "id": "1RKXHA96TBtl"
      },
      "outputs": [],
      "source": [
        "for side in ['start', 'end']:\n",
        "    diff_x = GOAL_X - df_actions[f'{side}_x']\n",
        "    diff_y = abs(GOAL_Y - df_actions[f'{side}_y'])\n",
        "    df_actions[f'{side}_distance_to_goal'] = np.sqrt(diff_x ** 2 + diff_y ** 2)\n",
        "    df_actions[f'{side}_angle_to_goal'] = np.divide(diff_x, diff_y,\n",
        "                                                    out=np.zeros_like(diff_x),\n",
        "                                                    where=(diff_y != 0))"
      ]
    },
    {
      "cell_type": "code",
      "execution_count": null,
      "metadata": {
        "id": "0uOqnuSBTBtm"
      },
      "outputs": [],
      "source": [
        "df_actions[action_id:action_id+1][['start_distance_to_goal', 'start_angle_to_goal', 'end_distance_to_goal', 'end_angle_to_goal']]"
      ]
    },
    {
      "cell_type": "markdown",
      "metadata": {
        "id": "B_Adg91lTBtm"
      },
      "source": [
        "The following cell adds a column indicating whether the action starts and/or ends in the opponent penalty box.\n",
        "\n",
        "*Exercise*: think of more features describing the start and end location of the action."
      ]
    },
    {
      "cell_type": "code",
      "execution_count": null,
      "metadata": {
        "id": "8oUrN_lCTBtm"
      },
      "outputs": [],
      "source": [
        "for side in ['start', 'end']:\n",
        "    df_actions[f'{side}_is_penalty_box'] = ((df_actions[f'{side}_x'] > (PITCH_LENGTH-16.5)) &\n",
        "                                            (df_actions[f'{side}_y'] > (13.85)) &\n",
        "                                            (df_actions[f'{side}_y'] > (PITCH_WIDTH-13.85)))"
      ]
    },
    {
      "cell_type": "code",
      "execution_count": null,
      "metadata": {
        "id": "SDny2DQfTBtm"
      },
      "outputs": [],
      "source": [
        "df_actions[action_id:action_id+1][['start_is_penalty_box', 'end_is_penalty_box']]"
      ]
    },
    {
      "cell_type": "markdown",
      "metadata": {
        "id": "UG5LPjPLTBtm"
      },
      "source": [
        "## Representing body part, action type and result"
      ]
    },
    {
      "cell_type": "markdown",
      "metadata": {
        "id": "_U404sBeTBtm"
      },
      "source": [
        "The following cells inspect the type_name, bodypart_name and result_name columns."
      ]
    },
    {
      "cell_type": "code",
      "execution_count": null,
      "metadata": {
        "id": "ceab97lkTBtm"
      },
      "outputs": [],
      "source": [
        "pd.get_dummies(df_actions['type_name'])"
      ]
    },
    {
      "cell_type": "code",
      "execution_count": null,
      "metadata": {
        "id": "tc1NuAZgTBtn"
      },
      "outputs": [],
      "source": [
        "def add_action_type_dummies(df_actions):\n",
        "    return df_actions.merge(pd.get_dummies(df_actions['type_name']), how='left',\n",
        "                             left_index=True, right_index=True)"
      ]
    },
    {
      "cell_type": "code",
      "execution_count": null,
      "metadata": {
        "id": "OnCJ5uMaTBtn"
      },
      "outputs": [],
      "source": [
        "df_actions = add_action_type_dummies(df_actions)"
      ]
    },
    {
      "cell_type": "code",
      "execution_count": null,
      "metadata": {
        "id": "bY2FkQEDTBtn"
      },
      "outputs": [],
      "source": [
        "df_actions[action_id:action_id+1]"
      ]
    },
    {
      "cell_type": "code",
      "execution_count": null,
      "metadata": {
        "id": "8bSqwkSCTBtn"
      },
      "outputs": [],
      "source": [
        "df_actions['bodypart_name'].unique()"
      ]
    },
    {
      "cell_type": "code",
      "execution_count": null,
      "metadata": {
        "id": "ZVQ4HVyLTBtn"
      },
      "outputs": [],
      "source": [
        "df_actions['result_name'].unique()"
      ]
    },
    {
      "cell_type": "code",
      "execution_count": null,
      "metadata": {
        "id": "85ZxXq6STBtn"
      },
      "outputs": [],
      "source": [
        "df_actions[action_id:action_id+1][['bodypart_name', 'result_name']]"
      ]
    },
    {
      "cell_type": "markdown",
      "metadata": {
        "id": "H1j9bNHPTBto"
      },
      "source": [
        "## Determine distance covered in x, y and total time played"
      ]
    },
    {
      "cell_type": "markdown",
      "metadata": {
        "id": "jdxMxPzATBto"
      },
      "source": [
        "The following cells define functions that add distance features and the actual time played in the match at the moment of the action."
      ]
    },
    {
      "cell_type": "code",
      "execution_count": null,
      "metadata": {
        "id": "oNzWIREFTBto"
      },
      "outputs": [],
      "source": [
        "def add_distance_features(df_actions):\n",
        "    df_actions['diff_x'] = df_actions['end_x'] - df_actions['start_x']\n",
        "    df_actions['diff_y'] = df_actions['end_y'] - df_actions['start_y']\n",
        "    df_actions['distance_covered'] = np.sqrt((df_actions['end_x'] - df_actions['start_x']) ** 2 +\n",
        "                                             (df_actions['end_y'] - df_actions['start_y']) ** 2)"
      ]
    },
    {
      "cell_type": "code",
      "execution_count": null,
      "metadata": {
        "id": "uBwJi_sHTBto"
      },
      "outputs": [],
      "source": [
        "def add_time_played(df_actions):\n",
        "    df_actions['time_played'] = (df_actions['time_seconds'] +\n",
        "                             (df_actions['period_id'] >= 2) * (45 * 60) +\n",
        "                             (df_actions['period_id'] >= 3) * (15 * 60) +\n",
        "                             (df_actions['period_id'] == 4) * (15 * 60)\n",
        "                             )"
      ]
    },
    {
      "cell_type": "code",
      "execution_count": null,
      "metadata": {
        "id": "OpJ27b5HTBto"
      },
      "outputs": [],
      "source": [
        "add_distance_features(df_actions)\n",
        "add_time_played(df_actions)"
      ]
    },
    {
      "cell_type": "code",
      "execution_count": null,
      "metadata": {
        "id": "CnaZizdTTBto"
      },
      "outputs": [],
      "source": [
        "df_actions[action_id:action_id+1][['diff_x', 'diff_y', 'distance_covered', 'time_played']]"
      ]
    },
    {
      "cell_type": "markdown",
      "metadata": {
        "id": "pIotPzT-TBto"
      },
      "source": [
        "# Representing game states"
      ]
    },
    {
      "cell_type": "markdown",
      "metadata": {
        "id": "PZf7sUCcTBto"
      },
      "source": [
        "As a game state is more than just the previous action, we want to add more information on the sequence leading up to the action. This includes information on the previous actions, but also more contextual features like the score and time in the match."
      ]
    },
    {
      "cell_type": "markdown",
      "metadata": {
        "id": "Q6jSyNcoTBtp"
      },
      "source": [
        "## Representing actions leading to game state"
      ]
    },
    {
      "cell_type": "markdown",
      "metadata": {
        "id": "-kl27pwoTBtp"
      },
      "source": [
        "In the \\\"[Actions Speak Louder than Goals: Valuing Player Actions in Soccer.](https://arxiv.org/abs/1802.07127)\\\" paper we take the three actions leading to the game state into account. We investigated how many actions we should include and got the best results for three actions back.\n",
        "\n",
        "*Exercise:* you could try out different numbers of actions to include in the game state and analyze the results."
      ]
    },
    {
      "cell_type": "markdown",
      "metadata": {
        "id": "pC8m5pjxTBtp"
      },
      "source": [
        "Let's first take a look at the action again and what happened before the action was executed."
      ]
    },
    {
      "cell_type": "code",
      "execution_count": null,
      "metadata": {
        "id": "WKJqjgyzTBtp"
      },
      "outputs": [],
      "source": [
        "for i in range(3):\n",
        "    df_actions_to_plot = df_actions[145-i:146]\n",
        "    plot_actions(df_actions_to_plot)"
      ]
    },
    {
      "cell_type": "markdown",
      "metadata": {
        "id": "H_PanpSKTBtp"
      },
      "source": [
        "The following cells add extra columns for each action on the x actions before the action itself. You can define how far back you want to go and what features to take into account for all actions."
      ]
    },
    {
      "cell_type": "code",
      "execution_count": null,
      "metadata": {
        "id": "aC3vL8tITBtq"
      },
      "outputs": [],
      "source": [
        "delays = 3  # you can play around with this number\n",
        "features_to_delay = ['game_id', 'period_id', 'time_seconds', 'team_id',\n",
        "                     'player_id', 'start_x', 'start_y', 'end_x', 'end_y', 'bodypart_id',\n",
        "                     'type_id', 'result_id', 'type_name', 'result_name', 'bodypart_name',\n",
        "                     'time_played']"
      ]
    },
    {
      "cell_type": "code",
      "execution_count": null,
      "metadata": {
        "id": "mziAyPbNTBtq"
      },
      "outputs": [],
      "source": [
        "def create_delayed_features(df_actions, features_to_delay, delays):\n",
        "    df_delays = [df_actions[features_to_delay].shift(step).add_suffix(f'-{step}') for step in range(0, delays)]\n",
        "    return pd.concat(df_delays, axis=1)"
      ]
    },
    {
      "cell_type": "code",
      "execution_count": null,
      "metadata": {
        "id": "MlwbfvooTBtq"
      },
      "outputs": [],
      "source": [
        "df_features = create_delayed_features(df_actions, features_to_delay, delays)"
      ]
    },
    {
      "cell_type": "code",
      "execution_count": null,
      "metadata": {
        "id": "pwxygCVXTBtq"
      },
      "outputs": [],
      "source": [
        "location_cols = [f'{side}_{xy}-{delay}' for delay in reversed(range(0, delays))\n",
        "                 for xy in ['x', 'y'] for side in ['start', 'end']]\n",
        "df_features[action_id:action_id+1][location_cols]"
      ]
    },
    {
      "cell_type": "code",
      "execution_count": null,
      "metadata": {
        "id": "NiXEM8kjTBtq"
      },
      "outputs": [],
      "source": [
        "cols = [f'{col}-{delay}' for delay in reversed(range(0, delays))\n",
        "        for col in ['period_id', 'time_seconds', 'type_name', 'bodypart_name', 'result_name']]\n",
        "df_features[action_id:action_id+1][cols]"
      ]
    },
    {
      "cell_type": "markdown",
      "metadata": {
        "id": "z1_ufeWqTBtr"
      },
      "source": [
        "We need to invert the coordinates for the actions made by the other team to make sure all features represent the same thing. Therefore we add an indicator for the delayed actions to indicate whether the action was executed by the same team or not. If not then we need to invert the coordinates as the coordinates normally always go from left to right for the team in possession."
      ]
    },
    {
      "cell_type": "code",
      "execution_count": null,
      "metadata": {
        "id": "1ut1nDklTBtr"
      },
      "outputs": [],
      "source": [
        "def add_same_team(df_features, delays):\n",
        "    for step in range(1, delays):\n",
        "        df_features[f'team-{step}'] = df_features['team_id-0'] == df_features[f'team_id-{step}']"
      ]
    },
    {
      "cell_type": "code",
      "execution_count": null,
      "metadata": {
        "id": "wYLpccriTBtr"
      },
      "outputs": [],
      "source": [
        "add_same_team(df_features, delays)"
      ]
    },
    {
      "cell_type": "code",
      "execution_count": null,
      "metadata": {
        "id": "UCx5NMJSTBtr"
      },
      "outputs": [],
      "source": [
        "def invert_coordinates(df_features, delays):\n",
        "    for step in range(1, delays):\n",
        "        for side in ['start', 'end']:\n",
        "            df_features.loc[~(df_features[f'team-{step}']), f'{side}_x-{step}'] = PITCH_LENGTH - df_features[f'{side}_x-{step}']\n",
        "            df_features.loc[~(df_features[f'team-{step}']), f'{side}_y-{step}'] = PITCH_WIDTH - df_features[f'{side}_y-{step}']"
      ]
    },
    {
      "cell_type": "code",
      "execution_count": null,
      "metadata": {
        "id": "5nrJ0ncNTBts"
      },
      "outputs": [],
      "source": [
        "df_features[location_cols+['team-1', 'team-2']].tail(10)"
      ]
    },
    {
      "cell_type": "code",
      "execution_count": null,
      "metadata": {
        "id": "5LsqnWF_TBts"
      },
      "outputs": [],
      "source": [
        "invert_coordinates(df_features, delays)"
      ]
    },
    {
      "cell_type": "code",
      "execution_count": null,
      "metadata": {
        "id": "dJZXZ2NITBts"
      },
      "outputs": [],
      "source": [
        "df_features[location_cols+['team-1', 'team-2']].tail(10)"
      ]
    },
    {
      "cell_type": "markdown",
      "metadata": {
        "id": "kJ_3yJjOTBts"
      },
      "source": [
        "The following cells add the location featues for all actions and their delayed actions using the right coordinates."
      ]
    },
    {
      "cell_type": "code",
      "execution_count": null,
      "metadata": {
        "id": "KdYGRvNATBts"
      },
      "outputs": [],
      "source": [
        "def add_location_features(df_features, delays):\n",
        "    for step in range(0, delays):\n",
        "        for side in ['start', 'end']:\n",
        "            # Normalize the X location\n",
        "            key_x = f'{side}_x'\n",
        "            df_features[f'{key_x}_norm-{step}'] = df_features[f'{key_x}-{step}'] / PITCH_LENGTH\n",
        "\n",
        "            # Normalize the Y location\n",
        "            key_y = f'{side}_y'\n",
        "            df_features[f'{key_y}_norm-{step}'] = df_features[f'{key_y}-{step}'] / PITCH_WIDTH\n",
        "\n",
        "            diff_x = GOAL_X - df_features[f'{side}_x-{step}']\n",
        "            diff_y = abs(GOAL_Y - df_features[f'{side}_y-{step}'])\n",
        "            df_features[f'{side}_distance_to_goal-{step}'] = np.sqrt(diff_x ** 2 + diff_y ** 2)\n",
        "            df_features[f'{side}_angle_to_goal-{step}'] = np.divide(diff_x, diff_y, out=np.zeros_like(diff_x), where=(diff_y != 0))\n",
        "\n",
        "            df_features[f'diff_x-{step}'] = df_features[f'end_x-{step}'] - df_features[f'start_x-{step}']\n",
        "            df_features[f'diff_y-{step}'] = df_features[f'end_y-{step}'] - df_features[f'start_y-{step}']\n",
        "            df_features[f'distance_covered-{step}'] = np.sqrt((df_features[f'end_x-{step}'] - df_features[f'start_x-{step}']) ** 2 +\n",
        "                                             (df_features[f'end_y-{step}'] - df_features[f'start_y-{step}']) ** 2)"
      ]
    },
    {
      "cell_type": "code",
      "execution_count": null,
      "metadata": {
        "id": "lxqRM5l2TBtt"
      },
      "outputs": [],
      "source": [
        "add_location_features(df_features, delays)"
      ]
    },
    {
      "cell_type": "code",
      "execution_count": null,
      "metadata": {
        "id": "zL35QgSjTBtt"
      },
      "outputs": [],
      "source": [
        "df_features.head()"
      ]
    },
    {
      "cell_type": "markdown",
      "metadata": {
        "id": "uYBQkXQRTBtt"
      },
      "source": [
        "## Adding contextual features"
      ]
    },
    {
      "cell_type": "markdown",
      "metadata": {
        "id": "zxE8aJgnTBtt"
      },
      "source": [
        "We also want to add some additional context to the game state. For example the speed of play, the time in the match and the current score in the match might influence the value of the game state.\n",
        "\n",
        "*Exercise:* think of extra features that might influence the value of a game state."
      ]
    },
    {
      "cell_type": "markdown",
      "metadata": {
        "id": "qqioiB0eTBtu"
      },
      "source": [
        "## Sequence features"
      ]
    },
    {
      "cell_type": "markdown",
      "metadata": {
        "id": "vl7Xb2ruTBtu"
      },
      "source": [
        "The following cells add extra context on the sequence. The distance covered in x and y direction as well as the time passed in the sequence are added to the dataframe. These features might tell the model something about the speed of play, whether the game quickly progressed from one side to another (probably indicating a counter attack) or whether it is a slow build up play."
      ]
    },
    {
      "cell_type": "code",
      "execution_count": null,
      "metadata": {
        "id": "LxMwYb04TBtu"
      },
      "outputs": [],
      "source": [
        "def add_sequence_pre_features(df_features, delays):\n",
        "    delay = delays - 1\n",
        "    df_features['xdiff_sequence_pre'] = df_features['start_x-0'] - df_features[f'start_x-{delay}']\n",
        "    df_features['ydiff_sequence_pre'] = df_features['start_y-0'] - df_features[f'start_y-{delay}']\n",
        "    df_features['time_sequence_pre'] = df_features['time_played-0'] - df_features[f'time_played-{delay}']"
      ]
    },
    {
      "cell_type": "code",
      "execution_count": null,
      "metadata": {
        "id": "N-tUTiUhTBtu"
      },
      "outputs": [],
      "source": [
        "add_sequence_pre_features(df_features, delays)"
      ]
    },
    {
      "cell_type": "code",
      "execution_count": null,
      "metadata": {
        "id": "x-RuiAg6TBtu"
      },
      "outputs": [],
      "source": [
        "def add_sequence_post_features(df_features, delays):\n",
        "    delay = delays - 1\n",
        "    df_features['xdiff_sequence_post'] = df_features['end_x-0'] - df_features[f'start_x-{delay}']\n",
        "    df_features['ydiff_sequence_post'] = df_features['end_y-0'] - df_features[f'start_y-{delay}']"
      ]
    },
    {
      "cell_type": "code",
      "execution_count": null,
      "metadata": {
        "id": "SulAt8OYTBtv"
      },
      "outputs": [],
      "source": [
        "add_sequence_post_features(df_features, delays)"
      ]
    },
    {
      "cell_type": "code",
      "execution_count": null,
      "metadata": {
        "id": "KqZkySymTBtv"
      },
      "outputs": [],
      "source": [
        "df_features[action_id:action_id+1]"
      ]
    },
    {
      "cell_type": "markdown",
      "metadata": {
        "id": "ONTm7LiMTBtv"
      },
      "source": [
        "# Generate features for a match"
      ]
    },
    {
      "cell_type": "markdown",
      "metadata": {
        "id": "4WlAI3yLTBtv"
      },
      "source": [
        "The following cell defines a function that creates all features described above for a dataframe of actions for a given match."
      ]
    },
    {
      "cell_type": "code",
      "execution_count": null,
      "metadata": {
        "id": "0RH9hFU1TBtv"
      },
      "outputs": [],
      "source": [
        "def create_features_match(df_actions, features_to_delay, delays):\n",
        "    df_action_features = add_action_type_dummies(df_actions)\n",
        "    add_time_played(df_action_features)\n",
        "    df_gamestate_features = create_delayed_features(df_action_features, features_to_delay, delays)\n",
        "    add_same_team(df_gamestate_features, delays)\n",
        "    invert_coordinates(df_gamestate_features, delays)\n",
        "    add_location_features(df_gamestate_features, delays)\n",
        "    add_sequence_pre_features(df_gamestate_features, delays)\n",
        "    add_sequence_post_features(df_gamestate_features, delays)\n",
        "    return df_gamestate_features"
      ]
    },
    {
      "cell_type": "markdown",
      "metadata": {
        "id": "bRbNWw2aTBtw"
      },
      "source": [
        "# Generate labels for a match"
      ]
    },
    {
      "cell_type": "markdown",
      "metadata": {
        "id": "V3PlB5qsTBtw"
      },
      "source": [
        "The following cells define two functions that compute the labels of our two machine learning tasks. The first one tells us whether a goal was scored within x actions, whereas the second function tells us whether a goal was conceded within the next x actions.\n",
        "\n",
        "*Exercise*: play around with the number of actions to look ahead. In our paper we look 10 actions ahead."
      ]
    },
    {
      "cell_type": "code",
      "execution_count": null,
      "metadata": {
        "id": "1MJqq-ZITBtw"
      },
      "outputs": [],
      "source": [
        "def label_scores(df_actions, nr_actions):\n",
        "    \"\"\"\n",
        "    This functiondf_actions determines whether a goal was scored by the team possessing\n",
        "    the ball within the next x actions\n",
        "    \"\"\"\n",
        "    # merging goals, owngoals and team_ids\n",
        "\n",
        "    goals = df_actions['type_name'].str.contains('shot') & (\n",
        "        df_actions['result_id'] == 1\n",
        "    )\n",
        "    owngoals = df_actions['type_name'].str.contains('shot') & (\n",
        "        df_actions['result_id'] == 2\n",
        "    )\n",
        "    y = pd.concat([goals, owngoals, df_actions['team_id']], axis=1)\n",
        "    y.columns = ['goal', 'owngoal', 'team_id']\n",
        "\n",
        "    # adding future results\n",
        "    for i in range(1, nr_actions):\n",
        "        for col in ['team_id', 'goal', 'owngoal']:\n",
        "            shifted = y[col].shift(-i)\n",
        "            shifted[-i:] = y[col][len(y) - 1]\n",
        "            y[f'{col}+{i}'] = shifted\n",
        "\n",
        "    scores = y['goal']\n",
        "    for i in range(1, nr_actions):\n",
        "        goal_scored = y[f'goal+{i}'] & (y[f'team_id+{i}'] == y['team_id'])\n",
        "        own_goal_opponent = y[f'owngoal+{i}'] & (y[f'team_id+{i}'] != y['team_id'])\n",
        "        scores = scores | goal_scored | own_goal_opponent\n",
        "\n",
        "    return pd.DataFrame(scores, columns=['scores'])"
      ]
    },
    {
      "cell_type": "code",
      "execution_count": null,
      "metadata": {
        "id": "-5fPWsMDTBtw"
      },
      "outputs": [],
      "source": [
        "def label_concedes(df_actions, nr_actions):\n",
        "    \"\"\"\n",
        "    This function determines whether a goal was scored by the team not\n",
        "    possessing the ball within the next x actions\n",
        "    \"\"\"\n",
        "    # merging goals,owngoals and team_ids\n",
        "    goals = df_actions['type_name'].str.contains('shot') & (\n",
        "        df_actions['result_id'] == 1\n",
        "    )\n",
        "    owngoals = df_actions['type_name'].str.contains('shot') & (\n",
        "        df_actions['result_id'] == 2\n",
        "    )\n",
        "    y = pd.concat([goals, owngoals, df_actions['team_id']], axis=1)\n",
        "    y.columns = ['goal', 'owngoal', 'team_id']\n",
        "\n",
        "    # adding future results\n",
        "    for i in range(1, nr_actions):\n",
        "        for col in ['team_id', 'goal', 'owngoal']:\n",
        "            shifted = y[col].shift(-i)\n",
        "            shifted[-i:] = y[col][len(y) - 1]\n",
        "            y[f'{col}+{i}'] = shifted\n",
        "\n",
        "    concedes = y['owngoal']\n",
        "    for i in range(1, nr_actions):\n",
        "        goal_opponent = y[f'goal+{i}'] & (y[f'team_id+{i}'] != y['team_id'])\n",
        "        own_goal_team = y[f'owngoal+{i}'] & (y[f'team_id+{i}'] == y['team_id'])\n",
        "        concedes = concedes | goal_opponent | own_goal_team\n",
        "\n",
        "    return pd.DataFrame(concedes, columns=['concedes'])"
      ]
    },
    {
      "cell_type": "markdown",
      "metadata": {
        "id": "vK-gcwoWTBtw"
      },
      "source": [
        "We compute the labels for the match and investigate the labels for the last ten actions in the match."
      ]
    },
    {
      "cell_type": "code",
      "execution_count": null,
      "metadata": {
        "id": "C7xiK5-uTBtx"
      },
      "outputs": [],
      "source": [
        "df_labels = pd.concat([label_scores(df_actions, nr_actions=10),\n",
        "                           label_concedes(df_actions, nr_actions=10)],\n",
        "                          axis=1)"
      ]
    },
    {
      "cell_type": "code",
      "execution_count": null,
      "metadata": {
        "id": "eL4r9p8dTBtx"
      },
      "outputs": [],
      "source": [
        "df_labels.tail(10)"
      ]
    },
    {
      "cell_type": "code",
      "execution_count": null,
      "metadata": {
        "id": "AOcFlTn4TBtx"
      },
      "outputs": [],
      "source": [
        "pd.merge(df_actions[['team_name', 'short_name', 'type_name']],\n",
        "         df_labels,\n",
        "         left_index=True,\n",
        "         right_index=True).tail(10)"
      ]
    },
    {
      "cell_type": "markdown",
      "metadata": {
        "id": "xysEh3krTBtx"
      },
      "source": [
        "# Generate features and labels for all matches"
      ]
    },
    {
      "cell_type": "markdown",
      "metadata": {
        "id": "l3vlFVUkTBty"
      },
      "source": [
        "The following cells generate and store the features and labels for all matches in your spadl.h5 file. This might take some minutes."
      ]
    },
    {
      "cell_type": "code",
      "execution_count": null,
      "metadata": {
        "id": "Cd4WDe1vTBty"
      },
      "outputs": [],
      "source": [
        "df_games = pd.read_hdf('spadl.h5', key='games')"
      ]
    },
    {
      "cell_type": "code",
      "execution_count": null,
      "metadata": {
        "id": "cL8f6I7yTBty"
      },
      "outputs": [],
      "source": [
        "df_games.head()"
      ]
    },
    {
      "cell_type": "code",
      "execution_count": null,
      "metadata": {
        "id": "W1ddpt3XTBty"
      },
      "outputs": [],
      "source": [
        "for _, game in tqdm(df_games.iterrows(), total=len(df_games)):\n",
        "    game_id = game['game_id']\n",
        "    with pd.HDFStore('spadl.h5') as spadlstore:\n",
        "        df_actions = spadlstore[f'actions/game_{game_id}']\n",
        "        df_actions = (\n",
        "            df_actions.merge(spadlstore['actiontypes'], how='left')\n",
        "            .merge(spadlstore['results'], how='left')\n",
        "            .merge(spadlstore['bodyparts'], how='left')\n",
        "            .reset_index(drop=True)\n",
        "        )\n",
        "\n",
        "    df_features = create_features_match(df_actions, features_to_delay, delays)\n",
        "    df_features.to_hdf('features.h5', f'game_{game_id}')\n",
        "\n",
        "    df_labels = pd.concat([label_scores(df_actions, nr_actions=10),\n",
        "                           label_concedes(df_actions, nr_actions=10)],\n",
        "                          axis=1)\n",
        "    df_labels.to_hdf('labels.h5', f'game_{game_id}')"
      ]
    }
  ],
  "metadata": {
    "kernelspec": {
      "display_name": "Python 3",
      "language": "python",
      "name": "python3"
    },
    "language_info": {
      "codemirror_mode": {
        "name": "ipython",
        "version": 3
      },
      "file_extension": ".py",
      "mimetype": "text/x-python",
      "name": "python",
      "nbconvert_exporter": "python",
      "pygments_lexer": "ipython3",
      "version": "3.8.3"
    },
    "toc": {
      "base_numbering": 1,
      "nav_menu": {},
      "number_sections": true,
      "sideBar": true,
      "skip_h1_title": false,
      "title_cell": "Table of Contents",
      "title_sidebar": "Contents",
      "toc_cell": false,
      "toc_position": {},
      "toc_section_display": true,
      "toc_window_display": true
    },
    "colab": {
      "provenance": []
    }
  },
  "nbformat": 4,
  "nbformat_minor": 0
}